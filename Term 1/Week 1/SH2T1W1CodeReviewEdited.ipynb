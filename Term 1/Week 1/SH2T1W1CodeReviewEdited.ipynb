{
 "cells": [
  {
   "cell_type": "markdown",
   "metadata": {},
   "source": [
    "### Q1 File I/O"
   ]
  },
  {
   "cell_type": "code",
   "execution_count": null,
   "metadata": {},
   "outputs": [],
   "source": [
    "#Code Snippet 1a\n",
    "while True:#infinite loop\n",
    "    filename = input(\"Please input a valid file name\")\n",
    "    try:\n",
    "        file = open(filename, \"r\")\n",
    "        #break\n",
    "    except:\n",
    "        #pass\n",
    "noOfLines = 0\n",
    "totNumItems = 0\n",
    "for line in file:\n",
    "    noOfLines += 1\n",
    "    items = line.strip().split(\",\")\n",
    "    for i in items: #change items to items[0]\n",
    "        totNumItems += 1 #counts all items\n",
    "output = open(\"LOG.TXT\", \"a\")#use w\n",
    "output.write(\"Statistics for: \" + filename)\n",
    "output.write(\"Total Lines: \" + noOfLines)#use \\n\n",
    "output.write(\"Items per Line: \" + totNumItems) #concatinating string and integer\n",
    "#output.close()\n",
    "#file.close()\n"
   ]
  },
  {
   "cell_type": "code",
   "execution_count": null,
   "metadata": {},
   "outputs": [],
   "source": [
    "#Code Snippet 1b\n",
    "import csv\n",
    "valid = False\n",
    "while not valid: #double negative just use while True\n",
    "    try:\n",
    "        filename = input(\"Insert file name: \")\n",
    "        file = open(filename, 'r')\n",
    "        valid = True\n",
    "    except:\n",
    "        print(\"Invalid file name!\")\n",
    "        valid = False\n",
    "\n",
    "#data = []\n",
    "#for line in file:\n",
    " #   print(line)\n",
    " #   data.append(line.strip().split(','))\n",
    "data = list(csv.reader(file))\n",
    "\n",
    "#redundant /less readable\n",
    "total_lines = len(data)\n",
    "items_line = len(data[0])\n",
    "file.close()\n",
    "\n",
    "with open(\"LOG.TXT\", \"w\") as logfile:\n",
    "    line1 = \"Statistics for: {}\\n\".format(filename)\n",
    "    line2 = \"Total lines: {}\\n\".format(total_lines)\n",
    "    line3 = \"Items per Line: {}\\n\".format(items_line)\n",
    "    logfile.write(line1)\n",
    "    logfile.write(line2)\n",
    "    logfile.write(line3)\n",
    "\n"
   ]
  },
  {
   "cell_type": "markdown",
   "metadata": {},
   "source": [
    "### Q2: Linear Search"
   ]
  },
  {
   "cell_type": "code",
   "execution_count": null,
   "metadata": {},
   "outputs": [],
   "source": [
    "#Code snippet 2a\n",
    "\n",
    "def linear_search(arr, x):\n",
    "    if x in arr:\n",
    "        return arr.index(x) #arr is an array, not a list\n",
    "        #type of search is not clear\n",
    "    else:\n",
    "        return -1\n"
   ]
  },
  {
   "cell_type": "code",
   "execution_count": null,
   "metadata": {},
   "outputs": [],
   "source": [
    "#Code snippet 2b\n",
    "def linear_search(array,target):\n",
    "    if len(array) <=1:\n",
    "        return array #should return int\n",
    "    for i in range(len(array)):\n",
    "        if array[i] == target:\n",
    "            return i\n",
    "    return -1"
   ]
  },
  {
   "cell_type": "markdown",
   "metadata": {},
   "source": [
    "### Q3: Binary Search"
   ]
  },
  {
   "cell_type": "code",
   "execution_count": null,
   "metadata": {},
   "outputs": [],
   "source": [
    "array=[2,4,8,99]"
   ]
  },
  {
   "cell_type": "code",
   "execution_count": null,
   "metadata": {},
   "outputs": [],
   "source": [
    "#Code Snippet 3a\n",
    "def binary_search(array, target):  #logic error when finding the element to the left of mid\n",
    "\tfront = 0\n",
    "\tback = len(array) - 1\n",
    "\twhile front < back:   #change to while front <= back\n",
    "\t\tmid = (front + back) // 2\n",
    "\t\tif array[mid] == target:\n",
    "\t\t\treturn mid\n",
    "\t\telif array[mid] < target:\n",
    "\t\t\tfront = mid + 1\n",
    "\t\telse:\n",
    "\t\t\tback = mid - 1\n",
    "\treturn -1\n"
   ]
  },
  {
   "cell_type": "code",
   "execution_count": 1,
   "metadata": {},
   "outputs": [],
   "source": [
    "#Code Snippet 3b : added code for duplicates in array\n",
    "def BS(array, target):\n",
    "    if len(array) < 1:\n",
    "        return -1\n",
    "    start = 0\n",
    "    end = len(array)-1 \n",
    "    found = -1\n",
    "    #use len(array)-1 to prevent index out of range\n",
    "    while start <= end:\n",
    "        mid = (start + end) // 2\n",
    "        if target == array[mid]:\n",
    "            found = mid #looking for duplicates\n",
    "            end = mid -1\n",
    "            #return mid\n",
    "        elif target < array[mid]:\n",
    "            end = mid - 1\n",
    "        else:\n",
    "            start = mid + 1\n",
    "    return found # return index of 1st instance of target\n"
   ]
  },
  {
   "cell_type": "code",
   "execution_count": 2,
   "metadata": {},
   "outputs": [
    {
     "data": {
      "text/plain": [
       "5"
      ]
     },
     "execution_count": 2,
     "metadata": {},
     "output_type": "execute_result"
    }
   ],
   "source": [
    "array=[1,1,3,3,5,7,7,7,9]\n",
    "BS(array,7)"
   ]
  },
  {
   "cell_type": "code",
   "execution_count": null,
   "metadata": {},
   "outputs": [],
   "source": [
    "#Code Snippet 3c\n",
    "def bin_search(array, target):\n",
    "    left=0\n",
    "    right=len(array) #use len(array)-1 to prevent list index out of range\n",
    "    mid=(left+right)//2\n",
    "    if target<array[mid]:\n",
    "        return bin_search(array[0:mid],target)\n",
    "    if target==array[mid]: #base case\n",
    "        return mid\n",
    "   # if len(array) < 1:\n",
    "    #    return -1\n",
    "    return bin_search(array[mid:len(array)],target) #cannot use slicing when question asks for index\n"
   ]
  },
  {
   "cell_type": "code",
   "execution_count": null,
   "metadata": {},
   "outputs": [],
   "source": [
    "a = [1,2,3,4,5,6,7,8]\n",
    "print(bin_search(a, 10))"
   ]
  },
  {
   "cell_type": "code",
   "execution_count": 8,
   "metadata": {},
   "outputs": [],
   "source": [
    "#Code Snippet 3d: added code for duplicates in array\n",
    " \n",
    "def binSearchWrapper(s,t):\n",
    "    #return binSearch(s,t,0,len(s))\n",
    "    found = -1 # for nested function to update\n",
    "    def binSearch(s,t, start, end):  \n",
    "        nonlocal found # references the outer function's variables\n",
    "        mid = start + ((end-start)//2)\n",
    "        if  start > end:\n",
    "            return # base case\n",
    "        elif s[mid] == t:\n",
    "            found = mid \n",
    "            return binSearch(s,t,start, mid -1)\n",
    "        elif t > s[mid]:\n",
    "            return binSearch(s,t,mid+1,end)\n",
    "        elif t < s[mid]:\n",
    "            return binSearch(s,t,start,mid-1)\n",
    "\n",
    "    binSearch(s,t,0,len(s)-1)\n",
    "    return found\n",
    "\n"
   ]
  },
  {
   "cell_type": "code",
   "execution_count": 11,
   "metadata": {},
   "outputs": [
    {
     "data": {
      "text/plain": [
       "5"
      ]
     },
     "execution_count": 11,
     "metadata": {},
     "output_type": "execute_result"
    }
   ],
   "source": [
    "array=[1,1,3,3,5,7,7,7,9]\n",
    "binSearchWrapper(array,7 )"
   ]
  },
  {
   "cell_type": "markdown",
   "metadata": {},
   "source": [
    "### Q4: Bubble Sort"
   ]
  },
  {
   "cell_type": "code",
   "execution_count": null,
   "metadata": {},
   "outputs": [],
   "source": [
    "###Code Snippet 4a\n",
    "def BubbleSort(array):\n",
    "    # Only 1 pass\n",
    "    # 0m given\n",
    "    # Do not memorize code - student memorized wrongly\n",
    "    for i in range(len(array) - 1):\n",
    "        print(array)\n",
    "        while array[i] > array[i + 1]:\n",
    "            # we need to increment the counter in a while loop\n",
    "            array[i],array[i + 1] = array[i + 1],array[i] \n",
    "    return array\n",
    "\n"
   ]
  },
  {
   "cell_type": "code",
   "execution_count": null,
   "metadata": {},
   "outputs": [],
   "source": [
    "\n",
    "###Code Snippet 4b\n",
    "def bubble_sort(array):\n",
    "    checked = True\n",
    "    while checked:\n",
    "        # varible name is confusing\n",
    "        checked = False\n",
    "        # Assume there is no swapping\n",
    "        # While loop will end when there are no swaps\n",
    "        for i in range(len(array)-1):\n",
    "            if array[i] > array[i+1]:\n",
    "                checked = True\n",
    "                array[i], array[i+1] = array[i+1], array[i]\n",
    "    return array\n"
   ]
  },
  {
   "cell_type": "code",
   "execution_count": null,
   "metadata": {},
   "outputs": [],
   "source": [
    "\n",
    "#Code Snippet 4c\n",
    "def bbsort(arry):\n",
    "  # Naming convention is bad\n",
    "  # arry is a array, list methods are not allowed\n",
    "  # Concept of bubble sort is not used, sort is not in place\n",
    "  # More like a insertion sort\n",
    "  s=[]\n",
    "  while arry:\n",
    "    m = max(arry)\n",
    "    s = [m] + s\n",
    "    arry.remove(m)\n",
    "  return s\n",
    "\n"
   ]
  },
  {
   "cell_type": "code",
   "execution_count": null,
   "metadata": {},
   "outputs": [],
   "source": [
    "#Code Snippet 4d/e\n",
    "def bubble_sorts(array):\n",
    "    for i in range(len(array)): \n",
    "        # Last iteration will not run / is not needed\n",
    "        for j in range(len(array)-i-1):\n",
    "            if array[j]>array[j+1]:\n",
    "                temp=array[j]\n",
    "                array[j]=array[j+1]\n",
    "                array[j+1]=temp\n",
    "    return array\n",
    "\n"
   ]
  },
  {
   "cell_type": "code",
   "execution_count": null,
   "metadata": {},
   "outputs": [],
   "source": [
    "\n",
    "#Code Snippet 4f\n",
    "def bubblesort(array):\n",
    "    for i in range(len(array)-1, 0, -1): \n",
    "        for j in range(i):\n",
    "            if array[j] > array[j+1]:\n",
    "                current = array[j]\n",
    "                array[j] = array[j+1]\n",
    "                array[j+1] = current\n",
    "    return array\n",
    "\n"
   ]
  },
  {
   "cell_type": "code",
   "execution_count": null,
   "metadata": {},
   "outputs": [],
   "source": [
    "\n",
    "#Code Snippet 4g\n",
    "def bubbleSort(data):\n",
    "    # Recursion depth depends on the size of the elements in data\n",
    "    for i in range(len(data)-1):\n",
    "        if data[i] > data[i+1]:\n",
    "            temp = data[i]\n",
    "            data[i] = data[i+1]\n",
    "            data[i+1] = temp\n",
    "            return bubbleSort(data)\n",
    "    return data\n"
   ]
  },
  {
   "cell_type": "code",
   "execution_count": null,
   "metadata": {},
   "outputs": [],
   "source": [
    "\n",
    "a = [i for i in range(30000,0,-1)]\n",
    "print(bubbleSort(a))"
   ]
  },
  {
   "cell_type": "markdown",
   "metadata": {},
   "source": [
    "### Q5: Insertion Sort"
   ]
  },
  {
   "cell_type": "code",
   "execution_count": 1,
   "metadata": {},
   "outputs": [],
   "source": [
    "##Code Snippet 5a\n",
    "def insertion(array):\n",
    "    for i in range(len(array)-1):       \n",
    "        for j in range (i,-1,-1): # not efficient as it will continue to iterate backwards even if elements are already sorted\n",
    "            if array [j+1] < array[j]:\n",
    "                array[j],array[j+1] = array[j+1],array[j]\n",
    "    return array\n"
   ]
  },
  {
   "cell_type": "code",
   "execution_count": null,
   "metadata": {},
   "outputs": [],
   "source": [
    "\n",
    "#Code Snippet 5b: Classic Insertion Sort\n",
    "def insertionsort(array):\n",
    "    for i in range(1, len(array)):\n",
    "        j = i\n",
    "        while j > 0 and array[j] < array[j-1]: # i changed to j \n",
    "            array[j], array[j-1] = array[j-1], array[j]\n",
    "            j -= 1\n",
    "    return array\n",
    "\n"
   ]
  },
  {
   "cell_type": "code",
   "execution_count": null,
   "metadata": {},
   "outputs": [],
   "source": [
    "#Code Snippet 5c\n",
    "def insertion(array):\n",
    "  for i in range(0, len(array)):\n",
    "    current = array[i]\n",
    "    position = i\n",
    "    while position > 0 and array[position - 1] > current: # changed < to >\n",
    "        array[position] = array[position - 1]\n",
    "        position -= 1\n",
    "  \n",
    "  array[position] = current ## missing: insert current to correct position\n",
    "  return array\n"
   ]
  },
  {
   "cell_type": "code",
   "execution_count": 15,
   "metadata": {},
   "outputs": [],
   "source": [
    "#Code Snippet 5d\n",
    "def InsertionSort(collection):\n",
    "    #non in place because a new list is created\n",
    "    n= len(collection)\n",
    "    sorted = [collection[0]] + [ float(\"inf\") for _ in range(n-1)]\n",
    "    #sorted is a reserved keyword (function)\n",
    "    for i in range(1, len(collection)):\n",
    "        index = 0;\n",
    "        while collection[i] > sorted[index]: #runtime error: index out of range --> sorted is not initalised as there is only one element\n",
    "            index += 1;\n",
    "        sorted = sorted[:index] + [collection[i]] + sorted[index:];\n",
    "    return sorted[:n]; ## needs to exclude the sentinel values"
   ]
  },
  {
   "cell_type": "markdown",
   "metadata": {},
   "source": [
    "### Q6 Quick Sort"
   ]
  },
  {
   "cell_type": "code",
   "execution_count": 1,
   "metadata": {},
   "outputs": [],
   "source": [
    "#Code Snippet 6a\n",
    "def quicksort(array):\n",
    "    if len(array) < 2:\n",
    "        return array\n",
    "    else:\n",
    "        #smaller,other = [], []\n",
    "        smaller,pivots,other = [], [],[]\n",
    "        pivot = array[random.randint(0,len(array) - 1)] #objective: may be faster for certain cases \n",
    "        for i in range(len(array)):\n",
    "            if array[i] == pivot: ## added to include testing for pivot values\n",
    "                pivots.append(array[i])\n",
    "            elif array[i] < pivot:\n",
    "                smaller.append(array[i])\n",
    "            else:\n",
    "                other.append(array[i])\n",
    "            \n",
    "    #return quicksort(smaller) + [pivot] + quicksort(other) #does not work as pivot is added twice, size of array is not reduced, should remove pivot from smaller and other before recursive call by creating another bucket for all the pivot values\n",
    "        return quicksort(smaller) + pivots + quicksort(other) # correction\n"
   ]
  },
  {
   "cell_type": "markdown",
   "metadata": {},
   "source": [
    "### Q7 Base k to Denary"
   ]
  },
  {
   "cell_type": "code",
   "execution_count": null,
   "metadata": {},
   "outputs": [],
   "source": [
    "\n",
    "#Code Snippet 7a\n",
    "def k2d(k, number): #number is a string\n",
    "    number = number[::-1]\n",
    "    power = 1\n",
    "    answer = 0\n",
    "    for i in number:\n",
    "        i = int(i)  ## int(i,k) Ok if it is used to convert to convert a base 10 string value to a a integer, But if it is used to convert int(\"a\",16) to value 10 then NOT OK\n",
    "        answer += i * power\n",
    "        power *= k\n",
    "    return answer\n",
    "\n",
    "\n"
   ]
  },
  {
   "cell_type": "code",
   "execution_count": null,
   "metadata": {},
   "outputs": [],
   "source": [
    "#7b\n",
    "def k2den(base_k_value, k):\n",
    "    den_value=0\n",
    "    for i in range(len(base_k_value)):\n",
    "        if base_k_value[i].isalpha():\n",
    "            den_value = den_value * k + ord(base_k_value[i])-ord(\"a\") + 10\n",
    "        else:\n",
    "            den_value = den_value * k + ord(base_k_value[i])-ord(\"0\")\n",
    "    return den_value"
   ]
  },
  {
   "cell_type": "code",
   "execution_count": null,
   "metadata": {},
   "outputs": [],
   "source": [
    "##Code Snippet 7c\n",
    "def base(k,v):\n",
    "\tdigitMap = \"0123456789ABCDEFGHIJKLMNOPQRSTUVWXYZ\"\n",
    "\tdenary = 0\n",
    "\tv = v[::-1]\n",
    "\tfor i in range(len(v)):\n",
    "\t\tdenary += digitMap.index(v[i].upper()) * (k ** i)\n",
    "\treturn denary\n",
    "\n"
   ]
  },
  {
   "cell_type": "markdown",
   "metadata": {},
   "source": [
    "### Q8 Denary to Base K"
   ]
  },
  {
   "cell_type": "code",
   "execution_count": null,
   "metadata": {},
   "outputs": [],
   "source": [
    "#Code Snippet 8a\n",
    "def denary_to_base_k(den_num,base_k):\n",
    "    mapping=\"0123456789abcdef\"\n",
    "    k_num=\"\"\n",
    "    while den_num>0:\n",
    "        k_num=mapping[den_num//base_k]+ k_num # use mod\n",
    "        den_num=den_num%k#use //\n",
    "\n",
    "    return k_num\n"
   ]
  },
  {
   "cell_type": "code",
   "execution_count": null,
   "metadata": {},
   "outputs": [],
   "source": [
    "\n",
    "#Code Snippet 8b\n",
    "def base(k,v):\n",
    "\tdigitMap = \"0123456789ABCDEFGHIJKLMNOPQRSTUVWXYZ\"\n",
    "\tresult = []\n",
    "\tdenary = v\n",
    "\twhile denary > 0:\n",
    "\t\tresult.insert(0,digitMap[denary % k])\n",
    "\t\tdenary //= k\n",
    "\n",
    "\treturn \"\".join(result)\n",
    "\n"
   ]
  },
  {
   "cell_type": "markdown",
   "metadata": {},
   "source": [
    "### Q9 OOP"
   ]
  },
  {
   "cell_type": "code",
   "execution_count": null,
   "metadata": {},
   "outputs": [],
   "source": [
    "\n",
    "##Code Snippet 9a\n",
    "class Square(): \n",
    "    def __init__(self, length):\n",
    "        self._length = length #not private\n",
    "    def getLength(self):\n",
    "        return self._length\n",
    "    def computePerimeter(self):\n",
    "        return float(self._length * 4)\n",
    "    def computeArea(self):\n",
    "        return float(self._length * self._length)\n",
    "\n",
    "class Rectangle(Square):  #here\n",
    "    def __init__(self, breath):\n",
    "        self._breath = breath #polymorphism\n",
    "        self._length = super().__init__ (length) #here #don't put self\n",
    "    def getBreath(self):\n",
    "        return self._breath\n",
    "    def computePerimeter(self):\n",
    "        return float(self._length*2) + float(self._breath*2)\n",
    "    def computeArea(self):\n",
    "        return float(self._length * self._breath)"
   ]
  },
  {
   "cell_type": "code",
   "execution_count": null,
   "metadata": {},
   "outputs": [],
   "source": [
    "#Code Snippet 9b\n",
    "class Rectangle():\n",
    "    def __init__(self, length):\n",
    "        self._length = length\n",
    "\n",
    "    def getLength(self):\n",
    "        return self._length\n",
    "\n",
    "    def computePerimeter(self, length):\n",
    "        return (length * 4)\n",
    "\n",
    "    def computeArea(self, length):\n",
    "        return (length * length)\n",
    "        \n",
    "class Rectangle(Square): \n",
    "    def __init__(self, length, breadth):\n",
    "        self._length = length\n",
    "        self._breadth = breadth\n",
    "\n",
    "    def getBreadth(self):\n",
    "        return self._breadth\n",
    "\n",
    "    def computePerimeter(self, length, breadth):\n",
    "        return ( (length*2) + (breadth*2))\n",
    "\n",
    "    def computeArea(self, length, breadth):\n",
    "        return (length * breadth)\n"
   ]
  },
  {
   "cell_type": "code",
   "execution_count": null,
   "metadata": {},
   "outputs": [],
   "source": [
    "#Code Snippet 9b\n",
    "class Square():\n",
    "    def __init__(self, length):\n",
    "        self._length = length\n",
    "\n",
    "    def getLength(self):\n",
    "        return self._length\n",
    "\n",
    "    def computePerimeter(self, length): #no need to pass in value of length, already initialized\n",
    "        return (length * 4)\n",
    "\n",
    "    def computeArea(self, length):\n",
    "        return (length * length)\n",
    "        \n",
    "class Rectangle(Square): \n",
    "    def __init__(self, length, breadth): \n",
    "        self._length = length #no inheritance used\n",
    "        self._breadth = breadth\n",
    "\n",
    "    def getBreadth(self):\n",
    "        return self._breadth\n",
    "\n",
    "    def computePerimeter(self, length, breadth):\n",
    "        return ( (length*2) + (breadth*2))\n",
    "\n",
    "    def computeArea(self, length, breadth):\n",
    "        return (length * breadth)\n"
   ]
  },
  {
   "cell_type": "markdown",
   "metadata": {},
   "source": [
    "https://geometricfigures-aguinto.weebly.com/classifying-quadrilaterals.html"
   ]
  }
 ],
 "metadata": {
  "kernelspec": {
   "display_name": "Python 3 (ipykernel)",
   "language": "python",
   "name": "python3"
  },
  "language_info": {
   "codemirror_mode": {
    "name": "ipython",
    "version": 3
   },
   "file_extension": ".py",
   "mimetype": "text/x-python",
   "name": "python",
   "nbconvert_exporter": "python",
   "pygments_lexer": "ipython3",
   "version": "3.9.5"
  }
 },
 "nbformat": 4,
 "nbformat_minor": 4
}
