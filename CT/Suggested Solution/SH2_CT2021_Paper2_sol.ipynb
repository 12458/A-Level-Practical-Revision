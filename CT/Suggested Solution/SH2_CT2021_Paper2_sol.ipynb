{
 "cells": [
  {
   "cell_type": "markdown",
   "metadata": {
    "id": "v1yxBEcC2yGU"
   },
   "source": [
    "### Task 1"
   ]
  },
  {
   "cell_type": "code",
   "execution_count": null,
   "metadata": {
    "id": "amz-91QQ2yGc"
   },
   "outputs": [],
   "source": [
    "## Solution using build-in sorted\n",
    "## Task 1.1\n",
    "import csv\n",
    "from datetime import datetime, timedelta\n",
    "f = open(\"FILE_LIST.CSV\",\"r\")\n",
    "\n",
    "##  base values for comparison [3]\n",
    "today = datetime.now()\n",
    "hundred_days_ago = timedelta(days=100)\n",
    "one_year_ago = timedelta(days=365)\n",
    "\n",
    "\n",
    "tier_1, tier_2, tier_3 =[], [], [] ## list for 3 tiers [1]\n",
    "\n",
    "for r in list(csv.reader(f))[1:]: ## loop for file traversal, skip header line [1]\n",
    "    time_stamp = datetime.strptime(r[1].strip(), \"%d/%m/%y  %H:%M\") \n",
    "    # parse timestamp str into a data type used for comparison [2] \n",
    "    # using datetime or \"YYMMDDHHmm\" format \n",
    "    file_name = r[0]\n",
    "    if today - time_stamp >= one_year_ago: ## 2 comparisons [2] to seperate into 3 groups\n",
    "        tier_3.append([file_name, r[1], r[2].strip()]) ## [1] add to appropiate containers * take  care of  white spaces in timestamp*\n",
    "    elif today - time_stamp >= hundred_days_ago:\n",
    "        tier_2.append([file_name, r[1], r[2].strip()])\n",
    "    else:\n",
    "        tier_1.append([file_name, r[1], r[2].strip()])\n",
    "\n",
    "### sorting using the timestamp key \n",
    "##  \n",
    "sorted_1 = sorted(tier_1, key = lambda x: datetime.strptime(x[1],\"%d/%m/%y  %H:%M\"), reverse=True)\n",
    "sorted_2 = sorted(tier_2, key = lambda x: datetime.strptime(x[1],\"%d/%m/%y  %H:%M\"), reverse=True)\n",
    "sorted_3 = sorted(tier_3, key = lambda x: datetime.strptime(x[1],\"%d/%m/%y  %H:%M\"), reverse=True)\n",
    "f.close()\n"
   ]
  },
  {
   "cell_type": "code",
   "execution_count": null,
   "metadata": {
    "id": "8kFAOqsH2yGh"
   },
   "outputs": [],
   "source": [
    "## Task 1.1 quick sort [5]\n",
    "from datetime import datetime, timedelta\n",
    "def quick_sort(A): ## A: list of list\n",
    "    if len(A) < 2: ## may have empty list in base case [1]\n",
    "        return A\n",
    "    else:\n",
    "        left=[]\n",
    "        right=[]\n",
    "        pivot_record = A[0] \n",
    "        pivot_dt = datetime.strptime(A[0][1], \"%d/%m/%y  %H:%M\") # initialisation, convert to a form used for comparison [1]\n",
    "        \n",
    "        for d in A[1:]: ## partition [2]\n",
    "            if datetime.strptime(d[1], \"%d/%m/%y  %H:%M\") > pivot_dt :\n",
    "                left.append(d)\n",
    "            else:\n",
    "                right.append(d)\n",
    "    ##recusrive step [1]\n",
    "    return quick_sort(left) + [pivot_record] + quick_sort(right)"
   ]
  },
  {
   "cell_type": "code",
   "execution_count": null,
   "metadata": {
    "id": "DDJC930A2yGj"
   },
   "outputs": [],
   "source": [
    "## Task 1.2\n",
    "### file extension extraction\n",
    "def get_extension(s):\n",
    "    if '.' in s: #[1m]\n",
    "        return (s.split('.')[-1])#[2m]\n",
    "    return '' #[1m]"
   ]
  },
  {
   "cell_type": "code",
   "execution_count": null,
   "metadata": {
    "id": "9Fl9bz1h2yGk"
   },
   "outputs": [],
   "source": [
    "## Task 1.3\n",
    "import csv, pymongo\n",
    "client=pymongo.MongoClient(\"127.0.0.1\",27017)\n",
    "db=client.get_database(\"file_stats\")\n",
    "coll=db.get_collection(\"storage\")\n",
    "coll.drop() ## [1]\n",
    "\n",
    "for i in range(1,4):## iterare through the 3 files [1]\n",
    "    reader = csv.reader(open(f\"TIER_{i}.CSV\",\"r\")) \n",
    "    extension_count={}\n",
    "    file_names=[]\n",
    "    file_count=0 # counters [1]\n",
    "    for line in reader: # iterate through tier file\n",
    "        file_count+=1\n",
    "        file_names.append(line[0])\n",
    "        extension = get_extension(line[0])\n",
    "        if extension_count.get(extension ) == None:\n",
    "            extension_count[extension] = 1 # create dict key [1]\n",
    "        else:\n",
    "            extension_count[extension] = extension_count[extension] + 1 # update dict key [1]\n",
    "    doc = {}\n",
    "    doc[\"storage_tier\"] = i\n",
    "    doc[\"file_count\"] = file_count\n",
    "    doc[\"file_names\"] = file_names\n",
    "    doc[\"file_types\"] = extension_count\n",
    "    coll.insert_one(doc)"
   ]
  },
  {
   "cell_type": "code",
   "execution_count": null,
   "metadata": {
    "id": "R3_OHZ9f2yGl"
   },
   "outputs": [],
   "source": [
    "## Tasl 1.4 update\n",
    "import csv, pymongo\n",
    "client=pymongo.MongoClient(\"127.0.0.1\",27017)\n",
    "db=client.get_database(\"file_stats\")\n",
    "coll=db.get_collection(\"storage\")\n",
    "reader = csv.reader(open(\"TIER_3_UPDATE.CSV\",\"r\")) \n",
    "extension_count={}\n",
    "file_names=[]\n",
    "file_count=0 # counters [1]\n",
    "for line in reader: # iterate through tier file\n",
    "    file_count+=1\n",
    "    file_names.append(line[0])\n",
    "    extension = get_extension(line[0])\n",
    "    if extension_count.get(extension ) == None:\n",
    "        extension_count[extension] = 1 # create dict key [1]\n",
    "    else:\n",
    "        extension_count[extension] = extension_count[extension] + 1 # update dict key [1]\n",
    "\n",
    "doc = {}\n",
    "doc[\"file_count\"] = file_count\n",
    "doc[\"file_names\"] = file_names\n",
    "doc[\"file_types\"] = extension_count\n",
    "coll.update_one( { \"storage_tier\": 3}, {\"$set\": doc}) ## [2]\n",
    "    "
   ]
  },
  {
   "cell_type": "markdown",
   "metadata": {
    "id": "no-pBckY2yG9"
   },
   "source": [
    "### Task 2"
   ]
  },
  {
   "cell_type": "code",
   "execution_count": null,
   "metadata": {
    "id": "PYoO7i5e2yG9"
   },
   "outputs": [],
   "source": [
    "\n",
    "#Task 1.1\n",
    "class Node:\n",
    "    def __init__(self,name,value):\n",
    "        self.name = name\n",
    "        self.value = value # [1]\n",
    "    def __str__(self):\n",
    "        return f\"{self.name}:{self.value}\"#[1]\n",
    "\n",
    "class Max_Heap:\n",
    "    def __init__(self,n):\n",
    "        self.count=0\n",
    "        self.size = n\n",
    "        self.tree = [ None for _ in range(n)]  #[2]\n",
    "\n",
    "    def __str__(self):\n",
    "        if self.count == 0:\n",
    "            return \"[]\" # [1]\n",
    "        ret=\"[\"\n",
    "        for i in range(self.count):\n",
    "             ret += f\"{self.tree[i]},\"\n",
    "        return ret[:-1] + \"]\" #[1]\n",
    "## Task 1.2\n",
    "    def insert(self, Node):\n",
    "        if self.count  == self.size :\n",
    "            return False ## check full [1]\n",
    "        cur_index = self.count\n",
    "        self.tree[cur_index] = Node #inset at end of array\n",
    "        parent_index = (cur_index -1 ) //2  #get parent [1]\n",
    "        while cur_index  != 0 and self.tree[parent_index].value <  self.tree[cur_index].value: #loop to traverse up the tree [1]\n",
    "            self.tree[parent_index], self.tree[cur_index] = self.tree[cur_index], self.tree[parent_index] # swap parent child [1]\n",
    "            cur_index = parent_index\n",
    "            parent_index = (cur_index -1 ) //2 # update pointers and count [1]\n",
    "        self.count+= 1\n",
    "        return True\n",
    "\n",
    "    def get_max(self): #[1]\n",
    "        return self.tree[0]\n",
    "\n",
    "#Task 1.3\n",
    "## in-order traversal\n",
    "    def in_order(self): #4m\n",
    "        def _recur(self,index):\n",
    "            if index >= self.count:\n",
    "                return ## base case [1]\n",
    "            _recur(self, index*2 + 1) #  recursive calls [1]\n",
    "            print(self.tree[ index]) # correct orde of processing [1]\n",
    "            _recur(self, index*2 + 2)\n",
    "        _recur(self,0) # wrapper [1]\n",
    "\n",
    "## all-paths\n",
    "    def all_paths(self): #6m\n",
    "        def _paths(self, cur, partial_path):\n",
    "            left, right = cur*2+1, cur*2+2 #find left, right childs [1]\n",
    "            partial_path += f\"{self.tree[cur]},\"  #update partial path [1]\n",
    "          \n",
    "            if left >= self.count and right >= self.count:  ## leaf node detection , base case[1]\n",
    "                print(partial_path[:-1])\n",
    "            elif left < self.count and right >= self.count: ## no right child , traverse left child [1]\n",
    "                _paths(self, left, partial_path)\n",
    "            else: ## internal node , traverse left and right child [1]\n",
    "                _paths(self, left, partial_path)\n",
    "                _paths(self, right, partial_path)\n",
    "            ## no need to check , no left child with right child since this is a complete binary tree\n",
    "            return\n",
    "\n",
    "        partial_path=\"\"\n",
    "        if self.count == 0: \n",
    "            print(None)\n",
    "            return\n",
    "        else:\n",
    "            return _paths(self,0, partial_path) ## initialise code and empty tree [1]\n"
   ]
  },
  {
   "cell_type": "markdown",
   "metadata": {
    "id": "kzSqi90z2yHB"
   },
   "source": [
    "### Task 3"
   ]
  },
  {
   "cell_type": "code",
   "execution_count": null,
   "metadata": {
    "id": "MwQISJgd2yHC"
   },
   "outputs": [],
   "source": [
    "# Task 3.1\n",
    "class Stack: \n",
    "    def __init__(self, n):## [1]\n",
    "        self. _buffer = [ None for _ in range(n)]\n",
    "        self.count = 0\n",
    "        self.top = -1\n",
    "    def push(self, data) :\n",
    "        if self.top == len(self._buffer) -1 :## [1]\n",
    "            return False\n",
    "        else: ##[1]\n",
    "            self.top+=1\n",
    "            self._buffer[self.top]  = data\n",
    "            self.count+=1\n",
    "            return True\n",
    "\n",
    "    def pop(self):\n",
    "        if self.top == -1 :\n",
    "            return None ##[1]\n",
    "        else: ##[1]\n",
    "            ret = self._buffer[self.top]\n",
    "            self.count -=1\n",
    "            self.top -=1\n",
    "            return ret"
   ]
  },
  {
   "cell_type": "code",
   "execution_count": null,
   "metadata": {
    "id": "Mg7FbgG_2yHE"
   },
   "outputs": [],
   "source": [
    "#Task 3.2\n",
    "def is_balanced(exp):\n",
    "    stack = Stack(len(exp))\n",
    "    open_brk = [\"{\", \"(\", \"[\"] ## [1] for checking match , init\n",
    "    close_brk =[\"}\", \")\", \"]\"]\n",
    "\n",
    "    for c in exp: ## [1]\n",
    "        if c in open_brk:\n",
    "            ret = stack.push( open_brk.index(c))    #[1]\n",
    "            if ret == False:\n",
    "                raise Exception(\"Overflow\") #[1] handle stack overflow\n",
    "        elif c in close_brk:\n",
    "            check = stack.pop()\n",
    "            if check != close_brk.index(c): # [1] match bracket\n",
    "                return False\n",
    "\n",
    "    if stack.count == 0: ##[1] check unmatched \n",
    "        return True\n",
    "    else:\n",
    "        return False"
   ]
  },
  {
   "cell_type": "code",
   "execution_count": null,
   "metadata": {
    "id": "aBH_DDW02yHF"
   },
   "outputs": [],
   "source": [
    "# Task 3.3\n",
    "print(is_balanced('([9-1]/2)+{3*7}'))\n",
    "print(is_balanced('[(9-1)+{3*7}'))\n",
    "print(is_balanced('[(9-1])+{3*7}'))\n",
    "# Boundary test case\n",
    "print(is_balanced('[(9-1)]+({3*7+(3+4)})'))\n",
    "# Invalid test case\n",
    "print(is_balanced('[(9-1b])+{3*7})'))"
   ]
  },
  {
   "cell_type": "markdown",
   "metadata": {},
   "source": [
    "### Task 4"
   ]
  },
  {
   "cell_type": "code",
   "execution_count": null,
   "metadata": {
    "id": "PTrP5hAT293P"
   },
   "outputs": [],
   "source": [
    "#1 pt Asking for user input. Note that input here is a string\n",
    "matrixA=input('Please enter the matrix')\n",
    "\n",
    "#1 pt Converting user input which is a string into nested list\n",
    "matrixA=eval(matrixA)"
   ]
  },
  {
   "cell_type": "code",
   "execution_count": null,
   "metadata": {
    "id": "tZbgZaYc293R"
   },
   "outputs": [],
   "source": [
    "#2pt input validation. 1 mark to check for all entries to be number number, the other for the number of entries in each row \n",
    "def valid_matrix(mat):\n",
    "    def is_number(s):\n",
    "        try:\n",
    "            float(s)\n",
    "            return True\n",
    "        except ValueError:\n",
    "            return False\n",
    "\n",
    "    row_is_number=[]\n",
    "    row_length=[]\n",
    "    for row in mat:\n",
    "        row_is_number.append(all(is_number(ele) for ele in row))\n",
    "        row_length.append(len(row))\n",
    "\n",
    "    all_number=all(row_is_number)\n",
    "\n",
    "    return (all_number and len(set(row_length))==1)"
   ]
  },
  {
   "cell_type": "code",
   "execution_count": null,
   "metadata": {
    "id": "8l0YlOip293T"
   },
   "outputs": [],
   "source": [
    "#3pt A working matrix multiplication, based on the definition given\n",
    "def mat_multiply(matA,matB):\n",
    "    m=len(matA)\n",
    "    p=len(matB[0])\n",
    "\n",
    "    mat=[]\n",
    "\n",
    "    for i in range(m):\n",
    "        row=[]\n",
    "        for j in range(p):\n",
    "            row.append(sum([matA[i][k]*matB[k][j] for k in range(len(matB))]))\n",
    "        mat.append(row)\n",
    "\n",
    "    return mat"
   ]
  },
  {
   "cell_type": "code",
   "execution_count": null,
   "metadata": {
    "id": "yU3SUKGs293V",
    "outputId": "c0214086-09ae-46d3-f494-b670d68f30c8"
   },
   "outputs": [
    {
     "data": {
      "text/plain": [
       "[[27], [57], [93]]"
      ]
     },
     "execution_count": 9,
     "metadata": {
      "tags": []
     },
     "output_type": "execute_result"
    }
   ],
   "source": [
    "A1 = [[1, 2, 3], [4, 5, 6], [7, 8, 10]]\n",
    "B = [[-1], [5], [6]]\n",
    "\n",
    "mat_multiply(A1,B)"
   ]
  },
  {
   "cell_type": "code",
   "execution_count": null,
   "metadata": {
    "id": "XZM51eLm293X"
   },
   "outputs": [],
   "source": [
    "#4pt one for each function\n",
    "\n",
    "def det_3_by_3(A):\n",
    "    return A[0][0]*(A[1][1]*A[2][2]-A[1][2]*A[2][1]) \\\n",
    "          -A[0][1]*(A[1][0]*A[2][2]-A[1][2]*A[2][0]) \\\n",
    "          +A[0][2]*(A[1][0]*A[2][1]-A[1][1]*A[2][0]) \n",
    "\n",
    "def det(A):\n",
    "    return A[0][0]*A[1][1]-A[0][1]*A[1][0]\n",
    "\n",
    "def adjugate(A):\n",
    "    mat00=[[A[1][1],A[1][2]],[A[2][1],A[2][2]]] \n",
    "    mat01=[[A[0][1],A[0][2]],[A[2][1],A[2][2]]] \n",
    "    mat02=[[A[0][1],A[0][2]],[A[1][1],A[1][2]]]\n",
    "    mat10=[[A[1][0],A[1][2]],[A[2][0],A[2][2]]] \n",
    "    mat11=[[A[0][0],A[0][2]],[A[2][0],A[2][2]]] \n",
    "    mat12=[[A[0][0],A[0][2]],[A[1][0],A[1][2]]]\n",
    "    mat20=[[A[1][0],A[1][1]],[A[2][0],A[2][1]]] \n",
    "    mat21=[[A[0][0],A[0][1]],[A[2][0],A[2][1]]] \n",
    "    mat22=[[A[0][0],A[0][1]],[A[1][0],A[1][1]]] \n",
    "    return [ [ det(mat00), - det(mat01), det(mat02)], \\\n",
    "             [ -det(mat10),  det(mat11), -det(mat12)], \\\n",
    "             [ det(mat20), - det(mat21), det(mat22)]]\n",
    "\n",
    "def solution(A):\n",
    "    if valid_matrix(A):\n",
    "        detA=det_3_by_3(A)\n",
    "        if detA==0:\n",
    "            return 'Unique solution does not exist as determinant is 0'\n",
    "        else:\n",
    "            sol=mat_multiply(adjugate(A),[[-1],[5],[6]])\n",
    "            sol=[i[0] for i in sol]\n",
    "            return [(1/detA)*i for i in sol]\n",
    "    else:\n",
    "        return 'Matrix is invalid (contains nonnumeric or missing entry), please reenter'"
   ]
  },
  {
   "cell_type": "code",
   "execution_count": null,
   "metadata": {
    "id": "nO8kvXSW293Z",
    "outputId": "bd8e83ba-fb68-4250-d395-db22b877b391"
   },
   "outputs": [
    {
     "name": "stdout",
     "output_type": "stream",
     "text": [
      "[-0.0, 7.0, -5.0]\n",
      "Unique solution does not exist as determinant is 0\n",
      "Matrix is invalid (contains nonnumeric or missing entry), please reenter\n"
     ]
    }
   ],
   "source": [
    "# 3 pts,  1 pt  for each matrix\n",
    "# 1 pt for all correct purpose\n",
    "# 1 pt for all expected output\n",
    "\n",
    "# Valid matrix \n",
    "A1=[ [1,2,3],\n",
    "     [4,5,6],\n",
    "     [7,8,10]]\n",
    "\n",
    "# Determinant equals to 0\n",
    "A2=[ [1,2,3],\n",
    "     [4,5,6],\n",
    "     [7,8,9]]\n",
    "\n",
    "# Invalid matrix because of invalid entry 'a'\n",
    "A3=[ [1,2,3],\n",
    "     [4,5,'a'],\n",
    "     [7,8.2,10.1]]\n",
    "\n",
    "print(solution(A1))\n",
    "print(solution(A2))\n",
    "print(solution(A3))"
   ]
  }
 ],
 "metadata": {
  "colab": {
   "name": "SH2_CT2021-Paper2_sol.ipynb",
   "provenance": []
  },
  "kernelspec": {
   "display_name": "Python 3 (ipykernel)",
   "language": "python",
   "name": "python3"
  },
  "language_info": {
   "codemirror_mode": {
    "name": "ipython",
    "version": 3
   },
   "file_extension": ".py",
   "mimetype": "text/x-python",
   "name": "python",
   "nbconvert_exporter": "python",
   "pygments_lexer": "ipython3",
   "version": "3.9.5"
  }
 },
 "nbformat": 4,
 "nbformat_minor": 4
}
