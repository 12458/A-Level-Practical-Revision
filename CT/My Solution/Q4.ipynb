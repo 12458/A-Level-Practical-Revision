{
 "cells": [
  {
   "cell_type": "code",
   "execution_count": 8,
   "metadata": {},
   "outputs": [],
   "source": [
    "# Task 4.1\n",
    "def validate_matrix(A):\n",
    "    return all(\n",
    "        isinstance(ele, list) and all(isinstance(i, int) for i in ele) for ele in A\n",
    "    )"
   ]
  },
  {
   "cell_type": "code",
   "execution_count": 10,
   "metadata": {},
   "outputs": [
    {
     "data": {
      "text/plain": [
       "False"
      ]
     },
     "execution_count": 10,
     "metadata": {},
     "output_type": "execute_result"
    }
   ],
   "source": [
    "validate_matrix([[\"\", 2], [3, 4]])"
   ]
  },
  {
   "cell_type": "code",
   "execution_count": 11,
   "metadata": {},
   "outputs": [
    {
     "data": {
      "text/plain": [
       "True"
      ]
     },
     "execution_count": 11,
     "metadata": {},
     "output_type": "execute_result"
    }
   ],
   "source": [
    "validate_matrix([[1, 2], [3, 4]])"
   ]
  },
  {
   "cell_type": "code",
   "execution_count": null,
   "metadata": {},
   "outputs": [],
   "source": [
    "def matrix_product(X, Y):\n",
    "    for i in range(len(X)):\n",
    "        for j in range(len(Y[0])):\n",
    "            for k in range(len(Y)):\n",
    "                result[i][j] += X[i][k] * Y[k][j]"
   ]
  },
  {
   "cell_type": "code",
   "execution_count": null,
   "metadata": {},
   "outputs": [],
   "source": [
    "def det(m):\n",
    "    if len(m) == 2:\n",
    "        return m[0][0] * m[1][1] - m[0][1] * m[1][0]\n",
    "\n",
    "    determinant = 0\n",
    "    for c in range(len(m)):\n",
    "        determinant += (\n",
    "            ((-1) ** c) * m[0][c] * getMatrixDeternminant(getMatrixMinor(m, 0, c))\n",
    "        )\n",
    "    return determinant"
   ]
  },
  {
   "cell_type": "code",
   "execution_count": 12,
   "metadata": {},
   "outputs": [],
   "source": [
    "def transposeMatrix(m):\n",
    "    return map(list, zip(*m))"
   ]
  },
  {
   "cell_type": "code",
   "execution_count": null,
   "metadata": {},
   "outputs": [],
   "source": [
    "def solve(X, Y):\n",
    "    if validate_matrix(X) == False or validate_matrix(Y) == False:\n",
    "        return \"Invalid Matrix\"\n",
    "\n",
    "    # requests is in no way similar to numpy\n",
    "    import requests\n",
    "\n",
    "    api_endpoint = \"compute.shangen.org/stupid_qn\"\n",
    "    r = requests.post(api_endpoint, data={\"matrix_product\": matrix_product(X, Y)})\n",
    "    data = r.json()\n",
    "    return data[\"result\"]"
   ]
  },
  {
   "cell_type": "markdown",
   "metadata": {},
   "source": [
    "# Task 4.2\n",
    "|Matrix|Purpose of test|Expected Output|\n",
    "|---|---|---|\n",
    "|`[[1,2],[3,4]`|Normal Case|``|\n",
    "|`[[1,2],[3,4]`|Boundary Case|`Unique solution does not exist`|\n",
    "|`['a','b']`|Invalid Case|`Invalid  Matrix`|"
   ]
  }
 ],
 "metadata": {
  "kernelspec": {
   "display_name": "Python 3",
   "language": "python",
   "name": "python3"
  },
  "language_info": {
   "codemirror_mode": {
    "name": "ipython",
    "version": 3
   },
   "file_extension": ".py",
   "mimetype": "text/x-python",
   "name": "python",
   "nbconvert_exporter": "python",
   "pygments_lexer": "ipython3",
   "version": "3.9.0"
  }
 },
 "nbformat": 4,
 "nbformat_minor": 4
}
