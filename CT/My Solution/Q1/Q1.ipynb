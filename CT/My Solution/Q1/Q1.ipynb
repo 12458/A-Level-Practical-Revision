{
 "cells": [
  {
   "cell_type": "code",
   "execution_count": 24,
   "metadata": {},
   "outputs": [],
   "source": [
    "# Task 1.1\n",
    "\n",
    "file_csv_data = []\n",
    "import csv\n",
    "import datetime\n",
    "\n",
    "\n",
    "def quick_sort(A):\n",
    "    if len(A) < 2:\n",
    "        return A\n",
    "    pivot = A[0][1]\n",
    "    left = []\n",
    "    right = []\n",
    "    for i in A[1:]:\n",
    "        if i[1] > pivot:\n",
    "            left.append(i)\n",
    "        else:\n",
    "            right.append(i)\n",
    "    return quick_sort(left) + [A[0]] + quick_sort(right)\n",
    "\n",
    "\n",
    "with open(\"FILE_LIST.csv\", \"r\") as f:\n",
    "    file_csv = csv.reader(f)\n",
    "    next(file_csv)\n",
    "    file_csv_data = list(file_csv)\n",
    "\n",
    "for i in range(len(file_csv_data)):\n",
    "    file_csv_data[i][1] = datetime.datetime.strptime(\n",
    "        file_csv_data[i][1], \"%d/%m/%y %H:%M\"\n",
    "    )\n",
    "\n",
    "t1 = []\n",
    "t2 = []\n",
    "t3 = []\n",
    "\n",
    "for i in file_csv_data:\n",
    "    difference = datetime.datetime.now() - i[1]\n",
    "    if difference.days < 100:\n",
    "        t1.append(i)\n",
    "    elif 100 <= difference.days < 365:\n",
    "        t2.append(i)\n",
    "    else:\n",
    "        t3.append(i)\n",
    "\n",
    "t1 = quick_sort(t1)\n",
    "t2 = quick_sort(t2)\n",
    "t3 = quick_sort(t3)\n",
    "\n",
    "tmp = []\n",
    "for i in t1:\n",
    "    tmp_str = f\"{i[0]},{i[1].strftime('%d/%m/%y %H:%M')},{i[2]}\"\n",
    "    tmp.append(tmp_str)\n",
    "    with open(\"TIER-1.csv\", \"w\") as f:\n",
    "        f.write(\"\\n\".join(tmp))\n",
    "tmp = []\n",
    "for i in t2:\n",
    "    tmp_str = f\"{i[0]},{i[1].strftime('%d/%m/%y %H:%M')},{i[2]}\"\n",
    "    tmp.append(tmp_str)\n",
    "    with open(\"TIER-2.csv\", \"w\") as f:\n",
    "        f.write(\"\\n\".join(tmp))\n",
    "tmp = []\n",
    "for i in t3:\n",
    "    tmp_str = f\"{i[0]},{i[1].strftime('%d/%m/%y %H:%M')},{i[2]}\"\n",
    "    tmp.append(tmp_str)\n",
    "    with open(\"TIER-3.csv\", \"w\") as f:\n",
    "        f.write(\"\\n\".join(tmp))"
   ]
  },
  {
   "cell_type": "code",
   "execution_count": 7,
   "metadata": {},
   "outputs": [
    {
     "data": {
      "text/plain": [
       "[['bfsvc.exe', datetime.datetime(2021, 2, 6, 8, 56), '77824 '],\n",
       " ['bootstat.dat', datetime.datetime(2021, 3, 29, 10, 4), '67584 '],\n",
       " ['comsetup.log', datetime.datetime(2021, 2, 5, 17, 54), '25848 '],\n",
       " ['CoreSingleLanguage.xml', datetime.datetime(2017, 9, 29, 21, 42), '35138 '],\n",
       " ['csup.txt', datetime.datetime(2018, 11, 2, 15, 2), '12 '],\n",
       " ['DDACLSys.log', datetime.datetime(2018, 11, 10, 16, 22), '1310 '],\n",
       " ['diagerr.xml', datetime.datetime(2021, 2, 5, 17, 58), '19053 '],\n",
       " ['diagwrn.xml', datetime.datetime(2021, 2, 5, 17, 58), '19053 '],\n",
       " ['DPINST.LOG', datetime.datetime(2020, 7, 27, 14, 7), '232542 '],\n",
       " ['DtcInstall.log', datetime.datetime(2019, 12, 7, 17, 17), '776 '],\n",
       " ['en-GB.log', datetime.datetime(2018, 11, 3, 7, 24), '11443031 '],\n",
       " ['en-us.log', datetime.datetime(2018, 11, 3, 7, 23), '268687 '],\n",
       " ['explorer.exe', datetime.datetime(2021, 3, 21, 13, 17), '4704744 '],\n",
       " ['HelpPane.exe', datetime.datetime(2021, 2, 6, 8, 58), '1076224 '],\n",
       " ['hh.exe', datetime.datetime(2019, 12, 7, 17, 9), '18432 '],\n",
       " ['machineinfo.sav', datetime.datetime(2018, 11, 3, 7, 31), '8744 '],\n",
       " ['MFGSTAT.zip', datetime.datetime(2018, 11, 3, 7, 31), '32729 '],\n",
       " ['mib.bin', datetime.datetime(2019, 12, 7, 17, 8), '43131 '],\n",
       " ['Modules.log', datetime.datetime(2018, 11, 10, 12, 57), '85950 '],\n",
       " ['notepad.exe', datetime.datetime(2021, 2, 6, 8, 59), '202240 '],\n",
       " ['PFRO.log', datetime.datetime(2021, 3, 21, 21, 23), '278608 '],\n",
       " ['PLDDATA.XML', datetime.datetime(2018, 11, 3, 8, 42), '14635 '],\n",
       " ['Professional.xml', datetime.datetime(2019, 12, 7, 17, 10), '30831 '],\n",
       " ['py.exe', datetime.datetime(2017, 12, 19, 6, 5), '897688 '],\n",
       " ['pyshellext.amd64.dll', datetime.datetime(2017, 12, 5, 20, 42), '55456 '],\n",
       " ['pyw.exe', datetime.datetime(2017, 12, 19, 6, 5), '897688 '],\n",
       " ['regedit.exe', datetime.datetime(2021, 2, 6, 8, 58), '370176 '],\n",
       " ['setupact.log', datetime.datetime(2021, 3, 26, 13, 43), '103608 '],\n",
       " ['setuperr.log', datetime.datetime(2021, 2, 5, 17, 21), '0 '],\n",
       " ['SMB.TAG', datetime.datetime(2018, 11, 3, 7, 15), '5 '],\n",
       " ['splwow64.exe', datetime.datetime(2021, 2, 6, 8, 56), '136192 '],\n",
       " ['system.ini', datetime.datetime(2017, 9, 29, 21, 44), '219 '],\n",
       " ['twain_32.dll', datetime.datetime(2019, 12, 7, 17, 10), '65024 '],\n",
       " ['win.ini', datetime.datetime(2018, 11, 3, 7, 16), '124 '],\n",
       " ['WindowsShell.Manifest', datetime.datetime(2019, 12, 7, 17, 9), '670 '],\n",
       " ['WindowsUpdate.log', datetime.datetime(2021, 3, 29, 12, 54), '276 '],\n",
       " ['winhlp32.exe', datetime.datetime(2019, 12, 7, 17, 10), '11776 '],\n",
       " ['WMSysPr9.prx', datetime.datetime(2019, 12, 7, 17, 53), '316640 '],\n",
       " ['write.exe', datetime.datetime(2019, 12, 7, 5, 29), '11264 '],\n",
       " ['03_IP.pptx', datetime.datetime(2020, 5, 4, 9, 11), '1234584'],\n",
       " ['04_TP.pptx', datetime.datetime(2020, 4, 16, 8, 36), '173503'],\n",
       " ['Lab2.fls', datetime.datetime(2020, 4, 8, 16, 11), '7344'],\n",
       " ['Network Lab2.pdf', datetime.datetime(2020, 4, 13, 10, 16), '342204'],\n",
       " ['Network Lab2.pptx', datetime.datetime(2020, 4, 13, 10, 17), '350946'],\n",
       " ['Network_Final.PNG', datetime.datetime(2020, 4, 8, 14, 52), '76595'],\n",
       " ['network_worksheet2.docx', datetime.datetime(2020, 4, 16, 7, 27), '135431'],\n",
       " ['02_PHY_DL.pptx', datetime.datetime(2020, 4, 6, 9, 48), '1195917'],\n",
       " ['2019_Network3_slides.pdf',\n",
       "  datetime.datetime(2019, 4, 16, 22, 47),\n",
       "  '597474'],\n",
       " ['Network Lab1.pptx', datetime.datetime(2020, 4, 6, 7, 24), '148438'],\n",
       " ['Socket Programming.pdf', datetime.datetime(2020, 4, 6, 9, 51), '2013612']]"
      ]
     },
     "execution_count": 7,
     "metadata": {},
     "output_type": "execute_result"
    }
   ],
   "source": [
    "file_csv_data"
   ]
  },
  {
   "cell_type": "code",
   "execution_count": 52,
   "metadata": {},
   "outputs": [
    {
     "data": {
      "text/plain": [
       "[['WindowsUpdate.log', datetime.datetime(2021, 3, 29, 12, 54), '276 '],\n",
       " ['bootstat.dat', datetime.datetime(2021, 3, 29, 10, 4), '67584 '],\n",
       " ['setupact.log', datetime.datetime(2021, 3, 26, 13, 43), '103608 '],\n",
       " ['PFRO.log', datetime.datetime(2021, 3, 21, 21, 23), '278608 '],\n",
       " ['explorer.exe', datetime.datetime(2021, 3, 21, 13, 17), '4704744 ']]"
      ]
     },
     "execution_count": 52,
     "metadata": {},
     "output_type": "execute_result"
    }
   ],
   "source": [
    "t1"
   ]
  },
  {
   "cell_type": "code",
   "execution_count": 49,
   "metadata": {},
   "outputs": [],
   "source": [
    "# Task 1.2\n",
    "def get_extension(s):\n",
    "    if \".\" not in s:\n",
    "        return \"\"\n",
    "    return s.split(\".\")[-1]"
   ]
  },
  {
   "cell_type": "code",
   "execution_count": 50,
   "metadata": {},
   "outputs": [
    {
     "data": {
      "text/plain": [
       "''"
      ]
     },
     "execution_count": 50,
     "metadata": {},
     "output_type": "execute_result"
    }
   ],
   "source": [
    "get_extension(\"Modules\")"
   ]
  },
  {
   "cell_type": "code",
   "execution_count": 61,
   "metadata": {},
   "outputs": [
    {
     "data": {
      "text/plain": [
       "<pymongo.results.InsertOneResult at 0x1162a59e1c0>"
      ]
     },
     "execution_count": 61,
     "metadata": {},
     "output_type": "execute_result"
    }
   ],
   "source": [
    "# Task 1.3\n",
    "import pymongo\n",
    "\n",
    "client = pymongo.MongoClient(\"localhost\", 27017)\n",
    "client.drop_database(\"file_stats\")\n",
    "db = client.get_database(\"file_stats\")\n",
    "coll = db.get_collection(\"storage\")\n",
    "\n",
    "\n",
    "with open(\"TIER-1.csv\", \"r\") as f:\n",
    "    file_csv = csv.reader(f)\n",
    "    next(file_csv)\n",
    "    t1 = list(file_csv)\n",
    "\n",
    "file_names = [i[0] for i in t1]\n",
    "\n",
    "tier1 = {\"storage_tier\": 1, \"file_count\": len(t1), \"file_names\": file_names}\n",
    "\n",
    "ext = set()\n",
    "for i in t1:\n",
    "    ext.add(get_extension(i[0]))\n",
    "ext = list(ext)\n",
    "\n",
    "ext_count = {}\n",
    "\n",
    "for extention in ext:\n",
    "    ext_count[extention] = ' '.join(file_names).count(extention)\n",
    "tier1[\"file_types\"] = ext_count\n",
    "\n",
    "client['file_stats']['storage'].insert_one(tier1)\n",
    "\n",
    "###########################\n",
    "\n",
    "with open(\"TIER-2.csv\", \"r\") as f:\n",
    "    file_csv = csv.reader(f)\n",
    "    next(file_csv)\n",
    "    t2 = list(file_csv)\n",
    "\n",
    "file_names = [i[0] for i in t2]\n",
    "\n",
    "tier2 = {\"storage_tier\": 2, \"file_count\": len(t2), \"file_names\": file_names}\n",
    "\n",
    "ext = set()\n",
    "for i in t2:\n",
    "    ext.add(get_extension(i[0]))\n",
    "ext = list(ext)\n",
    "\n",
    "ext_count = {}\n",
    "\n",
    "for extention in ext:\n",
    "    ext_count[extention] = ' '.join(file_names).count(extention)\n",
    "tier1[\"file_types\"] = ext_count\n",
    "\n",
    "client['file_stats']['storage'].insert_one(tier2)\n",
    "\n",
    "##########################\n",
    "\n",
    "with open(\"TIER-3.csv\", \"r\") as f:\n",
    "    file_csv = csv.reader(f)\n",
    "    next(file_csv)\n",
    "    t3 = list(file_csv)\n",
    "\n",
    "\n",
    "file_names = [i[0] for i in t3]\n",
    "\n",
    "tier3 = {\"storage_tier\": 1, \"file_count\": len(t3), \"file_names\": file_names}\n",
    "\n",
    "ext = set()\n",
    "for i in t3:\n",
    "    ext.add(get_extension(i[0]))\n",
    "ext = list(ext)\n",
    "\n",
    "ext_count = {}\n",
    "\n",
    "for extention in ext:\n",
    "    ext_count[extention] = ' '.join(file_names).count(extention)\n",
    "tier1[\"file_types\"] = ext_count\n",
    "\n",
    "client['file_stats']['storage'].insert_one(tier3)"
   ]
  }
 ],
 "metadata": {
  "kernelspec": {
   "display_name": "Python 3",
   "language": "python",
   "name": "python3"
  },
  "language_info": {
   "codemirror_mode": {
    "name": "ipython",
    "version": 3
   },
   "file_extension": ".py",
   "mimetype": "text/x-python",
   "name": "python",
   "nbconvert_exporter": "python",
   "pygments_lexer": "ipython3",
   "version": "3.9.0"
  }
 },
 "nbformat": 4,
 "nbformat_minor": 4
}
