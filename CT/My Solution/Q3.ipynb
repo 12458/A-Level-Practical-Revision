{
 "cells": [
  {
   "cell_type": "code",
   "execution_count": 5,
   "metadata": {},
   "outputs": [],
   "source": [
    "# Task 3.1\n",
    "# Stack\n",
    "class Stack:\n",
    "    def __init__(self, size):\n",
    "        self.buffer = [None for _ in range(size)]\n",
    "        self.size = size\n",
    "        self.top = -1\n",
    "\n",
    "    def push(self, item):\n",
    "        if self.isFull():\n",
    "            return\n",
    "        self.top += 1\n",
    "        self.buffer[self.top] = item\n",
    "\n",
    "    def pop(self):\n",
    "        if self.isEmpty():\n",
    "            return\n",
    "        ret = self.buffer[self.top]\n",
    "        self.buffer[self.top] = None\n",
    "        self.top -= 1\n",
    "        return ret\n",
    "\n",
    "    def isEmpty(self):\n",
    "        return self.top == -1\n",
    "\n",
    "    def isFull(self):\n",
    "        return self.top == self.size - 1\n",
    "\n",
    "    def peek(self):\n",
    "        if self.isEmpty():\n",
    "            return\n",
    "        return self.buffer[self.top]"
   ]
  },
  {
   "cell_type": "code",
   "execution_count": 8,
   "metadata": {},
   "outputs": [],
   "source": [
    "def is_balanced(s):\n",
    "    stack = Stack(999)\n",
    "    open_list = [\"[\", \"{\", \"(\"]\n",
    "    close_list = [\"]\", \"}\", \")\"]\n",
    "    for i in s:\n",
    "        if i in open_list:\n",
    "            stack.push(i)\n",
    "        elif i in close_list:\n",
    "            pos = close_list.index(i)\n",
    "            if (not stack.isEmpty()) and (open_list[pos] == stack.peek()):\n",
    "                stack.pop()\n",
    "            else:\n",
    "                return False\n",
    "    if stack.isEmpty():\n",
    "        return True\n",
    "    else:\n",
    "        return False"
   ]
  },
  {
   "cell_type": "code",
   "execution_count": null,
   "metadata": {},
   "outputs": [],
   "source": [
    "# Task 3.3"
   ]
  },
  {
   "cell_type": "code",
   "execution_count": 14,
   "metadata": {},
   "outputs": [
    {
     "data": {
      "text/plain": [
       "True"
      ]
     },
     "execution_count": 14,
     "metadata": {},
     "output_type": "execute_result"
    }
   ],
   "source": [
    "is_balanced(\"([9-1]/2)+{3*7}\")"
   ]
  },
  {
   "cell_type": "code",
   "execution_count": 13,
   "metadata": {},
   "outputs": [
    {
     "data": {
      "text/plain": [
       "False"
      ]
     },
     "execution_count": 13,
     "metadata": {},
     "output_type": "execute_result"
    }
   ],
   "source": [
    "is_balanced(\"[(9-1)+{3*7}\")"
   ]
  },
  {
   "cell_type": "code",
   "execution_count": 15,
   "metadata": {},
   "outputs": [
    {
     "data": {
      "text/plain": [
       "False"
      ]
     },
     "execution_count": 15,
     "metadata": {},
     "output_type": "execute_result"
    }
   ],
   "source": [
    "is_balanced(\"[(9-1])+{3*7}\")"
   ]
  },
  {
   "cell_type": "code",
   "execution_count": 16,
   "metadata": {},
   "outputs": [
    {
     "data": {
      "text/plain": [
       "True"
      ]
     },
     "execution_count": 16,
     "metadata": {},
     "output_type": "execute_result"
    }
   ],
   "source": [
    "# Boundary case\n",
    "is_balanced(\"1\")"
   ]
  },
  {
   "cell_type": "code",
   "execution_count": 19,
   "metadata": {},
   "outputs": [
    {
     "data": {
      "text/plain": [
       "True"
      ]
     },
     "execution_count": 19,
     "metadata": {},
     "output_type": "execute_result"
    }
   ],
   "source": [
    "# Invalid Case\n",
    "is_balanced(\"🚗🚗🚗\")"
   ]
  }
 ],
 "metadata": {
  "kernelspec": {
   "display_name": "Python 3",
   "language": "python",
   "name": "python3"
  },
  "language_info": {
   "codemirror_mode": {
    "name": "ipython",
    "version": 3
   },
   "file_extension": ".py",
   "mimetype": "text/x-python",
   "name": "python",
   "nbconvert_exporter": "python",
   "pygments_lexer": "ipython3",
   "version": "3.9.0"
  }
 },
 "nbformat": 4,
 "nbformat_minor": 4
}
