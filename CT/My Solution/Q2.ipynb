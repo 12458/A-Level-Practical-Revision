{
 "cells": [
  {
   "cell_type": "code",
   "execution_count": null,
   "metadata": {},
   "outputs": [],
   "source": [
    "# Task 2.1\n",
    "class Max_Heap:\n",
    "    def __init__(self, n):\n",
    "        self.size = n\n",
    "        self.count = 0\n",
    "        self.tree = [Node(None) for _ in range(size)]\n",
    "        self.root = -1\n",
    "\n",
    "    def __str__(self):\n",
    "        return str(self.tree)\n",
    "\n",
    "    def insert(n):\n",
    "        if self.count >= self.size:\n",
    "            return\n",
    "        self.count += 1\n",
    "        if self.root == -1:\n",
    "            self.root = 0\n",
    "            self.tree[self.root] = n\n",
    "        \n",
    "\n",
    "    def get_max():\n",
    "        return self.tree[self.root]\n",
    "\n",
    "\n",
    "class Node:\n",
    "    def __init__(self, n, v):\n",
    "        self.name = n\n",
    "        self.value = v\n",
    "\n",
    "    def __str__(self):\n",
    "        return f\"{self.name}:{self.value}\""
   ]
  }
 ],
 "metadata": {
  "kernelspec": {
   "display_name": "Python 3",
   "language": "python",
   "name": "python3"
  },
  "language_info": {
   "codemirror_mode": {
    "name": "ipython",
    "version": 3
   },
   "file_extension": ".py",
   "mimetype": "text/x-python",
   "name": "python",
   "nbconvert_exporter": "python",
   "pygments_lexer": "ipython3",
   "version": "3.9.0"
  }
 },
 "nbformat": 4,
 "nbformat_minor": 4
}
