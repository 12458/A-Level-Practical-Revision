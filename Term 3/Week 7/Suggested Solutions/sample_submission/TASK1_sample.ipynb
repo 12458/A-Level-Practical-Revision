{
 "cells": [
  {
   "cell_type": "code",
   "execution_count": 1,
   "metadata": {},
   "outputs": [],
   "source": [
    "# Task 1.1\n",
    "\n",
    "def task1_1(in_array):\n",
    "    '''\n",
    "    takes an input array in_array\n",
    "    counts the number of elements in the array\n",
    "    returns a dict containing counts of each unique element\n",
    "    '''\n",
    "    count = {}\n",
    "    for el in in_array:\n",
    "        if el in count:\n",
    "            count[el] += 1\n",
    "        else:\n",
    "            count[el] = 1\n",
    "    return count"
   ]
  },
  {
   "cell_type": "code",
   "execution_count": 3,
   "metadata": {},
   "outputs": [
    {
     "name": "stdout",
     "output_type": "stream",
     "text": [
      "{'Alice': 4, 'Bob': 3, 'Charlie': 2}\n",
      "{'1': 4, '6': 3, '10': 1, '2': 2, '9': 2}\n",
      "{'Yes': 5, 'No': 5}\n"
     ]
    }
   ],
   "source": [
    "print(task1_1([\"Alice\", \"Bob\", \"Alice\", \"Charlie\", \"Bob\", \"Bob\", \"Alice\", \"Charlie\", \"Alice\"]))\n",
    "print(task1_1([\"1\", \"6\", \"10\", \"6\", \"2\", \"1\", \"9\", \"1\", \"6\", \"9\", \"1\", \"2\"]))\n",
    "print(task1_1([\"Yes\", \"Yes\", \"No\", \"Yes\", \"No\", \"No\", \"No\", \"Yes\", \"No\", \"Yes\"]))"
   ]
  },
  {
   "cell_type": "code",
   "execution_count": 4,
   "metadata": {},
   "outputs": [],
   "source": [
    "# Task 1.2\n",
    "\n",
    "def task1_2(sentence):\n",
    "    '''\n",
    "    takes in a sentence in English\n",
    "    removes all punctuation\n",
    "    splits the sentence into words\n",
    "    returns a dictionary containing a count of each unique word\n",
    "    '''\n",
    "    for symbol in \",.;:!?\":\n",
    "        sentence = sentence.replace(symbol, \"\")\n",
    "    words = sentence.split(\" \")\n",
    "    return task1_1(words)"
   ]
  },
  {
   "cell_type": "code",
   "execution_count": 5,
   "metadata": {},
   "outputs": [
    {
     "data": {
      "text/plain": [
       "{'All': 1,\n",
       " 'tasks': 1,\n",
       " 'must': 1,\n",
       " 'be': 1,\n",
       " 'done': 1,\n",
       " 'in': 3,\n",
       " 'the': 1,\n",
       " 'computer': 1,\n",
       " 'laboratory': 1,\n",
       " 'You': 1,\n",
       " 'are': 1,\n",
       " 'not': 1,\n",
       " 'allowed': 1,\n",
       " 'to': 1,\n",
       " 'bring': 1,\n",
       " 'or': 4,\n",
       " 'take': 1,\n",
       " 'out': 1,\n",
       " 'any': 2,\n",
       " 'pieces': 1,\n",
       " 'of': 1,\n",
       " 'work': 1,\n",
       " 'materials': 1,\n",
       " 'on': 1,\n",
       " 'paper': 1,\n",
       " 'electronic': 1,\n",
       " 'media': 1,\n",
       " 'other': 1,\n",
       " 'form': 1}"
      ]
     },
     "execution_count": 5,
     "metadata": {},
     "output_type": "execute_result"
    }
   ],
   "source": [
    "task1_2(\"All tasks must be done in the computer laboratory. You are not allowed to bring in or take out any pieces of work or materials on paper or electronic media or in any other form.\")"
   ]
  }
 ],
 "metadata": {
  "kernelspec": {
   "display_name": "Python 3 (ipykernel)",
   "language": "python",
   "name": "python3"
  },
  "language_info": {
   "codemirror_mode": {
    "name": "ipython",
    "version": 3
   },
   "file_extension": ".py",
   "mimetype": "text/x-python",
   "name": "python",
   "nbconvert_exporter": "python",
   "pygments_lexer": "ipython3",
   "version": "3.9.5"
  }
 },
 "nbformat": 4,
 "nbformat_minor": 4
}
