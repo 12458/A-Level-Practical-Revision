{
 "cells": [
  {
   "cell_type": "code",
   "execution_count": 4,
   "metadata": {},
   "outputs": [],
   "source": [
    "# Task 2.1\n",
    "\n",
    "def task2_1(list_of_integers):\n",
    "    '''\n",
    "    takes a list of integers\n",
    "    returns the list sorted in descnding order using insertion sort\n",
    "    '''\n",
    "    # take left side as sorted\n",
    "    for i in range(1, len(list_of_integers)):\n",
    "        target = list_of_integers[i]\n",
    "        inserted = False\n",
    "        for j in range(0, i):\n",
    "            if not inserted and target > list_of_integers[j]:\n",
    "                el = list_of_integers.pop(i)\n",
    "                list_of_integers.insert(j, el)\n",
    "                inserted = True\n",
    "            # at end of loop, if no insertion has occurred,\n",
    "            # it means target is the largest element so far.\n",
    "            # No moving needs to be done\n",
    "    return list_of_integers"
   ]
  },
  {
   "cell_type": "code",
   "execution_count": 5,
   "metadata": {},
   "outputs": [
    {
     "name": "stdout",
     "output_type": "stream",
     "text": [
      "[5000, 1000, 500, 200, 100, 50, 20, 10, 5]\n"
     ]
    }
   ],
   "source": [
    "print(task2_1([50, 10, 1000, 200, 500, 5000, 5, 100, 20]))"
   ]
  },
  {
   "cell_type": "code",
   "execution_count": 14,
   "metadata": {},
   "outputs": [],
   "source": [
    "# Task 2.2\n",
    "\n",
    "denom = [5000, 1000, 500, 200, 100, 50, 20, 10, 5]\n",
    "\n",
    "def task2_2(amt, denom):\n",
    "    '''\n",
    "    Takes in an integer `amt` representing amount of money\n",
    "    in cents, and array of allowed denominations `denom`.\n",
    "    Returns an array of denominations that make up the amount.\n",
    "    '''\n",
    "    tray = []\n",
    "    j = 0\n",
    "    while amt > 0 and j < len(denom):\n",
    "        if amt >= denom[j]:\n",
    "            tray.append(denom[j])\n",
    "            amt = amt - denom[j]\n",
    "        else:\n",
    "            j = j + 1\n",
    "    return tray"
   ]
  },
  {
   "cell_type": "code",
   "execution_count": 15,
   "metadata": {},
   "outputs": [
    {
     "name": "stdout",
     "output_type": "stream",
     "text": [
      "[500, 200, 100, 20, 20, 5]\n",
      "[5000, 1000, 1000, 500, 200, 100, 20, 20]\n",
      "[200, 20, 10]\n"
     ]
    }
   ],
   "source": [
    "print(task2_2(845, denom))\n",
    "print(task2_2(7840, denom))\n",
    "print(task2_2(230, denom))"
   ]
  }
 ],
 "metadata": {
  "kernelspec": {
   "display_name": "Python 3 (ipykernel)",
   "language": "python",
   "name": "python3"
  },
  "language_info": {
   "codemirror_mode": {
    "name": "ipython",
    "version": 3
   },
   "file_extension": ".py",
   "mimetype": "text/x-python",
   "name": "python",
   "nbconvert_exporter": "python",
   "pygments_lexer": "ipython3",
   "version": "3.9.5"
  }
 },
 "nbformat": 4,
 "nbformat_minor": 4
}
