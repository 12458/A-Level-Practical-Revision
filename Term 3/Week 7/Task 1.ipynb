{
 "cells": [
  {
   "cell_type": "markdown",
   "id": "03fd2907-6057-4080-a4a1-8f325e8c7c56",
   "metadata": {},
   "source": [
    "`testvalues.txt`\n",
    "---\n",
    "```\n",
    "Task 1.1\n",
    "\n",
    "[\"Alice\", \"Bob\", \"Alice\", \"Charlie\", \"Bob\", \"Bob\", \"Alice\", \"Charlie\", \"Alice\"]\n",
    "[\"1\", \"6\", \"10\", \"6\", \"2\", \"1\", \"9\", \"1\", \"6\", \"9\", \"1\", \"2\"]\n",
    "[\"Yes\", \"Yes\", \"No\", \"Yes\", \"No\", \"No\", \"No\", \"Yes\", \"No\", \"Yes\"]\n",
    "\n",
    "Task 1.2\n",
    "\n",
    "\"All tasks must be done in the computer laboratory. You are not allowed to bring in or take out any pieces of work or materials on paper or electronic media or in any other form.\"\n",
    "```"
   ]
  },
  {
   "cell_type": "code",
   "execution_count": 8,
   "id": "1a822e09-9fef-4bac-b9f9-0ce673a0b1da",
   "metadata": {},
   "outputs": [],
   "source": [
    "# Task 1.1\n",
    "def task1_1(in_array):\n",
    "    uni_in_array = list(set(in_array))\n",
    "    freq_in_array = {}\n",
    "    for i in uni_in_array:\n",
    "        freq_in_array[i] = in_array.count(i)\n",
    "    return freq_in_array"
   ]
  },
  {
   "cell_type": "code",
   "execution_count": 9,
   "id": "804af2a9-f51b-42f2-bf39-b239f5d7bda8",
   "metadata": {},
   "outputs": [
    {
     "name": "stdout",
     "output_type": "stream",
     "text": [
      "{'Alice': 4, 'Charlie': 2, 'Bob': 3}\n"
     ]
    }
   ],
   "source": [
    "task1_1([\"Alice\", \"Bob\", \"Alice\", \"Charlie\", \"Bob\", \"Bob\", \"Alice\", \"Charlie\", \"Alice\"])"
   ]
  },
  {
   "cell_type": "code",
   "execution_count": 10,
   "id": "91ad3735-4dc0-4769-850b-bae98ecacc13",
   "metadata": {},
   "outputs": [
    {
     "name": "stdout",
     "output_type": "stream",
     "text": [
      "{'1': 4, '9': 2, '2': 2, '10': 1, '6': 3}\n"
     ]
    }
   ],
   "source": [
    "task1_1([\"1\", \"6\", \"10\", \"6\", \"2\", \"1\", \"9\", \"1\", \"6\", \"9\", \"1\", \"2\"])"
   ]
  },
  {
   "cell_type": "code",
   "execution_count": 11,
   "id": "7838d9cf-71d3-45f4-aaba-a8a7b1b49df5",
   "metadata": {},
   "outputs": [
    {
     "name": "stdout",
     "output_type": "stream",
     "text": [
      "{'No': 5, 'Yes': 5}\n"
     ]
    }
   ],
   "source": [
    "task1_1([\"Yes\", \"Yes\", \"No\", \"Yes\", \"No\", \"No\", \"No\", \"Yes\", \"No\", \"Yes\"])"
   ]
  },
  {
   "cell_type": "code",
   "execution_count": 14,
   "id": "74e4acc3-0d85-41ad-bc53-54999743a75d",
   "metadata": {},
   "outputs": [],
   "source": [
    "# Task 1.2\n",
    "def task1_2(sentence):\n",
    "    sentence = sentence.lower()\n",
    "    sentence = sentence.replace('.', '').replace(',', '').replace('\"', '').replace(\"'\", '').replace(';', '').replace(':', '').strip()\n",
    "    sentence = sentence.split(' ')\n",
    "    return task1_1(sentence)"
   ]
  },
  {
   "cell_type": "code",
   "execution_count": 15,
   "id": "c1d9742b-0269-445f-acf5-ee07493df6ae",
   "metadata": {},
   "outputs": [
    {
     "name": "stdout",
     "output_type": "stream",
     "text": [
      "{'paper': 1, 'the': 1, 'laboratory': 1, 'done': 1, 'are': 1, 'allowed': 1, 'must': 1, 'to': 1, 'tasks': 1, 'pieces': 1, 'on': 1, 'or': 4, 'in': 3, 'computer': 1, 'form': 1, 'You': 1, 'All': 1, 'work': 1, 'not': 1, 'materials': 1, 'take': 1, 'media': 1, 'be': 1, 'electronic': 1, 'other': 1, 'any': 2, 'of': 1, 'out': 1, 'bring': 1}\n"
     ]
    }
   ],
   "source": [
    "task1_2('All tasks must be done in the computer laboratory. You are not allowed to bring in or take out any pieces of work or materials on paper or electronic media or in any other form.')"
   ]
  }
 ],
 "metadata": {
  "kernelspec": {
   "display_name": "Python 3 (ipykernel)",
   "language": "python",
   "name": "python3"
  },
  "language_info": {
   "codemirror_mode": {
    "name": "ipython",
    "version": 3
   },
   "file_extension": ".py",
   "mimetype": "text/x-python",
   "name": "python",
   "nbconvert_exporter": "python",
   "pygments_lexer": "ipython3",
   "version": "3.9.5"
  }
 },
 "nbformat": 4,
 "nbformat_minor": 5
}
