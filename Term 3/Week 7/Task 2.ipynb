{
 "cells": [
  {
   "cell_type": "code",
   "execution_count": 1,
   "id": "79c7223b-e7bb-4fc0-bdae-79204813ca60",
   "metadata": {},
   "outputs": [],
   "source": [
    "# Task 2.1\n",
    "def task2_1(list_of_integers):\n",
    "    for i in range(1, len(list_of_integers)):\n",
    "        key = list_of_integers[i]\n",
    "        j = i - 1\n",
    "        while j >= 0 and list_of_integers[j] < key:\n",
    "            list_of_integers[j + 1] = list_of_integers[j]\n",
    "            j -= 1\n",
    "        list_of_integers[j + 1] = key\n",
    "    return list_of_integers\n"
   ]
  },
  {
   "cell_type": "code",
   "execution_count": 2,
   "id": "7665ae9e-2bbf-43e1-998e-355f2d44fa72",
   "metadata": {},
   "outputs": [
    {
     "data": {
      "text/plain": [
       "[5000, 1000, 500, 200, 100, 50, 20, 10, 5]"
      ]
     },
     "execution_count": 2,
     "metadata": {},
     "output_type": "execute_result"
    }
   ],
   "source": [
    "task2_1([50, 10, 1000, 200, 500, 5000, 5, 100, 20])"
   ]
  },
  {
   "cell_type": "code",
   "execution_count": 21,
   "id": "994b80e8-0298-4896-be60-deb3577e4c66",
   "metadata": {},
   "outputs": [],
   "source": [
    "# Task 2.2\n",
    "def GetChange(amt:int, denom:list):\n",
    "    tray = []\n",
    "    i = 0\n",
    "    j = 0\n",
    "    while amt > 0 and j < len(denom):\n",
    "        #print(amt)\n",
    "        if amt >= denom[j]:\n",
    "            tray.append(denom[j])\n",
    "            #print(tray)\n",
    "            amt = amt - denom[j]\n",
    "            i = i + 1\n",
    "        else:\n",
    "            j = j + 1\n",
    "    return tray"
   ]
  },
  {
   "cell_type": "code",
   "execution_count": 22,
   "id": "072665b4-0c1d-4a88-a24e-6c6786f9f172",
   "metadata": {},
   "outputs": [
    {
     "data": {
      "text/plain": [
       "[500, 200, 100, 20, 20, 5]"
      ]
     },
     "execution_count": 22,
     "metadata": {},
     "output_type": "execute_result"
    }
   ],
   "source": [
    "GetChange(845, [5000,1000,500,200,100,50,20,10,5])"
   ]
  },
  {
   "cell_type": "code",
   "execution_count": 23,
   "id": "f4626d55-44dc-4f8d-8b84-15f564307498",
   "metadata": {},
   "outputs": [
    {
     "data": {
      "text/plain": [
       "[5000, 1000, 1000, 500, 200, 100, 20, 20]"
      ]
     },
     "execution_count": 23,
     "metadata": {},
     "output_type": "execute_result"
    }
   ],
   "source": [
    "GetChange(7840, [5000,1000,500,200,100,50,20,10,5])"
   ]
  },
  {
   "cell_type": "code",
   "execution_count": 24,
   "id": "28a7bce5-597d-4318-939c-0ddf90c983f3",
   "metadata": {},
   "outputs": [
    {
     "data": {
      "text/plain": [
       "[200, 20, 10]"
      ]
     },
     "execution_count": 24,
     "metadata": {},
     "output_type": "execute_result"
    }
   ],
   "source": [
    "GetChange(230, [5000,1000,500,200,100,50,20,10,5])"
   ]
  }
 ],
 "metadata": {
  "kernelspec": {
   "display_name": "Python 3 (ipykernel)",
   "language": "python",
   "name": "python3"
  },
  "language_info": {
   "codemirror_mode": {
    "name": "ipython",
    "version": 3
   },
   "file_extension": ".py",
   "mimetype": "text/x-python",
   "name": "python",
   "nbconvert_exporter": "python",
   "pygments_lexer": "ipython3",
   "version": "3.9.5"
  }
 },
 "nbformat": 4,
 "nbformat_minor": 5
}
