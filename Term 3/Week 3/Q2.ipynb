{
 "cells": [
  {
   "cell_type": "markdown",
   "id": "6e7ac91a-fc01-4da1-b67b-2758bf964071",
   "metadata": {},
   "source": [
    "```\n",
    "Exercise 14.8 2018/A Level/P1/Q4 H2 Computing\n",
    "In a computer game, a player (\"O\") moves around a maze measuring 10 metres by 11 metres to collect a prize (\"P\"). The prize is placed at a random position within the maze. The prize position is not where a wall (”X”) appears in the maze. An empty position is indicated with a full-stop (\".\"). The maze is represented on the screen by a rectangular grid. Each square metre of the maze is represented by an xx-ooordinate and a yy-coordinate. The top left square metre of the puzzle display has x=0x=0 and y=0y=0.\n",
    "\n",
    "The player moves left, right, up or down according to a direction entered by the user. The game is turn-based; a user enters the direction, their player moves one position in that direction. It the direction would place the player on a wall, then the player does not move. The maze is displayed after each move.\n",
    "```\n",
    "\n",
    "```\n",
    "X X X X X X X X X X\n",
    "X . . . . . . . . X\n",
    "X . X . X . X X . X\n",
    "X . X . . P . . . X\n",
    "X . X X X X X X . X\n",
    "X . . . O . . . . X\n",
    "X . X . X X . X . X\n",
    "X . X . . . . X . X\n",
    "X . X X . X X X . X\n",
    "X . . . . . . . . X\n",
    "X X X X X X X X X X \n",
    "```"
   ]
  },
  {
   "cell_type": "code",
   "execution_count": 29,
   "id": "291a65f3-a498-4275-bca5-38c6381b3e13",
   "metadata": {},
   "outputs": [],
   "source": [
    "# Task 1\n",
    "# Write a program to display the maze as shown.\n",
    "# The maze should be stored in a suitable data structure.\n",
    "# The data structure will allow fixed loop(s) to be used to display the maze.\n",
    "# The maze is given in the text file MAZE.TXT under resources. \n",
    "# You may read in the data from this file or place the data in your program using any suitable method.\n",
    "\n",
    "class Maze():\n",
    "    def __init__(self):\n",
    "        with open('MAZE.TXT') as f:\n",
    "            maze = f.read()\n",
    "        self.maze = [list(i) for i in maze.split('\\n')]\n",
    "        import random\n",
    "        self.size = (10, 11)\n",
    "        while True:\n",
    "            self.prize = [random.randint(0,self.size[0]-1), random.randint(0,self.size[1]-1)]\n",
    "            if self.maze[self.prize[1]][self.prize[0]] == '.':\n",
    "                self.maze[self.prize[1]][self.prize[0]] = 'P'\n",
    "                break\n",
    "        self.player = [(self.size[0]) // 2, (self.size[1]) // 2]\n",
    "        self.maze[self.player[1]][self.player[0]] = 'O'\n",
    "        \n",
    "    \n",
    "    def validate_move(self, direction, new_pos):\n",
    "        if 0 <= new_pos[0] <= self.size[0] - 1 and 0 <= new_pos[1] <= self.size[1] - 1:\n",
    "            if self.maze[new_pos[1]][new_pos[0]] != 'X':\n",
    "                return True\n",
    "        return False\n",
    "    \n",
    "    def move(self):\n",
    "        old_pos = self.player[:]\n",
    "        direction = input('MOVE | [W/A/S/D]> ')\n",
    "        if direction == 'W':\n",
    "            if self.validate_move(direction, (self.player[0], self.player[1]-1)):\n",
    "                self.player[1] -= 1\n",
    "        elif direction == 'A':\n",
    "            if self.validate_move(direction, (self.player[0]-1, self.player[1])):\n",
    "                self.player[0] -= 1\n",
    "        elif direction == 'S':\n",
    "            if self.validate_move(direction, (self.player[0], self.player[1]+1)):\n",
    "                self.player[1] += 1\n",
    "        else:\n",
    "            if self.validate_move(direction, (self.player[0]+1, self.player[1])):\n",
    "                self.player[0] += 1\n",
    "        if not self.end_game():\n",
    "            self.update(old_pos)\n",
    "            return True\n",
    "        else:\n",
    "            return False\n",
    "    \n",
    "    def update(self, old_pos):\n",
    "        self.maze[old_pos[1]][old_pos[0]],self.maze[self.player[1]][self.player[0]]=self.maze[self.player[1]][self.player[0]],self.maze[old_pos[1]][old_pos[0]]\n",
    "    \n",
    "    def render(self):\n",
    "        print('\\n'.join([' '.join(i) for i in self.maze]))\n",
    "    \n",
    "    def end_game(self):\n",
    "        if self.player == self.prize:\n",
    "            return True\n",
    "        return False\n",
    "        \n",
    "    def game_loop(self):\n",
    "        self.render()\n",
    "        while True:\n",
    "            if self.move():\n",
    "                self.render()\n",
    "            else:\n",
    "                print('Player has reached the prize')\n",
    "                break\n",
    "        "
   ]
  },
  {
   "cell_type": "code",
   "execution_count": 30,
   "id": "bb96eef0-58bd-4143-b678-b5d951c19cbf",
   "metadata": {},
   "outputs": [
    {
     "name": "stdout",
     "output_type": "stream",
     "text": [
      "X X X X X X X X X X\n",
      "X . . . . . . . . X\n",
      "X . X . X . X X . X\n",
      "X . X . . P . . . X\n",
      "X . X X X X X X . X\n",
      "X . . . . O . . . X\n",
      "X . X . X X . X . X\n",
      "X . X . . . . X . X\n",
      "X . X X . X X X . X\n",
      "X . . . . . . . . X\n",
      "X X X X X X X X X X\n"
     ]
    },
    {
     "name": "stdin",
     "output_type": "stream",
     "text": [
      "MOVE | [W/A/S/D]>  D\n"
     ]
    },
    {
     "name": "stdout",
     "output_type": "stream",
     "text": [
      "X X X X X X X X X X\n",
      "X . . . . . . . . X\n",
      "X . X . X . X X . X\n",
      "X . X . . P . . . X\n",
      "X . X X X X X X . X\n",
      "X . . . . . O . . X\n",
      "X . X . X X . X . X\n",
      "X . X . . . . X . X\n",
      "X . X X . X X X . X\n",
      "X . . . . . . . . X\n",
      "X X X X X X X X X X\n"
     ]
    },
    {
     "name": "stdin",
     "output_type": "stream",
     "text": [
      "MOVE | [W/A/S/D]>  D\n"
     ]
    },
    {
     "name": "stdout",
     "output_type": "stream",
     "text": [
      "X X X X X X X X X X\n",
      "X . . . . . . . . X\n",
      "X . X . X . X X . X\n",
      "X . X . . P . . . X\n",
      "X . X X X X X X . X\n",
      "X . . . . . . O . X\n",
      "X . X . X X . X . X\n",
      "X . X . . . . X . X\n",
      "X . X X . X X X . X\n",
      "X . . . . . . . . X\n",
      "X X X X X X X X X X\n"
     ]
    },
    {
     "name": "stdin",
     "output_type": "stream",
     "text": [
      "MOVE | [W/A/S/D]>  D\n"
     ]
    },
    {
     "name": "stdout",
     "output_type": "stream",
     "text": [
      "X X X X X X X X X X\n",
      "X . . . . . . . . X\n",
      "X . X . X . X X . X\n",
      "X . X . . P . . . X\n",
      "X . X X X X X X . X\n",
      "X . . . . . . . O X\n",
      "X . X . X X . X . X\n",
      "X . X . . . . X . X\n",
      "X . X X . X X X . X\n",
      "X . . . . . . . . X\n",
      "X X X X X X X X X X\n"
     ]
    },
    {
     "name": "stdin",
     "output_type": "stream",
     "text": [
      "MOVE | [W/A/S/D]>  W\n"
     ]
    },
    {
     "name": "stdout",
     "output_type": "stream",
     "text": [
      "X X X X X X X X X X\n",
      "X . . . . . . . . X\n",
      "X . X . X . X X . X\n",
      "X . X . . P . . . X\n",
      "X . X X X X X X O X\n",
      "X . . . . . . . . X\n",
      "X . X . X X . X . X\n",
      "X . X . . . . X . X\n",
      "X . X X . X X X . X\n",
      "X . . . . . . . . X\n",
      "X X X X X X X X X X\n"
     ]
    },
    {
     "name": "stdin",
     "output_type": "stream",
     "text": [
      "MOVE | [W/A/S/D]>  W\n"
     ]
    },
    {
     "name": "stdout",
     "output_type": "stream",
     "text": [
      "X X X X X X X X X X\n",
      "X . . . . . . . . X\n",
      "X . X . X . X X . X\n",
      "X . X . . P . . O X\n",
      "X . X X X X X X . X\n",
      "X . . . . . . . . X\n",
      "X . X . X X . X . X\n",
      "X . X . . . . X . X\n",
      "X . X X . X X X . X\n",
      "X . . . . . . . . X\n",
      "X X X X X X X X X X\n"
     ]
    },
    {
     "name": "stdin",
     "output_type": "stream",
     "text": [
      "MOVE | [W/A/S/D]>  A\n"
     ]
    },
    {
     "name": "stdout",
     "output_type": "stream",
     "text": [
      "X X X X X X X X X X\n",
      "X . . . . . . . . X\n",
      "X . X . X . X X . X\n",
      "X . X . . P . O . X\n",
      "X . X X X X X X . X\n",
      "X . . . . . . . . X\n",
      "X . X . X X . X . X\n",
      "X . X . . . . X . X\n",
      "X . X X . X X X . X\n",
      "X . . . . . . . . X\n",
      "X X X X X X X X X X\n"
     ]
    },
    {
     "name": "stdin",
     "output_type": "stream",
     "text": [
      "MOVE | [W/A/S/D]>  A\n"
     ]
    },
    {
     "name": "stdout",
     "output_type": "stream",
     "text": [
      "X X X X X X X X X X\n",
      "X . . . . . . . . X\n",
      "X . X . X . X X . X\n",
      "X . X . . P O . . X\n",
      "X . X X X X X X . X\n",
      "X . . . . . . . . X\n",
      "X . X . X X . X . X\n",
      "X . X . . . . X . X\n",
      "X . X X . X X X . X\n",
      "X . . . . . . . . X\n",
      "X X X X X X X X X X\n"
     ]
    },
    {
     "name": "stdin",
     "output_type": "stream",
     "text": [
      "MOVE | [W/A/S/D]>  A\n"
     ]
    },
    {
     "name": "stdout",
     "output_type": "stream",
     "text": [
      "Player has reached the prize\n"
     ]
    }
   ],
   "source": [
    "m = Maze()\n",
    "m.game_loop()"
   ]
  },
  {
   "cell_type": "markdown",
   "id": "0336a706-5517-49af-b597-63a28e599b05",
   "metadata": {},
   "source": [
    "```\n",
    "Task 2\n",
    "The prize is placed randomly on the maze. It cannot appear in the same grid position as a wall (\"X\"). Add to your program code to place the prize at a random position. Take a screenshot of the maze with the prize displayed in it.\n",
    "\n",
    "[5]\n",
    "The player is represented by the character \"0\". The character starts the game in a central position on the grid. for example, x = 4 and y = 5. To move the character, the user is prompted for a direction. The following are valid inputs:\n",
    "\n",
    "If the next position for the player (\"O\") is a wall (\"X\"), then the player stays in their current position; this is called collision detection.\n",
    "\n",
    "When the player enters the move, a new position for the player (\"0\") is calculated and the maze is displayed. The previous position is changed back to a ”.\" when the player has a new position. The moves are repeated until the player is at the same position as the prize.\n",
    "```"
   ]
  },
  {
   "cell_type": "markdown",
   "id": "e8e2819d-8d9d-48a4-9b96-bfb4bcf9b3a0",
   "metadata": {},
   "source": [
    "```\n",
    "Task 3\n",
    "Add to your program code to:\n",
    "\n",
    "place the player on the grid at a central position on the grid\n",
    "take in and validate a direction\n",
    "calculate a new position\n",
    "check this position is not a wall\n",
    "update the grid so that the previous position of \"O\" is replaced with a \".\" and \"O\" is located in its new position\n",
    "continue this until the player is at the same position as the prize.\n",
    "[16]\n",
    "When the player and the prize are at the same position. the message “Player has reached the prize\" is displayed and the game ends.\n",
    "```"
   ]
  },
  {
   "cell_type": "markdown",
   "id": "94527a4c-223e-4c39-9854-847a81d2cfdf",
   "metadata": {},
   "source": [
    "```\n",
    "Task 4\n",
    "Add to your program, code to end the game when this condition is met, and display the required message. Produce screenshots to show key elements of your program are functioning.\n",
    "\n",
    "The screenshots required are:\n",
    "\n",
    "entering each direction\n",
    "player changing position\n",
    "end of game\n",
    "[3]\n",
    "```"
   ]
  }
 ],
 "metadata": {
  "kernelspec": {
   "display_name": "Python 3 (ipykernel)",
   "language": "python",
   "name": "python3"
  },
  "language_info": {
   "codemirror_mode": {
    "name": "ipython",
    "version": 3
   },
   "file_extension": ".py",
   "mimetype": "text/x-python",
   "name": "python",
   "nbconvert_exporter": "python",
   "pygments_lexer": "ipython3",
   "version": "3.9.5"
  }
 },
 "nbformat": 4,
 "nbformat_minor": 5
}
