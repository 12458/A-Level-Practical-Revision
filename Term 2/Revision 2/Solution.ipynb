{
 "cells": [
  {
   "cell_type": "code",
   "execution_count": 1,
   "id": "84f3ba0b-5833-4279-83f2-3e4a1624a8cd",
   "metadata": {},
   "outputs": [],
   "source": [
    "# Task 1.1\n",
    "def hex2Str(data):\n",
    "    def kTo10(k,base):\n",
    "        import string\n",
    "        mapping = string.digits + string.ascii_lowercase\n",
    "        sum = 0\n",
    "        for i in range(len(k)):\n",
    "            sum += mapping.index(k[i].lower()) * base ** ((len(k) - 1) - i)\n",
    "        return sum\n",
    "    return chr(kTo10(data,16))"
   ]
  },
  {
   "cell_type": "code",
   "execution_count": 2,
   "id": "89fc3e6e-b272-4042-bdcc-3c3ef7ba6018",
   "metadata": {},
   "outputs": [],
   "source": [
    "# Task 1.2\n",
    "lines = []\n",
    "with open(\"ITEMS.TXT\") as f:\n",
    "    for line in f:\n",
    "        tmp = line.strip().split(\" \")\n",
    "        tmp = [hex2Str(i) for i in tmp]\n",
    "        tmp = ''.join(tmp)\n",
    "        lines.append(tmp)\n",
    "with open(\"ITEMS_NEW.TXT\",\"w\") as f:\n",
    "    f.write('\\n'.join(lines))"
   ]
  },
  {
   "cell_type": "code",
   "execution_count": 3,
   "id": "177061ed-58d6-403e-b3f9-62edcb26aa84",
   "metadata": {},
   "outputs": [],
   "source": [
    "# Task 1.3\n",
    "def mergeSort(items):\n",
    "    def merge(A, B):\n",
    "        # A and B are sorted lists\n",
    "        ret = []\n",
    "        while len(A) and len(B):\n",
    "            if A[0][0] < B[0][0]:\n",
    "                ret.append(A[0])\n",
    "                A.pop(0)\n",
    "            else:\n",
    "                ret.append(B[0])\n",
    "                B.pop(0)\n",
    "        if len(A) == 0:\n",
    "            ret += B\n",
    "        else:\n",
    "            ret += A\n",
    "        return ret\n",
    "    def merge_sort(A):\n",
    "        mid = len(A) //2\n",
    "        lower = A[:mid]\n",
    "        upper = A[mid:]\n",
    "        if len(A) <= 1:\n",
    "            return A\n",
    "        return merge(merge_sort(lower), merge_sort(upper))\n",
    "    \n",
    "    lines_split = []\n",
    "    for idx,i in enumerate(items):\n",
    "        tmp = i.split(\",\")\n",
    "        tmp[0] = int(tmp[0])\n",
    "        lines_split.append(tmp)\n",
    "    return merge_sort(lines_split)"
   ]
  },
  {
   "cell_type": "code",
   "execution_count": 4,
   "id": "66637de0-28e9-46fb-bd74-d4f307b742fe",
   "metadata": {},
   "outputs": [],
   "source": [
    "# Task 1.4\n",
    "lines = []\n",
    "with open(\"CHARACTERS.TXT\") as f:\n",
    "    for line in f:\n",
    "        tmp = line.strip().split(\" \")\n",
    "        tmp = [hex2Str(i) for i in tmp]\n",
    "        tmp = ''.join(tmp)\n",
    "        lines.append(tmp)\n",
    "for idx,i in enumerate(lines):\n",
    "    tmp = i.split(\",\")\n",
    "    lines[idx] = tmp\n",
    "for i in range(0, len(lines), 2):\n",
    "    lines[i] = lines[i] + [str(lines[i+1])]\n",
    "    lines[i+1] = None\n",
    "lines = [i for i in lines if i != None]\n",
    "lines = [','.join(i) for i in lines]\n",
    "with open('Instructions_unclear.txt','w') as f:\n",
    "    f.write('\\n'.join(lines))"
   ]
  },
  {
   "cell_type": "code",
   "execution_count": 5,
   "id": "0e12a5d0-64c4-4ab3-8f9a-9ecf518b836d",
   "metadata": {},
   "outputs": [
    {
     "name": "stdin",
     "output_type": "stream",
     "text": [
      "CHARACTER NAME>  Aragon\n"
     ]
    },
    {
     "name": "stdout",
     "output_type": "stream",
     "text": [
      "\n",
      "=======================================\n",
      "<CLASS NAME>: Ranger\n",
      "<STR>: 20\n",
      "<DEX>: 25\n",
      "<INT>: 20\n",
      "<CURRENT XP>: 76525\n",
      "========================================\n",
      "Items:\n",
      "\n",
      "+4 SWORD\n",
      "+2 BOW\n",
      "+2 CHAIN\n",
      "TORCHES\n",
      "KEYS\n",
      "FOOD\n",
      "HORSE\n"
     ]
    },
    {
     "ename": "KeyboardInterrupt",
     "evalue": "Interrupted by user",
     "output_type": "error",
     "traceback": [
      "\u001b[1;31m---------------------------------------------------------------------------\u001b[0m",
      "\u001b[1;31mKeyboardInterrupt\u001b[0m                         Traceback (most recent call last)",
      "\u001b[1;32m~\\AppData\\Local\\Temp/ipykernel_18632/984983145.py\u001b[0m in \u001b[0;36m<module>\u001b[1;34m\u001b[0m\n\u001b[0;32m      3\u001b[0m \u001b[1;31m##This program should repeatedly loop until some exit character or string is input\u001b[0m\u001b[1;33m\u001b[0m\u001b[1;33m\u001b[0m\u001b[1;33m\u001b[0m\u001b[0m\n\u001b[0;32m      4\u001b[0m \u001b[1;32mwhile\u001b[0m \u001b[1;32mTrue\u001b[0m\u001b[1;33m:\u001b[0m\u001b[1;33m\u001b[0m\u001b[1;33m\u001b[0m\u001b[0m\n\u001b[1;32m----> 5\u001b[1;33m     \u001b[0mcharacter_name\u001b[0m \u001b[1;33m=\u001b[0m \u001b[0minput\u001b[0m\u001b[1;33m(\u001b[0m\u001b[1;34m'CHARACTER NAME> '\u001b[0m\u001b[1;33m)\u001b[0m\u001b[1;33m\u001b[0m\u001b[1;33m\u001b[0m\u001b[0m\n\u001b[0m\u001b[0;32m      6\u001b[0m     \u001b[1;32mif\u001b[0m \u001b[0mcharacter_name\u001b[0m \u001b[1;33m==\u001b[0m \u001b[1;34m'#'\u001b[0m\u001b[1;33m:\u001b[0m\u001b[1;33m\u001b[0m\u001b[1;33m\u001b[0m\u001b[0m\n\u001b[0;32m      7\u001b[0m         \u001b[0mprint\u001b[0m\u001b[1;33m(\u001b[0m\u001b[1;34m'Sayonara\\nExitting... '\u001b[0m\u001b[1;33m)\u001b[0m\u001b[1;33m\u001b[0m\u001b[1;33m\u001b[0m\u001b[0m\n",
      "\u001b[1;32m~\\AppData\\Roaming\\Python\\Python39\\site-packages\\ipykernel\\kernelbase.py\u001b[0m in \u001b[0;36mraw_input\u001b[1;34m(self, prompt)\u001b[0m\n\u001b[0;32m    979\u001b[0m                 \u001b[1;34m\"raw_input was called, but this frontend does not support input requests.\"\u001b[0m\u001b[1;33m\u001b[0m\u001b[1;33m\u001b[0m\u001b[0m\n\u001b[0;32m    980\u001b[0m             )\n\u001b[1;32m--> 981\u001b[1;33m         return self._input_request(\n\u001b[0m\u001b[0;32m    982\u001b[0m             \u001b[0mstr\u001b[0m\u001b[1;33m(\u001b[0m\u001b[0mprompt\u001b[0m\u001b[1;33m)\u001b[0m\u001b[1;33m,\u001b[0m\u001b[1;33m\u001b[0m\u001b[1;33m\u001b[0m\u001b[0m\n\u001b[0;32m    983\u001b[0m             \u001b[0mself\u001b[0m\u001b[1;33m.\u001b[0m\u001b[0m_parent_ident\u001b[0m\u001b[1;33m[\u001b[0m\u001b[1;34m\"shell\"\u001b[0m\u001b[1;33m]\u001b[0m\u001b[1;33m,\u001b[0m\u001b[1;33m\u001b[0m\u001b[1;33m\u001b[0m\u001b[0m\n",
      "\u001b[1;32m~\\AppData\\Roaming\\Python\\Python39\\site-packages\\ipykernel\\kernelbase.py\u001b[0m in \u001b[0;36m_input_request\u001b[1;34m(self, prompt, ident, parent, password)\u001b[0m\n\u001b[0;32m   1024\u001b[0m             \u001b[1;32mexcept\u001b[0m \u001b[0mKeyboardInterrupt\u001b[0m\u001b[1;33m:\u001b[0m\u001b[1;33m\u001b[0m\u001b[1;33m\u001b[0m\u001b[0m\n\u001b[0;32m   1025\u001b[0m                 \u001b[1;31m# re-raise KeyboardInterrupt, to truncate traceback\u001b[0m\u001b[1;33m\u001b[0m\u001b[1;33m\u001b[0m\u001b[1;33m\u001b[0m\u001b[0m\n\u001b[1;32m-> 1026\u001b[1;33m                 \u001b[1;32mraise\u001b[0m \u001b[0mKeyboardInterrupt\u001b[0m\u001b[1;33m(\u001b[0m\u001b[1;34m\"Interrupted by user\"\u001b[0m\u001b[1;33m)\u001b[0m \u001b[1;32mfrom\u001b[0m \u001b[1;32mNone\u001b[0m\u001b[1;33m\u001b[0m\u001b[1;33m\u001b[0m\u001b[0m\n\u001b[0m\u001b[0;32m   1027\u001b[0m             \u001b[1;32mexcept\u001b[0m \u001b[0mException\u001b[0m \u001b[1;32mas\u001b[0m \u001b[0me\u001b[0m\u001b[1;33m:\u001b[0m\u001b[1;33m\u001b[0m\u001b[1;33m\u001b[0m\u001b[0m\n\u001b[0;32m   1028\u001b[0m                 \u001b[0mself\u001b[0m\u001b[1;33m.\u001b[0m\u001b[0mlog\u001b[0m\u001b[1;33m.\u001b[0m\u001b[0mwarning\u001b[0m\u001b[1;33m(\u001b[0m\u001b[1;34m\"Invalid Message:\"\u001b[0m\u001b[1;33m,\u001b[0m \u001b[0mexc_info\u001b[0m\u001b[1;33m=\u001b[0m\u001b[1;32mTrue\u001b[0m\u001b[1;33m)\u001b[0m\u001b[1;33m\u001b[0m\u001b[1;33m\u001b[0m\u001b[0m\n",
      "\u001b[1;31mKeyboardInterrupt\u001b[0m: Interrupted by user"
     ]
    }
   ],
   "source": [
    "## Task 1.5\n",
    "##Write the code that requests a character name from the user, and then uses the stored data (from CHARACTERS.TXT and ITEMS.TXT) to search for the requested character. If the character is found, the characters statistics and list of items are printed to the terminal, else if the character is not found, then a simple message stating that the character has not been found is instead printed.\n",
    "##This program should repeatedly loop until some exit character or string is input\n",
    "while True:\n",
    "    character_name = input('CHARACTER NAME> ')\n",
    "    if character_name == '#':\n",
    "        print('Sayonara\\nExitting... ')\n",
    "        break\n",
    "    items = []\n",
    "    with open(\"ITEMS.TXT\") as f:\n",
    "        for line in f:\n",
    "            tmp = line.strip().split(\" \")\n",
    "            tmp = [hex2Str(i) for i in tmp]\n",
    "            tmp = ''.join(tmp)\n",
    "            tmp = tmp.split(\",\")\n",
    "            items.append(tmp)\n",
    "    characters = []\n",
    "    with open(\"CHARACTERS.TXT\") as f:\n",
    "        for line in f:\n",
    "            tmp = line.strip().split(\" \")\n",
    "            tmp = [hex2Str(i) for i in tmp]\n",
    "            tmp = ''.join(tmp)\n",
    "            characters.append(tmp)\n",
    "    for idx,i in enumerate(characters):\n",
    "        tmp = i.split(\",\")\n",
    "        characters[idx] = tmp\n",
    "    for i in range(0, len(characters), 2):\n",
    "        characters[i] = characters[i] + [characters[i+1]]\n",
    "        characters[i+1] = None\n",
    "    characters = [i for i in characters if i != None]\n",
    "    \n",
    "    \n",
    "    names_only = iter([i[0] for i in characters])\n",
    "    rest = iter([i[1:] for i in characters])\n",
    "    characters = dict(zip(names_only, rest))\n",
    "    if character_name in characters.keys():\n",
    "        info = characters[character_name]\n",
    "        string_to_print = \\\n",
    "f\"\"\"\n",
    "=======================================\n",
    "<CLASS NAME>: {info[0]}\n",
    "<STR>: {info[1]}\n",
    "<DEX>: {info[2]}\n",
    "<INT>: {info[3]}\n",
    "<CURRENT XP>: {info[4]}\n",
    "========================================\n",
    "Items:\n",
    "\"\"\"\n",
    "        print(string_to_print)\n",
    "        for i in info[5]:\n",
    "            print(items[[idx for idx,_ in items].index(i)][1])\n",
    "    else:\n",
    "        print(\"404: Not found\")"
   ]
  },
  {
   "cell_type": "code",
   "execution_count": null,
   "id": "a1f1014d-f827-48ef-8bdb-1266db82c548",
   "metadata": {},
   "outputs": [],
   "source": []
  },
  {
   "cell_type": "code",
   "execution_count": null,
   "id": "27302a74-a146-448d-b6a1-b83763464dc6",
   "metadata": {},
   "outputs": [],
   "source": []
  },
  {
   "cell_type": "code",
   "execution_count": null,
   "id": "abfeb143-65ca-4770-bcbc-1ba852d69265",
   "metadata": {},
   "outputs": [],
   "source": []
  }
 ],
 "metadata": {
  "kernelspec": {
   "display_name": "Python 3 (ipykernel)",
   "language": "python",
   "name": "python3"
  },
  "language_info": {
   "codemirror_mode": {
    "name": "ipython",
    "version": 3
   },
   "file_extension": ".py",
   "mimetype": "text/x-python",
   "name": "python",
   "nbconvert_exporter": "python",
   "pygments_lexer": "ipython3",
   "version": "3.9.5"
  }
 },
 "nbformat": 4,
 "nbformat_minor": 5
}
