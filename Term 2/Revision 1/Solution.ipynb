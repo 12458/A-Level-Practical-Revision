{
 "cells": [
  {
   "cell_type": "markdown",
   "id": "4555c2e4-f159-43f2-9137-605e414f3993",
   "metadata": {},
   "source": [
    "# Question 1: Implement a Quick Sort algorithm using random pivots"
   ]
  },
  {
   "cell_type": "code",
   "execution_count": null,
   "id": "3ba74731-0bff-4dba-a978-663e56365b19",
   "metadata": {},
   "outputs": [],
   "source": [
    "import random\n",
    "def in_quick_sort(A):\n",
    "    if len(A)<=1:\n",
    "        return A\n",
    "    \n",
    "    r=random.randint(0, len(A)-1)\n",
    "    A[r], A[0] = A[0], A[r]\n",
    "\n",
    "    pivot=A[0]\n",
    "    left=[]\n",
    "    right=[]\n",
    "    for i in A[1:]:\n",
    "        if i <= pivot:\n",
    "            left.append(i)\n",
    "        else:\n",
    "            right.append(i)\n",
    "    return (in_quick_sort(left) + [pivot] + in_quick_sort(right))"
   ]
  },
  {
   "cell_type": "markdown",
   "id": "871220f6-78f4-4a6d-815e-5fd3c601f77c",
   "metadata": {},
   "source": [
    "# Question 2: Recursive Insertion Sort\n",
    "Implement a recursive version of the Insertion Sort using the function :\\\n",
    "    ```recur_InsertSort(A), where A is an array of integers and the function should return a sorted array```\\\n",
    "you can use either a inplace or non inplace algorithm."
   ]
  },
  {
   "cell_type": "code",
   "execution_count": null,
   "id": "64a00102-e52e-42f8-a45e-806e9663a8a3",
   "metadata": {},
   "outputs": [],
   "source": [
    "def recur_InsertSort(A):\n",
    "    def sort(arry, s):\n",
    "        m = max(arry)\n",
    "        s = [m] + s\n",
    "        arry.remove(m)\n",
    "        if arry == []:\n",
    "            return s\n",
    "        return sort(arry, s)\n",
    "    return sort(A, [])"
   ]
  },
  {
   "cell_type": "markdown",
   "id": "0a63075c-7f97-42a2-9982-0673f1bca304",
   "metadata": {},
   "source": [
    "# Question 3: Inplace Quicksort\n",
    "Implement a recursive version of the Quick Sort using an in-place algorithm in the function:\\\n",
    "```in_quick_sort(A) where A is an array, the function will return A```"
   ]
  },
  {
   "cell_type": "code",
   "execution_count": null,
   "id": "3cfc4e44-914a-4798-93a5-994785b16565",
   "metadata": {},
   "outputs": [],
   "source": [
    "def in_quick_sort(A):\n",
    "    def qs(A, lb, ub): ## recusive\n",
    "        if ub > lb:\n",
    "            pivot_pos = partition(A, lb, ub)\n",
    "            qs(A, lb, pivot_pos -1)\n",
    "            qs(A,  pivot_pos + 1, ub)\n",
    "    \n",
    "    lb, ub = 0, len(A)-1\n",
    "    qs(A, lb, ub)\n",
    "    return A\n",
    "    \n",
    "def partition(A, lb, ub):\n",
    "    pos, pivot = lb+1, A[lb]\n",
    "    for u in range(lb+1, ub+1):\n",
    "        if A[u] <= pivot:\n",
    "            A[pos], A[u] = A[u], A[pos]\n",
    "            pos += 1\n",
    "    A[lb], A[pos-1] = A[pos-1], A[lb]\n",
    "    return pos-1"
   ]
  },
  {
   "cell_type": "markdown",
   "id": "55286291-ab3e-4450-ac82-46fb30b924e0",
   "metadata": {},
   "source": [
    "# Question 4: Iterative Inplace Quicksort\n",
    "implement an iterative version of the inplace quicksort algorithm.\n",
    "\n",
    "_HINT: Use a stack to implement the call stack capabilities in recursive calls.(keeping states of pending operations)_"
   ]
  },
  {
   "cell_type": "code",
   "execution_count": null,
   "id": "f0024510-d96f-474f-9e0d-d02759b16825",
   "metadata": {},
   "outputs": [],
   "source": [
    "def in_quick_sort(A):\n",
    "    def qs(A, lb, ub):\n",
    "        if ub > lb:\n",
    "            pivot_pos = partition (A, lb, ub)\n",
    "            qs(A, lb, pivot_pos -1)\n",
    "            qs(A,  pivot_pos + 1, ub)\n",
    "    \n",
    "    lb, ub = 0, len(A)-1\n",
    "    qs(A, lb, ub)\n",
    "    return A\n",
    "    \n",
    "def partition(A, lb, ub):\n",
    "    pos, pivot = lb+1, A[lb]\n",
    "    for u in range(lb+1, ub+1):\n",
    "        if A[u] <= pivot:\n",
    "            A[pos], A[u] = A[u], A[pos]\n",
    "            pos += 1\n",
    "    A[lb], A[pos-1] = A[pos-1], A[lb]\n",
    "    return pos-1"
   ]
  }
 ],
 "metadata": {
  "kernelspec": {
   "display_name": "Python 3 (ipykernel)",
   "language": "python",
   "name": "python3"
  },
  "language_info": {
   "codemirror_mode": {
    "name": "ipython",
    "version": 3
   },
   "file_extension": ".py",
   "mimetype": "text/x-python",
   "name": "python",
   "nbconvert_exporter": "python",
   "pygments_lexer": "ipython3",
   "version": "3.9.5"
  }
 },
 "nbformat": 4,
 "nbformat_minor": 5
}
