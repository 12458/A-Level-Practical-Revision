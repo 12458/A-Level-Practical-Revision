{
 "cells": [
  {
   "cell_type": "code",
   "execution_count": 1,
   "id": "1cefa0d9",
   "metadata": {},
   "outputs": [
    {
     "name": "stdout",
     "output_type": "stream",
     "text": [
      "INTEGER             FREQUENCY           \n",
      "1:                  50                  \n",
      "2:                  51                  \n",
      "3:                  42                  \n",
      "4:                  61                  \n",
      "5:                  52                  \n",
      "6:                  60                  \n",
      "7:                  40                  \n",
      "8:                  51                  \n",
      "9:                  45                  \n",
      "10:                 56                  \n",
      "11:                 37                  \n",
      "12:                 61                  \n",
      "13:                 48                  \n",
      "14:                 45                  \n",
      "15:                 62                  \n",
      "16:                 50                  \n",
      "17:                 49                  \n",
      "18:                 54                  \n",
      "19:                 40                  \n",
      "20:                 46                  \n"
     ]
    }
   ],
   "source": [
    "import random\n",
    "rand_ints = [random.randint(1,20) for _ in range(1000)]\n",
    "\n",
    "count = {}\n",
    "for i in range(1,20+1):\n",
    "    count[i] = rand_ints.count(i)\n",
    "\n",
    "print(f\"{'INTEGER':<20}{'FREQUENCY':<20}\")\n",
    "for i in count.keys():\n",
    "    print(f\"{str(i)+':':<20}{count[i]:<20}\")"
   ]
  },
  {
   "cell_type": "code",
   "execution_count": 3,
   "id": "bb86aec4",
   "metadata": {},
   "outputs": [
    {
     "name": "stdout",
     "output_type": "stream",
     "text": [
      "INTEGER             FREQUENCY           EXPECTED FREQ       DIFFERENCE          \n",
      "1:                  45                  50.0                -5.0                \n",
      "2:                  39                  50.0                -11.0               \n",
      "3:                  60                  50.0                10.0                \n",
      "4:                  44                  50.0                -6.0                \n",
      "5:                  50                  50.0                0.0                 \n",
      "6:                  55                  50.0                5.0                 \n",
      "7:                  54                  50.0                4.0                 \n",
      "8:                  44                  50.0                -6.0                \n",
      "9:                  58                  50.0                8.0                 \n",
      "10:                 55                  50.0                5.0                 \n",
      "11:                 48                  50.0                -2.0                \n",
      "12:                 47                  50.0                -3.0                \n",
      "13:                 48                  50.0                -2.0                \n",
      "14:                 36                  50.0                -14.0               \n",
      "15:                 56                  50.0                6.0                 \n",
      "16:                 40                  50.0                -10.0               \n",
      "17:                 46                  50.0                -4.0                \n",
      "18:                 50                  50.0                0.0                 \n",
      "19:                 61                  50.0                11.0                \n",
      "20:                 64                  50.0                14.0                \n"
     ]
    }
   ],
   "source": [
    "import random\n",
    "rand_ints = [random.randint(1,20) for _ in range(1000)]\n",
    "\n",
    "count = {}\n",
    "for i in range(1,20+1):\n",
    "    count[i] = rand_ints.count(i)\n",
    "\n",
    "print(f\"{'INTEGER':<20}{'FREQUENCY':<20}{'EXPECTED FREQ':<20}{'DIFFERENCE':<20}\")\n",
    "for i in count.keys():\n",
    "    print(f\"{str(i)+':':<20}{count[i]:<20}{1000/20:<20}{count[i] - 1000/20:<20}\")"
   ]
  }
 ],
 "metadata": {
  "kernelspec": {
   "display_name": "Python 3 (ipykernel)",
   "language": "python",
   "name": "python3"
  },
  "language_info": {
   "codemirror_mode": {
    "name": "ipython",
    "version": 3
   },
   "file_extension": ".py",
   "mimetype": "text/x-python",
   "name": "python",
   "nbconvert_exporter": "python",
   "pygments_lexer": "ipython3",
   "version": "3.9.5"
  }
 },
 "nbformat": 4,
 "nbformat_minor": 5
}
