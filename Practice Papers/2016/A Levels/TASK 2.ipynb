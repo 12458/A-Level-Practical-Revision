{
 "cells": [
  {
   "cell_type": "code",
   "execution_count": 7,
   "id": "baf908a8",
   "metadata": {},
   "outputs": [],
   "source": [
    "# Task 2.1\n",
    "class HashTable:\n",
    "\n",
    "    def __init__(self, n):\n",
    "        self.array = [None for _ in range(n)]\n",
    "        self.size = n\n",
    "        \n",
    "    def hash(self, s):\n",
    "        return int(s) % self.size\n",
    "\n",
    "    def insert(self, data):\n",
    "        index = self._exists(data, True)\n",
    "        if index == -1:\n",
    "            return False\n",
    "        else:\n",
    "            self.array[index] = data\n",
    "\n",
    "    def _exists(self, target, insert_flg=False):\n",
    "        index = self.hash(str(target))\n",
    "        if insert_flg == True:\n",
    "            return index\n",
    "        if self.array[index] == target:\n",
    "            return index\n",
    "        else:\n",
    "            return -1\n",
    "\n",
    "    def exists(self, data):\n",
    "        if self._exists(data) == -1:\n",
    "            return False\n",
    "        else:\n",
    "            return True\n",
    "\n",
    "    def delete(self, data):\n",
    "        index = self._exists(data)\n",
    "        if index == -1:\n",
    "            return False\n",
    "        else:\n",
    "            self._array[index] = None\n",
    "            return True\n",
    "\n",
    "    def __str__(self):\n",
    "        return str(self.array)"
   ]
  },
  {
   "cell_type": "code",
   "execution_count": 8,
   "id": "d91e4844",
   "metadata": {},
   "outputs": [
    {
     "name": "stdout",
     "output_type": "stream",
     "text": [
      "[None, None, None, None, 4, None, None, 7, None, None, None, None, None, None, None, None, None, 17, None, 19]\n"
     ]
    }
   ],
   "source": [
    "ht = HashTable(20)\n",
    "with open('KEYS1.TXT') as f:\n",
    "    keys = [int(i) for i in f.read().strip().split('\\n')]\n",
    "\n",
    "for key in keys:\n",
    "    ht.insert(key)\n",
    "\n",
    "print(ht.array)"
   ]
  },
  {
   "cell_type": "code",
   "execution_count": 12,
   "id": "8a677fe8",
   "metadata": {},
   "outputs": [],
   "source": [
    "# Task 2.2\n",
    "class HashTable:\n",
    "\n",
    "    def __init__(self, n):\n",
    "        self.array = [None for _ in range(n)]\n",
    "        self.size = n\n",
    "        \n",
    "    def hash(self, s):\n",
    "        return int(s) % self.size\n",
    "\n",
    "    def insert(self, data):\n",
    "        index = self._exists(data, True)\n",
    "        if index == -1:\n",
    "            return False\n",
    "        else:\n",
    "            self.array[index] = data\n",
    "\n",
    "    def _exists(self, target, insert_flg=False):\n",
    "        index = self.hash(str(target))\n",
    "        if insert_flg == True:\n",
    "            target = None\n",
    "        if self.array[index] == target:\n",
    "            return index\n",
    "        else:\n",
    "            i = (index + 1) % self.size\n",
    "            while i != index:\n",
    "                if self.array[i] == target:\n",
    "                    return i\n",
    "                else:\n",
    "                    i = (i + 1) % self.size\n",
    "            return -1\n",
    "    \n",
    "    # Task 2.3\n",
    "    def exists(self, data):\n",
    "        if self._exists(data) == -1:\n",
    "            return False\n",
    "        else:\n",
    "            return True\n",
    "\n",
    "    def __str__(self):\n",
    "        return str(self.array)"
   ]
  },
  {
   "cell_type": "code",
   "execution_count": 13,
   "id": "b5f9ac7f",
   "metadata": {},
   "outputs": [
    {
     "name": "stdout",
     "output_type": "stream",
     "text": [
      "[57, 77, None, None, 4, None, None, 7, None, None, None, None, None, None, None, None, None, 17, 37, 19]\n"
     ]
    }
   ],
   "source": [
    "ht = HashTable(20)\n",
    "with open('KEYS2.TXT') as f:\n",
    "    keys = [int(i) for i in f.read().strip().split('\\n')]\n",
    "\n",
    "for key in keys:\n",
    "    ht.insert(key)\n",
    "\n",
    "print(ht.array)"
   ]
  },
  {
   "cell_type": "code",
   "execution_count": 14,
   "id": "e3d16b45",
   "metadata": {},
   "outputs": [
    {
     "data": {
      "text/plain": [
       "True"
      ]
     },
     "execution_count": 14,
     "metadata": {},
     "output_type": "execute_result"
    }
   ],
   "source": [
    "ht.exists(37)"
   ]
  },
  {
   "cell_type": "code",
   "execution_count": 15,
   "id": "4a2e45ed",
   "metadata": {},
   "outputs": [
    {
     "data": {
      "text/plain": [
       "True"
      ]
     },
     "execution_count": 15,
     "metadata": {},
     "output_type": "execute_result"
    }
   ],
   "source": [
    "ht.exists(77)"
   ]
  },
  {
   "cell_type": "code",
   "execution_count": 16,
   "id": "90ca34ba",
   "metadata": {},
   "outputs": [
    {
     "data": {
      "text/plain": [
       "False"
      ]
     },
     "execution_count": 16,
     "metadata": {},
     "output_type": "execute_result"
    }
   ],
   "source": [
    "ht.exists(97)"
   ]
  }
 ],
 "metadata": {
  "kernelspec": {
   "display_name": "Python 3 (ipykernel)",
   "language": "python",
   "name": "python3"
  },
  "language_info": {
   "codemirror_mode": {
    "name": "ipython",
    "version": 3
   },
   "file_extension": ".py",
   "mimetype": "text/x-python",
   "name": "python",
   "nbconvert_exporter": "python",
   "pygments_lexer": "ipython3",
   "version": "3.9.5"
  }
 },
 "nbformat": 4,
 "nbformat_minor": 5
}
