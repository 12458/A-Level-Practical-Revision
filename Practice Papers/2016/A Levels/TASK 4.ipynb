{
 "cells": [
  {
   "cell_type": "code",
   "execution_count": 9,
   "id": "ade19a97",
   "metadata": {},
   "outputs": [],
   "source": [
    "def hex_to_denary(basek_value):\n",
    "    mapping = \"0123456789ABCDEFGHIJKLMNOPQRSTUVWXYZ\"\n",
    "    basek_value = str(basek_value)[::-1]\n",
    "    denary = 0\n",
    "    for i in range(len(basek_value)):\n",
    "        denary += mapping.index(basek_value[i].upper()) * 16**i\n",
    "    return denary"
   ]
  },
  {
   "cell_type": "code",
   "execution_count": 10,
   "id": "7cbd3250",
   "metadata": {},
   "outputs": [
    {
     "data": {
      "text/plain": [
       "0"
      ]
     },
     "execution_count": 10,
     "metadata": {},
     "output_type": "execute_result"
    }
   ],
   "source": [
    "hex_to_denary(\"0\")"
   ]
  },
  {
   "cell_type": "code",
   "execution_count": 11,
   "id": "364e7f36",
   "metadata": {},
   "outputs": [
    {
     "data": {
      "text/plain": [
       "255"
      ]
     },
     "execution_count": 11,
     "metadata": {},
     "output_type": "execute_result"
    }
   ],
   "source": [
    "hex_to_denary(\"FF\")"
   ]
  },
  {
   "cell_type": "code",
   "execution_count": 12,
   "id": "ac485413",
   "metadata": {},
   "outputs": [
    {
     "ename": "ValueError",
     "evalue": "substring not found",
     "output_type": "error",
     "traceback": [
      "\u001b[1;31m---------------------------------------------------------------------------\u001b[0m",
      "\u001b[1;31mValueError\u001b[0m                                Traceback (most recent call last)",
      "\u001b[1;32m~\\AppData\\Local\\Temp/ipykernel_11300/2118015073.py\u001b[0m in \u001b[0;36m<module>\u001b[1;34m\u001b[0m\n\u001b[1;32m----> 1\u001b[1;33m \u001b[0mhex_to_denary\u001b[0m\u001b[1;33m(\u001b[0m\u001b[1;34m\"-1\"\u001b[0m\u001b[1;33m)\u001b[0m\u001b[1;33m\u001b[0m\u001b[1;33m\u001b[0m\u001b[0m\n\u001b[0m",
      "\u001b[1;32m~\\AppData\\Local\\Temp/ipykernel_11300/1218145395.py\u001b[0m in \u001b[0;36mhex_to_denary\u001b[1;34m(basek_value)\u001b[0m\n\u001b[0;32m      4\u001b[0m     \u001b[0mdenary\u001b[0m \u001b[1;33m=\u001b[0m \u001b[1;36m0\u001b[0m\u001b[1;33m\u001b[0m\u001b[1;33m\u001b[0m\u001b[0m\n\u001b[0;32m      5\u001b[0m     \u001b[1;32mfor\u001b[0m \u001b[0mi\u001b[0m \u001b[1;32min\u001b[0m \u001b[0mrange\u001b[0m\u001b[1;33m(\u001b[0m\u001b[0mlen\u001b[0m\u001b[1;33m(\u001b[0m\u001b[0mbasek_value\u001b[0m\u001b[1;33m)\u001b[0m\u001b[1;33m)\u001b[0m\u001b[1;33m:\u001b[0m\u001b[1;33m\u001b[0m\u001b[1;33m\u001b[0m\u001b[0m\n\u001b[1;32m----> 6\u001b[1;33m         \u001b[0mdenary\u001b[0m \u001b[1;33m+=\u001b[0m \u001b[0mmapping\u001b[0m\u001b[1;33m.\u001b[0m\u001b[0mindex\u001b[0m\u001b[1;33m(\u001b[0m\u001b[0mbasek_value\u001b[0m\u001b[1;33m[\u001b[0m\u001b[0mi\u001b[0m\u001b[1;33m]\u001b[0m\u001b[1;33m.\u001b[0m\u001b[0mupper\u001b[0m\u001b[1;33m(\u001b[0m\u001b[1;33m)\u001b[0m\u001b[1;33m)\u001b[0m \u001b[1;33m*\u001b[0m \u001b[1;36m16\u001b[0m\u001b[1;33m**\u001b[0m\u001b[0mi\u001b[0m\u001b[1;33m\u001b[0m\u001b[1;33m\u001b[0m\u001b[0m\n\u001b[0m\u001b[0;32m      7\u001b[0m     \u001b[1;32mreturn\u001b[0m \u001b[0mdenary\u001b[0m\u001b[1;33m\u001b[0m\u001b[1;33m\u001b[0m\u001b[0m\n",
      "\u001b[1;31mValueError\u001b[0m: substring not found"
     ]
    }
   ],
   "source": [
    "hex_to_denary(\"-1\")"
   ]
  },
  {
   "cell_type": "markdown",
   "id": "25bd5481",
   "metadata": {},
   "source": [
    "|Hexadecimal Number|Purpose of test|Expected Output|\n",
    "|---|---|---|\n",
    "|FF|Normal Case|255|\n",
    "|0|Boundary Case|0|\n",
    "|-1|Invalid Case|Error|"
   ]
  },
  {
   "cell_type": "code",
   "execution_count": 13,
   "id": "9825fdfe",
   "metadata": {},
   "outputs": [],
   "source": [
    "def denary_to_hex(denary):\n",
    "    k = 16\n",
    "    mapping = \"0123456789ABCDEFGHIJKLMNOPQRSTUVWXYZ\"\n",
    "    base_k_value = \"\"\n",
    "    while denary > 0:\n",
    "        base_k_value = mapping[denary % k] + base_k_value\n",
    "        denary //= k\n",
    "    return base_k_value"
   ]
  },
  {
   "cell_type": "code",
   "execution_count": 20,
   "id": "b1dd5cf7",
   "metadata": {},
   "outputs": [
    {
     "data": {
      "text/plain": [
       "'FF'"
      ]
     },
     "execution_count": 20,
     "metadata": {},
     "output_type": "execute_result"
    }
   ],
   "source": [
    "denary_to_hex(255)"
   ]
  },
  {
   "cell_type": "code",
   "execution_count": 19,
   "id": "64b0c488",
   "metadata": {},
   "outputs": [
    {
     "data": {
      "text/plain": [
       "''"
      ]
     },
     "execution_count": 19,
     "metadata": {},
     "output_type": "execute_result"
    }
   ],
   "source": [
    "denary_to_hex(-1)"
   ]
  },
  {
   "cell_type": "code",
   "execution_count": 18,
   "id": "a882ed33",
   "metadata": {},
   "outputs": [
    {
     "ename": "TypeError",
     "evalue": "'>' not supported between instances of 'str' and 'int'",
     "output_type": "error",
     "traceback": [
      "\u001b[1;31m---------------------------------------------------------------------------\u001b[0m",
      "\u001b[1;31mTypeError\u001b[0m                                 Traceback (most recent call last)",
      "\u001b[1;32m~\\AppData\\Local\\Temp/ipykernel_11300/2380478368.py\u001b[0m in \u001b[0;36m<module>\u001b[1;34m\u001b[0m\n\u001b[1;32m----> 1\u001b[1;33m \u001b[0mdenary_to_hex\u001b[0m\u001b[1;33m(\u001b[0m\u001b[1;34m'A'\u001b[0m\u001b[1;33m)\u001b[0m\u001b[1;33m\u001b[0m\u001b[1;33m\u001b[0m\u001b[0m\n\u001b[0m",
      "\u001b[1;32m~\\AppData\\Local\\Temp/ipykernel_11300/3449419893.py\u001b[0m in \u001b[0;36mdenary_to_hex\u001b[1;34m(denary)\u001b[0m\n\u001b[0;32m      3\u001b[0m     \u001b[0mmapping\u001b[0m \u001b[1;33m=\u001b[0m \u001b[1;34m\"0123456789ABCDEFGHIJKLMNOPQRSTUVWXYZ\"\u001b[0m\u001b[1;33m\u001b[0m\u001b[1;33m\u001b[0m\u001b[0m\n\u001b[0;32m      4\u001b[0m     \u001b[0mbase_k_value\u001b[0m \u001b[1;33m=\u001b[0m \u001b[1;34m\"\"\u001b[0m\u001b[1;33m\u001b[0m\u001b[1;33m\u001b[0m\u001b[0m\n\u001b[1;32m----> 5\u001b[1;33m     \u001b[1;32mwhile\u001b[0m \u001b[0mdenary\u001b[0m \u001b[1;33m>\u001b[0m \u001b[1;36m0\u001b[0m\u001b[1;33m:\u001b[0m\u001b[1;33m\u001b[0m\u001b[1;33m\u001b[0m\u001b[0m\n\u001b[0m\u001b[0;32m      6\u001b[0m         \u001b[0mbase_k_value\u001b[0m \u001b[1;33m=\u001b[0m \u001b[0mmapping\u001b[0m\u001b[1;33m[\u001b[0m\u001b[0mdenary\u001b[0m \u001b[1;33m%\u001b[0m \u001b[0mk\u001b[0m\u001b[1;33m]\u001b[0m \u001b[1;33m+\u001b[0m \u001b[0mbase_k_value\u001b[0m\u001b[1;33m\u001b[0m\u001b[1;33m\u001b[0m\u001b[0m\n\u001b[0;32m      7\u001b[0m         \u001b[0mdenary\u001b[0m \u001b[1;33m//=\u001b[0m \u001b[0mk\u001b[0m\u001b[1;33m\u001b[0m\u001b[1;33m\u001b[0m\u001b[0m\n",
      "\u001b[1;31mTypeError\u001b[0m: '>' not supported between instances of 'str' and 'int'"
     ]
    }
   ],
   "source": [
    "denary_to_hex('A')"
   ]
  },
  {
   "cell_type": "markdown",
   "id": "ef7eeaa5",
   "metadata": {},
   "source": [
    "|Denary Number|Purpose of test|Expected Output|\n",
    "|---|---|---|\n",
    "|255|Normal Case|FF|\n",
    "|-1|Boundary Case||\n",
    "|'A'|Invalid Case|Error|"
   ]
  }
 ],
 "metadata": {
  "kernelspec": {
   "display_name": "Python 3 (ipykernel)",
   "language": "python",
   "name": "python3"
  },
  "language_info": {
   "codemirror_mode": {
    "name": "ipython",
    "version": 3
   },
   "file_extension": ".py",
   "mimetype": "text/x-python",
   "name": "python",
   "nbconvert_exporter": "python",
   "pygments_lexer": "ipython3",
   "version": "3.9.5"
  }
 },
 "nbformat": 4,
 "nbformat_minor": 5
}
