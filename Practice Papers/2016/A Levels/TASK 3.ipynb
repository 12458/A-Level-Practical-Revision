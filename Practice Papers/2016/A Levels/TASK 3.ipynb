{
 "cells": [
  {
   "cell_type": "code",
   "execution_count": 10,
   "id": "53004d3c",
   "metadata": {},
   "outputs": [],
   "source": [
    "class Node:\n",
    "    def __init__(self, data):\n",
    "        self._data = data\n",
    "        self._leftPtr = -1\n",
    "        self._rightPtr = -1\n",
    "        \n",
    "    def setData(self, s):\n",
    "        self._data = s\n",
    "    \n",
    "    def setLeftPtr(self, ptr):\n",
    "        self._leftPtr = ptr\n",
    "    \n",
    "    def setRightPtr(self, ptr):\n",
    "        self._rightPtr = ptr\n",
    "    \n",
    "    def getData(self):\n",
    "        return self._data\n",
    "    \n",
    "    def getLeftPtr(self):\n",
    "        return self._leftPtr\n",
    "    \n",
    "    def getRightPtr(self):\n",
    "        return self._rightPtr\n",
    "    \n",
    "    def __repr__(self):\n",
    "        return f'DATA:{self._data};LEFT:{self._leftPtr};RIGHT:{self._rightPtr}'\n",
    "    \n",
    "class Tree:\n",
    "    def __init__(self, size):\n",
    "        self.tree = [Node(None) for _ in range(size)]\n",
    "        self.root = -1\n",
    "        self.free = 0\n",
    "        \n",
    "        # Link the nodes together to create the free list\n",
    "        for i in range(size - 1):\n",
    "            self.tree[i].setLeftPtr(i+1)        \n",
    "            \n",
    "    \n",
    "    def add(self, obj):\n",
    "        if self.free == -1:\n",
    "            # Full condition\n",
    "            return False\n",
    "        # get a free node\n",
    "        free_node_i = self.free\n",
    "        self.free = self.tree[self.free].getLeftPtr()\n",
    "        \n",
    "        # update the node we just freed\n",
    "        self.tree[free_node_i].setData(obj)\n",
    "        self.tree[free_node_i].setLeftPtr(-1) # remove association to free list\n",
    "        \n",
    "        if self.root == -1:\n",
    "            # empty bst\n",
    "            self.root = free_node_i\n",
    "            return True\n",
    "        \n",
    "        cur_i = self.root\n",
    "        while True:\n",
    "            if obj < self.tree[cur_i].getData():\n",
    "                if self.tree[cur_i].getLeftPtr() == -1:\n",
    "                    # insert into null spot\n",
    "                    self.tree[cur_i].setLeftPtr(free_node_i)\n",
    "                    return True\n",
    "                else:\n",
    "                    cur_i = self.tree[cur_i].getLeftPtr()\n",
    "            else:\n",
    "                if self.tree[cur_i].getRightPtr() == -1:\n",
    "                    # insert into null spot\n",
    "                    self.tree[cur_i].setRightPtr(free_node_i)\n",
    "                    return True\n",
    "                else:\n",
    "                    cur_i = self.tree[cur_i].getRightPtr()\n",
    "    \n",
    "    def print(self):\n",
    "        print(self.tree) \n",
    "    \n",
    "    def inOrderTraversal(self):\n",
    "        def recur(node_i):\n",
    "            if node_i == -1:\n",
    "                return\n",
    "            recur(self.tree[node_i].getLeftPtr())\n",
    "            print(self.tree[node_i].getData())\n",
    "            recur(self.tree[node_i].getRightPtr())\n",
    "        recur(self.root)"
   ]
  },
  {
   "cell_type": "code",
   "execution_count": 11,
   "id": "c2b19ae9",
   "metadata": {},
   "outputs": [
    {
     "name": "stdout",
     "output_type": "stream",
     "text": [
      "[DATA:Dave;LEFT:4;RIGHT:1, DATA:Fred;LEFT:2;RIGHT:3, DATA:Ed;LEFT:-1;RIGHT:-1, DATA:Greg;LEFT:-1;RIGHT:-1, DATA:Bob;LEFT:6;RIGHT:5, DATA:Cid;LEFT:-1;RIGHT:-1, DATA:Ali;LEFT:-1;RIGHT:-1, DATA:None;LEFT:8;RIGHT:-1, DATA:None;LEFT:9;RIGHT:-1, DATA:None;LEFT:10;RIGHT:-1, DATA:None;LEFT:11;RIGHT:-1, DATA:None;LEFT:12;RIGHT:-1, DATA:None;LEFT:13;RIGHT:-1, DATA:None;LEFT:14;RIGHT:-1, DATA:None;LEFT:15;RIGHT:-1, DATA:None;LEFT:16;RIGHT:-1, DATA:None;LEFT:17;RIGHT:-1, DATA:None;LEFT:18;RIGHT:-1, DATA:None;LEFT:19;RIGHT:-1, DATA:None;LEFT:-1;RIGHT:-1]\n"
     ]
    }
   ],
   "source": [
    "t = Tree(20)\n",
    "t.add('Dave')\n",
    "t.add('Fred')\n",
    "t.add('Ed')\n",
    "t.add('Greg')\n",
    "t.add('Bob')\n",
    "t.add('Cid')\n",
    "t.add('Ali')\n",
    "t.print()"
   ]
  },
  {
   "cell_type": "code",
   "execution_count": 13,
   "id": "23bb8b65",
   "metadata": {},
   "outputs": [
    {
     "name": "stdout",
     "output_type": "stream",
     "text": [
      "Ali\n",
      "Bob\n",
      "Cid\n",
      "Dave\n",
      "Ed\n",
      "Fred\n",
      "Greg\n"
     ]
    }
   ],
   "source": [
    "t.inOrderTraversal()"
   ]
  }
 ],
 "metadata": {
  "kernelspec": {
   "display_name": "Python 3 (ipykernel)",
   "language": "python",
   "name": "python3"
  },
  "language_info": {
   "codemirror_mode": {
    "name": "ipython",
    "version": 3
   },
   "file_extension": ".py",
   "mimetype": "text/x-python",
   "name": "python",
   "nbconvert_exporter": "python",
   "pygments_lexer": "ipython3",
   "version": "3.9.5"
  }
 },
 "nbformat": 4,
 "nbformat_minor": 5
}
