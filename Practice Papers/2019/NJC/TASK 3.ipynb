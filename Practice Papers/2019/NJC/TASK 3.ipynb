{
 "cells": [
  {
   "cell_type": "code",
   "execution_count": 67,
   "source": [
    "class PhoneNum:\r\n",
    "    def __init__(self, phone):\r\n",
    "        self.phone = phone\r\n",
    "        return\r\n",
    "    def __hash__(self):\r\n",
    "        sum = 0\r\n",
    "        for idx, i in enumerate(self.phone):\r\n",
    "            sum += idx + 1 * ord(i)\r\n",
    "        return sum\r\n",
    "    def __repr__(self) -> str:\r\n",
    "        return self.phone\r\n",
    "\r\n",
    "class Node:\r\n",
    "    def __init__(self):\r\n",
    "        self._data = PhoneNum('')\r\n",
    "        self._link1 = -1\r\n",
    "        self._link2 = -1\r\n",
    "        self._link3 = -1\r\n",
    "    \r\n",
    "    def getData(self):\r\n",
    "        return self._data\r\n",
    "    \r\n",
    "    def setData(self, data):\r\n",
    "        self._data = data\r\n",
    "        return True\r\n",
    "    \r\n",
    "    def getLink1(self):\r\n",
    "        return self._link1\r\n",
    "    \r\n",
    "    def setLink1(self, link):\r\n",
    "        self._link1 = link\r\n",
    "        return True\r\n",
    "        \r\n",
    "    def getLink2(self):\r\n",
    "        return self._link2\r\n",
    "    \r\n",
    "    def setLink2(self, link):\r\n",
    "        self._link2 = link\r\n",
    "        return True\r\n",
    "    \r\n",
    "    def getLink3(self):\r\n",
    "        return self._link3\r\n",
    "    \r\n",
    "    def setLink3(self, link):\r\n",
    "        self._link3 = link\r\n",
    "        return True\r\n",
    "    \r\n",
    "    def print(self):\r\n",
    "        print(f'DATA: {self._data}; HASH: {hash(self._data)}; LINK1: {self._link1}; LINK2: {self._link2}; LINK3: {self._link3}')\r\n",
    "    \r\n",
    "    \r\n",
    "class HDS:\r\n",
    "    def __init__(self, size=25):\r\n",
    "        self.size = size\r\n",
    "        self._nodes = [Node() for _ in range(size)]\r\n",
    "        self._free = 0\r\n",
    "        self._first = -1\r\n",
    "        for i in range(self.size - 1):\r\n",
    "            self._nodes[i].setLink1(i+1)\r\n",
    "        \r\n",
    "    \r\n",
    "    def insert(self, ph:PhoneNum):\r\n",
    "        if self._first == -1:\r\n",
    "            free_node_idx = self._free\r\n",
    "            self._free = self._nodes[free_node_idx].getLink1()\r\n",
    "            self._nodes[free_node_idx].setData(ph)\r\n",
    "            self._nodes[free_node_idx].setLink1(-1)\r\n",
    "            self._first = free_node_idx\r\n",
    "            return True\r\n",
    "            \r\n",
    "        # Check if the country code exists in the HDS\r\n",
    "        country_idx = self.country_search(ph)\r\n",
    "        if country_idx == -1:\r\n",
    "            # If doesn't exist THEN Insert country code at the back\r\n",
    "            if not (self._free == -1):\r\n",
    "                free_node_idx = self._free\r\n",
    "                self._free = self._nodes[free_node_idx].getLink1()\r\n",
    "                self._nodes[free_node_idx].setData(ph)\r\n",
    "                self._nodes[free_node_idx].setLink1(-1)\r\n",
    "                i = self._first\r\n",
    "                prev_i = -1\r\n",
    "                \r\n",
    "                while i != -1:\r\n",
    "                    prev_i = i\r\n",
    "                    i = self._nodes[i].getLink1()\r\n",
    "                print(prev_i, i)\r\n",
    "                if prev_i == -1:\r\n",
    "                    self._first = free_node_idx\r\n",
    "                else:\r\n",
    "                    self._nodes[prev_i].setLink1(free_node_idx)\r\n",
    "                return True\r\n",
    "        else:\r\n",
    "            # Check if no more free nodes\r\n",
    "            if self._free == -1:\r\n",
    "                return False\r\n",
    "\r\n",
    "            # get free node\r\n",
    "            free_node_i = self._free\r\n",
    "\r\n",
    "            # update free node ptr\r\n",
    "            self._free = self._nodes[free_node_i].getLink1()\r\n",
    "\r\n",
    "            # update chosen node\r\n",
    "            self._nodes[free_node_i].setData(ph)\r\n",
    "            self._nodes[free_node_i].setLink1(-1)\r\n",
    "\r\n",
    "            # If exists: then insert in the BST\r\n",
    "            hash_ph = hash(ph)\r\n",
    "            cur_i = country_idx\r\n",
    "            while True:\r\n",
    "                if hash_ph < hash(self._nodes[cur_i]):\r\n",
    "                    if self._nodes[cur_i].getLink2() == -1:\r\n",
    "                        self._nodes[cur_i].setLink2(free_node_i)\r\n",
    "                        return True\r\n",
    "                    else:\r\n",
    "                        cur_i = self._nodes[cur_i].getLink2()\r\n",
    "                else:\r\n",
    "                    if self._nodes[cur_i].getLink3() == -1:\r\n",
    "                        self._nodes[cur_i].setLink3(free_node_i)\r\n",
    "                        return True\r\n",
    "                    else:\r\n",
    "                        cur_i = self._nodes[cur_i].getLink3()\r\n",
    "\r\n",
    "    def country_search(self, ph:PhoneNum) -> int:\r\n",
    "            i = self._first\r\n",
    "            while i != -1:\r\n",
    "                if self._nodes[i].getData().phone.split(' ')[0].strip() == ph.phone.split(' ')[0].strip():\r\n",
    "                    return i\r\n",
    "                i = self._nodes[i].getLink1()\r\n",
    "            return -1\r\n",
    "\r\n",
    "    def contains(self, ph:PhoneNum):\r\n",
    "        # Search for country code        \r\n",
    "        idx = self.country_search()\r\n",
    "\r\n",
    "        if idx != -1:\r\n",
    "            hash_ph = hash(ph)\r\n",
    "            cur_i = idx\r\n",
    "            while True:\r\n",
    "                if hash_ph == hash(self._nodes[cur_i]):\r\n",
    "                    return True\r\n",
    "                elif hash_ph < hash(self._nodes[cur_i]):\r\n",
    "                    if self._nodes[cur_i].getLink2() == -1:\r\n",
    "                        return False\r\n",
    "                    else:\r\n",
    "                        cur_i = self._nodes[cur_i].getLink2()\r\n",
    "                else:\r\n",
    "                    if self._nodes[cur_i].getLink3() == -1:\r\n",
    "                        return False\r\n",
    "                    else:\r\n",
    "                        cur_i = self._nodes[cur_i].getLink3()\r\n",
    "        return False\r\n",
    "    \r\n",
    "    def print(self):\r\n",
    "        for idx, node in enumerate(self._nodes):\r\n",
    "            print(idx, end=' ')\r\n",
    "            node.print()\r\n",
    "\r\n",
    "    def orderedPrint(self, bst_node_idx:int):\r\n",
    "        def _recur(node_i):\r\n",
    "            if node_i == -1:\r\n",
    "                return\r\n",
    "            # L,N,R\r\n",
    "            _recur(self._nodes[node_i].getLink2())\r\n",
    "            print((self._nodes[node_i].getData()))\r\n",
    "            _recur(self._nodes[node_i].getLink3())\r\n",
    "        _recur(bst_node_idx)\r\n"
   ],
   "outputs": [],
   "metadata": {}
  },
  {
   "cell_type": "code",
   "execution_count": 68,
   "source": [
    "hds = HDS(25)\r\n",
    "hds.insert(PhoneNum('61 94770276'))\r\n",
    "hds.insert(PhoneNum('61 93575117'))\r\n",
    "hds.insert(PhoneNum('65 98130461'))"
   ],
   "outputs": [
    {
     "output_type": "stream",
     "name": "stdout",
     "text": [
      "0 -1\n"
     ]
    },
    {
     "output_type": "execute_result",
     "data": {
      "text/plain": [
       "True"
      ]
     },
     "metadata": {},
     "execution_count": 68
    }
   ],
   "metadata": {}
  },
  {
   "cell_type": "code",
   "execution_count": 69,
   "source": [
    "hds = HDS(25)\r\n",
    "with open('PHONENUMS.TXT') as f:\r\n",
    "    for line in f:\r\n",
    "        hds.insert(PhoneNum(line.strip()))"
   ],
   "outputs": [
    {
     "output_type": "stream",
     "name": "stdout",
     "text": [
      "0 -1\n"
     ]
    }
   ],
   "metadata": {}
  },
  {
   "cell_type": "code",
   "execution_count": 70,
   "source": [
    "hds.print()"
   ],
   "outputs": [
    {
     "output_type": "stream",
     "name": "stdout",
     "text": [
      "0 DATA: 61 94770276; HASH: 616; LINK1: 2; LINK2: 1; LINK3: -1\n",
      "1 DATA: 61 93575117; HASH: 612; LINK1: -1; LINK2: 3; LINK3: -1\n",
      "2 DATA: 65 91388431; HASH: 615; LINK1: -1; LINK2: 5; LINK3: -1\n",
      "3 DATA: 61 94746383; HASH: 618; LINK1: -1; LINK2: 4; LINK3: -1\n",
      "4 DATA: 61 94590685; HASH: 620; LINK1: -1; LINK2: 6; LINK3: -1\n",
      "5 DATA: 65 92646257; HASH: 619; LINK1: -1; LINK2: 8; LINK3: -1\n",
      "6 DATA: 61 95903579; HASH: 621; LINK1: -1; LINK2: 7; LINK3: -1\n",
      "7 DATA: 61 97669278; HASH: 628; LINK1: -1; LINK2: 9; LINK3: -1\n",
      "8 DATA: 65 94449889; HASH: 633; LINK1: -1; LINK2: 11; LINK3: -1\n",
      "9 DATA: 61 95804070; HASH: 607; LINK1: -1; LINK2: 10; LINK3: -1\n",
      "10 DATA: 61 93927809; HASH: 621; LINK1: -1; LINK2: 14; LINK3: -1\n",
      "11 DATA: 65 92107504; HASH: 606; LINK1: -1; LINK2: 12; LINK3: -1\n",
      "12 DATA: 65 95728552; HASH: 621; LINK1: -1; LINK2: 13; LINK3: -1\n",
      "13 DATA: 65 93149012; HASH: 607; LINK1: -1; LINK2: 16; LINK3: -1\n",
      "14 DATA: 61 91959259; HASH: 623; LINK1: -1; LINK2: 15; LINK3: -1\n",
      "15 DATA: 61 97102500; HASH: 598; LINK1: -1; LINK2: -1; LINK3: -1\n",
      "16 DATA: 65 93123385; HASH: 612; LINK1: -1; LINK2: 17; LINK3: -1\n",
      "17 DATA: 65 98110408; HASH: 609; LINK1: -1; LINK2: 18; LINK3: -1\n",
      "18 DATA: 65 91238989; HASH: 627; LINK1: -1; LINK2: 19; LINK3: -1\n",
      "19 DATA: 65 98130461; HASH: 610; LINK1: -1; LINK2: -1; LINK3: -1\n",
      "20 DATA: ; HASH: 0; LINK1: 21; LINK2: -1; LINK3: -1\n",
      "21 DATA: ; HASH: 0; LINK1: 22; LINK2: -1; LINK3: -1\n",
      "22 DATA: ; HASH: 0; LINK1: 23; LINK2: -1; LINK3: -1\n",
      "23 DATA: ; HASH: 0; LINK1: 24; LINK2: -1; LINK3: -1\n",
      "24 DATA: ; HASH: 0; LINK1: -1; LINK2: -1; LINK3: -1\n"
     ]
    }
   ],
   "metadata": {}
  },
  {
   "cell_type": "code",
   "execution_count": 71,
   "source": [
    "hds.orderedPrint(0)"
   ],
   "outputs": [
    {
     "output_type": "stream",
     "name": "stdout",
     "text": [
      "61 97102500\n",
      "61 91959259\n",
      "61 93927809\n",
      "61 95804070\n",
      "61 97669278\n",
      "61 95903579\n",
      "61 94590685\n",
      "61 94746383\n",
      "61 93575117\n",
      "61 94770276\n"
     ]
    }
   ],
   "metadata": {}
  },
  {
   "cell_type": "code",
   "execution_count": 52,
   "source": [
    "hds.country_search(PhoneNum('65 94770276'))"
   ],
   "outputs": [
    {
     "output_type": "execute_result",
     "data": {
      "text/plain": [
       "1"
      ]
     },
     "metadata": {},
     "execution_count": 52
    }
   ],
   "metadata": {}
  },
  {
   "cell_type": "code",
   "execution_count": null,
   "source": [],
   "outputs": [],
   "metadata": {}
  }
 ],
 "metadata": {
  "kernelspec": {
   "name": "python3",
   "display_name": "Python 3.9.5 64-bit"
  },
  "language_info": {
   "codemirror_mode": {
    "name": "ipython",
    "version": 3
   },
   "file_extension": ".py",
   "mimetype": "text/x-python",
   "name": "python",
   "nbconvert_exporter": "python",
   "pygments_lexer": "ipython3",
   "version": "3.9.5"
  },
  "interpreter": {
   "hash": "ac59ebe37160ed0dfa835113d9b8498d9f09ceb179beaac4002f036b9467c963"
  }
 },
 "nbformat": 4,
 "nbformat_minor": 5
}