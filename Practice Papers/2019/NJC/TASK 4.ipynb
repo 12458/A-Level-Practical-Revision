{
 "cells": [
  {
   "cell_type": "code",
   "execution_count": 101,
   "id": "c70917c2",
   "metadata": {},
   "outputs": [],
   "source": [
    "class Hexboard:\n",
    "    def __init__(self, n):\n",
    "        self.size = n\n",
    "        self._board = [['.' for _ in range(n)] for _ in range(n)]\n",
    "        self._turn = 0\n",
    "    \n",
    "    def playX(self, x, y):\n",
    "        if self._board[y][x] == '.':\n",
    "            self._board[y][x] = 'X'\n",
    "    \n",
    "    def playO(self, x, y):\n",
    "        if self._board[y][x] == '.':\n",
    "            self._board[y][x] = 'O'\n",
    "    \n",
    "    def checkWinX(self):\n",
    "        rows = []\n",
    "        for j in range(self.size):\n",
    "            row = self._board[j][0] == 'X'\n",
    "            for i in range(1, self.size):\n",
    "                row = self._board[j][i] == 'X' and row\n",
    "            rows.append(row)\n",
    "        return sum(rows) > 0\n",
    "    \n",
    "    def checkWinO(self):\n",
    "        rows = []\n",
    "        for j in range(self.size):\n",
    "            row = self._board[0][j] == 'O'\n",
    "            for i in range(1, self.size):\n",
    "                row = self._board[i][j] == 'O' and row\n",
    "            rows.append(row)\n",
    "        return sum(rows) > 0\n",
    "    \n",
    "    def printBoard(self):\n",
    "        for i in self._board:\n",
    "            for j in i:\n",
    "                print(j, sep='', end='')\n",
    "            print()"
   ]
  },
  {
   "cell_type": "code",
   "execution_count": 102,
   "id": "a2f26f95",
   "metadata": {},
   "outputs": [],
   "source": [
    "h = Hexboard(3)"
   ]
  },
  {
   "cell_type": "code",
   "execution_count": 103,
   "id": "a19eeda7",
   "metadata": {},
   "outputs": [],
   "source": [
    "h.playX(1,0)\n",
    "h.playX(0,1)\n",
    "h.playX(0,2)\n",
    "h.playO(2,0)\n",
    "h.playO(1,1)\n",
    "h.playO(1,2)"
   ]
  },
  {
   "cell_type": "code",
   "execution_count": 104,
   "id": "fdb65ab4",
   "metadata": {
    "scrolled": false
   },
   "outputs": [
    {
     "name": "stdout",
     "output_type": "stream",
     "text": [
      ".XO\n",
      "XO.\n",
      "XO.\n"
     ]
    }
   ],
   "source": [
    "h.printBoard()"
   ]
  },
  {
   "cell_type": "code",
   "execution_count": 105,
   "id": "83ad0675",
   "metadata": {},
   "outputs": [
    {
     "data": {
      "text/plain": [
       "False"
      ]
     },
     "execution_count": 105,
     "metadata": {},
     "output_type": "execute_result"
    }
   ],
   "source": [
    "h.checkWinX()"
   ]
  },
  {
   "cell_type": "code",
   "execution_count": 106,
   "id": "441bab33",
   "metadata": {},
   "outputs": [
    {
     "data": {
      "text/plain": [
       "False"
      ]
     },
     "execution_count": 106,
     "metadata": {},
     "output_type": "execute_result"
    }
   ],
   "source": [
    "h.checkWinO()"
   ]
  },
  {
   "cell_type": "code",
   "execution_count": 107,
   "id": "3ced8cb0",
   "metadata": {},
   "outputs": [],
   "source": [
    "h = Hexboard(3)"
   ]
  },
  {
   "cell_type": "code",
   "execution_count": 108,
   "id": "2c3d938a",
   "metadata": {},
   "outputs": [],
   "source": [
    "h.playX(0,0)\n",
    "h.playX(1,0)\n",
    "h.playX(2,0)\n",
    "h.playO(0,1)\n",
    "h.playO(1,1)\n",
    "h.playO(2,1)"
   ]
  },
  {
   "cell_type": "code",
   "execution_count": 109,
   "id": "868c000d",
   "metadata": {
    "scrolled": false
   },
   "outputs": [
    {
     "name": "stdout",
     "output_type": "stream",
     "text": [
      "XXX\n",
      "OOO\n",
      "...\n"
     ]
    }
   ],
   "source": [
    "h.printBoard()"
   ]
  },
  {
   "cell_type": "code",
   "execution_count": 110,
   "id": "c694a8d0",
   "metadata": {},
   "outputs": [
    {
     "data": {
      "text/plain": [
       "True"
      ]
     },
     "execution_count": 110,
     "metadata": {},
     "output_type": "execute_result"
    }
   ],
   "source": [
    "h.checkWinX()"
   ]
  },
  {
   "cell_type": "code",
   "execution_count": 111,
   "id": "75cbf374",
   "metadata": {},
   "outputs": [
    {
     "data": {
      "text/plain": [
       "False"
      ]
     },
     "execution_count": 111,
     "metadata": {},
     "output_type": "execute_result"
    }
   ],
   "source": [
    "h.checkWinO()"
   ]
  },
  {
   "cell_type": "code",
   "execution_count": 112,
   "id": "5f87b6cd",
   "metadata": {},
   "outputs": [],
   "source": [
    "h = Hexboard(3)"
   ]
  },
  {
   "cell_type": "code",
   "execution_count": 113,
   "id": "25bd9ecd",
   "metadata": {},
   "outputs": [],
   "source": [
    "h.playX(0,0)\n",
    "h.playX(1,0)\n",
    "h.playX(0,1)\n",
    "h.playX(0,2)\n",
    "h.playX(2,1)\n",
    "h.playO(1,1)\n",
    "h.playO(2,2)\n",
    "h.playO(1,2)"
   ]
  },
  {
   "cell_type": "code",
   "execution_count": 114,
   "id": "d02c01ef",
   "metadata": {
    "scrolled": false
   },
   "outputs": [
    {
     "name": "stdout",
     "output_type": "stream",
     "text": [
      "XX.\n",
      "XOX\n",
      "XOO\n"
     ]
    }
   ],
   "source": [
    "h.printBoard()"
   ]
  },
  {
   "cell_type": "code",
   "execution_count": 115,
   "id": "ee4da47e",
   "metadata": {},
   "outputs": [
    {
     "data": {
      "text/plain": [
       "False"
      ]
     },
     "execution_count": 115,
     "metadata": {},
     "output_type": "execute_result"
    }
   ],
   "source": [
    "h.checkWinX()"
   ]
  },
  {
   "cell_type": "code",
   "execution_count": 116,
   "id": "d4e5ed4a",
   "metadata": {},
   "outputs": [
    {
     "data": {
      "text/plain": [
       "False"
      ]
     },
     "execution_count": 116,
     "metadata": {},
     "output_type": "execute_result"
    }
   ],
   "source": [
    "h.checkWinO()"
   ]
  }
 ],
 "metadata": {
  "kernelspec": {
   "display_name": "Python 3 (ipykernel)",
   "language": "python",
   "name": "python3"
  },
  "language_info": {
   "codemirror_mode": {
    "name": "ipython",
    "version": 3
   },
   "file_extension": ".py",
   "mimetype": "text/x-python",
   "name": "python",
   "nbconvert_exporter": "python",
   "pygments_lexer": "ipython3",
   "version": "3.9.5"
  }
 },
 "nbformat": 4,
 "nbformat_minor": 5
}
