{
 "cells": [
  {
   "cell_type": "code",
   "execution_count": null,
   "id": "27e89cc8",
   "metadata": {},
   "outputs": [],
   "source": [
    "def insertion_sort(A):\n",
    "    for i in range(len(A)):\n",
    "        j = i\n",
    "        while j > 0 and A[j - 1] > A[j]:\n",
    "            A[j], A[j - 1] = A[j - 1], A[j]\n",
    "            j = j - 1\n",
    "    return A\n"
   ]
  },
  {
   "cell_type": "code",
   "execution_count": 7,
   "id": "f6f44dba",
   "metadata": {},
   "outputs": [],
   "source": [
    "def insertionSort(L):\n",
    "    return insertionSortOuter(L, 0)\n",
    "\n",
    "def insertionSortOuter(L, i):\n",
    "    if i == len(L):\n",
    "        return L\n",
    "    else:\n",
    "        return insertionSortOuter(insertionSortInner(L, i), i+1)\n",
    "    \n",
    "def insertionSortInner(L, j):\n",
    "    if not (j > 0 and L[j - 1] > L[j]):\n",
    "        return L\n",
    "    else:\n",
    "        if L[j - 1] > L[j]:\n",
    "            L[j], L[j - 1] = L[j - 1], L[j]\n",
    "        return insertionSortInner(L, j-1)\n",
    "    "
   ]
  },
  {
   "cell_type": "markdown",
   "id": "213f2005",
   "metadata": {},
   "source": [
    "|Test Input|Purpose of test|Expected Ouput|\n",
    "|---|---|---|\n",
    "|insertionSort([5,3,5,2,6,2,7,4,3,8,3,8,4,7,3,7,4,7,3,7])|Normal Case|[2, 2, 3, 3, 3, 3, 3, 4, 4, 4, 5, 5, 6, 7, 7, 7, 7, 7, 8, 8]|\n",
    "|[]|Boundary Case|[]|\n",
    "|'AAAA'|Invalid Case|Exception|"
   ]
  },
  {
   "cell_type": "code",
   "execution_count": 2,
   "id": "81c71a94",
   "metadata": {},
   "outputs": [],
   "source": [
    "# Task 2.3\n",
    "def fibo(n):\n",
    "    if n == 1:\n",
    "        return 1\n",
    "    elif n == 0:\n",
    "        return 0\n",
    "    elif n > 1:\n",
    "        return fibo(n-1) + fibo(n-2)\n",
    "    else:\n",
    "        return -1"
   ]
  },
  {
   "cell_type": "markdown",
   "id": "f0e5b080",
   "metadata": {},
   "source": [
    "|Test Input|Purpose of test|Expected Output|\n",
    "|---|---|---|\n",
    "|fibo(5)|Normal Case|5|\n",
    "|fibo(0)|Boundary Case|0|\n",
    "|fibo(-1000)|Invalid Case|-1|"
   ]
  },
  {
   "cell_type": "code",
   "execution_count": 1,
   "id": "f1d86fae",
   "metadata": {},
   "outputs": [],
   "source": [
    "import sys\n",
    "sys.setrecursionlimit(10000)"
   ]
  },
  {
   "cell_type": "code",
   "execution_count": null,
   "id": "23df874a",
   "metadata": {},
   "outputs": [],
   "source": [
    "# Task 2.5\n",
    "fibo(1346270)"
   ]
  },
  {
   "cell_type": "code",
   "execution_count": null,
   "id": "98b94ec8",
   "metadata": {},
   "outputs": [],
   "source": [
    "# Task 2.5\n",
    "fibo(24157817)"
   ]
  }
 ],
 "metadata": {
  "kernelspec": {
   "display_name": "Python 3 (ipykernel)",
   "language": "python",
   "name": "python3"
  },
  "language_info": {
   "codemirror_mode": {
    "name": "ipython",
    "version": 3
   },
   "file_extension": ".py",
   "mimetype": "text/x-python",
   "name": "python",
   "nbconvert_exporter": "python",
   "pygments_lexer": "ipython3",
   "version": "3.9.5"
  }
 },
 "nbformat": 4,
 "nbformat_minor": 5
}
