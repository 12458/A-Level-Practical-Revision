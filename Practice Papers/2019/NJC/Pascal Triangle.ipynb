{
 "cells": [
  {
   "cell_type": "code",
   "execution_count": 10,
   "metadata": {},
   "outputs": [
    {
     "name": "stdout",
     "output_type": "stream",
     "text": [
      "[[0], [1], [1, 1], [1, 2, 1], [1, 3, 3, 1], [1, 4, 6, 4, 1], [1, 5, 10, 10, 5, 1], [1, 6, 15, 20, 15, 6, 1], [1, 7, 21, 35, 35, 21, 7, 1]]\n"
     ]
    }
   ],
   "source": [
    "n=8\n",
    "array=[]\n",
    "array.append([0]) # row 0\n",
    "array.append([1])  # row 1\n",
    "array.append([1,1]) #row 2\n",
    "for row in range(3,n+1):\n",
    "    new_row=[]\n",
    "    last_elem=array[row-1][-1]\n",
    "    new_row.append(array[row-1][0])\n",
    "    for i in range(len(array[row-1])-1):\n",
    "        new_row.append( array[row-1][i] + array[row-1][i+1] )\n",
    "    else:\n",
    "        new_row.append(last_elem)\n",
    "    array.append(new_row)\n",
    "print(array)"
   ]
  },
  {
   "cell_type": "code",
   "execution_count": 20,
   "metadata": {},
   "outputs": [],
   "source": [
    "def pascal(n):\n",
    "    if n < 1:\n",
    "        return\n",
    "    array=[]\n",
    "    array.append([0]) # row 0\n",
    "    array.append([1])  # row 1\n",
    "    array.append([1,1])\n",
    "    return pas_outer(2,n-1, array)\n",
    "\n",
    "def pas_outer(prev_row, end_row, array):\n",
    "    if prev_row == end_row:\n",
    "        return array\n",
    "    new_row=[]\n",
    "    last_elem=array[prev_row][-1]\n",
    "    new_row.append(array[prev_row][0])\n",
    "    new_row = pas_inner(0,len(array[prev_row])-2,array[prev_row],new_row)\n",
    "    array.append(new_row)\n",
    "    return pas_outer(prev_row+1, end_row, array)\n",
    "\n",
    "def pas_inner(start_i, end_i, prev_row, new_row):\n",
    "    if start_i == end_i:\n",
    "        new_row.append(prev_row[end_i+1])\n",
    "        return new_row\n",
    "    elif start_i == 0:\n",
    "        new_row.append(prev_row[0])\n",
    "    new_row.append(prev_row[start_i]+prev_row[start_i+1])\n",
    "    return pas_inner(start_i+1, end_i, prev_row, new_row)\n"
   ]
  },
  {
   "cell_type": "code",
   "execution_count": 22,
   "metadata": {},
   "outputs": [
    {
     "data": {
      "text/plain": [
       "[[0], [1], [1, 1], [1, 1], [1, 1]]"
      ]
     },
     "execution_count": 22,
     "metadata": {},
     "output_type": "execute_result"
    }
   ],
   "source": [
    "pascal(5)"
   ]
  },
  {
   "cell_type": "code",
   "execution_count": null,
   "metadata": {},
   "outputs": [],
   "source": []
  }
 ],
 "metadata": {
  "kernelspec": {
   "display_name": "Python 3",
   "language": "python",
   "name": "python3"
  },
  "language_info": {
   "codemirror_mode": {
    "name": "ipython",
    "version": 3
   },
   "file_extension": ".py",
   "mimetype": "text/x-python",
   "name": "python",
   "nbconvert_exporter": "python",
   "pygments_lexer": "ipython3",
   "version": "3.6.4"
  }
 },
 "nbformat": 4,
 "nbformat_minor": 2
}
