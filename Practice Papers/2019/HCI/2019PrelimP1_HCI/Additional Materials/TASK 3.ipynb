{
 "cells": [
  {
   "cell_type": "code",
   "execution_count": 3,
   "id": "9a9700b6",
   "metadata": {},
   "outputs": [],
   "source": [
    "class Student:\n",
    "    def __init__(self, s_id, name):\n",
    "        self.StudID = s_id\n",
    "        self.Name = name\n",
    "        self.result = None\n",
    "        \n",
    "    def ENTER_RESULT(self):\n",
    "        id_of_student = str(input('ENTER ID:').strip())\n",
    "        assert id_of_student.isnumeric()\n",
    "        with open('STUDENT.txt') as f:\n",
    "            import csv\n",
    "            c = csv.reader(f, delimiter='|')\n",
    "            student_data = list(c)\n",
    "        for i in range(len(c)):\n",
    "            if id_of_student == student_data[i][0]:\n",
    "                print(student_data[i])\n",
    "                result = input('ENTER RESULT > ').strip()\n",
    "                student_data[i][5] = result\n",
    "                with open('STUDENT.txt', 'w') as f:\n",
    "                    c = csv.writer(f, delimiter='|')\n",
    "                    c.writerow(student_data)\n",
    "                return\n",
    "        print('NOT FOUND')\n",
    "        return\n",
    "    \n",
    "class Diploma(Student):\n",
    "    def __init__(self, s_id, name, no_of_sub):\n",
    "        self.StudType = 'D'\n",
    "        self.noOfSub = no_of_sub\n",
    "        super().__init__(s_id, name)\n",
    "        \n",
    "\n",
    "class SkillsCert(Student):\n",
    "    def __init__(self, s_id, name, skill_area):\n",
    "        self.StudType = 'S'\n",
    "        self.skill_area = skill_area\n",
    "        super().__init__(s_id, name)"
   ]
  }
 ],
 "metadata": {
  "kernelspec": {
   "display_name": "Python 3 (ipykernel)",
   "language": "python",
   "name": "python3"
  },
  "language_info": {
   "codemirror_mode": {
    "name": "ipython",
    "version": 3
   },
   "file_extension": ".py",
   "mimetype": "text/x-python",
   "name": "python",
   "nbconvert_exporter": "python",
   "pygments_lexer": "ipython3",
   "version": "3.9.5"
  }
 },
 "nbformat": 4,
 "nbformat_minor": 5
}
