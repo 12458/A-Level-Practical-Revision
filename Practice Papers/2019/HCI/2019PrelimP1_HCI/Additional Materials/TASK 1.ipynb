{
 "cells": [
  {
   "cell_type": "code",
   "execution_count": 41,
   "id": "b7cfa07d",
   "metadata": {},
   "outputs": [],
   "source": [
    "# Task 1.1\n",
    "def Price(start:str, end:str) -> float:\n",
    "    import math\n",
    "    \n",
    "    hour_start = start[:2]\n",
    "    min_start = start[2:]\n",
    "    start_time = int(hour_start) * 60 + int(min_start)\n",
    "    hour_end = end[:2]\n",
    "    min_end = end[2:]\n",
    "    end_time = int(hour_end) * 60 + int(min_end)\n",
    "    \n",
    "    # print(start_time, end_time)\n",
    "    \n",
    "    final_charge = 0\n",
    "    \n",
    "    if end_time > 1020:\n",
    "        final_charge += 3.00\n",
    "        \n",
    "        if start_time > 1020:\n",
    "            return final_charge\n",
    "        final_charge += (math.ceil((1020 - start_time) / 60))*1.50\n",
    "        return final_charge\n",
    "    else:\n",
    "        final_charge += (math.ceil((end_time - start_time) / 60))*1.50\n",
    "        return final_charge"
   ]
  },
  {
   "cell_type": "code",
   "execution_count": 42,
   "id": "51fbbd58",
   "metadata": {},
   "outputs": [
    {
     "data": {
      "text/plain": [
       "1.5"
      ]
     },
     "execution_count": 42,
     "metadata": {},
     "output_type": "execute_result"
    }
   ],
   "source": [
    "Price('0810','0910')"
   ]
  },
  {
   "cell_type": "code",
   "execution_count": 51,
   "id": "8888cd78",
   "metadata": {},
   "outputs": [],
   "source": [
    "# Task 1.2\n",
    "\n",
    "charges = {}\n",
    "\n",
    "import csv\n",
    "with open('CARPARK.txt') as f:\n",
    "    c = csv.reader(f)\n",
    "    data = list(c)\n",
    "\n",
    "for record in data:\n",
    "    charges[record[0]] = 0\n",
    "\n",
    "for carplate in charges.keys():\n",
    "    for record in data:\n",
    "        if record[0] == carplate:\n",
    "            charges[carplate] += Price(record[1],record[2])\n",
    "out_str = ''\n",
    "for carplate in charges.keys():\n",
    "    out_str += f'{carplate},{charges[carplate]}\\n'\n",
    "\n",
    "with open('CHARGE.txt', 'w') as f:\n",
    "    f.write(out_str)"
   ]
  },
  {
   "cell_type": "code",
   "execution_count": 46,
   "id": "c483bf4c",
   "metadata": {},
   "outputs": [
    {
     "data": {
      "text/plain": [
       "{'SKE8020A': 1.5,\n",
       " 'SGB9318X': 3.0,\n",
       " 'SCE3196K': 1.5,\n",
       " 'SXW2450N': 3.0,\n",
       " 'SGH3848Z': 15.0,\n",
       " 'SBZ1089D': 3.0,\n",
       " 'SJW1146D': 3.0,\n",
       " 'SJI2099I': 7.5,\n",
       " 'STL2237R': 4.5,\n",
       " 'SDW1093J': 6.0,\n",
       " 'SUR6500I': 1.5,\n",
       " 'SWI0690A': 4.5,\n",
       " 'SXG0080S': 7.5,\n",
       " 'SJN5873S': 4.5,\n",
       " 'SMM7730X': 3.0,\n",
       " 'SVG9455W': 4.5,\n",
       " 'SEJ8694B': 3.0,\n",
       " 'SGR1045C': 3.0,\n",
       " 'SEP7331C': 3.0,\n",
       " 'SYM2699G': 3.0}"
      ]
     },
     "execution_count": 46,
     "metadata": {},
     "output_type": "execute_result"
    }
   ],
   "source": [
    "charges"
   ]
  }
 ],
 "metadata": {
  "kernelspec": {
   "display_name": "Python 3 (ipykernel)",
   "language": "python",
   "name": "python3"
  },
  "language_info": {
   "codemirror_mode": {
    "name": "ipython",
    "version": 3
   },
   "file_extension": ".py",
   "mimetype": "text/x-python",
   "name": "python",
   "nbconvert_exporter": "python",
   "pygments_lexer": "ipython3",
   "version": "3.9.5"
  }
 },
 "nbformat": 4,
 "nbformat_minor": 5
}
