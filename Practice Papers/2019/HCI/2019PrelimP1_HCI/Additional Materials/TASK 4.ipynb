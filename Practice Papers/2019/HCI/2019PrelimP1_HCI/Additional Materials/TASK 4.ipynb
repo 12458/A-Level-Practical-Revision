{
 "cells": [
  {
   "cell_type": "code",
   "execution_count": 5,
   "id": "d19761b8",
   "metadata": {},
   "outputs": [],
   "source": [
    "class ListNode:\n",
    "    def __init__(self):\n",
    "        self.id = None\n",
    "        self.score = None\n",
    "        self.ptr = -1\n",
    "    \n",
    "    def __repr__(self):\n",
    "        return f'{self.id}:{self.score}:{self.ptr}'\n",
    "    \n",
    "class LinkedList:\n",
    "    def __init__(self):\n",
    "        self.size = 20\n",
    "        self.node = [ListNode() for _ in range(self.size)]\n",
    "        self.HeadPtr = -1\n",
    "        self.FreePtr = 0\n",
    "        \n",
    "        for i in range(self.size-1):\n",
    "            self.node[i].ptr = i+1\n",
    "        \n",
    "    def AddInOrder(self, pid, score):\n",
    "        print(f'ADD {pid}; {score}')\n",
    "        # Check for free node:\n",
    "        if self.FreePtr == -1:\n",
    "            return False\n",
    "        # Get free node\n",
    "        free_node_index = self.FreePtr\n",
    "        # Update free ptr\n",
    "        self.FreePtr = self.node[free_node_index].ptr\n",
    "        self.node[free_node_index].ptr = -1\n",
    "        self.node[free_node_index].id = pid\n",
    "        self.node[free_node_index].score = score\n",
    "        \n",
    "        # Update pointers\n",
    "        \n",
    "        # Traverse and find correct position\n",
    "        i = self.HeadPtr\n",
    "        prev_i = -1\n",
    "        while i != -1:\n",
    "            if self.node[i].score <= score:\n",
    "                while self.node[i].score == score and self.node[i].id < pid:\n",
    "                    prev_i = i\n",
    "                    i = self.node[i].ptr\n",
    "                break\n",
    "            prev_i = i\n",
    "            i = self.node[i].ptr\n",
    "        \n",
    "        \n",
    "            \n",
    "        if prev_i == -1: # empty data list\n",
    "            self.node[free_node_index].ptr = self.HeadPtr\n",
    "            self.HeadPtr = free_node_index          \n",
    "        else:\n",
    "            self.node[prev_i].ptr = free_node_index\n",
    "            self.node[free_node_index].ptr = i\n",
    "        print(self.traverse())\n",
    "        return True\n",
    "    \n",
    "    \n",
    "    def traverse(self):\n",
    "        ret = \"\"\n",
    "        i = self.HeadPtr\n",
    "        while i != -1:\n",
    "            ret += f'{self.node[i]}-->'\n",
    "            i = self.node[i].ptr\n",
    "        return ret\n",
    "        \n",
    "    \n",
    "    def OutputData(self):\n",
    "        print(f'HEAD PTR:{self.HeadPtr}\\nFREE PTR:{self.FreePtr}\\nNODES:{self.node}')\n",
    "        \n",
    "    def DisplayByRank(self):\n",
    "        print(f'{\"Rank\":<8}{\"Player ID\":<16}{\"Score\":<8}\\n')\n",
    "        rank_count = 1\n",
    "        same_count = 0\n",
    "        prev_i = -1\n",
    "        i = self.HeadPtr\n",
    "        while i != -1:\n",
    "            if self.node[i].score == self.node[prev_i].score:\n",
    "                print(f'{same_count:<8}{self.node[i].id:<16}{self.node[i].score:<8}')\n",
    "            else:\n",
    "                print(f'{rank_count:<8}{self.node[i].id:<16}{self.node[i].score:<8}')\n",
    "                same_count = rank_count\n",
    "            prev_i = i\n",
    "            i = self.node[i].ptr\n",
    "            rank_count += 1\n",
    "    \n",
    "    def ReverseTraversal(self):\n",
    "        elem = 0\n",
    "        i = self.HeadPtr\n",
    "        while i != -1:\n",
    "            elem += 1\n",
    "            i = self.node[i].ptr\n",
    "        def recur(elem):\n",
    "            j = elem\n",
    "            i = self.HeadPtr\n",
    "            while i != -1 and j > 0:\n",
    "                i = self.node[i].ptr\n",
    "                j -= 1\n",
    "            print(self.node[i])\n",
    "            return recur(elem-1) if elem > 0 else 0\n",
    "        recur(elem-1)"
   ]
  },
  {
   "cell_type": "code",
   "execution_count": 95,
   "id": "f17ea312",
   "metadata": {},
   "outputs": [
    {
     "name": "stdout",
     "output_type": "stream",
     "text": [
      "ADD B111; 28\n",
      "B111:28:-1-->\n",
      "ADD E111; 8\n",
      "B111:28:1-->E111:8:-1-->\n",
      "ADD D111; 20\n",
      "B111:28:2-->D111:20:1-->E111:8:-1-->\n",
      "ADD D222; 10\n",
      "B111:28:2-->D111:20:3-->D222:10:1-->E111:8:-1-->\n",
      "ADD E333; 25\n",
      "B111:28:4-->E333:25:2-->D111:20:3-->D222:10:1-->E111:8:-1-->\n",
      "ADD Z333; 35\n",
      "Z333:35:0-->B111:28:4-->E333:25:2-->D111:20:3-->D222:10:1-->E111:8:-1-->\n",
      "HEAD PTR:5\n",
      "FREE PTR:6\n",
      "NODES:[B111:28:4, E111:8:-1, D111:20:3, D222:10:1, E333:25:2, Z333:35:0, None:None:7, None:None:8, None:None:9, None:None:10, None:None:11, None:None:12, None:None:13, None:None:14, None:None:15, None:None:16, None:None:17, None:None:18, None:None:19, None:None:-1]\n"
     ]
    }
   ],
   "source": [
    "ll = LinkedList()\n",
    "\n",
    "import csv\n",
    "with open('SCORES1.txt') as f:\n",
    "    c = csv.reader(f)\n",
    "    for entry in c:\n",
    "        ll.AddInOrder(entry[0], int(entry[1]))\n",
    "        \n",
    "ll.OutputData()"
   ]
  },
  {
   "cell_type": "code",
   "execution_count": 54,
   "id": "e9a31762",
   "metadata": {},
   "outputs": [
    {
     "data": {
      "text/plain": [
       "'D222:10:2-->D111:20:4-->E333:25:0-->B111:28:5-->Z333:35:1-->E111:8:-1-->'"
      ]
     },
     "execution_count": 54,
     "metadata": {},
     "output_type": "execute_result"
    }
   ],
   "source": [
    "ll.traverse()"
   ]
  },
  {
   "cell_type": "code",
   "execution_count": 6,
   "id": "2f414dfc",
   "metadata": {
    "scrolled": true
   },
   "outputs": [
    {
     "name": "stdout",
     "output_type": "stream",
     "text": [
      "ADD B111; 28\n",
      "B111:28:-1-->\n",
      "ADD A222; 10\n",
      "B111:28:1-->A222:10:-1-->\n",
      "ADD E111; 8\n",
      "B111:28:1-->A222:10:2-->E111:8:-1-->\n",
      "ADD D111; 20\n",
      "B111:28:3-->D111:20:1-->A222:10:2-->E111:8:-1-->\n",
      "ADD D222; 10\n",
      "B111:28:3-->D111:20:1-->A222:10:4-->D222:10:2-->E111:8:-1-->\n",
      "ADD E333; 25\n",
      "B111:28:5-->E333:25:3-->D111:20:1-->A222:10:4-->D222:10:2-->E111:8:-1-->\n",
      "ADD Z333; 35\n",
      "Z333:35:0-->B111:28:5-->E333:25:3-->D111:20:1-->A222:10:4-->D222:10:2-->E111:8:-1-->\n",
      "ADD F111; 35\n",
      "F111:35:6-->Z333:35:0-->B111:28:5-->E333:25:3-->D111:20:1-->A222:10:4-->D222:10:2-->E111:8:-1-->\n",
      "ADD B222; 10\n",
      "F111:35:6-->Z333:35:0-->B111:28:5-->E333:25:3-->D111:20:1-->A222:10:8-->B222:10:4-->D222:10:2-->E111:8:-1-->\n",
      "ADD Q333; 28\n",
      "F111:35:6-->Z333:35:0-->B111:28:9-->Q333:28:5-->E333:25:3-->D111:20:1-->A222:10:8-->B222:10:4-->D222:10:2-->E111:8:-1-->\n",
      "HEAD PTR:7\n",
      "FREE PTR:10\n",
      "NODES:[B111:28:9, A222:10:8, E111:8:-1, D111:20:1, D222:10:2, E333:25:3, Z333:35:0, F111:35:6, B222:10:4, Q333:28:5, None:None:11, None:None:12, None:None:13, None:None:14, None:None:15, None:None:16, None:None:17, None:None:18, None:None:19, None:None:-1]\n"
     ]
    }
   ],
   "source": [
    "ll = LinkedList()\n",
    "\n",
    "import csv\n",
    "with open('SCORES2.txt') as f:\n",
    "    c = csv.reader(f)\n",
    "    for entry in c:\n",
    "        ll.AddInOrder(entry[0], int(entry[1]))\n",
    "        \n",
    "ll.OutputData()"
   ]
  },
  {
   "cell_type": "code",
   "execution_count": 3,
   "id": "1e0cea79",
   "metadata": {},
   "outputs": [
    {
     "name": "stdout",
     "output_type": "stream",
     "text": [
      "Rank    Player ID       Score   \n",
      "\n",
      "1       F111            35      \n",
      "1       Z333            35      \n",
      "3       B111            28      \n",
      "3       Q333            28      \n",
      "5       E333            25      \n",
      "6       D111            20      \n",
      "7       A222            10      \n",
      "7       B222            10      \n",
      "7       D222            10      \n",
      "10      E111            8       \n"
     ]
    }
   ],
   "source": [
    "ll.DisplayByRank()"
   ]
  },
  {
   "cell_type": "code",
   "execution_count": 7,
   "id": "d947d7db",
   "metadata": {},
   "outputs": [
    {
     "name": "stdout",
     "output_type": "stream",
     "text": [
      "E111:8:-1\n",
      "D222:10:2\n",
      "B222:10:4\n",
      "A222:10:8\n",
      "D111:20:1\n",
      "E333:25:3\n",
      "Q333:28:5\n",
      "B111:28:9\n",
      "Z333:35:0\n",
      "F111:35:6\n"
     ]
    }
   ],
   "source": [
    "ll.ReverseTraversal()"
   ]
  }
 ],
 "metadata": {
  "kernelspec": {
   "display_name": "Python 3 (ipykernel)",
   "language": "python",
   "name": "python3"
  },
  "language_info": {
   "codemirror_mode": {
    "name": "ipython",
    "version": 3
   },
   "file_extension": ".py",
   "mimetype": "text/x-python",
   "name": "python",
   "nbconvert_exporter": "python",
   "pygments_lexer": "ipython3",
   "version": "3.9.5"
  }
 },
 "nbformat": 4,
 "nbformat_minor": 5
}
