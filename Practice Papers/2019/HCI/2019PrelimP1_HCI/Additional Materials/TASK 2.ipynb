{
 "cells": [
  {
   "cell_type": "code",
   "execution_count": 7,
   "id": "4b91b1bd",
   "metadata": {},
   "outputs": [],
   "source": [
    "# Task 2.1\n",
    "def insertion_sort(A):\n",
    "    for i in range(1,len(A)):\n",
    "        key = A[i]\n",
    "        j = i - 1\n",
    "        while j >= 0 and A[j] > key:\n",
    "            A[j + 1] = A[j]\n",
    "            j -= 1\n",
    "        A[j + 1] = key\n",
    "    return A"
   ]
  },
  {
   "cell_type": "code",
   "execution_count": 8,
   "id": "ae44403d",
   "metadata": {},
   "outputs": [
    {
     "data": {
      "text/plain": [
       "[1, 2, 3, 3, 4, 4, 4, 5, 5, 5, 5, 6, 8]"
      ]
     },
     "execution_count": 8,
     "metadata": {},
     "output_type": "execute_result"
    }
   ],
   "source": [
    "insertion_sort([5,4,2,5,8,6,4,1,3,5,4,3,5])"
   ]
  },
  {
   "cell_type": "code",
   "execution_count": 23,
   "id": "d439db3f",
   "metadata": {},
   "outputs": [],
   "source": [
    "# Task 2.2\n",
    "def binary_search(A, target):\n",
    "    lb = 0\n",
    "    ub = len(A) - 1\n",
    "    \n",
    "    while lb <= ub:\n",
    "        mid = (lb + ub) // 2\n",
    "        if A[mid] == target:\n",
    "            ret = [mid]\n",
    "            \n",
    "            up = mid + 1\n",
    "            down = mid - 1\n",
    "            \n",
    "            while A[up] == target:\n",
    "                ret.append(up)\n",
    "                up += 1\n",
    "            \n",
    "            while A[down] == target:\n",
    "                ret.append(down)\n",
    "                down -= 1\n",
    "            \n",
    "            return insertion_sort(ret)\n",
    "        \n",
    "        elif A[mid] < target:\n",
    "            lb = mid + 1\n",
    "        else:\n",
    "            ub = mid - 1\n",
    "    return -1"
   ]
  },
  {
   "cell_type": "code",
   "execution_count": 25,
   "id": "dbf193ce",
   "metadata": {},
   "outputs": [
    {
     "data": {
      "text/plain": [
       "[4, 5, 6]"
      ]
     },
     "execution_count": 25,
     "metadata": {},
     "output_type": "execute_result"
    }
   ],
   "source": [
    "binary_search([1, 2, 3, 3, 4, 4, 4, 5, 5, 5, 5, 6, 8], 4)"
   ]
  },
  {
   "cell_type": "code",
   "execution_count": 30,
   "id": "26730fce",
   "metadata": {},
   "outputs": [
    {
     "name": "stdout",
     "output_type": "stream",
     "text": [
      "[11, 23, 23, 23, 23, 24, 24, 26, 32, 37, 43, 43, 43, 56, 61, 65, 65, 78, 86, 94]\n",
      "ENTER TARGET> 11\n",
      "FOUND AT INDEX [0]\n"
     ]
    }
   ],
   "source": [
    "# Task 2.3\n",
    "with open('NUMBERS.txt') as f:\n",
    "    numbers = [int(i) for i in f.read().split('\\n')]\n",
    "sorted_num = insertion_sort(numbers[:])\n",
    "print(sorted_num)\n",
    "\n",
    "target = int(input('ENTER TARGET> '))\n",
    "\n",
    "ret = binary_search(sorted_num, target)\n",
    "if ret == -1:\n",
    "    print('NOT FOUND')\n",
    "else:\n",
    "    print(f'FOUND AT INDEX {ret}')"
   ]
  },
  {
   "cell_type": "markdown",
   "id": "e646ba42",
   "metadata": {},
   "source": [
    "# Task 2.4\n",
    "|Input|Purpose of test|Expected Output|\n",
    "|---|---|---|\n",
    "|23|Normal Case|FOUND AT INDEX [1, 2, 3, 4]|\n",
    "|-1|Boundary Case|NOT FOUND|\n",
    "|AAA|Invalid Case|Exception|"
   ]
  }
 ],
 "metadata": {
  "kernelspec": {
   "display_name": "Python 3 (ipykernel)",
   "language": "python",
   "name": "python3"
  },
  "language_info": {
   "codemirror_mode": {
    "name": "ipython",
    "version": 3
   },
   "file_extension": ".py",
   "mimetype": "text/x-python",
   "name": "python",
   "nbconvert_exporter": "python",
   "pygments_lexer": "ipython3",
   "version": "3.9.5"
  }
 },
 "nbformat": 4,
 "nbformat_minor": 5
}
