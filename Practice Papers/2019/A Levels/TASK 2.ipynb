{
 "cells": [
  {
   "cell_type": "code",
   "execution_count": 13,
   "id": "4d52ced4",
   "metadata": {},
   "outputs": [
    {
     "name": "stdout",
     "output_type": "stream",
     "text": [
      "ENTER STRING > This is a word\n",
      "Guvf vf n jbeq\n"
     ]
    }
   ],
   "source": [
    "string = list(input('ENTER STRING > '))\n",
    "rot13 = []\n",
    "\n",
    "for char in string:\n",
    "    if char.isupper() and ord(char) != 32:\n",
    "        rot13.append(chr(((ord(char)-65+13)%26)+65))\n",
    "    elif char.islower() and ord(char) != 32:\n",
    "        rot13.append(chr(((ord(char)-97+13)%26)+97))\n",
    "    elif ord(char) == 32:\n",
    "        rot13.append(char)\n",
    "    else:\n",
    "        rot13.append(char)\n",
    "print(''.join(rot13))"
   ]
  },
  {
   "cell_type": "code",
   "execution_count": 15,
   "id": "5b9c87b3",
   "metadata": {},
   "outputs": [
    {
     "name": "stdout",
     "output_type": "stream",
     "text": [
      "ENTER STRING > ALL &&&& CAPITALS\n",
      "NYY &&&& PNCVGNYF\n"
     ]
    }
   ],
   "source": [
    "string = list(input('ENTER STRING > '))\n",
    "rot13 = []\n",
    "\n",
    "for char in string:\n",
    "    if char.isupper() and ord(char) != 32:\n",
    "        rot13.append(chr(((ord(char)-65+13)%26)+65))\n",
    "    elif char.islower() and ord(char) != 32:\n",
    "        rot13.append(chr(((ord(char)-97+13)%26)+97))\n",
    "    elif ord(char) == 32:\n",
    "        rot13.append(char)\n",
    "    else:\n",
    "        rot13.append(char)\n",
    "print(''.join(rot13))"
   ]
  },
  {
   "cell_type": "code",
   "execution_count": 18,
   "id": "617a7832",
   "metadata": {},
   "outputs": [
    {
     "name": "stdout",
     "output_type": "stream",
     "text": [
      "ENTER STRING > This is a word.\n",
      "This is a word.\n"
     ]
    }
   ],
   "source": [
    "string = list(input('ENTER STRING > '))\n",
    "rot13 = []\n",
    "rot13_2 = []\n",
    "\n",
    "for char in string:\n",
    "    if char.isupper() and ord(char) != 32:\n",
    "        rot13.append(chr(((ord(char)-65+13)%26)+65))\n",
    "    elif char.islower() and ord(char) != 32:\n",
    "        rot13.append(chr(((ord(char)-97+13)%26)+97))\n",
    "    elif ord(char) == 32:\n",
    "        rot13.append(char)\n",
    "    else:\n",
    "        rot13.append(char)\n",
    "\n",
    "for char in rot13:\n",
    "    if char.isupper() and ord(char) != 32:\n",
    "        rot13_2.append(chr(((ord(char)-65+13)%26)+65))\n",
    "    elif char.islower() and ord(char) != 32:\n",
    "        rot13_2.append(chr(((ord(char)-97+13)%26)+97))\n",
    "    elif ord(char) == 32:\n",
    "        rot13_2.append(char)\n",
    "    else:\n",
    "        rot13_2.append(char)\n",
    "\n",
    "print(''.join(rot13_2))"
   ]
  }
 ],
 "metadata": {
  "kernelspec": {
   "display_name": "Python 3 (ipykernel)",
   "language": "python",
   "name": "python3"
  },
  "language_info": {
   "codemirror_mode": {
    "name": "ipython",
    "version": 3
   },
   "file_extension": ".py",
   "mimetype": "text/x-python",
   "name": "python",
   "nbconvert_exporter": "python",
   "pygments_lexer": "ipython3",
   "version": "3.9.5"
  }
 },
 "nbformat": 4,
 "nbformat_minor": 5
}
