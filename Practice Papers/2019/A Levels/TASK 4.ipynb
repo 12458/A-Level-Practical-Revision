{
 "cells": [
  {
   "cell_type": "code",
   "execution_count": 2,
   "id": "d3f08490",
   "metadata": {},
   "outputs": [],
   "source": [
    "# TASK 4.1\n",
    "class Stack:\n",
    "    def __init__(self, size):\n",
    "        self.buffer = [None for _ in range(size)]\n",
    "        self.size = size\n",
    "        self.top = -1\n",
    "\n",
    "    def push(self, item):\n",
    "        if self.isFull():\n",
    "            return\n",
    "        self.top += 1\n",
    "        self.buffer[self.top] = item\n",
    "\n",
    "    def pop(self):\n",
    "        if self.isEmpty():\n",
    "            return\n",
    "        ret = self.buffer[self.top]\n",
    "        self.buffer[self.top] = None\n",
    "        self.top -= 1\n",
    "        return ret\n",
    "\n",
    "    def isEmpty(self):\n",
    "        return self.top == -1\n",
    "\n",
    "    def isFull(self):\n",
    "        return self.top == self.size - 1\n",
    "\n",
    "    def peek(self):\n",
    "        if self.isEmpty():\n",
    "            return\n",
    "        return self.buffer[self.top]\n",
    "    \n",
    "    def size(self):\n",
    "        return self.size"
   ]
  },
  {
   "cell_type": "markdown",
   "id": "09fe5f87",
   "metadata": {},
   "source": [
    "# Task 4.2\n",
    "---\n",
    "|Test Case|Reason for choice|Expected Value|\n",
    "|---|---|---|\n",
    "|`([8-1]/(5*7))`|Provided|Succeeds|\n",
    "|`[[8-1]/(5*7))`|Provided|Fails|\n",
    "|`(1+1)/(2+2)`|Valid Case|Succeeds|\n",
    "|`A`|Boundary Case|Succeeds|\n",
    "|`<`|Invalid Case|Fails|\n",
    "|`>`|Invalid Case|Fails|\n",
    "|`(((((()`|Invalid Case|Fails|"
   ]
  },
  {
   "cell_type": "code",
   "execution_count": 14,
   "id": "da569c0b",
   "metadata": {},
   "outputs": [
    {
     "name": "stdout",
     "output_type": "stream",
     "text": [
      "E\n",
      "BALANCED\n"
     ]
    }
   ],
   "source": [
    "# Task 4.3\n",
    "def balanced_exp(exp):\n",
    "    s = Stack(len(exp))\n",
    "    open_brackets = ['[','(','<', '{']\n",
    "    close_brackets = [']',')','>', '}']\n",
    "    char_convert = {\n",
    "        '(' : ')',\n",
    "        '[' : ']',\n",
    "        '{' : '}',\n",
    "        '<' : '>'\n",
    "    }\n",
    "    for char in exp:\n",
    "        if char in open_brackets:\n",
    "            s.push(char_convert[char])\n",
    "            # print(f'PUSH {char_convert[char]}')\n",
    "        elif char in close_brackets:\n",
    "            if s.isEmpty():\n",
    "                return False\n",
    "            else:\n",
    "                bracket = s.pop()\n",
    "                # print(f'POP {bracket}')\n",
    "                if bracket != char:\n",
    "                    return False\n",
    "    if not s.isEmpty():\n",
    "        return False\n",
    "    else:\n",
    "        return True\n",
    "\n",
    "if balanced_exp(input()):\n",
    "    print('BALANCED')\n",
    "else:\n",
    "    print('NOT BALANCED')"
   ]
  },
  {
   "cell_type": "code",
   "execution_count": 15,
   "id": "a504b10e",
   "metadata": {},
   "outputs": [
    {
     "data": {
      "text/plain": [
       "True"
      ]
     },
     "execution_count": 15,
     "metadata": {},
     "output_type": "execute_result"
    }
   ],
   "source": [
    "balanced_exp('([8-1]/(5*7))')"
   ]
  },
  {
   "cell_type": "code",
   "execution_count": 16,
   "id": "2428cc1a",
   "metadata": {},
   "outputs": [
    {
     "data": {
      "text/plain": [
       "False"
      ]
     },
     "execution_count": 16,
     "metadata": {},
     "output_type": "execute_result"
    }
   ],
   "source": [
    "balanced_exp('[[8-1]/(5*7))')"
   ]
  },
  {
   "cell_type": "code",
   "execution_count": 17,
   "id": "44aff4d7",
   "metadata": {},
   "outputs": [
    {
     "data": {
      "text/plain": [
       "True"
      ]
     },
     "execution_count": 17,
     "metadata": {},
     "output_type": "execute_result"
    }
   ],
   "source": [
    "balanced_exp('(1+1)/(2+2)')"
   ]
  },
  {
   "cell_type": "code",
   "execution_count": 18,
   "id": "196c9603",
   "metadata": {},
   "outputs": [
    {
     "data": {
      "text/plain": [
       "True"
      ]
     },
     "execution_count": 18,
     "metadata": {},
     "output_type": "execute_result"
    }
   ],
   "source": [
    "balanced_exp('A')"
   ]
  },
  {
   "cell_type": "code",
   "execution_count": 19,
   "id": "f3ee890f",
   "metadata": {},
   "outputs": [
    {
     "data": {
      "text/plain": [
       "False"
      ]
     },
     "execution_count": 19,
     "metadata": {},
     "output_type": "execute_result"
    }
   ],
   "source": [
    "balanced_exp('>')"
   ]
  },
  {
   "cell_type": "code",
   "execution_count": 20,
   "id": "d3408cce",
   "metadata": {},
   "outputs": [
    {
     "data": {
      "text/plain": [
       "False"
      ]
     },
     "execution_count": 20,
     "metadata": {},
     "output_type": "execute_result"
    }
   ],
   "source": [
    "balanced_exp('<')"
   ]
  },
  {
   "cell_type": "code",
   "execution_count": 21,
   "id": "e5e0b877",
   "metadata": {},
   "outputs": [
    {
     "data": {
      "text/plain": [
       "False"
      ]
     },
     "execution_count": 21,
     "metadata": {},
     "output_type": "execute_result"
    }
   ],
   "source": [
    "balanced_exp('(((((()')"
   ]
  }
 ],
 "metadata": {
  "kernelspec": {
   "display_name": "Python 3 (ipykernel)",
   "language": "python",
   "name": "python3"
  },
  "language_info": {
   "codemirror_mode": {
    "name": "ipython",
    "version": 3
   },
   "file_extension": ".py",
   "mimetype": "text/x-python",
   "name": "python",
   "nbconvert_exporter": "python",
   "pygments_lexer": "ipython3",
   "version": "3.9.5"
  }
 },
 "nbformat": 4,
 "nbformat_minor": 5
}
