{
 "cells": [
  {
   "cell_type": "code",
   "execution_count": 3,
   "id": "07868f9f",
   "metadata": {},
   "outputs": [],
   "source": [
    "class StoneGame:\n",
    "    def __init__(self):\n",
    "        self.grid = [['.' for _ in range(15)] for _ in range(8)]\n",
    "    \n",
    "    def __repr__(self):\n",
    "        return '\\n'.join([''.join(i) for i in self.grid])\n",
    "    \n",
    "    def display(self):\n",
    "        print(self)\n",
    "    \n",
    "    def throw(self, x, y):\n",
    "        # since top left is x=1, y=1\n",
    "        self.grid[y-1][x-1] = 'S'\n",
    "    \n",
    "    def get_input(self):\n",
    "        x = int(input('X Coordinate <1 to 15> ? '))\n",
    "        y = int(input('Y Coordinate <1 to 8> ? '))\n",
    "        return x, y\n",
    "    \n",
    "    def game_loop(self):\n",
    "        x, y = self.get_input()\n",
    "        self.throw(x, y)\n",
    "        self.display()\n",
    "        self.simulate_fish()\n",
    "        self.display()\n",
    "        self.feed_fish()\n",
    "        self.display()\n",
    "        \n",
    "    def feed_fish(self):\n",
    "        x, y = self.get_input()\n",
    "        if self.grid[y-1][x-1] == 'F':\n",
    "            self.grid[y-1][x-1] = 'H'\n",
    "        elif self.grid[y-1][x-1] == '.':\n",
    "            self.grid[y-1][x-1] = 'P'\n",
    "    \n",
    "    def simulate_fish(self):\n",
    "        import random\n",
    "        coordinates_x = random.sample(range(1, 15+1), 3)\n",
    "        coordinates_y = random.sample(range(1, 9+1), 3)\n",
    "        for i in range(3):\n",
    "            self.grid[coordinates_y[i]][coordinates_x[i]] = 'F'\n",
    "        return\n",
    "            "
   ]
  },
  {
   "cell_type": "code",
   "execution_count": 4,
   "id": "34cad876",
   "metadata": {},
   "outputs": [
    {
     "name": "stdout",
     "output_type": "stream",
     "text": [
      "X Coordinate <1 to 15> ? 1\n",
      "Y Coordinate <1 to 8> ? 1\n",
      "S..............\n",
      "...............\n",
      "...............\n",
      "...............\n",
      "...............\n",
      "...............\n",
      "...............\n",
      "...............\n",
      "S..............\n",
      "...............\n",
      ".F.............\n",
      "...............\n",
      "...............\n",
      "...........F...\n",
      "...............\n",
      "..............F\n",
      "X Coordinate <1 to 15> ? 2\n",
      "Y Coordinate <1 to 8> ? 3\n",
      "S..............\n",
      "...............\n",
      ".H.............\n",
      "...............\n",
      "...............\n",
      "...........F...\n",
      "...............\n",
      "..............F\n"
     ]
    }
   ],
   "source": [
    "s = StoneGame()\n",
    "s.game_loop()"
   ]
  }
 ],
 "metadata": {
  "kernelspec": {
   "display_name": "Python 3 (ipykernel)",
   "language": "python",
   "name": "python3"
  },
  "language_info": {
   "codemirror_mode": {
    "name": "ipython",
    "version": 3
   },
   "file_extension": ".py",
   "mimetype": "text/x-python",
   "name": "python",
   "nbconvert_exporter": "python",
   "pygments_lexer": "ipython3",
   "version": "3.9.5"
  }
 },
 "nbformat": 4,
 "nbformat_minor": 5
}
