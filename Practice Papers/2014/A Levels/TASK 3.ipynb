{
 "cells": [
  {
   "cell_type": "code",
   "execution_count": 1,
   "id": "f0753699",
   "metadata": {},
   "outputs": [],
   "source": [
    "class LLNode:\n",
    "    def __init__(self, data):\n",
    "        self.DataValue = data\n",
    "        self.PointerValue = -1\n",
    "    \n",
    "    def __repr__(self):\n",
    "        return f'<{self.DataValue}:{self.PointerValue}>'"
   ]
  },
  {
   "cell_type": "code",
   "execution_count": 68,
   "id": "588cb7fc",
   "metadata": {},
   "outputs": [],
   "source": [
    "class LinkedList:\n",
    "    def __init__(self):\n",
    "        self.Node = [LLNode('') for _ in range(30)]\n",
    "        self.Start = -1\n",
    "        self.NextFree = 0\n",
    "        # link free list\n",
    "        for i in range(30):\n",
    "            self.Node[i].PointerValue = i + 1\n",
    "        self.Node[-1].PointerValue = -1\n",
    "    \n",
    "    def Initialise(self):\n",
    "        self.__init__()\n",
    "    \n",
    "    def AddNode(self, data):\n",
    "        if not self.isFull():\n",
    "            self.Node[self.NextFree].DataValue = data\n",
    "            if self.Start == -1:\n",
    "                # empty condition\n",
    "                self.Start = self.NextFree\n",
    "                Temp = self.Node[self.NextFree].PointerValue\n",
    "                self.Node[self.NextFree].PointerValue = -1 # null\n",
    "                self.NextFree = Temp\n",
    "                return True\n",
    "            else:\n",
    "                # traverse the list -- starting at Start to find the position at which to insert the new item\n",
    "                Temp = self.Node[self.NextFree].PointerValue\n",
    "\n",
    "                if data < self.Node[self.Start].DataValue:\n",
    "                    # new item will become the start of the list\n",
    "                    self.Node[self.NextFree].PointerValue = self.Start\n",
    "                    self.Start = self.NextFree\n",
    "                    self.NextFree = Temp\n",
    "                    return True\n",
    "                else:\n",
    "                    # new item is not at the start of the list\n",
    "                    prev = -1\n",
    "                    cur = self.Start\n",
    "                    found = False\n",
    "\n",
    "                    while True:\n",
    "                        if data <= self.Node[cur].DataValue:\n",
    "                            self.Node[prev].PointerValue = self.NextFree\n",
    "                            self.Node[self.NextFree].PointerValue = cur\n",
    "                            self.NextFree = Temp\n",
    "                            found = True\n",
    "                        else:\n",
    "                            # move on to the next node\n",
    "                            prev = cur\n",
    "                            cur = self.Node[cur].PointerValue\n",
    "                        \n",
    "                        if found == True or cur == -1:\n",
    "                            break\n",
    "\n",
    "                    if cur == -1:\n",
    "                        self.Node[prev].PointerValue = self.NextFree\n",
    "                        self.Node[self.NextFree].PointerValue = -1\n",
    "                        self.NextFree = Temp\n",
    "                    return True\n",
    "        return False\n",
    "        \n",
    "    def Traversal(self):\n",
    "        def TraverseInOrder(self, idx):\n",
    "            if idx != -1:\n",
    "                print(self.Node[idx].DataValue)\n",
    "                TraverseInOrder(self, self.Node[idx].PointerValue)\n",
    "        if not self.isEmpty():\n",
    "            TraverseInOrder(self, self.Start)\n",
    "    \n",
    "    def ReverseTraversal(self):\n",
    "        def TraverseReverseOrder(self, idx):\n",
    "            # print(idx)\n",
    "            if idx == -1:\n",
    "                return []\n",
    "            else:\n",
    "                return [self.Node[idx].DataValue] + TraverseReverseOrder(self, self.Node[idx].PointerValue)\n",
    "        if not self.isEmpty():\n",
    "            for entry in TraverseReverseOrder(self, self.Start)[::-1]:\n",
    "                print(entry)\n",
    "    \n",
    "    def DisplayLinkedList(self):\n",
    "        print(self.Node)\n",
    "        \n",
    "    def isEmpty(self):\n",
    "        return self.Start == -1\n",
    "    \n",
    "    def isFull(self):\n",
    "        return self.NextFree == -1"
   ]
  },
  {
   "cell_type": "code",
   "execution_count": 59,
   "id": "81bb7e71",
   "metadata": {},
   "outputs": [],
   "source": [
    "ll = LinkedList()"
   ]
  },
  {
   "cell_type": "code",
   "execution_count": 53,
   "id": "5ef5d573",
   "metadata": {},
   "outputs": [
    {
     "name": "stdout",
     "output_type": "stream",
     "text": [
      "[<:1>, <:2>, <:3>, <:4>, <:5>, <:6>, <:7>, <:8>, <:9>, <:10>, <:11>, <:12>, <:13>, <:14>, <:15>, <:16>, <:17>, <:18>, <:19>, <:20>, <:21>, <:22>, <:23>, <:24>, <:25>, <:26>, <:27>, <:28>, <:29>, <:-1>]\n"
     ]
    }
   ],
   "source": [
    "ll.DisplayLinkedList()"
   ]
  },
  {
   "cell_type": "code",
   "execution_count": 60,
   "id": "676d563c",
   "metadata": {},
   "outputs": [
    {
     "name": "stdout",
     "output_type": "stream",
     "text": [
      "True\n",
      "[<3:-1>, <:2>, <:3>, <:4>, <:5>, <:6>, <:7>, <:8>, <:9>, <:10>, <:11>, <:12>, <:13>, <:14>, <:15>, <:16>, <:17>, <:18>, <:19>, <:20>, <:21>, <:22>, <:23>, <:24>, <:25>, <:26>, <:27>, <:28>, <:29>, <:-1>]\n",
      "True\n",
      "[<3:-1>, <2:0>, <:3>, <:4>, <:5>, <:6>, <:7>, <:8>, <:9>, <:10>, <:11>, <:12>, <:13>, <:14>, <:15>, <:16>, <:17>, <:18>, <:19>, <:20>, <:21>, <:22>, <:23>, <:24>, <:25>, <:26>, <:27>, <:28>, <:29>, <:-1>]\n",
      "True\n",
      "[<3:-1>, <2:0>, <1:1>, <:4>, <:5>, <:6>, <:7>, <:8>, <:9>, <:10>, <:11>, <:12>, <:13>, <:14>, <:15>, <:16>, <:17>, <:18>, <:19>, <:20>, <:21>, <:22>, <:23>, <:24>, <:25>, <:26>, <:27>, <:28>, <:29>, <:-1>]\n",
      "True\n",
      "[<3:-1>, <2:0>, <1:1>, <1:2>, <:5>, <:6>, <:7>, <:8>, <:9>, <:10>, <:11>, <:12>, <:13>, <:14>, <:15>, <:16>, <:17>, <:18>, <:19>, <:20>, <:21>, <:22>, <:23>, <:24>, <:25>, <:26>, <:27>, <:28>, <:29>, <:3>]\n"
     ]
    }
   ],
   "source": [
    "print(ll.AddNode('3'))\n",
    "ll.DisplayLinkedList()\n",
    "print(ll.AddNode('2'))\n",
    "ll.DisplayLinkedList()\n",
    "print(ll.AddNode('1'))\n",
    "ll.DisplayLinkedList()\n",
    "print(ll.AddNode('1'))\n",
    "ll.DisplayLinkedList()"
   ]
  },
  {
   "cell_type": "code",
   "execution_count": 61,
   "id": "001386f8",
   "metadata": {},
   "outputs": [
    {
     "name": "stdout",
     "output_type": "stream",
     "text": [
      "1\n",
      "2\n",
      "3\n"
     ]
    }
   ],
   "source": [
    "ll.Traversal()"
   ]
  },
  {
   "cell_type": "code",
   "execution_count": 62,
   "id": "d92d50a7",
   "metadata": {},
   "outputs": [
    {
     "name": "stdout",
     "output_type": "stream",
     "text": [
      "3\n",
      "2\n",
      "1\n"
     ]
    }
   ],
   "source": [
    "ll.ReverseTraversal()"
   ]
  },
  {
   "cell_type": "code",
   "execution_count": 72,
   "id": "dfd5aeb3",
   "metadata": {},
   "outputs": [
    {
     "name": "stdout",
     "output_type": "stream",
     "text": [
      "OPTION? > 4\n",
      "OPTION? > 1\n",
      "ITEM? > MANGO\n",
      "OPTION? > 1\n",
      "ITEM? > ORANGE\n",
      "OPTION? > 1\n",
      "ITEM? > BANANA\n",
      "OPTION? > 1\n",
      "ITEM? > LEMON\n",
      "OPTION? > 3\n",
      "[<MANGO:1>, <ORANGE:-1>, <BANANA:3>, <LEMON:0>, <:5>, <:6>, <:7>, <:8>, <:9>, <:10>, <:11>, <:12>, <:13>, <:14>, <:15>, <:16>, <:17>, <:18>, <:19>, <:20>, <:21>, <:22>, <:23>, <:24>, <:25>, <:26>, <:27>, <:28>, <:29>, <:-1>]\n",
      "OPTION? > 2\n",
      "BANANA\n",
      "LEMON\n",
      "MANGO\n",
      "ORANGE\n",
      "OPTION? > 4\n",
      "ORANGE\n",
      "MANGO\n",
      "LEMON\n",
      "BANANA\n",
      "OPTION? > 5\n"
     ]
    }
   ],
   "source": [
    "menu = \\\n",
    "\"\"\"\n",
    "1. Add an item\n",
    "2. Traverse the linked list of used nodes and output the data values\n",
    "3. Output all pointers and data values\n",
    "4. Traverse in reverse order the linked list of used nodes and output the data values\n",
    "5. Exit\n",
    "\"\"\"\n",
    "\n",
    "ll = LinkedList()\n",
    "\n",
    "while True:\n",
    "    option = int(input('OPTION? > '))\n",
    "    if option == 1:\n",
    "        item = input('ITEM? > ')\n",
    "        ll.AddNode(item)\n",
    "    elif option == 2:\n",
    "        ll.Traversal()\n",
    "    elif option == 3:\n",
    "        ll.DisplayLinkedList()\n",
    "    elif option == 4:\n",
    "        ll.ReverseTraversal()\n",
    "    else:\n",
    "        break"
   ]
  }
 ],
 "metadata": {
  "kernelspec": {
   "display_name": "Python 3 (ipykernel)",
   "language": "python",
   "name": "python3"
  },
  "language_info": {
   "codemirror_mode": {
    "name": "ipython",
    "version": 3
   },
   "file_extension": ".py",
   "mimetype": "text/x-python",
   "name": "python",
   "nbconvert_exporter": "python",
   "pygments_lexer": "ipython3",
   "version": "3.9.5"
  }
 },
 "nbformat": 4,
 "nbformat_minor": 5
}
