{
 "cells": [
  {
   "cell_type": "markdown",
   "id": "abff4546",
   "metadata": {},
   "source": [
    "# Task 2.1\n",
    "---\n",
    "A: `Low > High`\\\n",
    "B: `(Low + High) DIV 2`\\\n",
    "C: `return BinarySearch(ThisArray, FindValue, Middle + 1, High)`"
   ]
  },
  {
   "cell_type": "code",
   "execution_count": 5,
   "id": "40f66b3e",
   "metadata": {},
   "outputs": [],
   "source": [
    "# Task 2.2\n",
    "def InitaliseAnimals():\n",
    "    MyAnimal = [None for _ in range(33)]\n",
    "    MyAnimal[0]=\"aardvark\"\n",
    "    MyAnimal[1]=\"ant\"\n",
    "    MyAnimal[2]=\"antelope\"\n",
    "    MyAnimal[3]=\"bat\"\n",
    "    MyAnimal[4]=\"boa constrictor\"\n",
    "    MyAnimal[5]=\"camel\"\n",
    "    MyAnimal[6]=\"cat\"\n",
    "    MyAnimal[7]=\"cheetah\"\n",
    "    MyAnimal[8]=\"dog\"\n",
    "    MyAnimal[9]=\"donkey\"\n",
    "    MyAnimal[10]=\"duck\"\n",
    "    MyAnimal[11]=\"elephant\"\n",
    "    MyAnimal[12]=\"frog\"\n",
    "    MyAnimal[13]=\"giraffe\"\n",
    "    MyAnimal[14]=\"hare\"\n",
    "    MyAnimal[15]=\"horse\"\n",
    "    MyAnimal[16]=\"iguana\"\n",
    "    MyAnimal[17]=\"jackass\"\n",
    "    MyAnimal[18]=\"jaguar\"\n",
    "    MyAnimal[19]=\"leopard\"\n",
    "    MyAnimal[20]=\"lion\"\n",
    "    MyAnimal[21]=\"llama\"\n",
    "    MyAnimal[22]=\"mouse\"\n",
    "    MyAnimal[23]=\"ostrich\"\n",
    "    MyAnimal[24]=\"panther\"\n",
    "    MyAnimal[25]=\"parrot\"\n",
    "    MyAnimal[26]=\"rhinoceros\"\n",
    "    MyAnimal[27]=\"seahorse\"\n",
    "    MyAnimal[28]=\"seal\"\n",
    "    MyAnimal[29]=\"spider\"\n",
    "    MyAnimal[30]=\"turtle\"\n",
    "    MyAnimal[31]=\"whale\"\n",
    "    MyAnimal[32]=\"zebra\"\n",
    "    return MyAnimal"
   ]
  },
  {
   "cell_type": "code",
   "execution_count": 7,
   "id": "924dba64",
   "metadata": {},
   "outputs": [],
   "source": [
    "def BinarySearch(ThisArray, FindValue, Low, High):\n",
    "    if Low > High:\n",
    "        return -1\n",
    "    else:\n",
    "        Middle = (Low + High) // 2\n",
    "        if ThisArray[Middle] > FindValue:\n",
    "            return BinarySearch(ThisArray, FindValue, Low, Middle - 1)\n",
    "        elif ThisArray[Middle] < FindValue:\n",
    "            return BinarySearch(ThisArray, FindValue, Middle + 1, High) \n",
    "        else:\n",
    "            return Middle"
   ]
  },
  {
   "cell_type": "code",
   "execution_count": 9,
   "id": "1b4c63b5",
   "metadata": {},
   "outputs": [
    {
     "name": "stdout",
     "output_type": "stream",
     "text": [
      "ENTER ANIMAL NAME> turtle\n",
      "FOUND AT INDEX 30\n"
     ]
    }
   ],
   "source": [
    "animals = InitaliseAnimals()\n",
    "animal_name = input('ENTER ANIMAL NAME> ').strip()\n",
    "result = BinarySearch(animals, animal_name, 0, len(animals))\n",
    "if result != 0:\n",
    "    print(f'FOUND AT INDEX {result}')\n",
    "else:\n",
    "    print('NOT FOUND')"
   ]
  }
 ],
 "metadata": {
  "kernelspec": {
   "display_name": "Python 3 (ipykernel)",
   "language": "python",
   "name": "python3"
  },
  "language_info": {
   "codemirror_mode": {
    "name": "ipython",
    "version": 3
   },
   "file_extension": ".py",
   "mimetype": "text/x-python",
   "name": "python",
   "nbconvert_exporter": "python",
   "pygments_lexer": "ipython3",
   "version": "3.9.5"
  }
 },
 "nbformat": 4,
 "nbformat_minor": 5
}
