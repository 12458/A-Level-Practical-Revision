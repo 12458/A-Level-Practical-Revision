{
 "cells": [
  {
   "cell_type": "code",
   "execution_count": 2,
   "id": "39ba3ae9",
   "metadata": {
    "scrolled": false
   },
   "outputs": [
    {
     "name": "stdout",
     "output_type": "stream",
     "text": [
      "Next X value ... <ZZZ to END> XS\n",
      "Frequency ... 12\n",
      "Next X value ... <ZZZ to END> S\n",
      "Frequency ... 22\n",
      "Next X value ... <ZZZ to END> M\n",
      "Frequency ... 45\n",
      "Next X value ... <ZZZ to END> L\n",
      "Frequency ... 56\n",
      "Next X value ... <ZZZ to END> XL\n",
      "Frequency ... 39\n",
      "Next X value ... <ZZZ to END> XXl\n",
      "Frequency ... 11\n",
      "Next X value ... <ZZZ to END> ZZZ\n",
      "\n",
      "++++++++++++++++++++++++++++++++++++++++++++++++++++++\n",
      "Frequency Distribution\n",
      "++++++++++++++++++++++++++++++++++++++++++++++++++++++\n",
      "\n",
      "XS      @@@@@@@@@@@@\n",
      "S       @@@@@@@@@@@@@@@@@@@@@@\n",
      "M       @@@@@@@@@@@@@@@@@@@@@@@@@@@@@@@@@@@@@@@@@@@@@\n",
      "L       @@@@@@@@@@@@@@@@@@@@@@@@@@@@@@@@@@@@@@@@@@@@@@@@@@@@@@@@\n",
      "XL      @@@@@@@@@@@@@@@@@@@@@@@@@@@@@@@@@@@@@@@\n",
      "XXl     @@@@@@@@@@@\n"
     ]
    }
   ],
   "source": [
    "# Task 4.1\n",
    "x_freq = {}\n",
    "while True:\n",
    "    x = str(input('Next X value ... <ZZZ to END> '))\n",
    "    if x == 'ZZZ':\n",
    "        break\n",
    "    f = int(input('Frequency ... '))\n",
    "    x_freq[x] = f\n",
    "    \n",
    "banner = \\\n",
    "\"\"\"\n",
    "++++++++++++++++++++++++++++++++++++++++++++++++++++++\n",
    "Frequency Distribution\n",
    "++++++++++++++++++++++++++++++++++++++++++++++++++++++\n",
    "\"\"\"\n",
    "\n",
    "print(banner)\n",
    "\n",
    "for key, val in x_freq.items():\n",
    "    print(f'{key:<8}{\"@\"*val}')"
   ]
  },
  {
   "cell_type": "code",
   "execution_count": 6,
   "id": "556a30c3",
   "metadata": {},
   "outputs": [
    {
     "data": {
      "text/plain": [
       "'++++++++++++++++++++++++++++++++++++++++++++++++++++++++++++++++++++++++++++++++'"
      ]
     },
     "execution_count": 6,
     "metadata": {},
     "output_type": "execute_result"
    }
   ],
   "source": [
    "'+'*80"
   ]
  },
  {
   "cell_type": "code",
   "execution_count": 7,
   "id": "898c7169",
   "metadata": {},
   "outputs": [
    {
     "name": "stdout",
     "output_type": "stream",
     "text": [
      "Next X value ... <ZZZ to END> XS\n",
      "Frequency ... 12\n",
      "Next X value ... <ZZZ to END> S\n",
      "Frequency ... 22\n",
      "Next X value ... <ZZZ to END> M\n",
      "Frequency ... 45\n",
      "Next X value ... <ZZZ to END> L\n",
      "Frequency ... 56\n",
      "Next X value ... <ZZZ to END> XL\n",
      "Frequency ... 39\n",
      "Next X value ... <ZZZ to END> XXL\n",
      "Frequency ... 11\n",
      "Next X value ... <ZZZ to END> ZZZ\n",
      "\n",
      "++++++++++++++++++++++++++++++++++++++++++++++++++++++++++++++++++++++++++++++++\n",
      "Frequency Distribution\n",
      "++++++++++++++++++++++++++++++++++++++++++++++++++++++++++++++++++++++++++++++++\n",
      "\n",
      "XS  ************                                                                \n",
      "    ************                                                                \n",
      "S   **********************                                                      \n",
      "    **********************                                                      \n",
      "M   *********************************************                               \n",
      "    *********************************************                               \n",
      "L   ********************************************************                    \n",
      "    ********************************************************                    \n",
      "XL  ***************************************                                     \n",
      "    ***************************************                                     \n",
      "XXL ***********                                                                 \n",
      "    ***********                                                                 \n"
     ]
    }
   ],
   "source": [
    "# Task 4.2\n",
    "x_freq = {}\n",
    "while True:\n",
    "    x = str(input('Next X value ... <ZZZ to END> '))\n",
    "    if x == 'ZZZ':\n",
    "        break\n",
    "    f = int(input('Frequency ... '))\n",
    "    x_freq[x] = f\n",
    "    \n",
    "banner = \\\n",
    "\"\"\"\n",
    "++++++++++++++++++++++++++++++++++++++++++++++++++++++++++++++++++++++++++++++++\n",
    "Frequency Distribution\n",
    "++++++++++++++++++++++++++++++++++++++++++++++++++++++++++++++++++++++++++++++++\n",
    "\"\"\"\n",
    "\n",
    "print(banner)\n",
    "\n",
    "for key, val in x_freq.items():\n",
    "    print(f'{key:<4}{\"*\"*val:<76}')\n",
    "    print(f'{\"\":<4}{\"*\"*val:<76}')"
   ]
  },
  {
   "cell_type": "code",
   "execution_count": 14,
   "id": "cf9ca0e0",
   "metadata": {},
   "outputs": [
    {
     "name": "stdout",
     "output_type": "stream",
     "text": [
      "Next X value ... <ZZZ to END> A\n",
      "Frequency ... 10\n",
      "Next X value ... <ZZZ to END> B\n",
      "Frequency ... 20\n",
      "Next X value ... <ZZZ to END> C\n",
      "Frequency ... 50\n",
      "Next X value ... <ZZZ to END> D\n",
      "Frequency ... 100\n",
      "Next X value ... <ZZZ to END> E\n",
      "Frequency ... 150\n",
      "Next X value ... <ZZZ to END> ZZZ\n",
      "\n",
      "++++++++++++++++++++++++++++++++++++++++++++++++++++++++++++++++++++++++++++++++\n",
      "Frequency Distribution\n",
      "++++++++++++++++++++++++++++++++++++++++++++++++++++++++++++++++++++++++++++++++\n",
      "\n",
      "A   *****                                                                       \n",
      "    *****                                                                       \n",
      "B   **********                                                                  \n",
      "    **********                                                                  \n",
      "C   *************************                                                   \n",
      "    *************************                                                   \n",
      "D   **************************************************                          \n",
      "    **************************************************                          \n",
      "E   ****************************************************************************\n",
      "    ****************************************************************************\n",
      "0---------------------------------------------------------------------------150>\n"
     ]
    }
   ],
   "source": [
    "# Task 4.3\n",
    "x_freq = {}\n",
    "while True:\n",
    "    x = str(input('Next X value ... <ZZZ to END> '))\n",
    "    if x == 'ZZZ':\n",
    "        break\n",
    "    f = int(input('Frequency ... '))\n",
    "    x_freq[x] = f\n",
    "    \n",
    "banner = \\\n",
    "\"\"\"\n",
    "++++++++++++++++++++++++++++++++++++++++++++++++++++++++++++++++++++++++++++++++\n",
    "Frequency Distribution\n",
    "++++++++++++++++++++++++++++++++++++++++++++++++++++++++++++++++++++++++++++++++\n",
    "\"\"\"\n",
    "\n",
    "print(banner)\n",
    "\n",
    "max_val = max(x_freq.values())\n",
    "if max_val >= 80:\n",
    "    scale_factor = 76 / max_val\n",
    "else:\n",
    "    scale_factor = 1\n",
    "\n",
    "for key, val in x_freq.items():\n",
    "    print(f'{key:<4}{\"*\"*int(val*scale_factor):<76}')\n",
    "    print(f'{\"\":<4}{\"*\"*int(val*scale_factor):<76}')\n",
    "\n",
    "print(f'0{max_val:->78}>')"
   ]
  }
 ],
 "metadata": {
  "kernelspec": {
   "display_name": "Python 3 (ipykernel)",
   "language": "python",
   "name": "python3"
  },
  "language_info": {
   "codemirror_mode": {
    "name": "ipython",
    "version": 3
   },
   "file_extension": ".py",
   "mimetype": "text/x-python",
   "name": "python",
   "nbconvert_exporter": "python",
   "pygments_lexer": "ipython3",
   "version": "3.9.5"
  }
 },
 "nbformat": 4,
 "nbformat_minor": 5
}
