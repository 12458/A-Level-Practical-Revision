{
 "cells": [
  {
   "cell_type": "code",
   "execution_count": 4,
   "id": "7d4fd42b",
   "metadata": {},
   "outputs": [
    {
     "name": "stdout",
     "output_type": "stream",
     "text": [
      "[None, 'L001', 'L002', 'L007', 'L008', 'L009', 'L013', 'L014', 'L021', 'S001', 'S002', 'S003', 'S004', 'S005', 'S006', 'S007', 'S008', 'S009', 'S010', 'S011', 'S012', 'S013', 'S014', 'S015', 'S016', 'S017', 'S018', 'S018', 'S019', 'N011', 'N013', 'N016', 'N023'] [None, 'Pollard', 'Wills', 'Singh', 'Yallop', 'Adams', 'Davies', 'Patel', 'Kelly', 'Ong', 'Goh', 'Ong', 'Ang', 'Wong', 'Teo', 'Ho', 'Chong', 'Low', 'Sim', 'Tay', 'Tay', 'Chia', 'Tan', 'Yeo', 'Lim', 'Tan', 'Ng', 'Lim', 'Toh', 'Morris', 'Williams', 'Chua', 'Wong']\n"
     ]
    }
   ],
   "source": [
    "# Task 2.1\n",
    "EmployeeID = [None for _ in range(33)]\n",
    "Surname = [None for _ in range(33)]\n",
    "EmployeeID[1] = \"L001\"  \n",
    "Surname[1] = \"Pollard\"\n",
    "EmployeeID[2] = \"L002\"  \n",
    "Surname[2] = \"Wills\"\n",
    "EmployeeID[3] = \"L007\"  \n",
    "Surname[3] = \"Singh\"\n",
    "EmployeeID[4] = \"L008\"  \n",
    "Surname[4] = \"Yallop\"\n",
    "EmployeeID[5] = \"L009\"  \n",
    "Surname[5] = \"Adams\"\n",
    "EmployeeID[6] = \"L013\"  \n",
    "Surname[6] = \"Davies\"\n",
    "EmployeeID[7] = \"L014\"  \n",
    "Surname[7] = \"Patel\"\n",
    "EmployeeID[8] = \"L021\"  \n",
    "Surname[8] = \"Kelly\"\n",
    "EmployeeID[9] = \"S001\"  \n",
    "Surname[9] = \"Ong\"\n",
    "EmployeeID[10] = \"S002\"  \n",
    "Surname[10] = \"Goh\"\n",
    "EmployeeID[11] = \"S003\"  \n",
    "Surname[11] = \"Ong\"\n",
    "EmployeeID[12] = \"S004\"  \n",
    "Surname[12] = \"Ang\"\n",
    "EmployeeID[13] = \"S005\"  \n",
    "Surname[13] = \"Wong\"\n",
    "EmployeeID[14] = \"S006\"  \n",
    "Surname[14] = \"Teo\"\n",
    "EmployeeID[15] = \"S007\"  \n",
    "Surname[15] = \"Ho\"  \n",
    "EmployeeID[16] = \"S008\"  \n",
    "Surname[16] = \"Chong\"\n",
    "EmployeeID[17] = \"S009\"  \n",
    "Surname[17] = \"Low\"\n",
    "EmployeeID[18] = \"S010\"  \n",
    "Surname[18] = \"Sim\"\n",
    "EmployeeID[19] = \"S011\"  \n",
    "Surname[19] = \"Tay\"\n",
    "EmployeeID[20] = \"S012\"  \n",
    "Surname[20] = \"Tay\"\n",
    "EmployeeID[21] = \"S013\"  \n",
    "Surname[21] = \"Chia\"\n",
    "EmployeeID[22] = \"S014\"  \n",
    "Surname[22] = \"Tan\"\n",
    "EmployeeID[23] = \"S015\"  \n",
    "Surname[23] = \"Yeo\"\n",
    "EmployeeID[24] = \"S016\"  \n",
    "Surname[24] = \"Lim\"\n",
    "EmployeeID[25] = \"S017\"  \n",
    "Surname[25] = \"Tan\"\n",
    "EmployeeID[26] = \"S018\"  \n",
    "Surname[26] = \"Ng\"\n",
    "EmployeeID[27] = \"S018\"  \n",
    "Surname[27] = \"Lim\"\n",
    "EmployeeID[28] = \"S019\"  \n",
    "Surname[28] = \"Toh\"\n",
    "EmployeeID[29] = \"N011\"  \n",
    "Surname[29] = \"Morris\"\n",
    "EmployeeID[30] = \"N013\"  \n",
    "Surname[30] = \"Williams\"\n",
    "EmployeeID[31] = \"N016\"  \n",
    "Surname[31] = \"Chua\"\n",
    "EmployeeID[32] = \"N023\"  \n",
    "Surname[32] = \"Wong\"\n",
    "print(EmployeeID, Surname)\n",
    "EmployeeID = EmployeeID[1:]\n",
    "Surname = Surname[1:]"
   ]
  },
  {
   "cell_type": "code",
   "execution_count": 5,
   "id": "0de60349",
   "metadata": {},
   "outputs": [],
   "source": [
    "def binary_search(arr, target, lb, ub, key):\n",
    "    while lb <= ub:\n",
    "        mid = (lb + ub) // 2\n",
    "        if arr[mid][key] == target:\n",
    "            return mid\n",
    "        elif arr[mid][key] < target:\n",
    "            lb = mid + 1\n",
    "        else:\n",
    "            ub = mid - 1\n",
    "    return -1 # not found\n",
    "\n",
    "def search(EmployeeIDArr, SurnameArr, SearchItem, mode):\n",
    "    # combine both EmployeeIDArr and SurnameArr\n",
    "    EmployeeData = zip(EmployeeIDArr, SurnameArr)\n",
    "    if mode == 'SURNAME':\n",
    "        # search by surname\n",
    "        EmployeeData = sorted(EmployeeData, key=lambda x: x[1])\n",
    "        idx = binary_search(EmployeeData, SearchItem, 0, len(EmployeeData) - 1, 1)\n",
    "        if idx != -1:\n",
    "            print(EmployeeData[idx][0])\n",
    "    else:\n",
    "        # search by employee ID\n",
    "        EmployeeData = sorted(EmployeeData, key=lambda x: x[0])\n",
    "        idx = binary_search(EmployeeData, SearchItem, 0, len(EmployeeData) - 1, 0)\n",
    "        if idx != -1:\n",
    "            print(EmployeeData[idx][1])"
   ]
  },
  {
   "cell_type": "code",
   "execution_count": 6,
   "id": "aea34641",
   "metadata": {},
   "outputs": [
    {
     "name": "stdout",
     "output_type": "stream",
     "text": [
      "Pollard\n"
     ]
    }
   ],
   "source": [
    "search(EmployeeID, Surname, 'L001', 'EMPLOYEEID')"
   ]
  },
  {
   "cell_type": "code",
   "execution_count": 7,
   "id": "000a8ac0",
   "metadata": {},
   "outputs": [
    {
     "name": "stdout",
     "output_type": "stream",
     "text": [
      "Wong\n"
     ]
    }
   ],
   "source": [
    "search(EmployeeID, Surname, 'N023', 'EMPLOYEEID')"
   ]
  },
  {
   "cell_type": "code",
   "execution_count": 8,
   "id": "89738523",
   "metadata": {},
   "outputs": [
    {
     "name": "stdout",
     "output_type": "stream",
     "text": [
      "L001\n"
     ]
    }
   ],
   "source": [
    "search(EmployeeID, Surname, 'Pollard', 'SURNAME')"
   ]
  },
  {
   "cell_type": "code",
   "execution_count": 9,
   "id": "a95cfc89",
   "metadata": {},
   "outputs": [
    {
     "name": "stdout",
     "output_type": "stream",
     "text": [
      "N023\n"
     ]
    }
   ],
   "source": [
    "search(EmployeeID, Surname, 'Wong', 'SURNAME')"
   ]
  }
 ],
 "metadata": {
  "kernelspec": {
   "display_name": "Python 3 (ipykernel)",
   "language": "python",
   "name": "python3"
  },
  "language_info": {
   "codemirror_mode": {
    "name": "ipython",
    "version": 3
   },
   "file_extension": ".py",
   "mimetype": "text/x-python",
   "name": "python",
   "nbconvert_exporter": "python",
   "pygments_lexer": "ipython3",
   "version": "3.9.5"
  }
 },
 "nbformat": 4,
 "nbformat_minor": 5
}
