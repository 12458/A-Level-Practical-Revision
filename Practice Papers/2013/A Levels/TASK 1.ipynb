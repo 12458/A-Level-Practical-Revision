{
 "cells": [
  {
   "cell_type": "code",
   "execution_count": 15,
   "id": "4164a925",
   "metadata": {},
   "outputs": [],
   "source": [
    "# Task 1.1\n",
    "with open('WORDS1.TXT') as f:\n",
    "    words = f.read().strip().split('\\n')\n",
    "    words = [[words[i],int(words[i+1])] for i in range(0,len(words),2)]"
   ]
  },
  {
   "cell_type": "code",
   "execution_count": 16,
   "id": "31179c0e",
   "metadata": {},
   "outputs": [
    {
     "name": "stdout",
     "output_type": "stream",
     "text": [
      "computing\n"
     ]
    }
   ],
   "source": [
    "print(sorted(words, key = lambda x: x[1], reverse=True)[0][0])"
   ]
  },
  {
   "cell_type": "code",
   "execution_count": 55,
   "id": "a188812e",
   "metadata": {},
   "outputs": [],
   "source": [
    "# Task 1.2\n",
    "with open('WORDS2.TXT') as f:\n",
    "    words2 = f.read().strip().split('\\n')\n",
    "    words2 = [[words2[i],int(words2[i+1])] for i in range(0,len(words2),2)]"
   ]
  },
  {
   "cell_type": "code",
   "execution_count": 54,
   "id": "937f3f58",
   "metadata": {},
   "outputs": [],
   "source": [
    "max_count = max(words2, key = lambda x: x[1])[1]\n",
    "words2_filtered = [i[0] for i in words2 if i[1] == max_count]"
   ]
  },
  {
   "cell_type": "code",
   "execution_count": 56,
   "id": "eae07906",
   "metadata": {},
   "outputs": [
    {
     "name": "stdout",
     "output_type": "stream",
     "text": [
      "system\n",
      "computer\n"
     ]
    }
   ],
   "source": [
    "for word in words2_filtered:\n",
    "    print(word)"
   ]
  }
 ],
 "metadata": {
  "kernelspec": {
   "display_name": "Python 3 (ipykernel)",
   "language": "python",
   "name": "python3"
  },
  "language_info": {
   "codemirror_mode": {
    "name": "ipython",
    "version": 3
   },
   "file_extension": ".py",
   "mimetype": "text/x-python",
   "name": "python",
   "nbconvert_exporter": "python",
   "pygments_lexer": "ipython3",
   "version": "3.9.5"
  }
 },
 "nbformat": 4,
 "nbformat_minor": 5
}
