{
 "cells": [
  {
   "cell_type": "code",
   "execution_count": 42,
   "id": "d45dec5b",
   "metadata": {},
   "outputs": [],
   "source": [
    "class Tree:\n",
    "    def __init__(self):\n",
    "        # set up array\n",
    "        self.ThisTree = [BSNode(None) for _ in range(20)]\n",
    "        self.Root = -1\n",
    "        # Link the tree nodes into a FreeList\n",
    "        self.NextFreePosition = 0\n",
    "        for i in range(len(self.ThisTree)):\n",
    "            self.ThisTree[i].LeftP = i+1 # use left ptr for LL\n",
    "        self.ThisTree[-1].LeftP = -1 # Last node should be end of free list\n",
    "    \n",
    "    def AddItemToBinaryTree(self, NewFreeItem):\n",
    "        if self.NextFreePosition != -1:\n",
    "            # check for free space\n",
    "            \n",
    "            self.ThisTree[self.NextFreePosition].Data = NewFreeItem\n",
    "            next_ptr_free_list = self.ThisTree[self.NextFreePosition].LeftP\n",
    "            self.ThisTree[self.NextFreePosition].LeftP = -1 # remove from free list\n",
    "            \n",
    "            PreviousPosition = -1\n",
    "            LastMove = 'X'\n",
    "            # print(f'self.Root: {self.Root}')\n",
    "            if self.Root == -1:\n",
    "                # print('FIRST')\n",
    "                self.Root = self.NextFreePosition\n",
    "            else:\n",
    "                # print('NOT FIRST')\n",
    "                # traverse the ree to find the position for the new value\n",
    "                CurrentPosition = self.Root\n",
    "                LastMove = 'X' # Last move golds the direction of previous traversal move\n",
    "                while True:\n",
    "                    PreviousPosition = CurrentPosition\n",
    "                    if NewFreeItem < self.ThisTree[CurrentPosition].Data:\n",
    "                        # move left\n",
    "                        LastMove = 'L'\n",
    "                        CurrentPosition = self.ThisTree[CurrentPosition].LeftP\n",
    "                    else:\n",
    "                        # move right\n",
    "                        LastMove = 'R'\n",
    "                        CurrentPosition = self.ThisTree[CurrentPosition].RightP\n",
    "                    # print(CurrentPosition)\n",
    "                    # self.OutputData()\n",
    "                    if CurrentPosition == -1:\n",
    "                        # print('EXIT')\n",
    "                        break\n",
    "            if LastMove == 'R':\n",
    "                self.ThisTree[PreviousPosition].RightP = self.NextFreePosition\n",
    "            elif LastMove == 'L':\n",
    "                self.ThisTree[PreviousPosition].LeftP = self.NextFreePosition\n",
    "            self.NextFreePosition = next_ptr_free_list\n",
    "            return True\n",
    "        else:\n",
    "            # print('FULL')\n",
    "            return False\n",
    "        \n",
    "    def InOrderTraversal(self):\n",
    "        def traverse(i):\n",
    "            if i == -1:\n",
    "                return\n",
    "            traverse(self.ThisTree[i].LeftP)\n",
    "            print(self.ThisTree[i].Data)\n",
    "            traverse(self.ThisTree[i].RightP)\n",
    "        traverse(self.Root)\n",
    "        \n",
    "    def OutputData(self):\n",
    "        print(self.ThisTree)\n",
    "        \n",
    "class BSNode:\n",
    "    def __init__(self, data):\n",
    "        self.Data = data\n",
    "        self.LeftP = -1\n",
    "        self.RightP= -1\n",
    "    \n",
    "    def __repr__(self):\n",
    "        return f'<{self.Data}:L{self.LeftP}:R{self.RightP}>'"
   ]
  },
  {
   "cell_type": "code",
   "execution_count": 12,
   "id": "fb2ecdfb",
   "metadata": {},
   "outputs": [
    {
     "name": "stdout",
     "output_type": "stream",
     "text": [
      "DATA TO ADD> XXX\n",
      "[<None:L1:R-1>, <None:L2:R-1>, <None:L3:R-1>, <None:L4:R-1>, <None:L5:R-1>, <None:L6:R-1>, <None:L7:R-1>, <None:L8:R-1>, <None:L9:R-1>, <None:L10:R-1>, <None:L11:R-1>, <None:L12:R-1>, <None:L13:R-1>, <None:L14:R-1>, <None:L15:R-1>, <None:L16:R-1>, <None:L17:R-1>, <None:L18:R-1>, <None:L19:R-1>, <None:L-1:R-1>]\n"
     ]
    }
   ],
   "source": [
    "# Task 3.4\n",
    "t = Tree()\n",
    "while True:\n",
    "    i = input('DATA TO ADD> ')\n",
    "    if i == 'XXX':\n",
    "        break\n",
    "    t.AddItemToBinaryTree(i)\n",
    "t.OutputData()"
   ]
  },
  {
   "cell_type": "code",
   "execution_count": 43,
   "id": "c8ccd55b",
   "metadata": {
    "scrolled": false
   },
   "outputs": [
    {
     "name": "stdout",
     "output_type": "stream",
     "text": [
      "DATA TO ADD> INDIA\n",
      "DATA TO ADD> NEPAL\n",
      "DATA TO ADD> MALAYSIA\n",
      "DATA TO ADD> SINGAPORE\n",
      "DATA TO ADD> BURMA\n",
      "DATA TO ADD> CANADA\n",
      "DATA TO ADD> LATVIA\n",
      "DATA TO ADD> XXX\n",
      "[<INDIA:L4:R1>, <NEPAL:L2:R3>, <MALAYSIA:L6:R-1>, <SINGAPORE:L-1:R-1>, <BURMA:L-1:R5>, <CANADA:L-1:R-1>, <LATVIA:L-1:R-1>, <None:L8:R-1>, <None:L9:R-1>, <None:L10:R-1>, <None:L11:R-1>, <None:L12:R-1>, <None:L13:R-1>, <None:L14:R-1>, <None:L15:R-1>, <None:L16:R-1>, <None:L17:R-1>, <None:L18:R-1>, <None:L19:R-1>, <None:L-1:R-1>]\n"
     ]
    }
   ],
   "source": [
    "# Task 3.5\n",
    "t = Tree()\n",
    "while True:\n",
    "    i = input('DATA TO ADD> ')\n",
    "    if i == 'XXX':\n",
    "        break\n",
    "    t.AddItemToBinaryTree(i)\n",
    "t.OutputData()"
   ]
  },
  {
   "cell_type": "code",
   "execution_count": 44,
   "id": "b8f504b8",
   "metadata": {},
   "outputs": [
    {
     "name": "stdout",
     "output_type": "stream",
     "text": [
      "BURMA\n",
      "CANADA\n",
      "INDIA\n",
      "LATVIA\n",
      "MALAYSIA\n",
      "NEPAL\n",
      "SINGAPORE\n"
     ]
    }
   ],
   "source": [
    "# Task 3.6\n",
    "t.InOrderTraversal()"
   ]
  }
 ],
 "metadata": {
  "kernelspec": {
   "display_name": "Python 3 (ipykernel)",
   "language": "python",
   "name": "python3"
  },
  "language_info": {
   "codemirror_mode": {
    "name": "ipython",
    "version": 3
   },
   "file_extension": ".py",
   "mimetype": "text/x-python",
   "name": "python",
   "nbconvert_exporter": "python",
   "pygments_lexer": "ipython3",
   "version": "3.9.5"
  }
 },
 "nbformat": 4,
 "nbformat_minor": 5
}
