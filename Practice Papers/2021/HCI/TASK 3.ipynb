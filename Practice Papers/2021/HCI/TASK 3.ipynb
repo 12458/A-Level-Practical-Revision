{
 "cells": [
  {
   "cell_type": "code",
   "execution_count": 116,
   "id": "b5a21bdc",
   "metadata": {},
   "outputs": [],
   "source": [
    "class Node:\n",
    "    def __init__(self, data):\n",
    "        self.Data = data\n",
    "        self.Priority = float('inf')\n",
    "        self.Next = -1\n",
    "    def __repr__(self):\n",
    "        return f'{self.Data}:{self.Priority}:{self.Next}'\n",
    "class PQueue:\n",
    "    def __init__(self):\n",
    "        self.ThisPQueue = [Node(None) for _ in range(10)]\n",
    "        self.Front = -1\n",
    "        self.Rear = -1\n",
    "        self.NextFree = 0\n",
    "        for i in range(10):\n",
    "            self.ThisPQueue[i].Next = i+1\n",
    "        self.ThisPQueue[-1].Next = -1\n",
    "        \n",
    "    def PQInsert(self, NewItem, Priority):\n",
    "        # Check if there is space\n",
    "        if self.NextFree != -1:\n",
    "            index = self.NextFree\n",
    "            self.NextFree = self.ThisPQueue[index].Next\n",
    "            self.ThisPQueue[index].Next = -1\n",
    "            self.ThisPQueue[index].Data = NewItem\n",
    "            self.ThisPQueue[index].Priority = Priority\n",
    "            # update ptrs\n",
    "            \n",
    "            # check if LL is empty\n",
    "            if self.Front == -1 and self.Rear == -1:\n",
    "                # LL is empty\n",
    "                # add in \n",
    "                self.Front = index\n",
    "                self.Rear = index\n",
    "                return True\n",
    "            else:\n",
    "                # LL is not empty\n",
    "                # insert at rear\n",
    "                self.ThisPQueue[self.Rear].Next = index\n",
    "                self.Rear = index\n",
    "                return True\n",
    "        else:\n",
    "            return False\n",
    "    \n",
    "    def PQDelete(self):\n",
    "        #remove node wth highest priority\n",
    "        if not (self.Front == -1 and self.Rear == -1):\n",
    "            # check empty LL\n",
    "            cur = self.Front\n",
    "            min_priority = float('inf') # largest int\n",
    "            while cur != -1:\n",
    "                min_priority = min(self.ThisPQueue[cur].Priority,min_priority)\n",
    "                cur = self.ThisPQueue[cur].Next\n",
    "            print(min_priority)\n",
    "            # dequeue the min_priority\n",
    "            cur = self.Front\n",
    "            prev = -1\n",
    "            while cur != -1:\n",
    "                if self.ThisPQueue[cur].Priority == min_priority:\n",
    "                    break\n",
    "                prev = cur\n",
    "                cur = self.ThisPQueue[cur].Next\n",
    "            data = self.ThisPQueue[cur].Data\n",
    "            if self.Front == self.Rear:\n",
    "                # 1 item in LL\n",
    "                # reset LL\n",
    "                self.Front = -1\n",
    "                self.Rear = -1\n",
    "                # insert back to FreeList\n",
    "                self.ThisPQueue[cur] = Node(None)\n",
    "                self.ThisPQueue[cur].Next = self.NextFree\n",
    "                self.NextFree = cur\n",
    "                return data\n",
    "            if cur == self.Front:\n",
    "                self.Front = self.ThisPQueue[cur].Next\n",
    "                self.ThisPQueue[cur] = Node(None)\n",
    "                self.ThisPQueue[cur].Next = self.NextFree\n",
    "                self.NextFree = cur\n",
    "            elif cur == self.Rear:\n",
    "                self.Rear = prev\n",
    "                self.ThisPQueue[cur] = Node(None)\n",
    "                self.ThisPQueue[cur].Next = self.NextFree\n",
    "                self.NextFree = cur\n",
    "            else:\n",
    "                # inplace delete\n",
    "                self.ThisPQueue[prev].Next = self.ThisPQueue[cur].Next\n",
    "                self.ThisPQueue[cur] = Node(None)\n",
    "                self.ThisPQueue[cur].Next = self.NextFree\n",
    "                self.NextFree = cur\n",
    "            return data\n",
    "        \n",
    "    def DisplayPQueue(self):\n",
    "        print(f'Front: {self.Front}\\nRear: {self.Rear}\\nNextFree: {self.NextFree}\\nThisPQueue: {self.ThisPQueue}')\n",
    "            "
   ]
  },
  {
   "cell_type": "code",
   "execution_count": 132,
   "id": "1f01f0a2",
   "metadata": {
    "scrolled": true
   },
   "outputs": [
    {
     "name": "stdout",
     "output_type": "stream",
     "text": [
      "Front: 0\n",
      "Rear: 5\n",
      "NextFree: 6\n",
      "ThisPQueue: [George:2:1, Jane:1:2, Sandra:4:3, Bill:3:4, Dave:5:5, Bob:1:-1, None:inf:7, None:inf:8, None:inf:9, None:inf:-1]\n"
     ]
    }
   ],
   "source": [
    "pq = PQueue()\n",
    "with open('PATIENTS.txt') as f:\n",
    "    patients = f.read().strip().split('\\n')\n",
    "for patient in patients:\n",
    "    patient = patient.split(',')\n",
    "    pq.PQInsert(patient[0], int(patient[1]))\n",
    "pq.DisplayPQueue()"
   ]
  },
  {
   "cell_type": "code",
   "execution_count": 133,
   "id": "a621ddd2",
   "metadata": {},
   "outputs": [
    {
     "name": "stdout",
     "output_type": "stream",
     "text": [
      "1\n"
     ]
    },
    {
     "data": {
      "text/plain": [
       "'Jane'"
      ]
     },
     "execution_count": 133,
     "metadata": {},
     "output_type": "execute_result"
    }
   ],
   "source": [
    "pq.PQDelete()"
   ]
  },
  {
   "cell_type": "code",
   "execution_count": 134,
   "id": "50ff871d",
   "metadata": {},
   "outputs": [
    {
     "name": "stdout",
     "output_type": "stream",
     "text": [
      "1\n"
     ]
    },
    {
     "data": {
      "text/plain": [
       "'Bob'"
      ]
     },
     "execution_count": 134,
     "metadata": {},
     "output_type": "execute_result"
    }
   ],
   "source": [
    "pq.PQDelete()"
   ]
  },
  {
   "cell_type": "code",
   "execution_count": 135,
   "id": "2eada19e",
   "metadata": {},
   "outputs": [
    {
     "data": {
      "text/plain": [
       "True"
      ]
     },
     "execution_count": 135,
     "metadata": {},
     "output_type": "execute_result"
    }
   ],
   "source": [
    "pq.PQInsert('Carol',4)"
   ]
  },
  {
   "cell_type": "code",
   "execution_count": 136,
   "id": "e8754102",
   "metadata": {},
   "outputs": [
    {
     "name": "stdout",
     "output_type": "stream",
     "text": [
      "2\n"
     ]
    },
    {
     "data": {
      "text/plain": [
       "'George'"
      ]
     },
     "execution_count": 136,
     "metadata": {},
     "output_type": "execute_result"
    }
   ],
   "source": [
    "pq.PQDelete()"
   ]
  },
  {
   "cell_type": "code",
   "execution_count": 137,
   "id": "5f54b1bc",
   "metadata": {
    "scrolled": true
   },
   "outputs": [
    {
     "name": "stdout",
     "output_type": "stream",
     "text": [
      "3\n"
     ]
    },
    {
     "data": {
      "text/plain": [
       "'Bill'"
      ]
     },
     "execution_count": 137,
     "metadata": {},
     "output_type": "execute_result"
    }
   ],
   "source": [
    "pq.PQDelete()"
   ]
  },
  {
   "cell_type": "code",
   "execution_count": 138,
   "id": "cb68c0af",
   "metadata": {},
   "outputs": [
    {
     "name": "stdout",
     "output_type": "stream",
     "text": [
      "4\n"
     ]
    },
    {
     "data": {
      "text/plain": [
       "'Sandra'"
      ]
     },
     "execution_count": 138,
     "metadata": {},
     "output_type": "execute_result"
    }
   ],
   "source": [
    "pq.PQDelete()"
   ]
  },
  {
   "cell_type": "code",
   "execution_count": 139,
   "id": "ba949951",
   "metadata": {},
   "outputs": [
    {
     "name": "stdout",
     "output_type": "stream",
     "text": [
      "Front: 4\n",
      "Rear: 5\n",
      "NextFree: 2\n",
      "ThisPQueue: [None:inf:1, None:inf:6, None:inf:3, None:inf:0, Dave:5:5, Carol:4:-1, None:inf:7, None:inf:8, None:inf:9, None:inf:-1]\n"
     ]
    }
   ],
   "source": [
    "pq.DisplayPQueue()"
   ]
  },
  {
   "cell_type": "code",
   "execution_count": null,
   "id": "13c7085c",
   "metadata": {},
   "outputs": [],
   "source": []
  }
 ],
 "metadata": {
  "kernelspec": {
   "display_name": "Python 3 (ipykernel)",
   "language": "python",
   "name": "python3"
  },
  "language_info": {
   "codemirror_mode": {
    "name": "ipython",
    "version": 3
   },
   "file_extension": ".py",
   "mimetype": "text/x-python",
   "name": "python",
   "nbconvert_exporter": "python",
   "pygments_lexer": "ipython3",
   "version": "3.9.5"
  }
 },
 "nbformat": 4,
 "nbformat_minor": 5
}
