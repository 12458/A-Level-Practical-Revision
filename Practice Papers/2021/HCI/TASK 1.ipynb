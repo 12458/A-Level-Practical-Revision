{
 "cells": [
  {
   "cell_type": "code",
   "execution_count": 10,
   "id": "b0885766",
   "metadata": {},
   "outputs": [],
   "source": [
    "# Task 1.1\n",
    "open('INTEGERS.txt') as f:\n",
    "    integers = [int(i) for i in f.read().strip().split('\\n')]"
   ]
  },
  {
   "cell_type": "code",
   "execution_count": 7,
   "id": "53323168",
   "metadata": {},
   "outputs": [],
   "source": [
    "def quick_sort(arr):\n",
    "    if len(arr) <= 1:\n",
    "        return arr\n",
    "    pivot = arr[0]\n",
    "    left = []\n",
    "    right = []\n",
    "    for i in range(1, len(arr)):\n",
    "        if arr[i] < pivot:\n",
    "            left.append(arr[i])\n",
    "        else:\n",
    "            right.append(arr[i])\n",
    "    return quick_sort(left) + [pivot] + quick_sort(right)"
   ]
  },
  {
   "cell_type": "code",
   "execution_count": 13,
   "id": "2a46d665",
   "metadata": {},
   "outputs": [],
   "source": [
    "sorted_int = quick_sort(integers)\n",
    "with open('SORTED.txt', 'w') as f:\n",
    "    f.write('\\n'.join([str(i) for i in sorted_int]))"
   ]
  },
  {
   "cell_type": "code",
   "execution_count": 14,
   "id": "49efd39f",
   "metadata": {},
   "outputs": [],
   "source": [
    "# Task 1.2\n",
    "def binary_search(A, target):\n",
    "    lb = 0\n",
    "    ub = len(A) - 1\n",
    "    cmp = 0\n",
    "    while lb <= ub:\n",
    "        mid = (ub + lb) // 2\n",
    "        cmp += 1\n",
    "        if A[mid] == target:\n",
    "            print(f'Found target at index {mid}')\n",
    "            return cmp\n",
    "        elif A[mid] < target:\n",
    "            lb = mid + 1\n",
    "        else:\n",
    "            ub = mid - 1\n",
    "    return cmp"
   ]
  },
  {
   "cell_type": "code",
   "execution_count": 16,
   "id": "42eee333",
   "metadata": {},
   "outputs": [
    {
     "name": "stdout",
     "output_type": "stream",
     "text": [
      "Found target at index 0\n"
     ]
    },
    {
     "data": {
      "text/plain": [
       "6"
      ]
     },
     "execution_count": 16,
     "metadata": {},
     "output_type": "execute_result"
    }
   ],
   "source": [
    "binary_search(sorted_int, 2)"
   ]
  },
  {
   "cell_type": "code",
   "execution_count": 18,
   "id": "82df8f8e",
   "metadata": {},
   "outputs": [
    {
     "name": "stdout",
     "output_type": "stream",
     "text": [
      "Found target at index 32\n",
      "Found target at index 23\n",
      "Found target at index 37\n",
      "Found target at index 32\n",
      "Found target at index 45\n",
      "Found target at index 48\n",
      "Found target at index 22\n",
      "Found target at index 10\n",
      "Found target at index 30\n",
      "Found target at index 3\n",
      "Found target at index 41\n",
      "Found target at index 20\n",
      "Found target at index 19\n",
      "Found target at index 47\n",
      "Found target at index 33\n",
      "Found target at index 24\n",
      "Found target at index 5\n",
      "Found target at index 2\n",
      "Found target at index 22\n",
      "Found target at index 49\n",
      "Found target at index 24\n",
      "Found target at index 1\n",
      "Found target at index 44\n",
      "Found target at index 17\n",
      "Found target at index 12\n",
      "Found target at index 33\n",
      "Found target at index 49\n",
      "Found target at index 4\n",
      "Found target at index 14\n",
      "Found target at index 38\n",
      "Found target at index 42\n",
      "Found target at index 45\n",
      "Found target at index 22\n",
      "Found target at index 26\n",
      "Found target at index 11\n",
      "Found target at index 4\n",
      "Found target at index 31\n",
      "Found target at index 29\n",
      "Found target at index 7\n",
      "Found target at index 17\n",
      "Found target at index 9\n",
      "Found target at index 14\n",
      "Found target at index 1\n",
      "Found target at index 31\n",
      "Found target at index 22\n",
      "Found target at index 26\n",
      "Found target at index 40\n",
      "Found target at index 19\n",
      "Found target at index 28\n",
      "Found target at index 14\n",
      "AVG COMPARSIONS: 4.80\n"
     ]
    }
   ],
   "source": [
    "# Task 1.3\n",
    "with open('SORTED.txt') as f:\n",
    "    task1_1 = f.read().strip().split('\\n')\n",
    "    \n",
    "import random\n",
    "cmps = 0\n",
    "for i in range(50):\n",
    "    # assume: question wants us to generate a set of 50 sorted integers in ascending order for range [1,200]\n",
    "    random_ints = quick_sort([random.randint(1,200) for _ in range(50)])\n",
    "    cmps += binary_search(random_ints, random.sample(random_ints, 1)[0])\n",
    "print(f'AVG COMPARSIONS: {cmps/50:.2f}')"
   ]
  }
 ],
 "metadata": {
  "kernelspec": {
   "display_name": "Python 3 (ipykernel)",
   "language": "python",
   "name": "python3"
  },
  "language_info": {
   "codemirror_mode": {
    "name": "ipython",
    "version": 3
   },
   "file_extension": ".py",
   "mimetype": "text/x-python",
   "name": "python",
   "nbconvert_exporter": "python",
   "pygments_lexer": "ipython3",
   "version": "3.9.5"
  }
 },
 "nbformat": 4,
 "nbformat_minor": 5
}
