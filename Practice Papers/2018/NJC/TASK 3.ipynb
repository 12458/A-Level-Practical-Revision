{
 "cells": [
  {
   "cell_type": "code",
   "execution_count": 187,
   "id": "67f2de55",
   "metadata": {},
   "outputs": [],
   "source": [
    "class HybridNode:\n",
    "    def __init__(self, data):\n",
    "        self._data = data\n",
    "        self._link1 = -1\n",
    "        self._link2 = -1\n",
    "    \n",
    "    def get_data(self):\n",
    "        return self._data\n",
    "    \n",
    "    def get_link1(self):\n",
    "        return self._link1\n",
    "    \n",
    "    def get_link2(self):\n",
    "        return self._link2\n",
    "    \n",
    "    def set_link1(self, link:int):\n",
    "        self._link1 = link\n",
    "        \n",
    "    def set_link2(self, link:int):\n",
    "        self._link2 = link\n",
    "        \n",
    "    def __repr__(self):\n",
    "        return f'[DATA: {self._data}; LINK1: {self._link1}; LINK2: {self._link2}]'\n",
    "        \n",
    "    def print(self):\n",
    "        print(f'DATA: {self._data}; LINK1: {self._link1}; LINK2: {self._link2}')\n",
    "        \n",
    "    def __eq__(self, other):\n",
    "        if (isinstance(other, type(self))):\n",
    "            return self.get_data() == other.get_data()\n",
    "        return False\n",
    "\n",
    "class DLLNode(HybridNode):\n",
    "    def print(self):\n",
    "        print(f'DATA: {self._data}; PREV: {self._link1}; NEXT: {self._link2}')\n",
    "        \n",
    "class BSTNode(HybridNode):\n",
    "    def print(self):\n",
    "        print(f'DATA: {self._data}; LEFT: {self._link1}; RIGHT: {self._link2}')\n",
    "\n",
    "class DataStructure:\n",
    "    def __init__(self, n):\n",
    "        self._capacity = n\n",
    "        self._count = 0\n",
    "        self._nodes = [HybridNode(None) for _ in range(self._capacity)]\n",
    "        \n",
    "    def is_empty(self):\n",
    "        return self._count == 0\n",
    "    \n",
    "    def is_full(self):\n",
    "        return self._count == self._capacity - 1\n",
    "    \n",
    "    def next_free(self):\n",
    "        return self._nodes.index(HybridNode(None))\n",
    "    \n",
    "    def print(self):\n",
    "        print(self._nodes)\n",
    "\n",
    "class DLL(DataStructure):\n",
    "    def __init__(self, n):\n",
    "        self._head = -1\n",
    "        self._tail = -1\n",
    "        super().__init__(n)\n",
    "        self._nodes = [DLLNode(None) for _ in range(self._capacity)]\n",
    "    \n",
    "    def next_free(self):\n",
    "        return self._nodes.index(DLLNode(None))\n",
    "    \n",
    "    def insert_front(self, obj):\n",
    "        if not self.is_full():\n",
    "            # Case 1: empty DLL\n",
    "            if self._head == -1 or self._tail == -1:\n",
    "                free_index = self.next_free()\n",
    "                self._nodes[free_index] = DLLNode(obj)\n",
    "                self._head = free_index\n",
    "                self._tail = free_index\n",
    "                return True\n",
    "            else:\n",
    "                # Add a node at the front\n",
    "                # 0: Get free index\n",
    "                free_index = self.next_free()\n",
    "\n",
    "                # 1 & 2: Allocate the Node & Put in the data\n",
    "                self._nodes[free_index] = DLLNode(obj)\n",
    "\n",
    "                # 3. Make next of new node as head and previous as NULL\n",
    "                self._nodes[free_index].set_link2(self._head) # next\n",
    "                self._nodes[free_index].set_link1(-1) # prev\n",
    "\n",
    "                # 4. change prev of head node to new node\n",
    "                if self._head != -1:\n",
    "                    self._nodes[self._head].set_link1(free_index)\n",
    "\n",
    "                # 5. move the head to point to the new node\n",
    "                self._head = free_index\n",
    "\n",
    "                self._count += 1\n",
    "                return True\n",
    "        return False\n",
    "    \n",
    "    def insert_back(self, obj):\n",
    "        if not self.is_full():\n",
    "            # Case 1: empty DLL\n",
    "            if self._head == -1 or self._tail == -1:\n",
    "                free_index = self.next_free()\n",
    "                self._nodes[free_index] = DLLNode(obj)\n",
    "                self._head = free_index\n",
    "                self._tail = free_index\n",
    "                return True\n",
    "            else:\n",
    "                # Get free index\n",
    "                free_index = self.next_free()\n",
    "                # allocate node 2. put in the data\n",
    "                self._nodes[free_index] = DLLNode(obj)\n",
    "                last = self._tail\n",
    "\n",
    "                # This new node is going to be the\n",
    "                # last node, so make next of it as NULL\n",
    "                self._nodes[free_index].set_link2(-1)\n",
    "\n",
    "                # Change the next of last node\n",
    "                self._nodes[last].set_link2(free_index)\n",
    "\n",
    "                # Make last node as previous of new node \n",
    "                self._nodes[free_index].set_link1(last)\n",
    "\n",
    "                self._tail = free_index\n",
    "                self._count += 1\n",
    "\n",
    "                return True\n",
    "        return False\n",
    "    \n",
    "    def contains(self, obj):\n",
    "        i = self._head\n",
    "        while i != -1:\n",
    "            if self._nodes[i] == DLLNode(obj):\n",
    "                return True\n",
    "            i = self._nodes[i].get_link2()\n",
    "        return False\n",
    "    \n",
    "    def delete(self, obj):\n",
    "        if self.is_empty():\n",
    "            print('Empty DLL')\n",
    "            return False\n",
    "        \n",
    "        # Base Case\n",
    "        if (self._head == -1 or self._tail == -1) or obj is None:\n",
    "            print('Empty DLL')\n",
    "            return False\n",
    "         \n",
    "        # If node to be deleted is head node\n",
    "        if self._nodes[self._head] == DLLNode(obj):\n",
    "            next_elem = self._nodes[self._head].get_link2()\n",
    "            if next_elem != -1:\n",
    "                self._nodes[next_elem].set_link1(-1)\n",
    "            self._nodes[self._head] = DLLNode(None) # reinitialise node\n",
    "            self._head = next_elem\n",
    "            return True\n",
    "        \n",
    "        # If node to be deleted is last node\n",
    "        if self._nodes[self._tail] == DLLNode(obj):\n",
    "            prev_elem = self._nodes[self._tail].get_link1()\n",
    "            if prev_elem != -1:\n",
    "                self._nodes[prev_elem].set_link2(-1)\n",
    "            self._nodes[self._tail] = DLLNode(None) # reinitialise node\n",
    "            self._tail = prev_elem\n",
    "            return True\n",
    "         \n",
    "        # Locate index of item to be deleted\n",
    "        i = self._nodes[self._head].get_link2() # Checked head already\n",
    "        found = False\n",
    "        while i != -1:\n",
    "            if self._nodes[i] == DLLNode(obj):\n",
    "                found = True\n",
    "                break\n",
    "            i = self._nodes[i].get_link2()\n",
    "            \n",
    "        if found == False:\n",
    "            print('Not Found')\n",
    "            return False\n",
    "        \n",
    "        # Update pointers\n",
    "        prev_node = self._nodes[i].get_link1()\n",
    "        next_node = self._nodes[i].get_link2()\n",
    "        self._nodes[prev_node].set_link2(next_node)\n",
    "        self._nodes[next_node].set_link1(prev_node)\n",
    "\n",
    "        # Update content of i\n",
    "        self._nodes[i] = DLLNode(None)\n",
    "        \n",
    "        self._count -= 1\n",
    "        \n",
    "        return True     \n",
    "\n",
    "class BST(DataStructure):\n",
    "    def __init__(self, n):\n",
    "        self._root = -1\n",
    "        super().__init__(n)\n",
    "        self._nodes = [BSTNode(None) for _ in range(self._capacity)]\n",
    "    \n",
    "    def next_free(self):\n",
    "        return self._nodes.index(BSTNode(None))\n",
    "    \n",
    "    def insert(self, obj):\n",
    "        if not self.is_full():\n",
    "            self._count += 1\n",
    "            free_node = self.next_free()\n",
    "            \n",
    "            self._nodes[free_node] = BSTNode(obj)\n",
    "            \n",
    "            if self._root == -1:\n",
    "                self._root = free_node\n",
    "                return True\n",
    "            \n",
    "            cur_i = self._root\n",
    "            while True:\n",
    "                if obj < self._nodes[cur_i].get_data():\n",
    "                    if self._nodes[cur_i].get_link1() == -1:\n",
    "                        self._nodes[cur_i].set_link1(free_node)\n",
    "                        return True\n",
    "                    else:\n",
    "                        cur_i = self._nodes[cur_i].get_link1()\n",
    "                else:\n",
    "                    if self._nodes[cur_i].get_link2() == -1:\n",
    "                        self._nodes[cur_i].set_link2(free_node)\n",
    "                        return True\n",
    "                    else:\n",
    "                        cur_i = self._nodes[cur_i].get_link2()\n",
    "        return False\n",
    "    \n",
    "    def contains(self, obj):\n",
    "        if not self.is_empty():\n",
    "            cur_i = self._root\n",
    "            while True:\n",
    "                # print(f'CURRENT CUR = {cur_i}')\n",
    "                # print(f'COMPARE {self._nodes[cur_i].get_data()} VS {obj}')\n",
    "                if self._nodes[cur_i].get_data() == obj:\n",
    "                    return True                \n",
    "                elif obj < self._nodes[cur_i].get_data():\n",
    "                    # print(f'CHK LEFT PTR {self._nodes[cur_i].get_link1()}')\n",
    "                    if self._nodes[cur_i].get_link1() != -1:\n",
    "                        # print(f'NEW CUR = {self._nodes[cur_i].get_link1()}')\n",
    "                        cur_i = self._nodes[cur_i].get_link1()\n",
    "                    else:\n",
    "                        return False\n",
    "                else:\n",
    "                    # print(f'CHK RIGHT PTR {self._nodes[cur_i].get_link2()}')\n",
    "                    if self._nodes[cur_i].get_link2() != -1:\n",
    "                        # print(f'NEW CUR = {self._nodes[cur_i].get_link2()}')\n",
    "                        cur_i = self._nodes[cur_i].get_link2()\n",
    "                    else:\n",
    "                        return False"
   ]
  },
  {
   "cell_type": "code",
   "execution_count": 133,
   "id": "0fdd980a",
   "metadata": {
    "scrolled": true
   },
   "outputs": [
    {
     "data": {
      "text/plain": [
       "[[DATA: 30; LINK1: 1; LINK2: 3],\n",
       " [DATA: 20; LINK1: 2; LINK2: 0],\n",
       " [DATA: 10; LINK1: -1; LINK2: 1],\n",
       " [DATA: 40; LINK1: 0; LINK2: 4],\n",
       " [DATA: 50; LINK1: 3; LINK2: 5],\n",
       " [DATA: 60; LINK1: 4; LINK2: -1],\n",
       " [DATA: None; LINK1: -1; LINK2: -1],\n",
       " [DATA: None; LINK1: -1; LINK2: -1],\n",
       " [DATA: None; LINK1: -1; LINK2: -1],\n",
       " [DATA: None; LINK1: -1; LINK2: -1]]"
      ]
     },
     "execution_count": 133,
     "metadata": {},
     "output_type": "execute_result"
    }
   ],
   "source": [
    "dll._nodes"
   ]
  },
  {
   "cell_type": "code",
   "execution_count": 140,
   "id": "a13c7c3d",
   "metadata": {},
   "outputs": [
    {
     "name": "stdout",
     "output_type": "stream",
     "text": [
      "[[DATA: 30; LINK1: 1; LINK2: 3], [DATA: 20; LINK1: 2; LINK2: 0], [DATA: 10; LINK1: -1; LINK2: 1], [DATA: 40; LINK1: 0; LINK2: 4], [DATA: 50; LINK1: 3; LINK2: 5], [DATA: 60; LINK1: 4; LINK2: -1], [DATA: None; LINK1: -1; LINK2: -1], [DATA: None; LINK1: -1; LINK2: -1], [DATA: None; LINK1: -1; LINK2: -1], [DATA: None; LINK1: -1; LINK2: -1]]\n"
     ]
    }
   ],
   "source": [
    "dll = DLL(10)\n",
    "dll.insert_front(30)\n",
    "dll.insert_front(20)\n",
    "dll.insert_front(10)\n",
    "dll.insert_back(40)\n",
    "dll.insert_back(50)\n",
    "dll.insert_back(60)\n",
    "dll.print()"
   ]
  },
  {
   "cell_type": "code",
   "execution_count": 141,
   "id": "ca00cbf7",
   "metadata": {},
   "outputs": [
    {
     "name": "stdout",
     "output_type": "stream",
     "text": [
      "[[DATA: None; LINK1: -1; LINK2: -1], [DATA: 20; LINK1: 2; LINK2: 3], [DATA: 10; LINK1: -1; LINK2: 1], [DATA: 40; LINK1: 1; LINK2: 4], [DATA: 50; LINK1: 3; LINK2: 5], [DATA: 60; LINK1: 4; LINK2: -1], [DATA: None; LINK1: -1; LINK2: -1], [DATA: None; LINK1: -1; LINK2: -1], [DATA: None; LINK1: -1; LINK2: -1], [DATA: None; LINK1: -1; LINK2: -1]]\n",
      "[[DATA: None; LINK1: -1; LINK2: -1], [DATA: 20; LINK1: -1; LINK2: 4], [DATA: None; LINK1: -1; LINK2: -1], [DATA: None; LINK1: -1; LINK2: -1], [DATA: 50; LINK1: 1; LINK2: -1], [DATA: None; LINK1: -1; LINK2: -1], [DATA: None; LINK1: -1; LINK2: -1], [DATA: None; LINK1: -1; LINK2: -1], [DATA: None; LINK1: -1; LINK2: -1], [DATA: None; LINK1: -1; LINK2: -1]]\n"
     ]
    }
   ],
   "source": [
    "dll.delete(30)\n",
    "dll.print()\n",
    "dll.delete(10)\n",
    "dll.delete(60)\n",
    "dll.delete(40)\n",
    "dll.print()"
   ]
  },
  {
   "cell_type": "code",
   "execution_count": 142,
   "id": "00ae80c3",
   "metadata": {},
   "outputs": [
    {
     "name": "stdout",
     "output_type": "stream",
     "text": [
      "False\n",
      "True\n",
      "True\n",
      "True\n",
      "True\n",
      "\n"
     ]
    }
   ],
   "source": [
    "dll.insert_front(10)\n",
    "dll.insert_front(60)\n",
    "print(dll.contains(100))\n",
    "print(dll.contains(10))\n",
    "print(dll.contains(20))\n",
    "print(dll.contains(50))\n",
    "print(dll.contains(60))\n",
    "print()"
   ]
  },
  {
   "cell_type": "code",
   "execution_count": 143,
   "id": "58bf13cc",
   "metadata": {
    "scrolled": true
   },
   "outputs": [
    {
     "name": "stdout",
     "output_type": "stream",
     "text": [
      "Not Found\n",
      "Empty DLL\n",
      "\n"
     ]
    }
   ],
   "source": [
    "dll.delete(100)\n",
    "dll.delete(10)\n",
    "dll.delete(20)\n",
    "dll.delete(50)\n",
    "dll.delete(60)\n",
    "dll.delete(100)\n",
    "print()"
   ]
  },
  {
   "cell_type": "code",
   "execution_count": 188,
   "id": "77fd981a",
   "metadata": {},
   "outputs": [
    {
     "name": "stdout",
     "output_type": "stream",
     "text": [
      "[[DATA: 50; LINK1: 1; LINK2: 3], [DATA: 25; LINK1: 5; LINK2: 2], [DATA: 35; LINK1: -1; LINK2: -1], [DATA: 75; LINK1: 6; LINK2: 4], [DATA: 85; LINK1: -1; LINK2: -1], [DATA: 15; LINK1: -1; LINK2: -1], [DATA: 65; LINK1: -1; LINK2: -1], [DATA: None; LINK1: -1; LINK2: -1], [DATA: None; LINK1: -1; LINK2: -1], [DATA: None; LINK1: -1; LINK2: -1]]\n"
     ]
    }
   ],
   "source": [
    "b = BST(10)\n",
    "b.insert(50)\n",
    "b.insert(25)\n",
    "b.insert(35)\n",
    "b.insert(75)\n",
    "b.insert(85)\n",
    "b.insert(15)\n",
    "b.insert(65)\n",
    "b.print()"
   ]
  },
  {
   "cell_type": "code",
   "execution_count": 189,
   "id": "b6900004",
   "metadata": {},
   "outputs": [
    {
     "name": "stdout",
     "output_type": "stream",
     "text": [
      "True\n",
      "True\n",
      "True\n",
      "False\n",
      "False\n",
      "False\n",
      "False\n",
      "False\n",
      "False\n",
      "False\n",
      "False\n",
      "False\n",
      "False\n",
      "False\n",
      "False\n"
     ]
    }
   ],
   "source": [
    "print(b.contains(50))\n",
    "print(b.contains(25))\n",
    "print(b.contains(75))\n",
    "print(b.contains(19))\n",
    "print(b.contains(20))\n",
    "print(b.contains(21))\n",
    "print(b.contains(29))\n",
    "print(b.contains(30))\n",
    "print(b.contains(31))\n",
    "print(b.contains(69))\n",
    "print(b.contains(70))\n",
    "print(b.contains(71))\n",
    "print(b.contains(79))\n",
    "print(b.contains(80))\n",
    "print(b.contains(81))"
   ]
  },
  {
   "cell_type": "code",
   "execution_count": 177,
   "id": "e6486962",
   "metadata": {},
   "outputs": [
    {
     "data": {
      "text/plain": [
       "[[DATA: 50; LINK1: 1; LINK2: 3],\n",
       " [DATA: 25; LINK1: 5; LINK2: 2],\n",
       " [DATA: 35; LINK1: -1; LINK2: -1],\n",
       " [DATA: 75; LINK1: 6; LINK2: 4],\n",
       " [DATA: 85; LINK1: -1; LINK2: -1],\n",
       " [DATA: 15; LINK1: -1; LINK2: -1],\n",
       " [DATA: 65; LINK1: -1; LINK2: -1],\n",
       " [DATA: None; LINK1: -1; LINK2: -1],\n",
       " [DATA: None; LINK1: -1; LINK2: -1],\n",
       " [DATA: None; LINK1: -1; LINK2: -1]]"
      ]
     },
     "execution_count": 177,
     "metadata": {},
     "output_type": "execute_result"
    }
   ],
   "source": [
    "b._nodes"
   ]
  }
 ],
 "metadata": {
  "kernelspec": {
   "display_name": "Python 3 (ipykernel)",
   "language": "python",
   "name": "python3"
  },
  "language_info": {
   "codemirror_mode": {
    "name": "ipython",
    "version": 3
   },
   "file_extension": ".py",
   "mimetype": "text/x-python",
   "name": "python",
   "nbconvert_exporter": "python",
   "pygments_lexer": "ipython3",
   "version": "3.9.5"
  }
 },
 "nbformat": 4,
 "nbformat_minor": 5
}
