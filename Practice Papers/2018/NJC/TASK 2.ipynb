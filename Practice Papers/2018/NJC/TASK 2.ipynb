{
 "cells": [
  {
   "cell_type": "code",
   "execution_count": 6,
   "id": "c46f01c3",
   "metadata": {},
   "outputs": [],
   "source": [
    "# Task 2.1\n",
    "def universal_base_division(dividend:str, dividend_base:int, divisor:str, divisor_base:int, result_base:int):\n",
    "    \n",
    "    def basek_to_denary(basek_value, k):\n",
    "        mapping = \"0123456789ABCDEFGHIJKLMNOPQRSTUVWXYZ\"\n",
    "        basek_value = str(basek_value)[::-1]\n",
    "        denary = 0\n",
    "        for i in range(len(basek_value)):\n",
    "            denary += mapping.index(basek_value[i].upper()) * k**i\n",
    "        return denary\n",
    "    def denary_to_basek(denary, k):\n",
    "        mapping = \"0123456789ABCDEFGHIJKLMNOPQRSTUVWXYZ\"\n",
    "        base_k_value = \"\"\n",
    "        while denary > 0:\n",
    "            base_k_value = mapping[denary % k] + base_k_value\n",
    "            denary //= k\n",
    "        return base_k_value\n",
    "    \n",
    "    dividend_base10 = basek_to_denary(dividend, dividend_base)\n",
    "    divisor_base10 = basek_to_denary(divisor, divisor_base)\n",
    "    \n",
    "    remainer_base10 = dividend_base10 % divisor_base10\n",
    "    quotient_base10 = dividend_base10 // divisor_base10\n",
    "    \n",
    "    return denary_to_basek(quotient_base10, result_base), denary_to_basek(remainer_base10, result_base)"
   ]
  },
  {
   "cell_type": "code",
   "execution_count": 7,
   "id": "1929a5e0",
   "metadata": {},
   "outputs": [
    {
     "data": {
      "text/plain": [
       "('11000101100', '110111111')"
      ]
     },
     "execution_count": 7,
     "metadata": {},
     "output_type": "execute_result"
    }
   ],
   "source": [
    "# Task 2.2\n",
    "universal_base_division('mma01', 23, '30501', 6, 2)"
   ]
  },
  {
   "cell_type": "code",
   "execution_count": 4,
   "id": "a24118c1",
   "metadata": {},
   "outputs": [
    {
     "data": {
      "text/plain": [
       "('7F', '1')"
      ]
     },
     "execution_count": 4,
     "metadata": {},
     "output_type": "execute_result"
    }
   ],
   "source": [
    "universal_base_division('FF', 16, '2', 16, 16)"
   ]
  },
  {
   "cell_type": "code",
   "execution_count": 14,
   "id": "2a02efe2",
   "metadata": {},
   "outputs": [
    {
     "data": {
      "text/plain": [
       "('1', '')"
      ]
     },
     "execution_count": 14,
     "metadata": {},
     "output_type": "execute_result"
    }
   ],
   "source": [
    "universal_base_division('1', 2, '1', 2, 2)"
   ]
  },
  {
   "cell_type": "markdown",
   "id": "3e258891",
   "metadata": {},
   "source": [
    "# Task 2.3\n",
    "|Input|Purpose of test|Expected output|\n",
    "|---|---|---|\n",
    "|`universal_base_division('mma01', 23, '30501', 6, 2)`|Normal Case|`('11000101100', '110111111')`|\n",
    "|`universal_base_division('FF', 16, '2', 16, 16)`|Normal Case|`('7F', '1')`|\n",
    "|`universal_base_division('Z', 30, 'A', 30, 2)`|Boundary Case|`('11', '101')`|\n",
    "|`universal_base_division('1', 2, '1', 2, 2)`|Boundary Case|`('1', '')`|\n",
    "|`universal_base_division('A', 'A', 'A', 'A', 'A')`|Invalid Case|Exception|\n",
    "|`universal_base_division('', 10, '', 10, 10)`|Invalid Case|Exception|"
   ]
  }
 ],
 "metadata": {
  "kernelspec": {
   "display_name": "Python 3 (ipykernel)",
   "language": "python",
   "name": "python3"
  },
  "language_info": {
   "codemirror_mode": {
    "name": "ipython",
    "version": 3
   },
   "file_extension": ".py",
   "mimetype": "text/x-python",
   "name": "python",
   "nbconvert_exporter": "python",
   "pygments_lexer": "ipython3",
   "version": "3.9.5"
  }
 },
 "nbformat": 4,
 "nbformat_minor": 5
}
