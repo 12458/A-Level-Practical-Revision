{
 "cells": [
  {
   "cell_type": "code",
   "execution_count": 19,
   "id": "84c656c0",
   "metadata": {},
   "outputs": [],
   "source": [
    "# Task 4.1\n",
    "def generate_substrings(s):\n",
    "    \n",
    "    # Function to filter the string\n",
    "    def get_substr(test_str):\n",
    "        return [i for i in \n",
    "                [test_str[i: j] for i in range(len(test_str)) for j in range(i + 1, len(test_str) + 1)] \n",
    "                if len(i) >= 2]\n",
    "        \n",
    "    # Function to swap two characters in a character array\n",
    "    def swap(ch, i, j):\n",
    "        ch[i], ch[j] = ch[j], ch[i]\n",
    "        \n",
    "    # Recursive function to generate all permutations of a string\n",
    "    def permutations(ch, curr_index=0):\n",
    "\n",
    "        if curr_index == len(ch) - 1:\n",
    "            tmp.append(''.join(ch))\n",
    "\n",
    "        for i in range(curr_index, len(ch)):\n",
    "            swap(ch, curr_index, i)\n",
    "            permutations(ch, curr_index + 1)\n",
    "            swap(ch, curr_index, i)\n",
    "    tmp = []\n",
    "    for string in get_substr(s):\n",
    "        permutations(list(string))\n",
    "    return tmp"
   ]
  },
  {
   "cell_type": "code",
   "execution_count": 20,
   "id": "9bfd3268",
   "metadata": {},
   "outputs": [
    {
     "data": {
      "text/plain": [
       "['XY', 'YX', 'XYZ', 'XZY', 'YXZ', 'YZX', 'ZYX', 'ZXY', 'YZ', 'ZY']"
      ]
     },
     "execution_count": 20,
     "metadata": {},
     "output_type": "execute_result"
    }
   ],
   "source": [
    "generate_substrings('XYZ')"
   ]
  },
  {
   "cell_type": "code",
   "execution_count": 21,
   "id": "c224a4fb",
   "metadata": {
    "scrolled": true
   },
   "outputs": [
    {
     "data": {
      "text/plain": [
       "['AG',\n",
       " 'GA',\n",
       " 'AGM',\n",
       " 'AMG',\n",
       " 'GAM',\n",
       " 'GMA',\n",
       " 'MGA',\n",
       " 'MAG',\n",
       " 'AGMS',\n",
       " 'AGSM',\n",
       " 'AMGS',\n",
       " 'AMSG',\n",
       " 'ASMG',\n",
       " 'ASGM',\n",
       " 'GAMS',\n",
       " 'GASM',\n",
       " 'GMAS',\n",
       " 'GMSA',\n",
       " 'GSMA',\n",
       " 'GSAM',\n",
       " 'MGAS',\n",
       " 'MGSA',\n",
       " 'MAGS',\n",
       " 'MASG',\n",
       " 'MSAG',\n",
       " 'MSGA',\n",
       " 'SGMA',\n",
       " 'SGAM',\n",
       " 'SMGA',\n",
       " 'SMAG',\n",
       " 'SAMG',\n",
       " 'SAGM',\n",
       " 'AGMSZ',\n",
       " 'AGMZS',\n",
       " 'AGSMZ',\n",
       " 'AGSZM',\n",
       " 'AGZSM',\n",
       " 'AGZMS',\n",
       " 'AMGSZ',\n",
       " 'AMGZS',\n",
       " 'AMSGZ',\n",
       " 'AMSZG',\n",
       " 'AMZSG',\n",
       " 'AMZGS',\n",
       " 'ASMGZ',\n",
       " 'ASMZG',\n",
       " 'ASGMZ',\n",
       " 'ASGZM',\n",
       " 'ASZGM',\n",
       " 'ASZMG',\n",
       " 'AZMSG',\n",
       " 'AZMGS',\n",
       " 'AZSMG',\n",
       " 'AZSGM',\n",
       " 'AZGSM',\n",
       " 'AZGMS',\n",
       " 'GAMSZ',\n",
       " 'GAMZS',\n",
       " 'GASMZ',\n",
       " 'GASZM',\n",
       " 'GAZSM',\n",
       " 'GAZMS',\n",
       " 'GMASZ',\n",
       " 'GMAZS',\n",
       " 'GMSAZ',\n",
       " 'GMSZA',\n",
       " 'GMZSA',\n",
       " 'GMZAS',\n",
       " 'GSMAZ',\n",
       " 'GSMZA',\n",
       " 'GSAMZ',\n",
       " 'GSAZM',\n",
       " 'GSZAM',\n",
       " 'GSZMA',\n",
       " 'GZMSA',\n",
       " 'GZMAS',\n",
       " 'GZSMA',\n",
       " 'GZSAM',\n",
       " 'GZASM',\n",
       " 'GZAMS',\n",
       " 'MGASZ',\n",
       " 'MGAZS',\n",
       " 'MGSAZ',\n",
       " 'MGSZA',\n",
       " 'MGZSA',\n",
       " 'MGZAS',\n",
       " 'MAGSZ',\n",
       " 'MAGZS',\n",
       " 'MASGZ',\n",
       " 'MASZG',\n",
       " 'MAZSG',\n",
       " 'MAZGS',\n",
       " 'MSAGZ',\n",
       " 'MSAZG',\n",
       " 'MSGAZ',\n",
       " 'MSGZA',\n",
       " 'MSZGA',\n",
       " 'MSZAG',\n",
       " 'MZASG',\n",
       " 'MZAGS',\n",
       " 'MZSAG',\n",
       " 'MZSGA',\n",
       " 'MZGSA',\n",
       " 'MZGAS',\n",
       " 'SGMAZ',\n",
       " 'SGMZA',\n",
       " 'SGAMZ',\n",
       " 'SGAZM',\n",
       " 'SGZAM',\n",
       " 'SGZMA',\n",
       " 'SMGAZ',\n",
       " 'SMGZA',\n",
       " 'SMAGZ',\n",
       " 'SMAZG',\n",
       " 'SMZAG',\n",
       " 'SMZGA',\n",
       " 'SAMGZ',\n",
       " 'SAMZG',\n",
       " 'SAGMZ',\n",
       " 'SAGZM',\n",
       " 'SAZGM',\n",
       " 'SAZMG',\n",
       " 'SZMAG',\n",
       " 'SZMGA',\n",
       " 'SZAMG',\n",
       " 'SZAGM',\n",
       " 'SZGAM',\n",
       " 'SZGMA',\n",
       " 'ZGMSA',\n",
       " 'ZGMAS',\n",
       " 'ZGSMA',\n",
       " 'ZGSAM',\n",
       " 'ZGASM',\n",
       " 'ZGAMS',\n",
       " 'ZMGSA',\n",
       " 'ZMGAS',\n",
       " 'ZMSGA',\n",
       " 'ZMSAG',\n",
       " 'ZMASG',\n",
       " 'ZMAGS',\n",
       " 'ZSMGA',\n",
       " 'ZSMAG',\n",
       " 'ZSGMA',\n",
       " 'ZSGAM',\n",
       " 'ZSAGM',\n",
       " 'ZSAMG',\n",
       " 'ZAMSG',\n",
       " 'ZAMGS',\n",
       " 'ZASMG',\n",
       " 'ZASGM',\n",
       " 'ZAGSM',\n",
       " 'ZAGMS',\n",
       " 'GM',\n",
       " 'MG',\n",
       " 'GMS',\n",
       " 'GSM',\n",
       " 'MGS',\n",
       " 'MSG',\n",
       " 'SMG',\n",
       " 'SGM',\n",
       " 'GMSZ',\n",
       " 'GMZS',\n",
       " 'GSMZ',\n",
       " 'GSZM',\n",
       " 'GZSM',\n",
       " 'GZMS',\n",
       " 'MGSZ',\n",
       " 'MGZS',\n",
       " 'MSGZ',\n",
       " 'MSZG',\n",
       " 'MZSG',\n",
       " 'MZGS',\n",
       " 'SMGZ',\n",
       " 'SMZG',\n",
       " 'SGMZ',\n",
       " 'SGZM',\n",
       " 'SZGM',\n",
       " 'SZMG',\n",
       " 'ZMSG',\n",
       " 'ZMGS',\n",
       " 'ZSMG',\n",
       " 'ZSGM',\n",
       " 'ZGSM',\n",
       " 'ZGMS',\n",
       " 'MS',\n",
       " 'SM',\n",
       " 'MSZ',\n",
       " 'MZS',\n",
       " 'SMZ',\n",
       " 'SZM',\n",
       " 'ZSM',\n",
       " 'ZMS',\n",
       " 'SZ',\n",
       " 'ZS']"
      ]
     },
     "execution_count": 21,
     "metadata": {},
     "output_type": "execute_result"
    }
   ],
   "source": [
    "generate_substrings('AGMSZ')"
   ]
  },
  {
   "cell_type": "code",
   "execution_count": 22,
   "id": "a28fda41",
   "metadata": {},
   "outputs": [],
   "source": [
    "# Task 4.2\n",
    "def exists(source, key):\n",
    "    return key in source\n",
    "\n",
    "def index_key(source, key):\n",
    "    return source.index(key)"
   ]
  },
  {
   "cell_type": "code",
   "execution_count": 30,
   "id": "aa4bed80",
   "metadata": {},
   "outputs": [],
   "source": [
    "def starts_with(source, key):\n",
    "    if exists(source, key):\n",
    "        idx = index_key(source, key)\n",
    "        if idx == 0:\n",
    "            return True\n",
    "    return False"
   ]
  },
  {
   "cell_type": "code",
   "execution_count": 29,
   "id": "b8cb5bff",
   "metadata": {},
   "outputs": [],
   "source": [
    "def contains(source, key):\n",
    "    if exists(source, key):\n",
    "        return True\n",
    "    return False"
   ]
  },
  {
   "cell_type": "code",
   "execution_count": 28,
   "id": "0ed9d057",
   "metadata": {},
   "outputs": [],
   "source": [
    "def ends_with(source, key):\n",
    "    if exists(source, key):\n",
    "        idx = index_key(source, key)\n",
    "        if idx+len(key) - 1 == len(source) - 1:\n",
    "            return True\n",
    "    return False"
   ]
  },
  {
   "cell_type": "code",
   "execution_count": 35,
   "id": "8e1c76b3",
   "metadata": {},
   "outputs": [
    {
     "data": {
      "text/plain": [
       "True"
      ]
     },
     "execution_count": 35,
     "metadata": {},
     "output_type": "execute_result"
    }
   ],
   "source": [
    "contains('HELLO','EL')"
   ]
  },
  {
   "cell_type": "code",
   "execution_count": 36,
   "id": "59b61570",
   "metadata": {},
   "outputs": [],
   "source": [
    "# Task 4.3\n",
    "valid_sub_str = generate_substrings('ABC')\n",
    "with open('STRINGS.TXT') as f:\n",
    "    strings = [i.strip() for i in f]\n"
   ]
  },
  {
   "cell_type": "code",
   "execution_count": 49,
   "id": "eaa6516c",
   "metadata": {
    "scrolled": true
   },
   "outputs": [],
   "source": [
    "freq_start = {}\n",
    "for i in valid_sub_str:\n",
    "    freq_start[i] = 0\n",
    "    \n",
    "freq_end = {}\n",
    "for i in valid_sub_str:\n",
    "    freq_end[i] = 0\n",
    "\n",
    "for string in strings:\n",
    "    for i in freq_start.keys():\n",
    "        if starts_with(string, i):\n",
    "            freq_start[i] += 1\n",
    "\n",
    "for string in strings:\n",
    "    for i in freq_end.keys():\n",
    "        if ends_with(string, i):\n",
    "            freq_end[i] += 1"
   ]
  },
  {
   "cell_type": "code",
   "execution_count": 50,
   "id": "ab5ba957",
   "metadata": {},
   "outputs": [
    {
     "data": {
      "text/plain": [
       "{'AB': 1621,\n",
       " 'BA': 1705,\n",
       " 'ABC': 1621,\n",
       " 'ACB': 1650,\n",
       " 'BAC': 1705,\n",
       " 'BCA': 1668,\n",
       " 'CBA': 1674,\n",
       " 'CAB': 1682,\n",
       " 'BC': 1668,\n",
       " 'CB': 1674}"
      ]
     },
     "execution_count": 50,
     "metadata": {},
     "output_type": "execute_result"
    }
   ],
   "source": [
    "freq_start"
   ]
  },
  {
   "cell_type": "code",
   "execution_count": 51,
   "id": "3be4e230",
   "metadata": {},
   "outputs": [
    {
     "data": {
      "text/plain": [
       "{'AB': 1682,\n",
       " 'BA': 1674,\n",
       " 'ABC': 1621,\n",
       " 'ACB': 1650,\n",
       " 'BAC': 1705,\n",
       " 'BCA': 1668,\n",
       " 'CBA': 1674,\n",
       " 'CAB': 1682,\n",
       " 'BC': 1621,\n",
       " 'CB': 1650}"
      ]
     },
     "execution_count": 51,
     "metadata": {},
     "output_type": "execute_result"
    }
   ],
   "source": [
    "freq_end"
   ]
  }
 ],
 "metadata": {
  "kernelspec": {
   "display_name": "Python 3 (ipykernel)",
   "language": "python",
   "name": "python3"
  },
  "language_info": {
   "codemirror_mode": {
    "name": "ipython",
    "version": 3
   },
   "file_extension": ".py",
   "mimetype": "text/x-python",
   "name": "python",
   "nbconvert_exporter": "python",
   "pygments_lexer": "ipython3",
   "version": "3.9.5"
  }
 },
 "nbformat": 4,
 "nbformat_minor": 5
}
