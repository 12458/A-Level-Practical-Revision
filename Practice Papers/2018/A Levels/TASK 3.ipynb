{
 "cells": [
  {
   "cell_type": "code",
   "execution_count": 36,
   "id": "d20bfaa1",
   "metadata": {},
   "outputs": [],
   "source": [
    "# Hash Table (Linear Probing)\n",
    "class HashTable:\n",
    "\n",
    "    def __init__(self):\n",
    "        # Task 3.1\n",
    "        self._array = [{'Name':None, 'TelephoneNumber':None} for _ in range(500)]\n",
    "        self._size = 500\n",
    "\n",
    "    def GenerateHash(self, s):\n",
    "        hash_total = 0\n",
    "        for pos, char in enumerate(s):\n",
    "            # Assume position start from 1\n",
    "            hash_total += ord(char) * (pos + 1)\n",
    "        return hash_total % 500\n",
    "    \n",
    "    # Task 3.4\n",
    "    def SearchName(self, name):\n",
    "        index = self.GenerateHash(str(name))\n",
    "        if self._array[index]['Name'] == name:\n",
    "            print(f'FOUND: {self._array[index][\"Name\"]}|{self._array[index][\"TelephoneNumber\"]}')\n",
    "            return index\n",
    "        else:\n",
    "            i = (index + 1) % self._size\n",
    "            while i != index:\n",
    "                if self._array[i]['Name'] == name:\n",
    "                    print(f'FOUND: {self._array[i][\"Name\"]}|{self._array[i][\"TelephoneNumber\"]}')\n",
    "                    return i\n",
    "                else:\n",
    "                    i = (i + 1) % self._size\n",
    "            print('NOT FOUND')\n",
    "            return -1\n",
    "\n",
    "    def __str__(self):\n",
    "        return str(self._array)"
   ]
  },
  {
   "cell_type": "code",
   "execution_count": 37,
   "id": "b28e4c7b",
   "metadata": {},
   "outputs": [],
   "source": [
    "# Task 3.3\n",
    "import csv\n",
    "with open('HASHEDDATA.TXT') as f:\n",
    "    data = list(csv.reader(f))\n",
    "data = [{'Name':i[1], 'TelephoneNumber':i[2]} if i[1] != '' and i[2] != '' else {'Name':None, 'TelephoneNumber':None} for i in data]\n",
    "ht = HashTable()\n",
    "ht._array = data"
   ]
  },
  {
   "cell_type": "code",
   "execution_count": 38,
   "id": "1456f7e3",
   "metadata": {},
   "outputs": [
    {
     "data": {
      "text/plain": [
       "156"
      ]
     },
     "execution_count": 38,
     "metadata": {},
     "output_type": "execute_result"
    }
   ],
   "source": [
    "ht.GenerateHash('Anandan Yeo')"
   ]
  },
  {
   "cell_type": "code",
   "execution_count": 39,
   "id": "7b54e043",
   "metadata": {
    "scrolled": true
   },
   "outputs": [
    {
     "data": {
      "text/plain": [
       "87"
      ]
     },
     "execution_count": 39,
     "metadata": {},
     "output_type": "execute_result"
    }
   ],
   "source": [
    "ht.GenerateHash('Tait Davinder')"
   ]
  },
  {
   "cell_type": "code",
   "execution_count": 40,
   "id": "5241f6aa",
   "metadata": {},
   "outputs": [
    {
     "name": "stdout",
     "output_type": "stream",
     "text": [
      "FOUND: Charlie Love|07831 598262\n"
     ]
    },
    {
     "data": {
      "text/plain": [
       "459"
      ]
     },
     "execution_count": 40,
     "metadata": {},
     "output_type": "execute_result"
    }
   ],
   "source": [
    "ht.SearchName('Charlie Love')"
   ]
  },
  {
   "cell_type": "code",
   "execution_count": 41,
   "id": "8b717ded",
   "metadata": {},
   "outputs": [
    {
     "name": "stdout",
     "output_type": "stream",
     "text": [
      "FOUND: Chin Tan|07528 358569\n"
     ]
    },
    {
     "data": {
      "text/plain": [
       "255"
      ]
     },
     "execution_count": 41,
     "metadata": {},
     "output_type": "execute_result"
    }
   ],
   "source": [
    "ht.SearchName('Chin Tan')"
   ]
  },
  {
   "cell_type": "code",
   "execution_count": 42,
   "id": "860dee75",
   "metadata": {},
   "outputs": [
    {
     "name": "stdout",
     "output_type": "stream",
     "text": [
      "NOT FOUND\n"
     ]
    },
    {
     "data": {
      "text/plain": [
       "-1"
      ]
     },
     "execution_count": 42,
     "metadata": {},
     "output_type": "execute_result"
    }
   ],
   "source": [
    "ht.SearchName('John Barrowman')"
   ]
  }
 ],
 "metadata": {
  "kernelspec": {
   "display_name": "Python 3 (ipykernel)",
   "language": "python",
   "name": "python3"
  },
  "language_info": {
   "codemirror_mode": {
    "name": "ipython",
    "version": 3
   },
   "file_extension": ".py",
   "mimetype": "text/x-python",
   "name": "python",
   "nbconvert_exporter": "python",
   "pygments_lexer": "ipython3",
   "version": "3.9.5"
  }
 },
 "nbformat": 4,
 "nbformat_minor": 5
}
