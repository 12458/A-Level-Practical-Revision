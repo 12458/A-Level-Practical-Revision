{
 "cells": [
  {
   "cell_type": "markdown",
   "id": "97f64883",
   "metadata": {},
   "source": [
    "Pseudocode\n",
    "---\n",
    "```\n",
    "FUNCTION QuickSort(Scores)\n",
    "  QuickSortHelper(Scores, 0, LENGTH(Scores) - 1)\n",
    "  RETURN Scores  \n",
    "ENDFUNCTION\n",
    "\n",
    "FUNCTION QuickSortHelper(Scores, First, Last)\n",
    "  IF First < Last \n",
    "    THEN\n",
    "      SplitPoint ← Partition(Scores, First, Last)\n",
    "      QuickSortHelper(Scores, First, SplitPoint - 1)\n",
    "      QuickSortHelper(Scores, SplitPoint + 1, Last)\n",
    "  ENDIF\n",
    "  RETURN Scores  \n",
    "ENDFUNCTION\n",
    "\n",
    "FUNCTION Partition(Scores, First, Last)\n",
    "  PivotValue ← Scores[First]\n",
    "  LeftMark ← First + 1\n",
    "  RightMark ← Last\n",
    "\n",
    "  Done ← FALSE\n",
    "  WHILE (Done = FALSE) \n",
    "    WHILE LeftMark <= RightMark AND Scores[LeftMark] <= PivotValue\n",
    "      LeftMark ← LeftMark + 1\n",
    "    ENDWHILE\n",
    "      \n",
    "    WHILE Scores[RightMark] >= PivotValue AND RightMark >= LeftMark\n",
    "      RightMark ← RightMark - 1    \n",
    "    ENDWHILE    \n",
    "    IF RightMark < LeftMark \n",
    "      THEN\n",
    "        Done ← TRUE\n",
    "    ELSE\n",
    "      Temp ← Scores[LeftMark]\n",
    "      Scores[LeftMark] ← Scores[RightMark]\n",
    "      Scores[RightMark] ← Temp\n",
    "    ENDIF\n",
    "  ENDWHILE  \n",
    "\n",
    "  <swap Scores[First] with Scores[RightMark]>\n",
    "\n",
    "  RETURN RightMark\n",
    "ENDFUNCTION\n",
    "\n",
    "```"
   ]
  },
  {
   "cell_type": "code",
   "execution_count": 8,
   "id": "db3ce399",
   "metadata": {},
   "outputs": [],
   "source": [
    "# Task 2.1\n",
    "def quicksort(scores):\n",
    "    quicksorthelper(scores, 0, len(scores) - 1)\n",
    "    return scores\n",
    "\n",
    "def quicksorthelper(scores, first, last):\n",
    "    if first < last:\n",
    "        split_point = partition(scores, first, last)\n",
    "        quicksorthelper(scores, first, split_point - 1)\n",
    "        quicksorthelper(scores, split_point + 1, last)\n",
    "    return scores\n",
    "\n",
    "def partition(scores, first, last):\n",
    "    pivotvalue = scores[first]\n",
    "    leftmark = first + 1\n",
    "    rightmark = last\n",
    "    done = False\n",
    "    while done == False:\n",
    "        while leftmark <= rightmark and scores[leftmark] <= pivotvalue:\n",
    "            leftmark = leftmark + 1\n",
    "        while scores[rightmark] >= pivotvalue and rightmark >= leftmark:\n",
    "            rightmark = rightmark -1\n",
    "        if rightmark < leftmark:\n",
    "            done = True\n",
    "        else:\n",
    "            scores[leftmark], scores[rightmark] = scores[rightmark], scores[leftmark]\n",
    "    # swap scores[first] with scores[rightmark]\n",
    "    scores[first], scores[rightmark] = scores[rightmark], scores[first]\n",
    "    return rightmark\n",
    "\n",
    "# Task 2.2\n",
    "def output_scores(scores):\n",
    "    print(f'UNSORTED SCORES: {scores}')\n",
    "    print(f'SORTED SCORES: {quicksort(scores)}')"
   ]
  },
  {
   "cell_type": "code",
   "execution_count": 9,
   "id": "006e1585",
   "metadata": {},
   "outputs": [
    {
     "name": "stdout",
     "output_type": "stream",
     "text": [
      "UNSORTED SCORES: [72, 45, 120, 57, 76, 29, 40, 42, 113, 77, 64, 29, 91, 122, 134, 139, 24, 92, 136, 73, 78, 62, 27, 126, 76, 116, 67, 34, 20, 90, 75, 128, 128, 89, 98, 41, 37, 58, 124, 24, 101, 132]\n",
      "SORTED SCORES: [20, 24, 24, 27, 29, 29, 34, 37, 40, 41, 42, 45, 57, 58, 62, 64, 67, 72, 73, 75, 76, 76, 77, 78, 89, 90, 91, 92, 98, 101, 113, 116, 120, 122, 124, 126, 128, 128, 132, 134, 136, 139]\n"
     ]
    }
   ],
   "source": [
    "output_scores([72,45,120,57,76,29,40,42,113,77,64,29,91,122,134,139,24,92,136,73,78,62,27,126,76,116,67,34,20,90,75,128,128,89,98,41,37,58,124,24,101,132])"
   ]
  }
 ],
 "metadata": {
  "kernelspec": {
   "display_name": "Python 3 (ipykernel)",
   "language": "python",
   "name": "python3"
  },
  "language_info": {
   "codemirror_mode": {
    "name": "ipython",
    "version": 3
   },
   "file_extension": ".py",
   "mimetype": "text/x-python",
   "name": "python",
   "nbconvert_exporter": "python",
   "pygments_lexer": "ipython3",
   "version": "3.9.5"
  }
 },
 "nbformat": 4,
 "nbformat_minor": 5
}
