{
 "cells": [
  {
   "cell_type": "markdown",
   "id": "df6938ea",
   "metadata": {},
   "source": [
    "```\n",
    "GB00WEST12345698765432\n",
    "GB00NWBK60161331926819\n",
    "GB00LOYD30952013145983\n",
    "```"
   ]
  },
  {
   "cell_type": "code",
   "execution_count": 37,
   "id": "c1b31fbe",
   "metadata": {},
   "outputs": [],
   "source": [
    "# Task 2.1\n",
    "def CheckDigits(iban:str) -> str:\n",
    "    iban_cpy = iban\n",
    "    iban_cpy = iban_cpy[4:] + iban_cpy[0:2] + '00'\n",
    "    iban_cpy = int(''.join([str(ord(i)-55) if i.isalpha() else i for i in iban_cpy]))\n",
    "    remainder = iban_cpy % 97\n",
    "    chk_digit = 98 - remainder\n",
    "    return f'{chk_digit:0>2}'"
   ]
  },
  {
   "cell_type": "code",
   "execution_count": 38,
   "id": "cb633aeb",
   "metadata": {},
   "outputs": [
    {
     "data": {
      "text/plain": [
       "'82'"
      ]
     },
     "execution_count": 38,
     "metadata": {},
     "output_type": "execute_result"
    }
   ],
   "source": [
    "CheckDigits('GB00WEST12345698765432')"
   ]
  },
  {
   "cell_type": "code",
   "execution_count": 39,
   "id": "2304ec5a",
   "metadata": {},
   "outputs": [
    {
     "data": {
      "text/plain": [
       "'29'"
      ]
     },
     "execution_count": 39,
     "metadata": {},
     "output_type": "execute_result"
    }
   ],
   "source": [
    "CheckDigits('GB00NWBK60161331926819')"
   ]
  },
  {
   "cell_type": "code",
   "execution_count": 40,
   "id": "abf1a665",
   "metadata": {
    "scrolled": true
   },
   "outputs": [
    {
     "data": {
      "text/plain": [
       "'05'"
      ]
     },
     "execution_count": 40,
     "metadata": {},
     "output_type": "execute_result"
    }
   ],
   "source": [
    "CheckDigits('GB00LOYD30952013145983')"
   ]
  },
  {
   "cell_type": "code",
   "execution_count": 60,
   "id": "1b0e7987",
   "metadata": {},
   "outputs": [],
   "source": [
    "# Task 2.2\n",
    "def ValidateIBAN(iban:str) -> str:\n",
    "    iban_cpy = iban\n",
    "    iban_cpy = iban_cpy[4:] + iban_cpy[:4]\n",
    "    iban_cpy = int(''.join([str(ord(i)-55) if i.isalpha() else i for i in iban_cpy]))\n",
    "    remainder = iban_cpy % 97\n",
    "    return True if remainder == 1 else False"
   ]
  },
  {
   "cell_type": "code",
   "execution_count": 81,
   "id": "5a1760e9",
   "metadata": {
    "scrolled": true
   },
   "outputs": [
    {
     "name": "stdout",
     "output_type": "stream",
     "text": [
      "OK\n",
      "OK\n",
      "OK\n",
      "OK\n",
      "Invalid. Expected check digits: 05\n",
      "Invalid. Expected check digits: 29\n",
      "Invalid. Expected check digits: 86\n",
      "OK\n",
      "OK\n",
      "OK\n"
     ]
    }
   ],
   "source": [
    "# Task 2.3\n",
    "output = []\n",
    "with open('TRANSACTIONS.TXT') as f:\n",
    "    txns= [[i[:22].strip(),i[23:].strip(),i[22].strip()] for i in f]\n",
    "for txn in txns:\n",
    "    if ValidateIBAN(txn[0]):\n",
    "        print('OK')\n",
    "        output.append(txn)\n",
    "    else:\n",
    "        print(f'Invalid. Expected check digits: {CheckDigits(txn[0])}')\n",
    "        txn[0] = txn[0][:2] + CheckDigits(txn[0]) + txn[0][4:]\n",
    "        output.append(txn)\n",
    "output_str = ''\n",
    "for record in output:\n",
    "    output_str += f'{record[0]}{record[2]}{record[1]:>4}\\n'\n",
    "with open('TRANSACTIONS_NEW.TXT','w') as f:\n",
    "    f.write(output_str)"
   ]
  },
  {
   "cell_type": "code",
   "execution_count": 82,
   "id": "75cac4d4",
   "metadata": {},
   "outputs": [
    {
     "data": {
      "text/plain": [
       "[['GB82WEST12345698765432', '300', 'W'],\n",
       " ['GB26AIBK23929012345678', '40', 'W'],\n",
       " ['GB28RBOS22333444455555', '50', 'W'],\n",
       " ['GB88260005601001611379', '200', 'W'],\n",
       " ['GB05LOYD30952013145983', '300', 'D'],\n",
       " ['GB29NWBK60161331926819', '50', 'W'],\n",
       " ['GB86RBOS60161331926819', '2000', 'D'],\n",
       " ['GB21BARC20570640736805', '200', 'W'],\n",
       " ['GB28RBOS22333444455555', '100', 'W'],\n",
       " ['GB26AIBK23929012345678', '1200', 'D']]"
      ]
     },
     "execution_count": 82,
     "metadata": {},
     "output_type": "execute_result"
    }
   ],
   "source": [
    "output"
   ]
  },
  {
   "cell_type": "code",
   "execution_count": 31,
   "id": "f9efd126",
   "metadata": {
    "scrolled": true
   },
   "outputs": [
    {
     "data": {
      "text/plain": [
       "[('GB82WEST12345698765432W', '300'),\n",
       " ('GB26AIBK23929012345678W', '40'),\n",
       " ('GB28RBOS22333444455555W', '50'),\n",
       " ('GB88260005601001611379W', '200'),\n",
       " ('GB22LOYD30952013145983D', '300'),\n",
       " ('GB65NWBK60161331926819W', '50'),\n",
       " ('GB29RBOS60161331926819D', '2000'),\n",
       " ('GB21BARC20570640736805W', '200'),\n",
       " ('GB28RBOS22333444455555W', '100'),\n",
       " ('GB26AIBK23929012345678D', '1200')]"
      ]
     },
     "execution_count": 31,
     "metadata": {},
     "output_type": "execute_result"
    }
   ],
   "source": [
    "txn"
   ]
  },
  {
   "cell_type": "code",
   "execution_count": 87,
   "id": "b08a606f",
   "metadata": {},
   "outputs": [
    {
     "name": "stdout",
     "output_type": "stream",
     "text": [
      "10 record(s) updated\n"
     ]
    }
   ],
   "source": [
    "# Task 2.4\n",
    "\n",
    "with open('ACCOUNTS.TXT') as f:\n",
    "    accounts = [[i[:22].strip(),float(i[37:].strip()),i[22:37].strip()] for i in f]\n",
    "\n",
    "account_lut = {}\n",
    "\n",
    "for account in accounts:\n",
    "    account_lut[account[0]] = [account[1], account[2]]\n",
    "\n",
    "for tx in output:\n",
    "    if tx[2] == 'W':\n",
    "        account_lut[tx[0]][0] -= float(tx[1])\n",
    "    else:\n",
    "        account_lut[tx[0]][0] += float(tx[1])\n",
    "print(f'{len(output)} record(s) updated')\n",
    "\n",
    "output_str = ''\n",
    "for key in account_lut.keys():\n",
    "    output_str += f'{key}{account_lut[key][1]:<15}{account_lut[key][0]:>8}\\n'\n",
    "\n",
    "with open('ACCOUNTS_UPDATED.TXT','w') as f:\n",
    "    f.write(output_str)"
   ]
  },
  {
   "cell_type": "code",
   "execution_count": 85,
   "id": "a7ff157d",
   "metadata": {},
   "outputs": [
    {
     "data": {
      "text/plain": [
       "{'GB05LOYD30952013145983': [1629.75, 'Peter Tan'],\n",
       " 'GB06CPBK08929912345678': [32123.28, 'Robert Yeo'],\n",
       " 'GB12CPBK08929965044991': [8901.33, 'Alice Cheong'],\n",
       " 'GB16CPBK08929911000011': [12657.45, 'Bernard Lim'],\n",
       " 'GB19LOYD30961700709943': [7342.88, 'Jonathan Hong'],\n",
       " 'GB21BARC20570640736805': [16890.76, 'Alfred Teo'],\n",
       " 'GB26AIBK23929012345678': [24316.55, 'Winnie Lee'],\n",
       " 'GB28RBOS22333444455555': [10115.6, 'Amy Chia'],\n",
       " 'GB29NWBK60161331926819': [5639.12, 'Terence Poon'],\n",
       " 'GB35MIDL40253432144670': [12345.67, 'Lim Peh'],\n",
       " 'GB44BNPA23463512345678': [23532.98, 'Jimmy Toh'],\n",
       " 'GB50FTBK93809212345678': [8435.34, 'William Hooi'],\n",
       " 'GB60RBOS12345612345678': [1345.85, 'Mary Lim'],\n",
       " 'GB72LOYD30000000119587': [13425.15, 'Rohana Olam'],\n",
       " 'GB82WEST12345698765432': [12320.01, 'Aditya Nair'],\n",
       " 'GB86RBOS60161331926819': [4154.49, 'Christopher Li'],\n",
       " 'GB88260005601001611379': [14259.2, 'Samantha Chee']}"
      ]
     },
     "execution_count": 85,
     "metadata": {},
     "output_type": "execute_result"
    }
   ],
   "source": [
    "account_lut"
   ]
  }
 ],
 "metadata": {
  "kernelspec": {
   "display_name": "Python 3 (ipykernel)",
   "language": "python",
   "name": "python3"
  },
  "language_info": {
   "codemirror_mode": {
    "name": "ipython",
    "version": 3
   },
   "file_extension": ".py",
   "mimetype": "text/x-python",
   "name": "python",
   "nbconvert_exporter": "python",
   "pygments_lexer": "ipython3",
   "version": "3.9.5"
  }
 },
 "nbformat": 4,
 "nbformat_minor": 5
}
