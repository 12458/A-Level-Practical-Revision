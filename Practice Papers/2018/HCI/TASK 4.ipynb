{
 "cells": [
  {
   "cell_type": "code",
   "execution_count": 12,
   "id": "29c48703",
   "metadata": {},
   "outputs": [
    {
     "name": "stdout",
     "output_type": "stream",
     "text": [
      "ENTER NUMBER [1-20]: 20\n",
      "XX\n"
     ]
    }
   ],
   "source": [
    "# Task 4.1\n",
    "while True:\n",
    "    denary_no = int(input('ENTER NUMBER [1-20]: '))\n",
    "    if 0 <= denary_no <= 20:\n",
    "        break\n",
    "\n",
    "def calc_roman_num(denary_no):\n",
    "    # Hard code exceptions\n",
    "    if denary_no == 4:\n",
    "        return 'IV'\n",
    "    elif denary_no == 9:\n",
    "        return 'IX'\n",
    "    elif denary_no == 49:\n",
    "        return 'XL'\n",
    "    fifty = denary_no // 50\n",
    "    r = denary_no % 50\n",
    "    ten = r // 10\n",
    "    r = r % 10\n",
    "    five = r // 5\n",
    "    r = r % 5\n",
    "    one = r // 1\n",
    "    return f\"{'L'*fifty}{'X'*ten}{'V'*five}{'I'*one}\"\n",
    "\n",
    "print(calc_roman_num(denary_no))"
   ]
  },
  {
   "cell_type": "markdown",
   "id": "9f073def",
   "metadata": {},
   "source": [
    "# Task 4.2\n",
    "|Test Input|Purpose of test|Expected Output|\n",
    "|---|---|---|\n",
    "|2|Normal Case|II|\n",
    "|20|Boundary Case|XX|\n",
    "|AAAA|Invalid Case|Exception|"
   ]
  },
  {
   "cell_type": "code",
   "execution_count": 13,
   "id": "be27972b",
   "metadata": {},
   "outputs": [
    {
     "name": "stdout",
     "output_type": "stream",
     "text": [
      "ENTER NUMBER 1 [I-XX]: XX\n",
      "ENTER NUMBER 2 [I-XX]: XX\n",
      "XXXX\n"
     ]
    }
   ],
   "source": [
    "# Task 4.3\n",
    "roman_lut = {\n",
    "    'I': 1,\n",
    "    'V': 5,\n",
    "    'X': 10,\n",
    "    'L': 50\n",
    "}\n",
    "while True:\n",
    "    r_num_1 = input('ENTER NUMBER 1 [I-XX]: ')\n",
    "    r_num_2 = input('ENTER NUMBER 2 [I-XX]: ')\n",
    "    r_num_1_denary = sum([roman_lut[i] for i in r_num_1])\n",
    "    r_num_2_denary = sum([roman_lut[i] for i in r_num_2])\n",
    "    if 0 <= r_num_1_denary <= 20 and 0 <= r_num_2_denary <= 20:\n",
    "        break\n",
    "\n",
    "def calc_roman_num(denary_no):\n",
    "    # Hard code exceptions\n",
    "    if denary_no == 4:\n",
    "        return 'IV'\n",
    "    elif denary_no == 9:\n",
    "        return 'IX'\n",
    "    elif denary_no == 49:\n",
    "        return 'XL'\n",
    "    fifty = denary_no // 50\n",
    "    r = denary_no % 50\n",
    "    ten = r // 10\n",
    "    r = r % 10\n",
    "    five = r // 5\n",
    "    r = r % 5\n",
    "    one = r // 1\n",
    "    return f\"{'L'*fifty}{'X'*ten}{'V'*five}{'I'*one}\"\n",
    "\n",
    "print(calc_roman_num(r_num_1_denary + r_num_2_denary))"
   ]
  },
  {
   "cell_type": "markdown",
   "id": "a9961c9e",
   "metadata": {},
   "source": [
    "# Task 4.4\n",
    "|Test Input|Purpose of test|Expected Output|\n",
    "|---|---|---|\n",
    "|2,2|Normal Case|IV|\n",
    "|20,20|Boundary Case|XXXX|\n",
    "|AAAA,AAAA|Invalid Case|Exception|"
   ]
  }
 ],
 "metadata": {
  "kernelspec": {
   "display_name": "Python 3 (ipykernel)",
   "language": "python",
   "name": "python3"
  },
  "language_info": {
   "codemirror_mode": {
    "name": "ipython",
    "version": 3
   },
   "file_extension": ".py",
   "mimetype": "text/x-python",
   "name": "python",
   "nbconvert_exporter": "python",
   "pygments_lexer": "ipython3",
   "version": "3.9.5"
  }
 },
 "nbformat": 4,
 "nbformat_minor": 5
}
