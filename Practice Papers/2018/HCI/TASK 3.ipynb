{
 "cells": [
  {
   "cell_type": "code",
   "execution_count": 22,
   "id": "fc3ba1bc",
   "metadata": {},
   "outputs": [],
   "source": [
    "# Task 3.1\n",
    "class ListNode:\n",
    "    def __init__(self, name):\n",
    "        self._name = name\n",
    "        self._ptr = -1\n",
    "    \n",
    "    def SetName(self,name):\n",
    "        self._name = name\n",
    "        \n",
    "    def SetPointer(self,ptr):\n",
    "        self._ptr = ptr\n",
    "        \n",
    "    def GetName(self):\n",
    "        return self._name\n",
    "    \n",
    "    def GetPointer(self):\n",
    "        return self._ptr\n",
    "    def __repr__(self):\n",
    "        return f'{self._name}:{self._ptr}'\n",
    "    \n",
    "class LinkedList:\n",
    "    def __init__(self):\n",
    "        self.size = 10\n",
    "        self.node = [ListNode(None) for _ in range(self.size)]\n",
    "        self.start = -1\n",
    "        self.nextfree = 0\n",
    "        self.count = 0\n",
    "        for i in range(self.size-1):\n",
    "            self.node[i].SetPointer(i+1)\n",
    "        \n",
    "    def Insert(self, name, pos):\n",
    "        if not self.isFull():\n",
    "            self.count += 1\n",
    "            free_node_idx = self.nextfree\n",
    "            self.nextfree = self.node[free_node_idx].GetPointer()\n",
    "            self.node[free_node_idx].SetName(name)\n",
    "            self.node[free_node_idx].SetPointer(-1)\n",
    "            if pos == 1:\n",
    "                self.node[free_node_idx].SetPointer(self.start)\n",
    "                self.start = free_node_idx\n",
    "                return True\n",
    "            else:\n",
    "                i = self.start\n",
    "                prev_i = -1\n",
    "                \n",
    "                while i != -1 and pos > 1:\n",
    "                    prev_i = i\n",
    "                    i = self.node[i].GetPointer()\n",
    "                    pos -= 1\n",
    "                self.node[prev_i].SetPointer(free_node_idx)\n",
    "                self.node[free_node_idx].SetPointer(i)\n",
    "                return True\n",
    "    def Delete(self, pos):\n",
    "        if self.isEmpty() or self.count < pos:\n",
    "            return False\n",
    "        i = self.start\n",
    "        prev = -1\n",
    "        for count in range(pos - 1):\n",
    "            prev = i\n",
    "            i = self.node[i].GetPointer()\n",
    "        \n",
    "        if prev == -1:\n",
    "            self.start = self.node[i].GetPointer()\n",
    "        else:\n",
    "            self.node[prev].SetPointer(self.node[i].GetPointer())\n",
    "        \n",
    "        self.count -= 1\n",
    "        self.node[i].SetName(None)\n",
    "        self.node[i].SetPointer(self.nextfree)\n",
    "        self.nextfree = i\n",
    "        return True\n",
    "    \n",
    "    def isEmpty(self):\n",
    "        return self.start == -1\n",
    "    \n",
    "    def isFull(self):\n",
    "        return self.nextfree == -1\n",
    "    \n",
    "    # Task 3.2\n",
    "    def Display(self):\n",
    "        print(f'Start: {self.start}\\nNextFree: {self.nextfree}\\nNode: {self.node}')"
   ]
  },
  {
   "cell_type": "code",
   "execution_count": 24,
   "id": "9effefce",
   "metadata": {},
   "outputs": [
    {
     "name": "stdout",
     "output_type": "stream",
     "text": [
      "Start: 2\n",
      "NextFree: 1\n",
      "Node: [Ali:-1, None:4, Ben:3, Ken:0, None:5, None:6, None:7, None:8, None:9, None:-1]\n"
     ]
    }
   ],
   "source": [
    "# Task 3.3\n",
    "ll = LinkedList()\n",
    "ll.Insert('Ali', 1)\n",
    "ll.Insert('Jack', 1)\n",
    "ll.Insert('Ben',2)\n",
    "ll.Delete(1)\n",
    "ll.Insert('Jane', 2)\n",
    "ll.Insert('Ken', 3)\n",
    "ll.Delete(2)\n",
    "ll.Display()\n"
   ]
  },
  {
   "cell_type": "code",
   "execution_count": 37,
   "id": "26480b09",
   "metadata": {},
   "outputs": [],
   "source": [
    "# Task 3.4\n",
    "class Queue(LinkedList):\n",
    "    def __init__(self):\n",
    "        super().__init__()\n",
    "    \n",
    "    def Enqueue(self, item):\n",
    "        self.Insert(item, 1)\n",
    "    \n",
    "    def Dequeue(self):\n",
    "        self.Delete(self.count)\n",
    "    \n",
    "    def Display(self):\n",
    "        ret = []\n",
    "        i = self.start\n",
    "        while i != -1:\n",
    "            ret.append(f'{self.node[i].GetName()}')\n",
    "            i = self.node[i].GetPointer()\n",
    "        last_line = f'Number in queue: {self.count}'\n",
    "        ret[0] = ret[0] + ' <-- Rear'\n",
    "        ret[-1] = ret[-1] + ' <-- Front'\n",
    "        for line in ret:\n",
    "            print(line)\n",
    "        print(last_line)"
   ]
  },
  {
   "cell_type": "code",
   "execution_count": 40,
   "id": "cfc36b2d",
   "metadata": {},
   "outputs": [
    {
     "name": "stdout",
     "output_type": "stream",
     "text": [
      "Ryan <-- Rear\n",
      "Tom\n",
      "Celine\n",
      "Steven <-- Front\n",
      "Number in queue: 4\n"
     ]
    }
   ],
   "source": [
    "q = Queue()\n",
    "q.Enqueue('John')\n",
    "q.Enqueue('May')\n",
    "q.Enqueue('Steven')\n",
    "q.Enqueue('Celine')\n",
    "q.Enqueue('Tom')\n",
    "q.Enqueue('Ryan')\n",
    "q.Dequeue()\n",
    "q.Dequeue()\n",
    "q.Display()"
   ]
  }
 ],
 "metadata": {
  "kernelspec": {
   "display_name": "Python 3 (ipykernel)",
   "language": "python",
   "name": "python3"
  },
  "language_info": {
   "codemirror_mode": {
    "name": "ipython",
    "version": 3
   },
   "file_extension": ".py",
   "mimetype": "text/x-python",
   "name": "python",
   "nbconvert_exporter": "python",
   "pygments_lexer": "ipython3",
   "version": "3.9.5"
  }
 },
 "nbformat": 4,
 "nbformat_minor": 5
}
