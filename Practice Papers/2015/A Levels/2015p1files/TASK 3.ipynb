{
 "cells": [
  {
   "cell_type": "code",
   "execution_count": 12,
   "id": "0436a113",
   "metadata": {},
   "outputs": [],
   "source": [
    "# Task 3.1\n",
    "def CheckDigit(s):\n",
    "    total = 0\n",
    "    for idx,char in enumerate(s):\n",
    "        total += ord(char) * (idx + 1)\n",
    "    remainder = total % 11\n",
    "    return str(remainder) if remainder != 10 else 'X'"
   ]
  },
  {
   "cell_type": "code",
   "execution_count": 13,
   "id": "c2a6e670",
   "metadata": {},
   "outputs": [],
   "source": [
    "def LicenseKey():\n",
    "    import random\n",
    "    KEY = ''.join([chr(random.randint(65,90)) for _ in range(9)])\n",
    "    return KEY + CheckDigit(KEY)"
   ]
  },
  {
   "cell_type": "code",
   "execution_count": 14,
   "id": "e49b6443",
   "metadata": {},
   "outputs": [
    {
     "data": {
      "text/plain": [
       "'QBJYVTVHL1'"
      ]
     },
     "execution_count": 14,
     "metadata": {},
     "output_type": "execute_result"
    }
   ],
   "source": [
    "LicenseKey()"
   ]
  },
  {
   "cell_type": "code",
   "execution_count": 15,
   "id": "2adeff61",
   "metadata": {},
   "outputs": [
    {
     "data": {
      "text/plain": [
       "'JURLCIHOS7'"
      ]
     },
     "execution_count": 15,
     "metadata": {},
     "output_type": "execute_result"
    }
   ],
   "source": [
    "LicenseKey()"
   ]
  },
  {
   "cell_type": "code",
   "execution_count": 16,
   "id": "bc640a0c",
   "metadata": {
    "scrolled": true
   },
   "outputs": [
    {
     "data": {
      "text/plain": [
       "'VSSQLMOTU5'"
      ]
     },
     "execution_count": 16,
     "metadata": {},
     "output_type": "execute_result"
    }
   ],
   "source": [
    "LicenseKey()"
   ]
  },
  {
   "cell_type": "code",
   "execution_count": 18,
   "id": "8c66de41",
   "metadata": {},
   "outputs": [],
   "source": [
    "# Task 3.2\n",
    "menu = \\\n",
    "\"\"\"\n",
    "1. Purchase of a new license for either a single-user or a 3-user license\n",
    "2. Register and additional user to an active 3-user licence\n",
    "3. End\n",
    "\"\"\""
   ]
  },
  {
   "cell_type": "code",
   "execution_count": 26,
   "id": "7a650571",
   "metadata": {},
   "outputs": [
    {
     "name": "stdout",
     "output_type": "stream",
     "text": [
      "\n",
      "1. Purchase of a new license for either a single-user or a 3-user license\n",
      "2. Register and additional user to an active 3-user licence\n",
      "3. End\n",
      "\n",
      "ENTER OPTION> 2\n",
      "ENTER LICENCE KEY TO CHANGE> RIPETOZZR8\n",
      "MAX USER EXCEEDED!\n",
      "\n",
      "1. Purchase of a new license for either a single-user or a 3-user license\n",
      "2. Register and additional user to an active 3-user licence\n",
      "3. End\n",
      "\n",
      "ENTER OPTION> 3\n"
     ]
    }
   ],
   "source": [
    "while True:\n",
    "    print(menu)\n",
    "    option = int(input('ENTER OPTION> ').strip())\n",
    "    if option == 1:\n",
    "        # Task 3.3\n",
    "        licence_type = input('ENTER LICENCE TYPE ([S]ingle user, [3]-user licence)> ').strip()\n",
    "        licence_key = LicenseKey()\n",
    "        print(f'Your licence key issued is {licence_key}')\n",
    "        with open('LICENCE-KEYS.TXT', 'a') as f:\n",
    "            if licence_type == '3':\n",
    "                f.write(f'{licence_key} 3 1\\n')\n",
    "            else:\n",
    "                f.write(f'{licence_key} 1\\n')\n",
    "        with open('LICENCE-KEYS.TXT', 'r') as f:\n",
    "            print('LICENCE-KEYS.TXT FILE')\n",
    "            print(f.read())\n",
    "    elif option == 2:\n",
    "        # Task 3.4\n",
    "        licence_to_change = input('ENTER LICENCE KEY TO CHANGE> ').strip()        \n",
    "        with open('LICENCE-KEYS.TXT') as f:\n",
    "            licenses = [i.split(' ') for i in f.read().strip().split('\\n')]\n",
    "        for i in range(len(licenses)):\n",
    "            if licenses[i][0] == licence_to_change and len(licenses[i]) == 3:\n",
    "                idx = i\n",
    "                break\n",
    "        if int(licenses[idx][2]) >= 3:\n",
    "            print('MAX USER EXCEEDED!')\n",
    "            continue\n",
    "        \n",
    "        licenses[idx][2] = str(int(licenses[idx][2]) + 1)\n",
    "        \n",
    "        for license in licenses:\n",
    "            print(license)\n",
    "        \n",
    "        with open('LICENCE-KEYS.TXT', 'w') as f:\n",
    "            f.write('\\n'.join([' '.join(i) for i in licenses])+'\\n')\n",
    "        \n",
    "    else:\n",
    "        break"
   ]
  },
  {
   "cell_type": "code",
   "execution_count": null,
   "id": "3841cfca",
   "metadata": {},
   "outputs": [],
   "source": [
    "# Task 3.5\n",
    "class Licence:\n",
    "    def __init__(self, date, name, mac):\n",
    "        self.mac_address = mac\n",
    "        self.name_of_purchaser = name\n",
    "        self.date_of_reg = date\n",
    "        self.licence_key = LicenceKey()\n",
    "        self.type_of_licence = None\n",
    "\n",
    "class S_User_Reg(Licence):\n",
    "    def __init__(self, date, name, mac):\n",
    "        super().__init__(date, name, mac)\n",
    "        self.type_of_licence = 'Single User'\n",
    "\n",
    "class Three_User_Reg(Licence):\n",
    "    def __init__(self, date, name, mac):\n",
    "        super().__init__(date, name, mac)\n",
    "        self.type_of_licence = '3-user'"
   ]
  }
 ],
 "metadata": {
  "kernelspec": {
   "display_name": "Python 3 (ipykernel)",
   "language": "python",
   "name": "python3"
  },
  "language_info": {
   "codemirror_mode": {
    "name": "ipython",
    "version": 3
   },
   "file_extension": ".py",
   "mimetype": "text/x-python",
   "name": "python",
   "nbconvert_exporter": "python",
   "pygments_lexer": "ipython3",
   "version": "3.9.5"
  }
 },
 "nbformat": 4,
 "nbformat_minor": 5
}
