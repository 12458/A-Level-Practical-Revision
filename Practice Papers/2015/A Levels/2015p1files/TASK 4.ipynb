{
 "cells": [
  {
   "cell_type": "markdown",
   "id": "ac11628c",
   "metadata": {},
   "source": [
    "# Task 4.1\n",
    "|Test Number|UserID|Return value|Explaination of the test case|\n",
    "|---|---|---|---|\n",
    "|1|2015_0987|0|Valid User ID|\n",
    "|2|2015_09876|1|Invalid User ID (exceed 9 characters)|\n",
    "|3|2014_0987|ERROR|Invalid User ID Format|\n",
    "|4|2015_098|1|Invalid User ID (less than 9 characters)|"
   ]
  },
  {
   "cell_type": "code",
   "execution_count": 14,
   "id": "74939a29",
   "metadata": {},
   "outputs": [],
   "source": [
    "# Task 4.2\n",
    "\n",
    "def ValidateUserID(user_id):\n",
    "    if len(user_id) != 9:\n",
    "        return 1\n",
    "    else:\n",
    "        assert user_id[:4] == '2015'\n",
    "        assert user_id[4] == '_'\n",
    "        assert int(user_id[5:])\n",
    "        return 0"
   ]
  },
  {
   "cell_type": "code",
   "execution_count": 16,
   "id": "47528a9e",
   "metadata": {},
   "outputs": [
    {
     "data": {
      "text/plain": [
       "0"
      ]
     },
     "execution_count": 16,
     "metadata": {},
     "output_type": "execute_result"
    }
   ],
   "source": [
    "ValidateUserID('2015_9087')"
   ]
  },
  {
   "cell_type": "code",
   "execution_count": 35,
   "id": "0bb38e99",
   "metadata": {},
   "outputs": [
    {
     "name": "stdout",
     "output_type": "stream",
     "text": [
      "ENTER USER ID> 2015_0986\n",
      "INVALID USER ID\n"
     ]
    }
   ],
   "source": [
    "# Task 4.2\n",
    "user_input = input('ENTER USER ID> ')\n",
    "try:\n",
    "    result = ValidateUserID(user_input)\n",
    "except:\n",
    "    result = -1\n",
    "if result == 1:\n",
    "    print('INVALID USER ID')\n",
    "elif result == 0:\n",
    "    print('VALID USER ID')\n",
    "else:\n",
    "    print('AN ERROR OCCURED')"
   ]
  },
  {
   "cell_type": "code",
   "execution_count": 36,
   "id": "a8f94a8d",
   "metadata": {},
   "outputs": [],
   "source": [
    "class Queue:\n",
    "    def __init__(self, size):\n",
    "        self.size = size\n",
    "        self.array = [None for _ in range(size)]\n",
    "        self.head = -1\n",
    "        self.tail = 0\n",
    "\n",
    "    def isFull(self):\n",
    "        return self.head == self.tail\n",
    "\n",
    "    def isEmpty(self):\n",
    "        return self.head == -1\n",
    "    \n",
    "    def enqueue(self, user_id, term_id, file_size):\n",
    "        if ValidateUserID(user_input) != 0:\n",
    "            return\n",
    "        if self.isFull():\n",
    "            return\n",
    "        self.array[self.tail] = (user_id, term_id, file_size)\n",
    "        self.tail = (self.tail + 1) % self.size\n",
    "        if self.head == -1:  # Specical case where first item is added\n",
    "            self.head += 1\n",
    "    \n",
    "    def dequeue(self):\n",
    "        if self.isEmpty():\n",
    "            return\n",
    "        \n",
    "        ret = self.array[self.head]\n",
    "        \n",
    "        self.array[self.head] = None\n",
    "        \n",
    "        self.head = (self.head + 1) % self.size\n",
    "        \n",
    "        # special case where head == tail --> empty condition\n",
    "        # reset ptrs\n",
    "        if self.head == self.tail:\n",
    "            self.head = 0\n",
    "            self.tail = -1\n",
    "        \n",
    "        return ret    \n",
    "    \n",
    "    def __repr__(self):\n",
    "        return str(self.array)"
   ]
  },
  {
   "cell_type": "code",
   "execution_count": 39,
   "id": "3d64bf89",
   "metadata": {},
   "outputs": [
    {
     "name": "stdout",
     "output_type": "stream",
     "text": [
      "('PRINTINGGGGGGGGGGGGG', 1, 1)\n"
     ]
    }
   ],
   "source": [
    "q = Queue(5)\n",
    "q.enqueue('PRINTINGGGGGGGGGGGGG', 1, 1)\n",
    "print(q.dequeue())"
   ]
  },
  {
   "cell_type": "code",
   "execution_count": 38,
   "id": "c791b222",
   "metadata": {},
   "outputs": [
    {
     "name": "stdout",
     "output_type": "stream",
     "text": [
      "[None, None, None, None, None]\n",
      "\n",
      "1. New print job is added to the print queue\n",
      "2. Next print job output from printer\n",
      "3. Current print queue displayed\n",
      "4. End\n",
      "\n",
      "ENTER OPTION> 1\n",
      "ENTER USERNAME> 2015_1111\n",
      "ENTER TERMINAL ID> 1\n",
      "ENTER FILE SIZE> 0\n",
      "\n",
      "1. New print job is added to the print queue\n",
      "2. Next print job output from printer\n",
      "3. Current print queue displayed\n",
      "4. End\n",
      "\n",
      "ENTER OPTION> 1\n",
      "ENTER USERNAME> 2015_1111\n",
      "ENTER TERMINAL ID> 2\n",
      "ENTER FILE SIZE> 3\n",
      "\n",
      "1. New print job is added to the print queue\n",
      "2. Next print job output from printer\n",
      "3. Current print queue displayed\n",
      "4. End\n",
      "\n",
      "ENTER OPTION> 1\n",
      "ENTER USERNAME> 2015_1111\n",
      "ENTER TERMINAL ID> 172\n",
      "ENTER FILE SIZE> 233\n",
      "\n",
      "1. New print job is added to the print queue\n",
      "2. Next print job output from printer\n",
      "3. Current print queue displayed\n",
      "4. End\n",
      "\n",
      "ENTER OPTION> 3\n",
      "[('2015_1111', 1, 0), ('2015_1111', 2, 3), ('2015_1111', 172, 233), None, None]\n",
      "\n",
      "1. New print job is added to the print queue\n",
      "2. Next print job output from printer\n",
      "3. Current print queue displayed\n",
      "4. End\n",
      "\n",
      "ENTER OPTION> 2\n",
      "('2015_1111', 1, 0)\n",
      "\n",
      "1. New print job is added to the print queue\n",
      "2. Next print job output from printer\n",
      "3. Current print queue displayed\n",
      "4. End\n",
      "\n",
      "ENTER OPTION> 4\n"
     ]
    }
   ],
   "source": [
    "# Task 4.4\n",
    "menu = \\\n",
    "\"\"\"\n",
    "1. New print job is added to the print queue\n",
    "2. Next print job output from printer\n",
    "3. Current print queue displayed\n",
    "4. End\n",
    "\"\"\"\n",
    "q = Queue(5)\n",
    "print(q)\n",
    "while True:\n",
    "    print(menu)\n",
    "    choice = int(input('ENTER OPTION> '))\n",
    "    if choice == 1:\n",
    "        # Task 4.6\n",
    "        user = input('ENTER USERNAME> ')\n",
    "        term_id = int(input('ENTER TERMINAL ID> '))\n",
    "        file_size = int(input('ENTER FILE SIZE> '))\n",
    "        q.enqueue(user, term_id, file_size)\n",
    "    elif choice == 2:\n",
    "        # Task 4.7\n",
    "        print(q.dequeue())\n",
    "    elif choice == 3:\n",
    "        # Task 4.5\n",
    "        print(q)\n",
    "    else:\n",
    "        break"
   ]
  }
 ],
 "metadata": {
  "kernelspec": {
   "display_name": "Python 3 (ipykernel)",
   "language": "python",
   "name": "python3"
  },
  "language_info": {
   "codemirror_mode": {
    "name": "ipython",
    "version": 3
   },
   "file_extension": ".py",
   "mimetype": "text/x-python",
   "name": "python",
   "nbconvert_exporter": "python",
   "pygments_lexer": "ipython3",
   "version": "3.9.5"
  }
 },
 "nbformat": 4,
 "nbformat_minor": 5
}
