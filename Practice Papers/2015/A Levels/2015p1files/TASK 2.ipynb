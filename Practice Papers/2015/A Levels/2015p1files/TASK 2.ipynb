{
 "cells": [
  {
   "cell_type": "code",
   "execution_count": 3,
   "id": "41e1d986",
   "metadata": {},
   "outputs": [],
   "source": [
    "# Task 2.1\n",
    "def Converter(DenaryNumber):\n",
    "    if DenaryNumber == 0 or DenaryNumber == 1:\n",
    "        print(DenaryNumber, end='')\n",
    "    else:\n",
    "        print(DenaryNumber % 2, end='')\n",
    "        Converter(DenaryNumber // 2)"
   ]
  },
  {
   "cell_type": "code",
   "execution_count": 4,
   "id": "619f031b",
   "metadata": {},
   "outputs": [
    {
     "name": "stdout",
     "output_type": "stream",
     "text": [
      "000111"
     ]
    }
   ],
   "source": [
    "Converter(56)"
   ]
  },
  {
   "cell_type": "markdown",
   "id": "0fb03b15",
   "metadata": {},
   "source": [
    "# Task 2.2\n",
    "---\n",
    "The output binary sequence is inverted (i.e. the number 56 should be `111000` not `000111`). The error is that we need to flip the output before displaying it."
   ]
  },
  {
   "cell_type": "code",
   "execution_count": 7,
   "id": "c4a100f3",
   "metadata": {},
   "outputs": [],
   "source": [
    "# Task 2.3\n",
    "def Converter(DenaryNumber, ret=''):\n",
    "    if DenaryNumber == 0 or DenaryNumber == 1:\n",
    "        ret = str(DenaryNumber) + ret\n",
    "        print(ret)\n",
    "    else:\n",
    "        ret = str(DenaryNumber % 2) + ret\n",
    "        Converter(DenaryNumber // 2, ret)"
   ]
  },
  {
   "cell_type": "code",
   "execution_count": 8,
   "id": "8fa8c545",
   "metadata": {},
   "outputs": [
    {
     "name": "stdout",
     "output_type": "stream",
     "text": [
      "111000\n"
     ]
    }
   ],
   "source": [
    "Converter(56)"
   ]
  },
  {
   "cell_type": "markdown",
   "id": "329bd22c",
   "metadata": {},
   "source": [
    "# Task 2.3\n",
    "|DenaryNumber|Purpose of the test|Expected output|\n",
    "|---|---|---|\n",
    "|56|Normal Case|111000|\n",
    "|1|Boundary Case|1|\n",
    "|AAA|Invalid Case|Error|"
   ]
  },
  {
   "cell_type": "code",
   "execution_count": 11,
   "id": "07c32622",
   "metadata": {},
   "outputs": [
    {
     "name": "stdout",
     "output_type": "stream",
     "text": [
      "111000\n"
     ]
    }
   ],
   "source": [
    "Converter(56)"
   ]
  },
  {
   "cell_type": "code",
   "execution_count": 10,
   "id": "502203f2",
   "metadata": {},
   "outputs": [
    {
     "name": "stdout",
     "output_type": "stream",
     "text": [
      "1\n"
     ]
    }
   ],
   "source": [
    "Converter(1)"
   ]
  }
 ],
 "metadata": {
  "kernelspec": {
   "display_name": "Python 3 (ipykernel)",
   "language": "python",
   "name": "python3"
  },
  "language_info": {
   "codemirror_mode": {
    "name": "ipython",
    "version": 3
   },
   "file_extension": ".py",
   "mimetype": "text/x-python",
   "name": "python",
   "nbconvert_exporter": "python",
   "pygments_lexer": "ipython3",
   "version": "3.9.5"
  }
 },
 "nbformat": 4,
 "nbformat_minor": 5
}
