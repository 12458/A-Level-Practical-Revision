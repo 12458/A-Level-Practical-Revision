{
 "cells": [
  {
   "cell_type": "code",
   "execution_count": 16,
   "id": "e45637c1",
   "metadata": {},
   "outputs": [],
   "source": [
    "def insertion_sort(A):\n",
    "    comps = 0\n",
    "    for i in range(len(A)):\n",
    "        j = i\n",
    "        while j > 0 and A[j - 1] > A[j]:\n",
    "            comps += 1\n",
    "            # swap\n",
    "            A[j], A[j-1] = A[j-1], A[j]\n",
    "            j -= 1\n",
    "    return A, comps"
   ]
  },
  {
   "cell_type": "code",
   "execution_count": 19,
   "id": "05298d58",
   "metadata": {},
   "outputs": [],
   "source": [
    "def bubble_sort(A):\n",
    "    comps = 0\n",
    "    for i in range(len(A)):\n",
    "        swap = False\n",
    "        for j in range(len(A)-i-1):\n",
    "            comps += 1\n",
    "            if A[j] > A[j+1]:\n",
    "                # swap\n",
    "                swap = True\n",
    "                A[j], A[j+1] = A[j+1], A[j]\n",
    "        if swap == False:\n",
    "            break\n",
    "    return A, comps"
   ]
  },
  {
   "cell_type": "code",
   "execution_count": 20,
   "id": "0774925f",
   "metadata": {},
   "outputs": [
    {
     "name": "stdout",
     "output_type": "stream",
     "text": [
      "\n",
      "1. Read file data\n",
      "2. Bubble sort\n",
      "3. Insertion sort\n",
      "4. End\n",
      "\n",
      "ENTER MENU OPTION> 1\n",
      "\n",
      "1. Read file data\n",
      "2. Bubble sort\n",
      "3. Insertion sort\n",
      "4. End\n",
      "\n",
      "ENTER MENU OPTION> 2\n",
      "([0, 0, 78, 80, 103, 113, 128, 131, 133, 138, 143, 143, 165, 167, 173, 175, 178, 180, 183, 185, 190, 190, 190, 192, 192, 196, 199, 203, 203, 219, 220, 224, 231, 233, 256, 273, 274, 280, 287, 301, 334, 339, 339, 341, 364, 364, 369, 369, 381, 401], 1120)\n",
      "\n",
      "1. Read file data\n",
      "2. Bubble sort\n",
      "3. Insertion sort\n",
      "4. End\n",
      "\n",
      "ENTER MENU OPTION> \n",
      "ENTER A VALID OPTION\n",
      "\n",
      "1. Read file data\n",
      "2. Bubble sort\n",
      "3. Insertion sort\n",
      "4. End\n",
      "\n",
      "ENTER MENU OPTION> 3\n",
      "([0, 0, 78, 80, 103, 113, 128, 131, 133, 138, 143, 143, 165, 167, 173, 175, 178, 180, 183, 185, 190, 190, 190, 192, 192, 196, 199, 203, 203, 219, 220, 224, 231, 233, 256, 273, 274, 280, 287, 301, 334, 339, 339, 341, 364, 364, 369, 369, 381, 401], 573)\n",
      "\n",
      "1. Read file data\n",
      "2. Bubble sort\n",
      "3. Insertion sort\n",
      "4. End\n",
      "\n",
      "ENTER MENU OPTION> 4\n"
     ]
    }
   ],
   "source": [
    "menu = \\\n",
    "\"\"\"\n",
    "1. Read file data\n",
    "2. Bubble sort\n",
    "3. Insertion sort\n",
    "4. End\n",
    "\"\"\"\n",
    "while True:\n",
    "    print(menu)\n",
    "    try:\n",
    "        option = int(input('ENTER MENU OPTION> '))\n",
    "        assert 1 <= option <= 4\n",
    "    except:\n",
    "        print('ENTER A VALID OPTION')\n",
    "        continue\n",
    "    \n",
    "    if option == 1:\n",
    "        with open('ADMISSIONS-DATA.TXT') as f:\n",
    "            admissions = [int(i) for i in f.read().strip().split('\\n')]\n",
    "    elif option == 2:\n",
    "        print(bubble_sort(admissions[:]))\n",
    "    elif option == 3:\n",
    "        print(insertion_sort(admissions[:]))\n",
    "    else:\n",
    "        break\n",
    "    "
   ]
  }
 ],
 "metadata": {
  "kernelspec": {
   "display_name": "Python 3 (ipykernel)",
   "language": "python",
   "name": "python3"
  },
  "language_info": {
   "codemirror_mode": {
    "name": "ipython",
    "version": 3
   },
   "file_extension": ".py",
   "mimetype": "text/x-python",
   "name": "python",
   "nbconvert_exporter": "python",
   "pygments_lexer": "ipython3",
   "version": "3.9.5"
  }
 },
 "nbformat": 4,
 "nbformat_minor": 5
}
