{
 "cells": [
  {
   "cell_type": "markdown",
   "id": "e4bc8b4f",
   "metadata": {},
   "source": [
    "`PSEUDOCODE_TASK_3_2.TXT`\n",
    "---\n",
    "```\n",
    "FUNCTION FindNode(NodeValue) RETURNS INTEGER \n",
    "\tFound ← FALSE\n",
    "\tCurrentPosition ← Root\n",
    "\tREPEAT \n",
    "\t\tIF RobotData[CurrentPosition].DataValue = NodeValue THEN\n",
    "\t\t\tFound ← TRUE\n",
    "\t\tELSE\n",
    "\t\t\tCurrentPosition ← CurrentPosition + 1\n",
    "\t\tENDIF\n",
    "\tUNTIL Found = TRUE OR CurrentPosition > 25\n",
    "\tIF CurrentPosition > 25 THEN\n",
    "\t\tRETURN 0\n",
    "\tELSE\n",
    "\t\tRETURN CurrentPosition\n",
    "\tENDIF\n",
    "ENDFUNCTION\n",
    "\n",
    "PROCEDURE AddToRobotData(NewDataItem, ParentItem, ThisMove)     \n",
    "\tIF Root = 1 AND NextFreeChild = 1 THEN\n",
    "\t\tNextFreeChild ← RobotData[NextFreeChild].LeftChild\n",
    "\t\tRobotData[Root].LeftChild ← 0\n",
    "\t\tRobotData[Root].DataValue ← NewDataItem\n",
    "\tELSE\n",
    "\t\t// does the parent exist?\n",
    "\t\tParentPosition ← FindNode(ParentItem)\n",
    "\t\tIF ParentPosition > 0 THEN  // parent exists\n",
    "\t\t\t// does the child exist?\n",
    "\t\t\tExistingChild ← FindNode(NewDataItem)\n",
    "\t\t\tIF ExistingChild > 0 THEN // child exists\n",
    "\t\t\t\tChildPointer ← ExistingChild\n",
    "\t\t\tELSE\n",
    "\t\t\t\tChildPointer ← NextFreeChild\n",
    "\t\t\t\tNextFreeChild ← RobotData[NextFreeChild].LeftChild\n",
    "\t\t\t\tRobotData[ChildPointer].LeftChild ← 0\n",
    "\t\t\t\tRobotData[ChildPointer].DataValue ← NewDataItem\n",
    "\t\t\tENDIF\n",
    "               \n",
    "\t\t\tIF ThisMove = 'L' THEN\n",
    "\t\t\t\tRobotData[ParentPosition].LeftChild ← ChildPointer\n",
    "\t\t\tELSE\n",
    "\t\t\t\tRobotData[ParentPosition].RightChild ← ChildPointer\n",
    "\t\t\tENDIF\n",
    "\t\tENDIF   \n",
    "\tENDIF\n",
    "ENDPROCEDURE\n",
    "\n",
    "```"
   ]
  },
  {
   "cell_type": "code",
   "execution_count": 29,
   "id": "e1f4e304",
   "metadata": {},
   "outputs": [],
   "source": [
    "class ConnectionNode:\n",
    "    def __init__(self, data):\n",
    "        self.DataValue = data\n",
    "        self.LeftChild = 0\n",
    "        self.RightChild = 0\n",
    "\n",
    "    def __repr__(self):\n",
    "        return f'<{self.DataValue}: L:{self.LeftChild} R:{self.RightChild}>'\n",
    "class LinkedList:\n",
    "    def __init__(self):\n",
    "        self.RobotData = [ConnectionNode(None) for _ in range(25)]\n",
    "        self.Root = 1\n",
    "        self.NextFreeChild = 1\n",
    "        for i in range(len(self.RobotData)-1):\n",
    "            # Set up free list\n",
    "            self.RobotData[i].LeftChild = i+1\n",
    "    \n",
    "    def FindNode(self, NodeValue):\n",
    "        Found = False\n",
    "        CurrentPosition = self.Root\n",
    "        while True:\n",
    "            if self.RobotData[CurrentPosition].DataValue == NodeValue:\n",
    "                Found = True\n",
    "            else:\n",
    "                CurrentPosition += 1\n",
    "            if Found == True or CurrentPosition >= 25:\n",
    "                break\n",
    "        if CurrentPosition >= 25:\n",
    "            return 0\n",
    "        else:\n",
    "            return CurrentPosition\n",
    "        \n",
    "    def AddToRobotData(self, NewDataItem, ParentItem, ThisMove):\n",
    "        if self.Root == 1 and self.NextFreeChild == 1:\n",
    "            self.NextFreeChild = self.RobotData[self.NextFreeChild].LeftChild\n",
    "            self.RobotData[self.Root].LeftChild = 0\n",
    "            self.RobotData[self.Root].DataValue = NewDataItem\n",
    "        else:\n",
    "            # does the parent exist?\n",
    "            ParentPosition = self.FindNode(ParentItem)\n",
    "            if ParentPosition > 0:  # parent exists\n",
    "                # does child exist?\n",
    "                ExistingChild = self.FindNode(NewDataItem)\n",
    "                if ExistingChild > 0: # child exists\n",
    "                    ChildPointer = ExistingChild\n",
    "                else:\n",
    "                    ChildPointer = self.NextFreeChild\n",
    "                    self.NextFreeChild = self.RobotData[self.NextFreeChild].LeftChild\n",
    "                    self.RobotData[ChildPointer].LeftChild = 0\n",
    "                    self.RobotData[ChildPointer].DataValue = NewDataItem\n",
    "                \n",
    "                if ThisMove == 'L':\n",
    "                    self.RobotData[ParentPosition].LeftChild = ChildPointer\n",
    "                else:\n",
    "                    self.RobotData[ParentPosition].RightChild = ChildPointer\n",
    "     \n",
    "    def OutputData(self):\n",
    "        print(self.RobotData)\n",
    "    \n",
    "    def traverse(self):\n",
    "        routes = []\n",
    "        def recur(routes, node_i):\n",
    "            #print(f'{node_i}')\n",
    "            if node_i == 0:\n",
    "                return\n",
    "            routes.append(self.RobotData[node_i].DataValue)\n",
    "            recur(routes, self.RobotData[node_i].LeftChild)\n",
    "            recur(routes, self.RobotData[node_i].RightChild)\n",
    "        recur(routes, self.Root)\n",
    "        return routes\n",
    "        "
   ]
  },
  {
   "cell_type": "code",
   "execution_count": 30,
   "id": "4aee829b",
   "metadata": {},
   "outputs": [
    {
     "name": "stdout",
     "output_type": "stream",
     "text": [
      "[<None: L:1 R:0>, <A: L:2 R:3>, <B: L:4 R:5>, <D: L:13 R:14>, <F: L:6 R:7>, <C: L:8 R:0>, <M: L:9 R:0>, <G: L:10 R:0>, <H: L:7 R:11>, <Z: L:0 R:0>, <I: L:9 R:0>, <J: L:10 R:12>, <N: L:0 R:0>, <E: L:15 R:0>, <K: L:15 R:0>, <L: L:6 R:0>, <None: L:17 R:0>, <None: L:18 R:0>, <None: L:19 R:0>, <None: L:20 R:0>, <None: L:21 R:0>, <None: L:22 R:0>, <None: L:23 R:0>, <None: L:24 R:0>, <None: L:0 R:0>]\n"
     ]
    }
   ],
   "source": [
    "st = LinkedList()\n",
    "with open('SEARCHTREE.TXT') as f:\n",
    "    for line in f:\n",
    "        data = line.strip().split(',')\n",
    "        st.AddToRobotData(data[0], data[1], data[2])\n",
    "st.OutputData()"
   ]
  },
  {
   "cell_type": "code",
   "execution_count": 27,
   "id": "6e7a8b95",
   "metadata": {},
   "outputs": [
    {
     "data": {
      "text/plain": [
       "1"
      ]
     },
     "execution_count": 27,
     "metadata": {},
     "output_type": "execute_result"
    }
   ],
   "source": [
    "st = LinkedList()\n",
    "# st.NextFreeChild\n",
    "st.RobotData[st.NextFreeChild-1].LeftChild"
   ]
  },
  {
   "cell_type": "code",
   "execution_count": 31,
   "id": "63da57fc",
   "metadata": {},
   "outputs": [
    {
     "data": {
      "text/plain": [
       "['A',\n",
       " 'B',\n",
       " 'F',\n",
       " 'M',\n",
       " 'Z',\n",
       " 'G',\n",
       " 'I',\n",
       " 'Z',\n",
       " 'C',\n",
       " 'H',\n",
       " 'G',\n",
       " 'I',\n",
       " 'Z',\n",
       " 'J',\n",
       " 'I',\n",
       " 'Z',\n",
       " 'N',\n",
       " 'D',\n",
       " 'E',\n",
       " 'L',\n",
       " 'M',\n",
       " 'Z',\n",
       " 'K',\n",
       " 'L',\n",
       " 'M',\n",
       " 'Z']"
      ]
     },
     "execution_count": 31,
     "metadata": {},
     "output_type": "execute_result"
    }
   ],
   "source": [
    "st.traverse()"
   ]
  }
 ],
 "metadata": {
  "kernelspec": {
   "display_name": "Python 3 (ipykernel)",
   "language": "python",
   "name": "python3"
  },
  "language_info": {
   "codemirror_mode": {
    "name": "ipython",
    "version": 3
   },
   "file_extension": ".py",
   "mimetype": "text/x-python",
   "name": "python",
   "nbconvert_exporter": "python",
   "pygments_lexer": "ipython3",
   "version": "3.9.5"
  }
 },
 "nbformat": 4,
 "nbformat_minor": 5
}
