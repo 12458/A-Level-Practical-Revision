{
 "cells": [
  {
   "cell_type": "markdown",
   "id": "476b7cba",
   "metadata": {},
   "source": [
    "`INVENTORY.TXT`\n",
    "---\n",
    "```\n",
    "Leaves\n",
    "Leaves\n",
    "Sand\n",
    "Powered Rail\n",
    "Leaves\n",
    "Gravel\n",
    "Sponge\n",
    "Wood\n",
    "Sandstone\n",
    "Cobweb\n",
    "...\n",
    "```"
   ]
  },
  {
   "cell_type": "code",
   "execution_count": 8,
   "id": "66a20abb",
   "metadata": {},
   "outputs": [
    {
     "name": "stdout",
     "output_type": "stream",
     "text": [
      "ItemType        Count\n",
      "Lava            9   \n",
      "Stone           4   \n",
      "Grass Block     15  \n",
      "Sticky Piston   9   \n",
      "Wood            8   \n",
      "Bedrock         5   \n",
      "Leaves          12  \n",
      "Sand            10  \n",
      "Glass           6   \n",
      "Air             7   \n",
      "Cobweb          9   \n",
      "Gravel          4   \n",
      "Iron Ore        7   \n",
      "Saplings        7   \n",
      "Water           6   \n",
      "Detector Rail   7   \n",
      "Note Block      2   \n",
      "Sandstone       8   \n",
      "Coal Ore        4   \n",
      "Gold Ore        5   \n",
      "Stationary Water6   \n",
      "Cobblestone     7   \n",
      "Stationary Lava 11  \n",
      "Sponge          13  \n",
      "Wooden Planks   7   \n",
      "Powered Rail    12  \n"
     ]
    }
   ],
   "source": [
    "# Task 1.1\n",
    "with open('INVENTORY.TXT') as f:\n",
    "    Inventory = f.read().split('\\n')\n",
    "\n",
    "ItemTypes = list(set(Inventory))\n",
    "\n",
    "ItemCounts = {}\n",
    "\n",
    "for item in ItemTypes:\n",
    "    ItemCounts[item] = Inventory.count(item)\n",
    "\n",
    "print(f'{\"ItemType\":<16}{\"Count\":<4}')\n",
    "for item, count in ItemCounts.items():\n",
    "    print(f'{item:<16}{str(count):<4}')"
   ]
  }
 ],
 "metadata": {
  "kernelspec": {
   "display_name": "Python 3 (ipykernel)",
   "language": "python",
   "name": "python3"
  },
  "language_info": {
   "codemirror_mode": {
    "name": "ipython",
    "version": 3
   },
   "file_extension": ".py",
   "mimetype": "text/x-python",
   "name": "python",
   "nbconvert_exporter": "python",
   "pygments_lexer": "ipython3",
   "version": "3.9.5"
  }
 },
 "nbformat": 4,
 "nbformat_minor": 5
}
