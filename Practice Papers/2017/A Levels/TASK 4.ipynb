{
 "cells": [
  {
   "cell_type": "code",
   "execution_count": 63,
   "id": "c4b0dbe0",
   "metadata": {},
   "outputs": [],
   "source": [
    "class Puzzle:\n",
    "    def __init__(self):\n",
    "        self.grid = [\n",
    "            [4,3,2,1],\n",
    "            [1,2,4,3],\n",
    "            [3,4,1,2],\n",
    "            [2,1,3,4]\n",
    "        ]\n",
    "        \n",
    "    def transform(self):\n",
    "        import random\n",
    "        transform_matrix = {\n",
    "            1 : [[0,1,\"HORIZONTAL\",0],\"Swap two rows in the same quadrant\"],\n",
    "            2 : [[2,3,\"VERTICAL\",0],\"Swap two columns in the same quadrant\"],\n",
    "            3 : [[(0,1),(2,3),\"HORIZONTAL\",1],\"Swap the top and bottom quadrant rows entirely\"],\n",
    "            4 : [[(0,1),(2,3),\"VERTICAL\",1],\"Swap the left and right quadrant rows entirely\"]\n",
    "        }\n",
    "    \n",
    "        def swap(grid, row_col1, row_col2, direction, mode):\n",
    "            #print(f'SWAP({row_col1},{row_col2},{direction},{mode})')\n",
    "            if direction == 'HORIZONTAL':\n",
    "                if mode == 0:\n",
    "                    # Trivial Swap\n",
    "                    grid[row_col1], grid[row_col2] = grid[row_col2], grid[row_col1]\n",
    "                else:\n",
    "                    # Swap the two rows with other two row\n",
    "                    grid[row_col1[0]], grid[row_col2[0]] = grid[row_col2[0]], grid[row_col1[0]]\n",
    "                    grid[row_col1[1]], grid[row_col2[1]] = grid[row_col2[1]], grid[row_col1[1]]\n",
    "            elif direction == 'VERTICAL':\n",
    "                if mode == 0:\n",
    "                    for i in range(len(grid)):\n",
    "                        grid[i][row_col1], self.grid[i][row_col2] = grid[i][row_col2], grid[i][row_col1]\n",
    "                else:\n",
    "                    for i in range(len(self.grid)):\n",
    "                        grid[i][row_col1[0]], grid[i][row_col2[0]] = grid[i][row_col2[0]], grid[i][row_col1[0]]\n",
    "                        grid[i][row_col1[1]], grid[i][row_col2[1]] = grid[i][row_col2[1]], grid[i][row_col1[1]]\n",
    "            return grid\n",
    "        transforms = [random.randint(1,4), random.randint(1,4)]\n",
    "        print(self)\n",
    "        for transform in transforms:\n",
    "            print(f'Transformation {transform}: {transform_matrix[transform][1]}')\n",
    "            swap(self.grid, transform_matrix[transform][0][0],transform_matrix[transform][0][1],transform_matrix[transform][0][2],transform_matrix[transform][0][3])\n",
    "            print(self)\n",
    "            \n",
    "    def __repr__(self):\n",
    "        return '\\n'.join([''.join([str(j) for j in i]) for i in self.grid])"
   ]
  },
  {
   "cell_type": "code",
   "execution_count": 64,
   "id": "36b1a3c3",
   "metadata": {},
   "outputs": [],
   "source": [
    "p = Puzzle()"
   ]
  },
  {
   "cell_type": "code",
   "execution_count": 65,
   "id": "6d079765",
   "metadata": {},
   "outputs": [
    {
     "name": "stdout",
     "output_type": "stream",
     "text": [
      "4321\n",
      "1243\n",
      "3412\n",
      "2134\n",
      "Transformation 2: Swap two columns in the same quadrant\n",
      "4312\n",
      "1234\n",
      "3421\n",
      "2143\n",
      "Transformation 1: Swap two rows in the same quadrant\n",
      "1234\n",
      "4312\n",
      "3421\n",
      "2143\n"
     ]
    }
   ],
   "source": [
    "p.transform()"
   ]
  },
  {
   "cell_type": "code",
   "execution_count": 8,
   "id": "d301d26a",
   "metadata": {},
   "outputs": [
    {
     "data": {
      "text/plain": [
       "4321\n",
       "1243\n",
       "3412\n",
       "2134"
      ]
     },
     "execution_count": 8,
     "metadata": {},
     "output_type": "execute_result"
    }
   ],
   "source": [
    "p"
   ]
  }
 ],
 "metadata": {
  "kernelspec": {
   "display_name": "Python 3 (ipykernel)",
   "language": "python",
   "name": "python3"
  },
  "language_info": {
   "codemirror_mode": {
    "name": "ipython",
    "version": 3
   },
   "file_extension": ".py",
   "mimetype": "text/x-python",
   "name": "python",
   "nbconvert_exporter": "python",
   "pygments_lexer": "ipython3",
   "version": "3.9.5"
  }
 },
 "nbformat": 4,
 "nbformat_minor": 5
}
