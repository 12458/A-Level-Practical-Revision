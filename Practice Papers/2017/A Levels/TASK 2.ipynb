{
 "cells": [
  {
   "cell_type": "markdown",
   "id": "f2370647",
   "metadata": {},
   "source": [
    "# Task 2.1\n",
    "---\n",
    "A: `RETURN CalCheckDigit(NewNumber, Total)` \\\n",
    "B: `RETURN STRING('X')` \\\n",
    "C: `CheckDigit` "
   ]
  },
  {
   "cell_type": "code",
   "execution_count": 34,
   "id": "965b585f",
   "metadata": {},
   "outputs": [],
   "source": [
    "# Task 2.2\n",
    "def CalCheckDigit(number:str, total:int) -> str:\n",
    "    if len(number) > 1:\n",
    "        digit = int(number[0])\n",
    "        total += digit * (len(number) + 1)\n",
    "        new_number = number[1:]\n",
    "        # print(f'CALL CalCheckDigit({new_number}, {total})')\n",
    "        check_digit = CalCheckDigit(new_number, total)\n",
    "    else:\n",
    "        digit = int(number[0])\n",
    "        total += digit * (len(number) + 1)\n",
    "        calc_modulus = total % 11\n",
    "        check_value = 11 - calc_modulus\n",
    "        # print(f'CHK VAL: {check_value}')\n",
    "        if check_value == 11:\n",
    "            return str(0)\n",
    "        elif check_value == 10:\n",
    "            # print(f'RETURN X')\n",
    "            return 'X'\n",
    "        else:\n",
    "            return str(check_value)\n",
    "    if len(number) == 9:\n",
    "        return check_digit\n",
    "    else:\n",
    "        return check_digit"
   ]
  },
  {
   "cell_type": "code",
   "execution_count": 38,
   "id": "f2be54f1",
   "metadata": {},
   "outputs": [
    {
     "name": "stdout",
     "output_type": "stream",
     "text": [
      "0070109109\n",
      "0070311366\n",
      "0026515628\n",
      "0030020786\n",
      "0030350840\n",
      "0070350485\n",
      "007035958X\n"
     ]
    }
   ],
   "source": [
    "# Task 2.3\n",
    "with open('ISBNPRE.TXT') as f:\n",
    "    for entry in f:\n",
    "        print(entry.strip()+CalCheckDigit(entry.strip(),0))"
   ]
  }
 ],
 "metadata": {
  "kernelspec": {
   "display_name": "Python 3 (ipykernel)",
   "language": "python",
   "name": "python3"
  },
  "language_info": {
   "codemirror_mode": {
    "name": "ipython",
    "version": 3
   },
   "file_extension": ".py",
   "mimetype": "text/x-python",
   "name": "python",
   "nbconvert_exporter": "python",
   "pygments_lexer": "ipython3",
   "version": "3.9.5"
  }
 },
 "nbformat": 4,
 "nbformat_minor": 5
}
