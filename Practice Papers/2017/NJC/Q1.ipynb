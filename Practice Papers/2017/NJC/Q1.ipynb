{
 "cells": [
  {
   "cell_type": "code",
   "execution_count": 22,
   "metadata": {},
   "outputs": [],
   "source": [
    "# Task 1.1\n",
    "def base_n_to_denary(value_string,n):\n",
    "    mapping = \"0123456789abcdefgefghijklmnopq\"\n",
    "    sum = 0\n",
    "    for i in range(len(value_string)):\n",
    "        sum += mapping.index(value_string[i].lower()) * n ** ((len(value_string) - 1) - i)\n",
    "    return sum"
   ]
  },
  {
   "cell_type": "code",
   "execution_count": 23,
   "metadata": {},
   "outputs": [],
   "source": [
    "# Task 1.2\n",
    "score2a = []\n",
    "score2b = []\n",
    "score2c = []\n",
    "with open('2A_SCORES.TXT') as f:\n",
    "    for line in f:\n",
    "        tmp = line.strip().split(',')\n",
    "        tmp[1] = base_n_to_denary(tmp[1], 2)\n",
    "        tmp[0] = int(tmp[0])\n",
    "        tmp.append('2A')\n",
    "        score2a.append(tmp)\n",
    "with open('2B_SCORES.TXT') as f:\n",
    "    for line in f:\n",
    "        tmp = line.strip().split(',')\n",
    "        tmp[1] = base_n_to_denary(tmp[1], 8)\n",
    "        tmp[0] = int(tmp[0])\n",
    "        tmp.append('2B')\n",
    "        score2b.append(tmp)\n",
    "with open('2C_SCORES.TXT') as f:\n",
    "    for line in f:\n",
    "        tmp = line.strip().split(',')\n",
    "        tmp[1] = base_n_to_denary(tmp[1], 16)\n",
    "        tmp[0] = int(tmp[0])\n",
    "        tmp.append('2C')\n",
    "        score2c.append(tmp)"
   ]
  },
  {
   "cell_type": "code",
   "execution_count": 43,
   "metadata": {},
   "outputs": [],
   "source": [
    "# Task 1.3\n",
    "def sort_students_scores(A,B,C):\n",
    "    def quick_sort_score(A):\n",
    "        if len(A) < 2:\n",
    "            return A\n",
    "        pivot = A[0][1]\n",
    "        left = []\n",
    "        right = []\n",
    "        for i in A[1:]:\n",
    "            if i[1] < pivot:\n",
    "                left.append(i)\n",
    "            else:\n",
    "                right.append(i)\n",
    "        return quick_sort_score(left) + [A[0]] + quick_sort_score(right)\n",
    "    ret = quick_sort_score(A+B+C)[::-1]\n",
    "    return ret"
   ]
  },
  {
   "cell_type": "code",
   "execution_count": 48,
   "metadata": {
    "scrolled": true
   },
   "outputs": [
    {
     "name": "stdout",
     "output_type": "stream",
     "text": [
      "\n",
      "Mathematics Report for classes 2A, 2B and 2C:\n",
      "\n",
      "The highest examination score: 100\n",
      "The average examination score: 64.35\n",
      "The lowest examination score: 30\n",
      "\n",
      "The top 3 students are:\n",
      "\n",
      "Class   Index   Mark\n",
      "2A 1 100\n",
      "2A 24 98\n",
      "2A 4 95\n",
      "\n"
     ]
    }
   ],
   "source": [
    "# Task 1.4\n",
    "\n",
    "def sum_score(L):\n",
    "    sum = 0\n",
    "    for i in L:\n",
    "        sum += i\n",
    "    return sum\n",
    "    \n",
    "sorted_scores = sort_students_scores(score2a,score2b,score2c)\n",
    "\n",
    "\n",
    "max_val = sorted_scores[0][1]\n",
    "\n",
    "min_val = sorted_scores[-1][1]\n",
    "\n",
    "mark2a = [i[1] for i in score2a]\n",
    "mark2b = [i[1] for i in score2b]\n",
    "mark2c = [i[1] for i in score2c]\n",
    "\n",
    "avg = (sum_score(mark2a) + sum_score(mark2b) + sum_score(mark2c)) / (len(mark2a)+len(mark2b)+len(mark2c))\n",
    "avg = round(avg,2)\n",
    "\n",
    "report =\\\n",
    "f'''\n",
    "Mathematics Report for classes 2A, 2B and 2C:\n",
    "\n",
    "The highest examination score: {max_val}\n",
    "The average examination score: {avg}\n",
    "The lowest examination score: {min_val}\n",
    "\n",
    "The top 3 students are:\n",
    "\n",
    "Class   Index   Mark\n",
    "{sorted_scores[0][2]} {sorted_scores[0][0]} {sorted_scores[0][1]}\n",
    "{sorted_scores[1][2]} {sorted_scores[1][0]} {sorted_scores[1][1]}\n",
    "{sorted_scores[2][2]} {sorted_scores[2][0]} {sorted_scores[2][1]}\n",
    "'''\n",
    "print(report)"
   ]
  }
 ],
 "metadata": {
  "kernelspec": {
   "display_name": "Python 3 (ipykernel)",
   "language": "python",
   "name": "python3"
  },
  "language_info": {
   "codemirror_mode": {
    "name": "ipython",
    "version": 3
   },
   "file_extension": ".py",
   "mimetype": "text/x-python",
   "name": "python",
   "nbconvert_exporter": "python",
   "pygments_lexer": "ipython3",
   "version": "3.9.5"
  }
 },
 "nbformat": 4,
 "nbformat_minor": 4
}
