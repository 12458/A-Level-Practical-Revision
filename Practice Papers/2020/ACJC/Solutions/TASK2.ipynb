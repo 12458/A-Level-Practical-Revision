{
 "cells": [
  {
   "cell_type": "code",
   "execution_count": 3,
   "metadata": {},
   "outputs": [
    {
     "name": "stdout",
     "output_type": "stream",
     "text": [
      "None\n",
      "None\n"
     ]
    }
   ],
   "source": [
    "#Task 2.1\n",
    "\n",
    "def knight(tup1, tup2):\n",
    "    \n",
    "    # returns True if (the squares represented by) tup1 and tup2\n",
    "    # are a knight's move apart, and False otherwise\n",
    "    \n",
    "    if abs(tup1[0]-tup2[0])==2:\n",
    "        if abs(tup1[1]-tup2[1])==1:\n",
    "            return True\n",
    "    elif abs(tup1[0]-tup2[0])==1:\n",
    "        if abs(tup1[1]-tup2[1])==2:\n",
    "            return True\n",
    "    return False\n",
    "\n",
    "def makelist(file):\n",
    "    \n",
    "    # makes a list of squares out of the input file\n",
    "    \n",
    "    result = []\n",
    "    input_file = open(file, \"r\")\n",
    "    for line in input_file:\n",
    "        linelist = line.split(\",\")\n",
    "        result.append((int(linelist[0]),int(linelist[1])))\n",
    "    input_file.close()\n",
    "    return result\n",
    "\n",
    "def is_knights_tour(n, file):\n",
    "    squarelist = makelist(file)\n",
    "    \n",
    "    #check that list is of correct length\n",
    "    \n",
    "    if len(squarelist) != n**2:\n",
    "        return False\n",
    "   \n",
    "    for i in range(len(squarelist)):\n",
    "        item = squarelist[i]\n",
    "        \n",
    "        #check that squares go from (1,1) to (n,n)\n",
    "        if item[0] < 1 or item[0] > n or item[1] < 1 or item[1] > n:\n",
    "            return False\n",
    "        \n",
    "        #check that every square appears once\n",
    "        if item in squarelist[i+1:]:\n",
    "            return False\n",
    "        \n",
    "        #check that every square is a knight's move from the previous\n",
    "        if i==0:\n",
    "            break\n",
    "        if not knight(item, squarelist[i-1]):\n",
    "            return False\n",
    "\n",
    "print(is_knights_tour(7, '../TASK2TOUR.txt'))\n",
    "print(is_knights_tour(7, '../TASK2NOTOUR.txt'))"
   ]
  },
  {
   "cell_type": "code",
   "execution_count": 5,
   "metadata": {},
   "outputs": [],
   "source": [
    "#Task 2.2\n",
    "\n",
    "def available(square, lis):\n",
    "    x, y = square[0], square[1]\n",
    "    result = []\n",
    "    if x > 2:\n",
    "        if y > 1:\n",
    "            result.append((x-2, y-1))\n",
    "        if y < n:\n",
    "            result.append((x-2, y+1))\n",
    "    if x > 1:\n",
    "        if y > 2:\n",
    "            result.append((x-1, y-2))\n",
    "        if y < n-1:\n",
    "            result.append((x-1, y+2))\n",
    "    if x < n:\n",
    "        if y > 2:\n",
    "            result.append((x+1, y-2))\n",
    "        if y < n-1:\n",
    "            result.append((x+1, y+2))\n",
    "    if x < n-1:\n",
    "        if y > 1:\n",
    "            result.append((x+2, y-1))\n",
    "        if y < n:\n",
    "            result.append((x+2, y+1))\n",
    "    for item in lis:\n",
    "        if item in result:\n",
    "            result.remove(item)\n",
    "    return result"
   ]
  },
  {
   "cell_type": "code",
   "execution_count": 6,
   "metadata": {},
   "outputs": [
    {
     "name": "stdout",
     "output_type": "stream",
     "text": [
      "[(1, 1), (2, 3), (1, 5), (2, 7), (4, 8), (6, 7), (8, 8), (7, 6), (6, 8), (8, 7), (7, 5), (8, 3), (7, 1), (5, 2), (3, 1), (1, 2), (2, 4), (1, 6), (2, 8), (3, 6), (1, 7), (3, 8), (5, 7), (7, 8), (8, 6), (7, 4), (8, 2), (6, 1), (4, 2), (2, 1), (1, 3), (3, 2), (5, 1), (6, 3), (8, 4), (7, 2), (5, 3), (4, 1), (2, 2), (1, 4), (3, 3), (2, 5), (4, 4), (6, 5), (4, 6), (3, 4), (5, 5), (4, 3), (6, 2), (8, 1), (7, 3), (5, 4), (3, 5), (4, 7), (2, 6), (1, 8), (3, 7), (4, 5), (6, 4), (5, 6), (7, 7), (5, 8), (6, 6), (8, 5)]\n"
     ]
    }
   ],
   "source": [
    "# Task 2.3\n",
    "\n",
    "n = 8\n",
    "path = [(1,1)]\n",
    "\n",
    "while len(path)< n**2:\n",
    "    current = path[-1]\n",
    "    avail_list = available(current, path)\n",
    "    \n",
    "    scorelist = []\n",
    "    for item in avail_list:\n",
    "        score = len(available(item, path+[item]))\n",
    "        scorelist.append(score)\n",
    "        \n",
    "    minscore = min(scorelist)\n",
    "    for i in range(len(avail_list)):\n",
    "        if scorelist[i] == minscore:\n",
    "            path.append(avail_list[i])\n",
    "            break\n",
    "\n",
    "print(path)"
   ]
  }
 ],
 "metadata": {
  "kernelspec": {
   "display_name": "Python 3 (ipykernel)",
   "language": "python",
   "name": "python3"
  },
  "language_info": {
   "codemirror_mode": {
    "name": "ipython",
    "version": 3
   },
   "file_extension": ".py",
   "mimetype": "text/x-python",
   "name": "python",
   "nbconvert_exporter": "python",
   "pygments_lexer": "ipython3",
   "version": "3.9.5"
  }
 },
 "nbformat": 4,
 "nbformat_minor": 4
}
