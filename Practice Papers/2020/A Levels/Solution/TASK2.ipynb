{
 "metadata": {
  "language_info": {
   "codemirror_mode": {
    "name": "ipython",
    "version": 3
   },
   "file_extension": ".py",
   "mimetype": "text/x-python",
   "name": "python",
   "nbconvert_exporter": "python",
   "pygments_lexer": "ipython3",
   "version": "3.7.9-final"
  },
  "orig_nbformat": 2,
  "kernelspec": {
   "name": "python38264bit8c8f8e51185c4a7f8afe51d685164f41",
   "display_name": "Python 3.8.2 64-bit",
   "language": "python"
  }
 },
 "nbformat": 4,
 "nbformat_minor": 2,
 "cells": [
  {
   "cell_type": "code",
   "execution_count": 8,
   "metadata": {},
   "outputs": [],
   "source": [
    "# Task 2.1\n",
    "def task2_1(filename, quantity, maximum):\n",
    "    import random\n",
    "    random_ints = [str(random.randint(0,maximum)) for _ in range(quantity)]\n",
    "    with open(filename, 'w') as f:\n",
    "        f.write(str('\\n'.join(random_ints)))"
   ]
  },
  {
   "cell_type": "code",
   "execution_count": 10,
   "metadata": {},
   "outputs": [],
   "source": [
    "task2_1('randomnumbers.txt',1000,5000)"
   ]
  },
  {
   "cell_type": "code",
   "execution_count": 14,
   "metadata": {},
   "outputs": [],
   "source": [
    "# Task 2.2\n",
    "def task2_2(list_of_integers):\n",
    "    def merge(A, B):\n",
    "        # A and B are sorted lists\n",
    "        ret = []\n",
    "        while len(A) and len(B):\n",
    "            if A[0] < B[0]:\n",
    "                ret.append(A[0])\n",
    "                A.pop(0)\n",
    "                # or\n",
    "                # A = A[1::]\n",
    "            else:\n",
    "                ret.append(B[0])\n",
    "                B.pop(0)\n",
    "        if len(A) == 0:\n",
    "            ret += B\n",
    "        else:\n",
    "            ret += A\n",
    "        return ret\n",
    "\n",
    "    mid = len(list_of_integers) //2\n",
    "    lower = list_of_integers[:mid]\n",
    "    upper = list_of_integers[mid:]\n",
    "    if len(list_of_integers) <= 1:\n",
    "        return list_of_integers\n",
    "    return merge(task2_2(lower), task2_2(upper))"
   ]
  },
  {
   "cell_type": "code",
   "execution_count": 16,
   "metadata": {},
   "outputs": [
    {
     "output_type": "execute_result",
     "data": {
      "text/plain": [
       "True"
      ]
     },
     "metadata": {},
     "execution_count": 16
    }
   ],
   "source": [
    "task2_2([56,25,4,98,0,18,4,5,7,0]) == [0,0,4,4,5,7,18,25,56,98]"
   ]
  },
  {
   "cell_type": "code",
   "execution_count": 24,
   "metadata": {},
   "outputs": [],
   "source": [
    "def task2_3(filename_in, filename_out):\n",
    "    list_of_ints = []\n",
    "    with open(filename_in, 'r') as f:\n",
    "        for line in f:\n",
    "            list_of_ints.append(int(line.strip()))\n",
    "    sorted_list = task2_2(list_of_ints)\n",
    "    with open(filename_out, 'w') as f:\n",
    "        f.write(str('\\n'.join([str(i) for i in sorted_list])))"
   ]
  },
  {
   "cell_type": "code",
   "execution_count": 26,
   "metadata": {},
   "outputs": [],
   "source": [
    "task2_3('randomnumbers.txt','sortednumbers.txt')"
   ]
  }
 ]
}