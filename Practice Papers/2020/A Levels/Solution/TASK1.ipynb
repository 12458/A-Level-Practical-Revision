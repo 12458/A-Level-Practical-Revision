{
 "metadata": {
  "language_info": {
   "codemirror_mode": {
    "name": "ipython",
    "version": 3
   },
   "file_extension": ".py",
   "mimetype": "text/x-python",
   "name": "python",
   "nbconvert_exporter": "python",
   "pygments_lexer": "ipython3",
   "version": "3.7.9-final"
  },
  "orig_nbformat": 2,
  "kernelspec": {
   "name": "python38264bit8c8f8e51185c4a7f8afe51d685164f41",
   "display_name": "Python 3.8.2 64-bit",
   "language": "python"
  }
 },
 "nbformat": 4,
 "nbformat_minor": 2,
 "cells": [
  {
   "cell_type": "code",
   "execution_count": 1,
   "metadata": {},
   "outputs": [],
   "source": [
    "# Task 1.1\n",
    "def task1_1(string_value):\n",
    "    h = 0\n",
    "    for i in range(len(string_value)):\n",
    "        val = 33 * (ord(string_value[i]))\n",
    "        h = (h + val) % 1024\n",
    "    return h"
   ]
  },
  {
   "cell_type": "code",
   "execution_count": 2,
   "metadata": {},
   "outputs": [
    {
     "output_type": "execute_result",
     "data": {
      "text/plain": [
       "116"
      ]
     },
     "metadata": {},
     "execution_count": 2
    }
   ],
   "source": [
    "task1_1('Hello')\n",
    "task1_1('Hello')\n",
    "task1_1('Hello')"
   ]
  },
  {
   "cell_type": "code",
   "execution_count": 3,
   "metadata": {},
   "outputs": [],
   "source": [
    "# Task 1.2\n",
    "def task1_2(seed, string_value):\n",
    "    concat = seed + string_value\n",
    "    return concat"
   ]
  },
  {
   "cell_type": "code",
   "execution_count": 6,
   "metadata": {},
   "outputs": [
    {
     "output_type": "execute_result",
     "data": {
      "text/plain": [
       "'seed-threeHello'"
      ]
     },
     "metadata": {},
     "execution_count": 6
    }
   ],
   "source": [
    "task1_2('seed-one','Hello')\n",
    "task1_2('seed-two','Hello')\n",
    "task1_2('seed-three','Hello')"
   ]
  }
 ]
}