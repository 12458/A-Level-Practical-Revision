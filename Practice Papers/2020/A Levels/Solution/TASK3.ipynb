{
 "metadata": {
  "language_info": {
   "codemirror_mode": {
    "name": "ipython",
    "version": 3
   },
   "file_extension": ".py",
   "mimetype": "text/x-python",
   "name": "python",
   "nbconvert_exporter": "python",
   "pygments_lexer": "ipython3",
   "version": "3.7.9-final"
  },
  "orig_nbformat": 2,
  "kernelspec": {
   "name": "python38264bit8c8f8e51185c4a7f8afe51d685164f41",
   "display_name": "Python 3.8.2 64-bit",
   "language": "python"
  }
 },
 "nbformat": 4,
 "nbformat_minor": 2,
 "cells": [
  {
   "cell_type": "code",
   "execution_count": 11,
   "metadata": {},
   "outputs": [],
   "source": [
    "# Task 3.1\n",
    "def task3_1(quantity_of_data):\n",
    "    digits = int(quantity_of_data[:-2])\n",
    "    units = quantity_of_data[-2:]\n",
    "    unit_map = {\n",
    "        'KB': 1e3,\n",
    "        'MB': 1e6,\n",
    "        'GB': 1e9,\n",
    "        'TB': 1e12\n",
    "    }\n",
    "    if units in unit_map.keys():\n",
    "        return int(digits * unit_map[units])\n",
    "    else:\n",
    "        return 'invalid data'"
   ]
  },
  {
   "cell_type": "code",
   "execution_count": 12,
   "metadata": {},
   "outputs": [
    {
     "output_type": "execute_result",
     "data": {
      "text/plain": [
       "8000"
      ]
     },
     "metadata": {},
     "execution_count": 12
    }
   ],
   "source": [
    "task3_1('8KB')"
   ]
  },
  {
   "cell_type": "code",
   "execution_count": 4,
   "metadata": {},
   "outputs": [],
   "source": [
    "# Task 3.2\n",
    "def task3_2(quantity_of_data):\n",
    "    try:\n",
    "        digits = int(quantity_of_data[:-2])\n",
    "        units = quantity_of_data[-2:]\n",
    "        unit_map = {\n",
    "            'KB': 1e3,\n",
    "            'MB': 1e6,\n",
    "            'GB': 1e9,\n",
    "            'TB': 1e12\n",
    "        }\n",
    "        if units in unit_map.keys():\n",
    "            return int(digits * unit_map[units])\n",
    "        else:\n",
    "            return 'invalid data'\n",
    "    except:\n",
    "        try:\n",
    "            digits = int(quantity_of_data[:-3])\n",
    "            units = quantity_of_data[-3:]\n",
    "            unit_map = {\n",
    "                'KiB': 2**10,\n",
    "                'MiB': 2**20,\n",
    "                'GiB': 2**30,\n",
    "                'TiB': 2**40\n",
    "            }\n",
    "            if units in unit_map.keys():\n",
    "                return int(digits * unit_map[units])\n",
    "            else:\n",
    "                return 'invalid data'\n",
    "        except:\n",
    "            return 'invalid data'"
   ]
  },
  {
   "cell_type": "code",
   "execution_count": 6,
   "metadata": {},
   "outputs": [
    {
     "output_type": "execute_result",
     "data": {
      "text/plain": [
       "2097152"
      ]
     },
     "metadata": {},
     "execution_count": 6
    }
   ],
   "source": [
    "task3_2('2MiB')"
   ]
  },
  {
   "cell_type": "code",
   "execution_count": 8,
   "metadata": {},
   "outputs": [],
   "source": [
    "# Task 3.3\n",
    "def task3_3(quantity_of_data,target_unit):\n",
    "    unit_map = {\n",
    "        'KB': 1e3,\n",
    "        'MB': 1e6,\n",
    "        'GB': 1e9,\n",
    "        'TB': 1e12,\n",
    "        'KiB': 2**10,\n",
    "        'MiB': 2**20,\n",
    "        'GiB': 2**30,\n",
    "        'TiB': 2**40\n",
    "    }\n",
    "    if target_unit not in unit_map.keys():\n",
    "        return 'invalid data'\n",
    "    bytes_int = task3_2(quantity_of_data)\n",
    "    return bytes_int / unit_map[target_unit]"
   ]
  },
  {
   "cell_type": "code",
   "execution_count": 11,
   "metadata": {},
   "outputs": [
    {
     "output_type": "execute_result",
     "data": {
      "text/plain": [
       "0.5"
      ]
     },
     "metadata": {},
     "execution_count": 11
    }
   ],
   "source": [
    "task3_3('512MiB','GiB')"
   ]
  }
 ]
}