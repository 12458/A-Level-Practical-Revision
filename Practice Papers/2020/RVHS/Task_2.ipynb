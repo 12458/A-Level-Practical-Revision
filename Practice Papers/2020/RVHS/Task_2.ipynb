{
 "cells": [
  {
   "cell_type": "code",
   "execution_count": 4,
   "metadata": {},
   "outputs": [],
   "source": [
    "#Task 2.1\n",
    "class linkedlist:\n",
    "    def __init__(self, size):\n",
    "        self.size = size\n",
    "        self.array = [[-1, None, -1] for _ in range(self.size)]\n",
    "        self.head = -1\n",
    "        self.nextFree = 0\n",
    "        for i in range(len(self.array)):\n",
    "            # link the freelist\n",
    "            self.array[i][2] = i + 1\n",
    "        self.array[-1][2] = -1\n",
    "        \n",
    "    def insert(self, key, value):\n",
    "        if self.nextFree == -1:\n",
    "            return\n",
    "        # get free node\n",
    "        node_idx = self.nextFree\n",
    "        # update free list\n",
    "        self.nextFree = self.array[self.nextFree][2]\n",
    "        # insert data and update ptrs\n",
    "        self.array[node_idx] = [key, value, -1]\n",
    "        # update pointers\n",
    "        if self.head == -1:\n",
    "            # LL is empty\n",
    "            self.head = node_idx\n",
    "        else:\n",
    "            # insert at from\n",
    "            # print(self.array)\n",
    "            self.array[node_idx][2] = self.head\n",
    "            self.head = node_idx        \n",
    "    \n",
    "    def search_by_key(self, key):\n",
    "        cur = self.head\n",
    "        while cur != -1:\n",
    "            if self.array[cur][0] == key:\n",
    "                return self.array[cur][1]\n",
    "            cur = self.array[cur][2]\n",
    "        return\n",
    "    \n",
    "    def displayList(self):\n",
    "        cur = self.head\n",
    "        while cur != -1:\n",
    "            print(self.array[cur][1])\n",
    "            cur = self.array[cur][2]\n",
    "    def __repr__(self):\n",
    "        return str(self.array)\n",
    "                "
   ]
  },
  {
   "cell_type": "code",
   "execution_count": 5,
   "metadata": {},
   "outputs": [
    {
     "name": "stdout",
     "output_type": "stream",
     "text": [
      "jackfruit\n",
      "imbe\n",
      "honeydew\n",
      "grape\n",
      "figs\n",
      "egplant\n",
      "dragonfruit\n",
      "carrot\n",
      "banana\n",
      "apple\n"
     ]
    }
   ],
   "source": [
    "ll1 = linkedlist(10)\n",
    "ll1.insert(11,\"apple\")\n",
    "ll1.insert(22,\"banana\")\n",
    "ll1.insert(33,\"carrot\")\n",
    "ll1.insert(44,\"dragonfruit\")\n",
    "ll1.insert(55,\"egplant\")\n",
    "ll1.insert(66,\"figs\")\n",
    "ll1.insert(77,\"grape\")\n",
    "ll1.insert(88,\"honeydew\")\n",
    "ll1.insert(99,\"imbe\")\n",
    "ll1.insert(110,\"jackfruit\")\n",
    "ll1.insert(121,\"kiwi\")\n",
    "ll1.displayList() # Result is displayed fruits in decreasing alphabetical order."
   ]
  },
  {
   "cell_type": "code",
   "execution_count": 6,
   "metadata": {},
   "outputs": [
    {
     "data": {
      "text/plain": [
       "9"
      ]
     },
     "execution_count": 6,
     "metadata": {},
     "output_type": "execute_result"
    }
   ],
   "source": [
    "ll1.head"
   ]
  },
  {
   "cell_type": "code",
   "execution_count": 7,
   "metadata": {},
   "outputs": [
    {
     "data": {
      "text/plain": [
       "[[-1, None, 1], [-1, None, 2], [-1, None, 3], [-1, None, 4], [-1, None, 5], [-1, None, 6], [-1, None, 7], [-1, None, 8], [-1, None, 9], [-1, None, -1]]"
      ]
     },
     "execution_count": 7,
     "metadata": {},
     "output_type": "execute_result"
    }
   ],
   "source": [
    "ll1 = linkedlist(10)\n",
    "ll1"
   ]
  },
  {
   "cell_type": "code",
   "execution_count": 9,
   "metadata": {},
   "outputs": [
    {
     "name": "stdout",
     "output_type": "stream",
     "text": [
      "Free Test Case 1\n",
      "apple\n",
      "banana\n",
      "carrot\n",
      "dragonfruit\n",
      "eggplant\n",
      "figs\n",
      "grape\n",
      "honeydew\n",
      "imbe\n",
      "jackfruit\n",
      "None\n",
      "Free Test Case 2\n",
      "apple\n",
      "banana\n",
      "carrot\n",
      "dragonfruit\n",
      "eggplant\n",
      "figs\n",
      "grape\n",
      "honeydew\n",
      "imbe\n",
      "jackfruit\n",
      "kiwi\n",
      "lemon\n",
      "mango\n"
     ]
    }
   ],
   "source": [
    "#Task 2.2\n",
    "class DirectChainingHashTable:\n",
    "    def __init__(self, size, size2):\n",
    "        self.size = size\n",
    "        self.array = [linkedlist(size2) for _ in range(self.size)]\n",
    "    \n",
    "    def hash(self, key):\n",
    "        return key % self.size\n",
    "    \n",
    "    def insert_key_value_pair(self, key, value):\n",
    "        idx = self.hash(key)\n",
    "        self.array[idx].insert(key, value)\n",
    "        return True\n",
    "    \n",
    "    def search(self, key):\n",
    "        idx = self.hash(key)\n",
    "        return self.array[idx].search_by_key(key)\n",
    "        \n",
    "def freeTestCase1():\n",
    "    print(\"Free Test Case 1\")\n",
    "    DCHT = DirectChainingHashTable(11, 10)\n",
    "    # to test for collision resolution\n",
    "    DCHT.insert_key_value_pair(10,\"apple\")\n",
    "    DCHT.insert_key_value_pair(21,\"banana\")\n",
    "    DCHT.insert_key_value_pair(32,\"carrot\")\n",
    "    DCHT.insert_key_value_pair(43,\"dragonfruit\")\n",
    "    DCHT.insert_key_value_pair(54,\"eggplant\")\n",
    "    DCHT.insert_key_value_pair(65,\"figs\")\n",
    "    DCHT.insert_key_value_pair(76,\"grape\")\n",
    "    DCHT.insert_key_value_pair(87,\"honeydew\")\n",
    "    DCHT.insert_key_value_pair(98,\"imbe\")\n",
    "    DCHT.insert_key_value_pair(109,\"jackfruit\")\n",
    "    DCHT.insert_key_value_pair(120,\"kiwi\") # Not added\n",
    "    #for item in [11,22,33,44,55,66,77,88,99,110,121]:\n",
    "    for item in [10,21,32,43,54,65,76,87,98,109,120]:\n",
    "        print(DCHT.search(item)) # Result is displayed fruits in increasing alphabetical order without kiwi.\n",
    "\n",
    "def freeTestCase2():\n",
    "    print(\"Free Test Case 2\")\n",
    "    DCHT = DirectChainingHashTable(11, 10)\n",
    "    # to test for hashing on different slot and collision\n",
    "    DCHT.insert_key_value_pair(11,\"apple\")\n",
    "    DCHT.insert_key_value_pair(23,\"banana\")\n",
    "    DCHT.insert_key_value_pair(35,\"carrot\")\n",
    "    DCHT.insert_key_value_pair(47,\"dragonfruit\")\n",
    "    DCHT.insert_key_value_pair(59,\"eggplant\")\n",
    "    DCHT.insert_key_value_pair(71,\"figs\")\n",
    "    DCHT.insert_key_value_pair(83,\"grape\")\n",
    "    DCHT.insert_key_value_pair(95,\"honeydew\")\n",
    "    DCHT.insert_key_value_pair(107,\"imbe\")\n",
    "    DCHT.insert_key_value_pair(119,\"jackfruit\")\n",
    "    DCHT.insert_key_value_pair(132,\"kiwi\")\n",
    "    DCHT.insert_key_value_pair(143,\"lemon\")\n",
    "    DCHT.insert_key_value_pair(34,\"mango\")\n",
    "    #for item in [11,22,33,44,55,66,77,88,99,110,121]:\n",
    "    for item in [11,23,35,47,59,71,83,95,107,119,132,143,34]:\n",
    "        print(DCHT.search(item)) # # Result is displayed fruits in increasing alphabetical order for all 13 fruits.\n",
    "\n",
    "freeTestCase1()\n",
    "freeTestCase2()"
   ]
  },
  {
   "cell_type": "code",
   "execution_count": null,
   "metadata": {},
   "outputs": [],
   "source": []
  }
 ],
 "metadata": {
  "kernelspec": {
   "display_name": "Python 3 (ipykernel)",
   "language": "python",
   "name": "python3"
  },
  "language_info": {
   "codemirror_mode": {
    "name": "ipython",
    "version": 3
   },
   "file_extension": ".py",
   "mimetype": "text/x-python",
   "name": "python",
   "nbconvert_exporter": "python",
   "pygments_lexer": "ipython3",
   "version": "3.9.5"
  }
 },
 "nbformat": 4,
 "nbformat_minor": 2
}
