{
 "cells": [
  {
   "cell_type": "markdown",
   "id": "622d86f1",
   "metadata": {},
   "source": [
    "`waste.csv`\n",
    "---\n",
    "```\n",
    "year,waste_disposed_of,waste_recycled\n",
    "2000,2.8,1.86\n",
    "2001,2.8,2.23\n",
    "2002,2.63,2.18\n",
    "2003,2.51,2.22\n",
    "...\n",
    "```"
   ]
  },
  {
   "cell_type": "code",
   "execution_count": 4,
   "id": "8c6f7214",
   "metadata": {},
   "outputs": [],
   "source": [
    "# Task 1.1\n",
    "import csv\n",
    "with open('waste.csv') as f:\n",
    "    c = csv.reader(f)\n",
    "    next(c)\n",
    "    waste_data = [[int(line[0]), float(line[1]), float(line[2])] for line in c]\n",
    "    # with closes the file obj (f) implictly"
   ]
  },
  {
   "cell_type": "code",
   "execution_count": 36,
   "id": "c039b145",
   "metadata": {},
   "outputs": [],
   "source": [
    "class HashTable:\n",
    "\n",
    "    def __init__(self, n):\n",
    "        self._array = [None for _ in range(n)]\n",
    "        self._size = n\n",
    "\n",
    "    def GetKeyAddress(self, year):\n",
    "        return int(year) - 2000\n",
    "\n",
    "    def insert(self, data):\n",
    "        index = self.GetKeyAddress(data[0])\n",
    "        if self._array[index] == None:\n",
    "            self._array[index] = data\n",
    "            return True\n",
    "        else:\n",
    "            i = (index + 1) % self._size\n",
    "            while i != index:\n",
    "                if self._array[i] == None:\n",
    "                    self._array[i] = data\n",
    "                    return True\n",
    "                else:\n",
    "                    i = (i + 1) % self._size\n",
    "        return False\n",
    "    \n",
    "    def find(self, data):\n",
    "        index = self.GetKeyAddress(data)\n",
    "        if self._array[index][0] == data:\n",
    "            return self._array[index]\n",
    "        else:\n",
    "            i = (index + 1) % self._size\n",
    "            while i != index:\n",
    "                if self._array[i][0] == data:\n",
    "                    return self._array[i]\n",
    "                else:\n",
    "                    i = (i + 1) % self._size\n",
    "        return -1\n",
    "\n",
    "    def __str__(self):\n",
    "        return str(self._array)"
   ]
  },
  {
   "cell_type": "code",
   "execution_count": 2,
   "id": "a99b841b",
   "metadata": {
    "scrolled": true
   },
   "outputs": [
    {
     "data": {
      "text/plain": [
       "[[2000, 2.8, 1.86],\n",
       " [2001, 2.8, 2.23],\n",
       " [2002, 2.63, 2.18],\n",
       " [2003, 2.51, 2.22],\n",
       " [2004, 2.48, 2.31],\n",
       " [2005, 2.55, 2.47],\n",
       " [2006, 2.56, 2.66],\n",
       " [2007, 2.57, 3.03],\n",
       " [2008, 2.62, 3.34],\n",
       " [2009, 2.63, 3.49],\n",
       " [2010, 2.76, 3.76],\n",
       " [2011, 2.86, 4.04],\n",
       " [2012, 2.93, 4.34],\n",
       " [2013, 3.02, 4.83],\n",
       " [2014, 3.04, 4.47]]"
      ]
     },
     "execution_count": 2,
     "metadata": {},
     "output_type": "execute_result"
    }
   ],
   "source": [
    "waste_data"
   ]
  },
  {
   "cell_type": "code",
   "execution_count": 37,
   "id": "978fdb6a",
   "metadata": {},
   "outputs": [
    {
     "name": "stdout",
     "output_type": "stream",
     "text": [
      "[[2000, 2.8, 1.86], [2001, 2.8, 2.23], [2002, 2.63, 2.18], [2003, 2.51, 2.22], [2004, 2.48, 2.31], [2005, 2.55, 2.47], [2006, 2.56, 2.66], [2007, 2.57, 3.03], [2008, 2.62, 3.34], [2009, 2.63, 3.49], [2010, 2.76, 3.76], [2011, 2.86, 4.04], [2012, 2.93, 4.34], [2013, 3.02, 4.83], [2014, 3.04, 4.47], None, None, None, None, None]\n"
     ]
    }
   ],
   "source": [
    "ht = HashTable(20)\n",
    "for data in waste_data:\n",
    "    ht.insert(data)\n",
    "print(ht)"
   ]
  },
  {
   "cell_type": "code",
   "execution_count": 1,
   "id": "30bf8120",
   "metadata": {},
   "outputs": [
    {
     "name": "stdout",
     "output_type": "stream",
     "text": [
      "\n",
      "1. Get Waste Disposed and Recycled by year\n",
      "2. Display year(s) where Recycle waste > Waste disposed \n",
      "3. Return Average waste disposed between two years\n",
      "4. -1 to Exit\n",
      "\n",
      "ENTER OPTION> -1\n"
     ]
    }
   ],
   "source": [
    "# Task 1.2\n",
    "menu = \\\n",
    "\"\"\"\n",
    "1. Get Waste Disposed and Recycled by year\n",
    "2. Display year(s) where Recycle waste > Waste disposed \n",
    "3. Return Average waste disposed between two years\n",
    "4. -1 to Exit\n",
    "\"\"\"\n",
    "while True:\n",
    "    print(menu)\n",
    "    option = int(input('ENTER OPTION> '))\n",
    "    if 1 <= option <= 3 or option == -1:\n",
    "        if option == -1:\n",
    "            break\n",
    "        if option == 1:\n",
    "            year = int(input('ENTER YEAR> '))\n",
    "            data = ht.find(year)\n",
    "            print(f'WASTE DISPOSED: {data[1]} tons\\nRECYCLED: {data[2]} tons')\n",
    "        elif option == 2:\n",
    "            years = [i[0] for i in waste_data if i[2] > i[1]]\n",
    "            for year in years:\n",
    "                print(year)\n",
    "        else:\n",
    "            year = input('RANGE OF YEAR [year1, year2]> ').strip().split(',')\n",
    "            year[0] = int(year[0])\n",
    "            year[1] = int(year[1])\n",
    "            years = list(range(year[0], year[1]+1))\n",
    "            waste_disposed = [ht.find(year)[1] for year in years]\n",
    "            avg_waste_disposed = sum(waste_disposed) / len(waste_disposed)\n",
    "            print(f'AVERAGE WASTE DISPOSED: {avg_waste_disposed} tons')           \n",
    "            \n",
    "    else:\n",
    "        print('INVALID OPTION')\n",
    "    "
   ]
  }
 ],
 "metadata": {
  "kernelspec": {
   "display_name": "Python 3 (ipykernel)",
   "language": "python",
   "name": "python3"
  },
  "language_info": {
   "codemirror_mode": {
    "name": "ipython",
    "version": 3
   },
   "file_extension": ".py",
   "mimetype": "text/x-python",
   "name": "python",
   "nbconvert_exporter": "python",
   "pygments_lexer": "ipython3",
   "version": "3.9.5"
  }
 },
 "nbformat": 4,
 "nbformat_minor": 5
}
