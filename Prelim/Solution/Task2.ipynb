{
 "cells": [
  {
   "cell_type": "code",
   "execution_count": null,
   "metadata": {},
   "outputs": [],
   "source": [
    "### Task 2.1\n",
    "class Employee: #1m\n",
    "    def __init__(self, name, nric, contact):\n",
    "        self._name = name\n",
    "        self._nric = nric\n",
    "        self._contact = contact\n",
    "\n",
    "    def get_name(self): #1m 3 getters and 1 setters\n",
    "        return self._name\n",
    "\n",
    "    def get_nric(self):\n",
    "        return self._nric\n",
    "\n",
    "    def get_contact(self):\n",
    "        return self._contact\n",
    "\n",
    "    def _set_contact(self, contact):\n",
    "        self._contact = contact\n",
    "\n",
    "    def __repr__(self): #1m\n",
    "        return f\"{self._name}:{self._nric}\"\n",
    "\n",
    "    def compare_with(self,other):#1m\n",
    "        return -1 if self._name < other._name else 1 if self._name > other._name else 0\n",
    "\n",
    "    def calculate_pay(self):\n",
    "        return 0 \n",
    "##[4]"
   ]
  },
  {
   "cell_type": "markdown",
   "metadata": {},
   "source": [
    "# **The following code is for modularity**"
   ]
  },
  {
   "cell_type": "code",
   "execution_count": null,
   "metadata": {},
   "outputs": [],
   "source": [
    "class Helper: ## This can be copied to the FTEmployee and PTEmployee classes\n",
    "    def compare_with(self, other):\n",
    "        if self.calculate_pay() < other.calculate_pay():\n",
    "            return -1\n",
    "        elif self.calculate_pay() > other.calculate_pay():\n",
    "            return 1\n",
    "        else:\n",
    "            return (Employee.compare_with(self,other)) # using class method\n",
    "# instead of multiple inheritance can implement it as a global function\n",
    "def helper(self, other):\n",
    "    if self.calculate_pay() < other.calculate_pay():\n",
    "        return -1\n",
    "    elif self.calculate_pay() > other.calculate_pay():\n",
    "        return 1\n",
    "    else:\n",
    "        return super(type(self), self).compare_with(other) # calling an object's super() from outside the class\n",
    "        #return (Employee.compare_with(self,other))\n",
    "    "
   ]
  },
  {
   "cell_type": "code",
   "execution_count": null,
   "metadata": {},
   "outputs": [],
   "source": [
    "## Task 2.2\n",
    "class FTEmployee(Employee):#, Helper):  using multiple inheritance\n",
    "# setter/getter code not shown\n",
    "    def __init__(self,name, nric, contact,salary):\n",
    "        super().__init__(name, nric, contact)\n",
    "        self._salary=salary\n",
    "        \n",
    "    def __repr__(self):\n",
    "        return f\"{super().__repr__()}:{self._salary}\"\n",
    "\n",
    "    def calculate_pay(self):\n",
    "        return self._salary\n",
    "\n",
    "    def compare_with(self, other):\n",
    "        return helper(self, other)\n",
    "\n",
    "#    def compare_with(self, other):\n",
    "#        return Helper.compare_with(self, other)\n",
    "# using a helper class to encapsulate the helper function since the\n",
    "# code for the 2 derives class are identical\n",
    "#        if self.calculate_pay() < other.calculate_pay():\n",
    "#            return -1\n",
    "#        elif self.calculate_pay() > other.calculate_pay():\n",
    "#            return 1\n",
    "#        else:\n",
    "#            return (super().compare_with(other))"
   ]
  },
  {
   "cell_type": "code",
   "execution_count": null,
   "metadata": {},
   "outputs": [],
   "source": [
    "class PTEmployee(Employee): #, Helper):  using multiple inheritance\n",
    "# setter/getter code not shown\n",
    "    def __init__(self,name, nric, contact,rate, hours):\n",
    "        super().__init__(name, nric, contact)\n",
    "        self._rate = rate\n",
    "        self._hours = hours\n",
    "\n",
    "    def __repr__(self):\n",
    "        return f\"{super().__repr__()}:{self._rate}:{self._hours}\"\n",
    "\n",
    "    def calculate_pay(self):\n",
    "        return self._hours * self._rate\n",
    "\n",
    "    def compare_with(self, other):\n",
    "        return helper(self, other)\n",
    " #       \n",
    " #       if self.calculate_pay() < other.calculate_pay():\n",
    " #           return -1\n",
    " #       elif self.calculate_pay() > other.calculate_pay():\n",
    " #           return 1\n",
    " #       else: \n",
    " #           return (super().compare_with(other))\n"
   ]
  },
  {
   "cell_type": "markdown",
   "metadata": {},
   "source": [
    "*   1m for both constructors \n",
    "*   1m for both __repr__\n",
    "*   1m for both calculate_pay\n",
    "*   1m for both compare_with\n",
    "*   1m for modularity of code\n"
   ]
  },
  {
   "cell_type": "code",
   "execution_count": null,
   "metadata": {},
   "outputs": [],
   "source": [
    "## Task 2.3\n",
    "import csv\n",
    "f=open(\"paid_employees.csv\",\"r\")\n",
    "paid_employees=[]\n",
    "read_employees = list(csv.reader(f))\n",
    "for e in read_employees[1:]:\n",
    "    if e[0] == \"PT\":\n",
    "        pt=PTEmployee(e[2],e[1],e[3],int(e[4]),int(e[5]))\n",
    "        paid_employees.append(pt)\n",
    "    elif e[0] == \"FT\":\n",
    "        ft=FTEmployee(e[2],e[1],e[3],int(e[6]))\n",
    "        paid_employees.append(ft)\n",
    "print(paid_employees)\n",
    "\n",
    "#1m for correct instantiation of objects\n",
    "#1m for correct result/format"
   ]
  },
  {
   "cell_type": "code",
   "execution_count": null,
   "metadata": {},
   "outputs": [],
   "source": [
    "### Task 2.4\n",
    "def insert_sort(L, lb, ub): ## \n",
    "    for i in range(lb+1,ub+1): #1m correct lb,ub\n",
    "        j = i\n",
    "        while j > 0 and L[j].compare_with(L[j-1]) == -1 : # 1m inner loop with correct loop termination condition\n",
    "            L[j], L[j-1] = L[j-1], L[j] # 1m swap and update pointers\n",
    "            j -= 1\n",
    "    return L\n",
    "sorted_employees=insert_sort(paid_employees, 0, len(paid_employees)-1) #1m correct order"
   ]
  },
  {
   "cell_type": "code",
   "execution_count": null,
   "metadata": {},
   "outputs": [],
   "source": [
    "sorted_employees[:10]"
   ]
  },
  {
   "cell_type": "code",
   "execution_count": null,
   "metadata": {},
   "outputs": [],
   "source": [
    "sorted_employees[-10:]"
   ]
  },
  {
   "cell_type": "markdown",
   "metadata": {},
   "source": [
    "<h1>\n",
    "The algorithm below uses 3 sorts:\n",
    "1st sort is to \"sort\" all the Employee objects to the front of the PTEmployee and FTEmployees, the order within this 2 sublists does not matter\n",
    "2nd and 3rd sort will then use the previous insert_sort to sort the 2 sublist in ascending order\n",
    "</h1>"
   ]
  },
  {
   "cell_type": "code",
   "execution_count": null,
   "metadata": {},
   "outputs": [],
   "source": [
    "## Task 2.5\n",
    "\n",
    "## Read file into list 1m \n",
    "import csv\n",
    "f=open(\"all_employees.csv\",\"r\")\n",
    "all_employees=[]\n",
    "read_employees = list(csv.reader(f))\n",
    "for e in read_employees[1:]:\n",
    "    if e[0] == \"PT\":\n",
    "        pt=PTEmployee(e[2],e[1],e[3],int(e[4]),int(e[5]))\n",
    "        all_employees.append(pt)\n",
    "    elif e[0] == \"FT\":\n",
    "        ft=FTEmployee(e[2],e[1],e[3],int(e[6]))\n",
    "        all_employees.append(ft)\n",
    "    else:\n",
    "        em = Employee(e[2],e[1],e[3])\n",
    "        all_employees.append(em)\n",
    "\n",
    "\n",
    "# sort the Employee_list to the front, \n",
    "# find boundary between Em and (FT,PT), \n",
    "# sort the EM sublist, sort the (FT,PT) sublist\n",
    "def sort_all(L): \n",
    "    # 2m swap all Employees to the front:check adjacent nodes swap as long as Not Employee,Employee\n",
    "    for i in range(1,len(L)):\n",
    "        j = i\n",
    "        while j > 0 and type(L[j]) is Employee and type(L[j-1]) is not Employee:\n",
    "            L[j], L[j-1] = L[j-1], L[j]\n",
    "            j -= 1\n",
    "    # 1m find boundary between Employees and the rest: k is the last index for employee objects\n",
    "    k=-1 ## need this for empty list, list with no employees\n",
    "    for k in range(len(L)):\n",
    "        if type(L[k]) is not Employee:\n",
    "            k = k -1\n",
    "            break\n",
    "    #2m sort the 2 sub-list        \n",
    "    insert_sort(L,0,k) # unpaid Employee sublist\n",
    "    insert_sort(L,k+1,len(L)-1) # Paid employee sublist\n",
    "    return L\n",
    "\n",
    "sort_all(all_employees)\n"
   ]
  },
  {
   "cell_type": "markdown",
   "metadata": {},
   "source": [
    "___\n",
    "# **Other code of interest**"
   ]
  },
  {
   "cell_type": "code",
   "execution_count": null,
   "metadata": {},
   "outputs": [],
   "source": [
    "### Using csv.Dict to import data file to a MongoDB\n",
    "import csv\n",
    "data = list(csv.DictReader( open(\"tb.csv\",\"r\"),fieldnames=['type','nric','name','contact','rate','hours','salary']))\n",
    "\n",
    "import pymongo\n",
    "client = pymongo.MongoClient(\"127.0.0.1\", 27017)\n",
    "db = client.get_database(\"tb\")\n",
    "coll = db.get_collection(\"paid_employees\") #1m for db connection\n",
    "# coll.insert_many(data)\n",
    "for d in data:\n",
    "    coll.insert_one(d)\n",
    "client.close()"
   ]
  },
  {
   "cell_type": "markdown",
   "metadata": {},
   "source": [
    "# **What sort is this ?** (selection sort)"
   ]
  },
  {
   "cell_type": "code",
   "execution_count": 34,
   "metadata": {},
   "outputs": [],
   "source": [
    "import random\n",
    "def some_sort(lst):\n",
    "    for i in range(len(lst)):\n",
    "        for j in range(i+1,len(lst)):\n",
    "            if lst[i] >  lst[j]:\n",
    "                lst[i],lst[j] = lst[j],lst[i]\n",
    "    return lst\n"
   ]
  },
  {
   "cell_type": "code",
   "execution_count": 84,
   "metadata": {},
   "outputs": [],
   "source": [
    "### Similar to above\n",
    "def some_sort(A):\n",
    "    for i in range(len(A)):\n",
    "        min_i = A.index(min(A[i:]),i,len(A))\n",
    "        A[i], A[min_i] = A[min_i], A[i]\n",
    "    return A"
   ]
  }
 ],
 "metadata": {
  "interpreter": {
   "hash": "f7291e4b392a32fbfa525b87d1bbd0a3d888adf3d0deca0c205c61b9e7284b82"
  },
  "kernelspec": {
   "display_name": "Python 3 (ipykernel)",
   "language": "python",
   "name": "python3"
  },
  "language_info": {
   "codemirror_mode": {
    "name": "ipython",
    "version": 3
   },
   "file_extension": ".py",
   "mimetype": "text/x-python",
   "name": "python",
   "nbconvert_exporter": "python",
   "pygments_lexer": "ipython3",
   "version": "3.9.5"
  }
 },
 "nbformat": 4,
 "nbformat_minor": 2
}
