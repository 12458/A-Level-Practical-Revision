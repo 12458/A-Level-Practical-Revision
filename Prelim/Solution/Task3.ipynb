{
 "cells": [
  {
   "cell_type": "markdown",
   "metadata": {
    "id": "C2ei1mSoWB6d"
   },
   "source": [
    "# Task 3.1\n",
    "\n",
    "**Insert into Linked List:**\n",
    "* case 1: Empty List\n",
    "* case 2: 1st in List\n",
    "* case 3: other positions in List\n",
    "    * prev node, cur node (insertion point)\n",
    "    * new node point to cur node\n",
    "    * prev node point to new node\n",
    "\n",
    "**Delete node**\n",
    "* Same 2 special cases as above:\n",
    "* case 3: other positions in List\n",
    "    * prev node, cur node\n",
    "    * prev node point to cur node next\n",
    "    * add deleted slot back into the free list\n",
    "\n",
    "Array based:\n",
    "* check free list\n",
    "* set free pointer(index) to 1st free slot in free list\n",
    "* update free list(index) to next free slot\n",
    "* update free pointer(index) to the new node "
   ]
  },
  {
   "cell_type": "code",
   "execution_count": 1,
   "metadata": {
    "id": "ebLSh_ROWB6n"
   },
   "outputs": [],
   "source": [
    "class Node: \n",
    "    def __init__(self,d, n=None):\n",
    "        self.data = d\n",
    "        self.next = n # 1m\n",
    "    def __repr__(self):\n",
    "        return f\"<{self.data}>\" #1m\n",
    "##[2]"
   ]
  },
  {
   "cell_type": "code",
   "execution_count": 2,
   "metadata": {
    "id": "pZyp_9toWB6r"
   },
   "outputs": [],
   "source": [
    "## Array base\n",
    "class LinkedList:\n",
    "    def __init__(self,N):\n",
    "        self.memory=[Node(None,i+1) for i in range(N)]\n",
    "        self.memory[-1].next = None # init array 1 m\n",
    "        self.free = 0 #1m for iniit values\n",
    "        self.start = None \n",
    "\n",
    "    def is_full(self):\n",
    "        return self.free == None\n",
    "\n",
    "    def __repr__(self): \n",
    "        ret=[]\n",
    "        cur_i = self.start \n",
    "        while cur_i != None: #1m iterate and extract data \n",
    "            ret.append(str(self.memory[cur_i]))\n",
    "            cur_i  = self.memory[cur_i].next\n",
    "        return f\"[{','.join(ret)}]\" #2m\n",
    "## task 3.1 [6]\n",
    "    def insert(self,pos, node):\n",
    "        if self.is_full():\n",
    "            return False #1m\n",
    "        ## Step 1:  get free node, update free list,1m\n",
    "        free_i = self.free\n",
    "        self.free = self.memory[self.free].next\n",
    "        #self.memory[free_i] = node\n",
    "\n",
    "        ## Step 2: Deal with special cases, empty LL and inser at the front:\n",
    "        if self.start == None: ## empty list 1m\n",
    "            node.next = None\n",
    "            self.memory[free_i] = node # can be put at line 26\n",
    "            self.start = free_i\n",
    "            return True\n",
    "        elif pos == 1: # insert at start of list,1m\n",
    "            node.next = self.start\n",
    "            self.start = free_i\n",
    "            self.memory[free_i] = node ## can be put at line 26\n",
    "            return True\n",
    "        ## Step 3: Use recursion to deal with the rest \n",
    "        else: # find the prev and cur nodes, insert by updating the prev's pointer and the cur pointer\n",
    "            def _recur(prev_i, cur_i, pos):\n",
    "                if pos == 1 or cur_i == None: #2 base case 2m\n",
    "                    node.next = cur_i #update refs 1m\n",
    "                    self.memory[prev_i].next = free_i\n",
    "                    self.memory[free_i] = node ## can be put after line 26\n",
    "                    return True\n",
    "                else: # recusrive; count backwards from pos, step 1m\n",
    "                    return _recur(cur_i, self.memory[cur_i].next, pos-1)\n",
    "            #bootstrap 1m        \n",
    "            return _recur(self.start, self.memory[self.start].next, pos-1)\n",
    "    ##[8]\n",
    "    def delete(self,pos): ## pos must be <= curent length of LL\n",
    "        if self.start == None: #1m\n",
    "            return False\n",
    "        if pos == 1 : # delete start 1m\n",
    "            del_i = self.start # 1m update pointers\n",
    "            self.start = self.memory[self.start].next\n",
    "            self.memory[del_i].next = self.free\n",
    "            self.memory[del_i].data = None\n",
    "            self.free = del_i\n",
    "            return True\n",
    "        else:\n",
    "            def _recur(prev_i, cur_i, pos):\n",
    "                if cur_i == None:\n",
    "                    return False # position not found 1m\n",
    "                if pos == 1: # position found 2m\n",
    "                    self.memory[prev_i].next = self.memory[cur_i].next \n",
    "                    self.memory[cur_i].next = self.free\n",
    "                    self.memory[cur_i].data = None\n",
    "                    self.free = cur_i\n",
    "                    return True\n",
    "                else:# recursive step 1m\n",
    "                    return _recur(cur_i, self.memory[cur_i].next, pos-1) \n",
    "            #boot strap 1m\n",
    "            return _recur(self.start,self.memory[self.start].next, pos-1)\n",
    "    ##[7]\n",
    "    ## 3.3 [15]\n",
    "    def insert_seq(self,pos,nodes):\n",
    "        for i, node in  enumerate(nodes): #2m need node and position\n",
    "            if not self.insert(pos+i, node): #1m check for no more slots\n",
    "                print(\"insert\",pos+i)\n",
    "                return False\n",
    "        return True\n",
    "    ##[3]"
   ]
  },
  {
   "cell_type": "code",
   "execution_count": 3,
   "metadata": {
    "id": "4pr48quLWB6x"
   },
   "outputs": [
    {
     "name": "stdout",
     "output_type": "stream",
     "text": [
      "False\n",
      "[<0.3>,<2>,<3>,<33>]\n"
     ]
    }
   ],
   "source": [
    "ll = LinkedList(10)\n",
    "ll.insert(1,Node(0.3))\n",
    "ll.insert(2,Node(2))\n",
    "ll.insert(3,Node(3))\n",
    "\n",
    "print(ll.delete(6))\n",
    "ll.insert(15,Node(33))\n",
    "\n",
    "print(ll)"
   ]
  },
  {
   "cell_type": "code",
   "execution_count": 4,
   "metadata": {
    "id": "0hf2FRxvWB6z"
   },
   "outputs": [
    {
     "data": {
      "text/plain": [
       "True"
      ]
     },
     "execution_count": 4,
     "metadata": {},
     "output_type": "execute_result"
    }
   ],
   "source": [
    "ll = LinkedList(10)\n",
    "nn=[Node(1),Node(2),Node(3)]\n",
    "ll.insert_seq(1,nn)"
   ]
  },
  {
   "cell_type": "code",
   "execution_count": 5,
   "metadata": {
    "id": "c2ku2SVuWB60"
   },
   "outputs": [
    {
     "data": {
      "text/plain": [
       "True"
      ]
     },
     "execution_count": 5,
     "metadata": {},
     "output_type": "execute_result"
    }
   ],
   "source": [
    "ll = LinkedList(10)\n",
    "ll.insert_seq(1,[Node(1),Node(2),Node(3)])\n"
   ]
  },
  {
   "cell_type": "code",
   "execution_count": 6,
   "metadata": {
    "id": "T7BjoFJIWB61"
   },
   "outputs": [
    {
     "name": "stdout",
     "output_type": "stream",
     "text": [
      "[<1>,<2>,<2.5>,<3>,<4>,<4.5>,<4.8>,<5>,<8>,<10>]\n",
      "[<1>,<2>,<2.5>,<3>,<4>,<4.8>,<5>,<8>]\n"
     ]
    }
   ],
   "source": [
    "## 3.4\n",
    "f=open('Nodes.txt',\"r\")\n",
    "ll = LinkedList(10)\n",
    "for line in f:\n",
    "    p,n = line.split(\",\") #1m\n",
    "    node=eval(n)\n",
    "    ll.insert(int(p),node)\n",
    "print(ll)\n",
    "ll.delete(6)\n",
    "ll.delete(9)\n",
    "print(ll)"
   ]
  }
 ],
 "metadata": {
  "colab": {
   "name": "Task3.ipynb",
   "provenance": [],
   "toc_visible": true
  },
  "interpreter": {
   "hash": "f7291e4b392a32fbfa525b87d1bbd0a3d888adf3d0deca0c205c61b9e7284b82"
  },
  "kernelspec": {
   "display_name": "Python 3 (ipykernel)",
   "language": "python",
   "name": "python3"
  },
  "language_info": {
   "codemirror_mode": {
    "name": "ipython",
    "version": 3
   },
   "file_extension": ".py",
   "mimetype": "text/x-python",
   "name": "python",
   "nbconvert_exporter": "python",
   "pygments_lexer": "ipython3",
   "version": "3.9.5"
  }
 },
 "nbformat": 4,
 "nbformat_minor": 1
}
