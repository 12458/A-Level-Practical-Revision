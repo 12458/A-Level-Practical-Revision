{
 "cells": [
  {
   "cell_type": "markdown",
   "metadata": {},
   "source": [
    "`COVID19.CSV`\n",
    "---\n",
    "```\n",
    "Province/State,Country/Region,Lat,Long,1/22/20,1/23/20,1/24/20,1/25/20,1/26/20,1/27/20,1/28/20,1/29/20,1/30/20,1/31/20,2/1/20,2/2/20,2/3/20,2/4/20,2/5/20,2/6/20,2/7/20,2/8/20,2/9/20,2/10/20,2/11/20,2/12/20,2/13/20,2/14/20,2/15/20,2/16/20,2/17/20,2/18/20,2/19/20,2/20/20,2/21/20,2/22/20,2/23/20,2/24/20,2/25/20,2/26/20,2/27/20,2/28/20,2/29/20,3/1/20,3/2/20,3/3/20,3/4/20\n",
    "Anhui,Mainland China,31.8257,117.2264,1,9,15,39,60,70,106,152,200,237,297,340,408,480,530,591,665,733,779,830,860,889,910,934,950,962,973,982,986,987,988,989,989,989,989,989,989,990,990,990,990,990,990\n",
    "Beijing,Mainland China,40.1824,116.4142,14,22,36,41,68,80,91,111,114,139,168,191,212,228,253,274,297,315,326,337,342,352,366,372,375,380,381,387,393,395,396,399,399,399,400,400,410,410,411,413,414,414,418\n",
    "Chongqing,Mainland China,30.0572,107.874,6,9,27,57,75,110,132,147,182,211,247,300,337,366,389,411,426,428,468,486,505,518,529,537,544,551,553,555,560,567,572,573,575,576,576,576,576,576,576,576,576,576,576\n",
    "...\n",
    "```"
   ]
  },
  {
   "cell_type": "code",
   "execution_count": null,
   "metadata": {
    "scrolled": false
   },
   "outputs": [],
   "source": [
    "# TASK 1.1\n",
    "import csv\n",
    "with open('COVID19.CSV') as f:\n",
    "    c = csv.reader(f)\n",
    "    header = next(c)\n",
    "    covid = list(c)\n",
    "\n",
    "# we note that the date format is M/DD/YY\n",
    "\n",
    "countries = [i[1] for i in covid]\n",
    "countires_unique = list(set(countries))\n",
    "dates = [i.split('/')[2] + i.split('/')[0].zfill(2) + i.split('/')[1].zfill(2) for i in header[4:]]\n",
    "\n",
    "print(f'Number of countries in data collection: {len(countires_unique)}')\n",
    "print(f'Number of days in data collection: {len(header[4:])}')\n",
    "print(f'Start Date of collection (YYMMDD): {sorted(dates)[0]}')\n",
    "print(f'End Date of collection (YYMMDD): {sorted(dates)[-1]}')"
   ]
  },
  {
   "cell_type": "markdown",
   "metadata": {},
   "source": [
    "# **[3]**"
   ]
  },
  {
   "cell_type": "code",
   "execution_count": null,
   "metadata": {},
   "outputs": [],
   "source": [
    "# TASK 1.2\n",
    "\n",
    "country_agg = {}\n",
    "\n",
    "for country in countires_unique:\n",
    "    if country not in country_agg.keys():\n",
    "        country_agg[country] = [0 for _ in range(len(header[4:]))]\n",
    "\n",
    "for country in country_agg.keys():\n",
    "    for record in covid:\n",
    "        if record[1] == country:\n",
    "            for i in range(len(header[4:])):\n",
    "                country_agg[country][i] += int(record[i+4])\n",
    "output = f\"Country/Region,{','.join(header[4:])}\\n\"\n",
    "                \n",
    "countires_unique_sorted = sorted(countires_unique)\n",
    "\n",
    "for country in countires_unique_sorted:\n",
    "    output += f'{country},{\",\".join([str(i) for i in country_agg[country]])}\\n'\n",
    "    \n",
    "with open('countries.csv', 'w') as f:\n",
    "    f.write(output)"
   ]
  },
  {
   "cell_type": "code",
   "execution_count": null,
   "metadata": {},
   "outputs": [],
   "source": [
    "output"
   ]
  },
  {
   "cell_type": "markdown",
   "metadata": {},
   "source": [
    "# **[10]**"
   ]
  },
  {
   "cell_type": "code",
   "execution_count": null,
   "metadata": {},
   "outputs": [],
   "source": [
    "# Task 1.3\n",
    "\n",
    "intraday_max = {}\n",
    "\n",
    "for country in countires_unique:\n",
    "    if country not in intraday_max.keys():\n",
    "        intraday_max[country] = None\n",
    "\n",
    "for country in intraday_max.keys():\n",
    "    intraday_max[country] = [country,max(country_agg[country]), header[4:][country_agg[country].index(max(country_agg[country]))]]\n",
    "\n",
    "ranked = sorted(intraday_max.values(),key=lambda x: x[1], reverse=True)\n",
    "for i in range(5):\n",
    "    print(f'{ranked[i][0]:<20}{ranked[i][1]:<20}{ranked[i][2]:<20}')\n"
   ]
  },
  {
   "cell_type": "code",
   "execution_count": null,
   "metadata": {
    "scrolled": true
   },
   "outputs": [],
   "source": [
    "sorted(intraday_max.values(),key=lambda x: x[1], reverse=True)"
   ]
  },
  {
   "cell_type": "markdown",
   "metadata": {},
   "source": [
    "# * Not the maximum cases for each country, but the maximum rise in cases for each day , ie max ( day2 - day1, day3-day2, day_n - day_n-1)\n",
    "# **[3]**"
   ]
  },
  {
   "cell_type": "code",
   "execution_count": null,
   "metadata": {},
   "outputs": [],
   "source": [
    "# Task 1.4\n",
    "\n",
    "import pymongo\n",
    "\n",
    "conn = pymongo.MongoClient('localhost', 27017)\n",
    "db = conn.get_database('covid')\n",
    "coll = db.get_collection('cases')\n",
    "\n",
    "mongo_stuff = []\n",
    "\n",
    "for idx, date in enumerate(header[4:]):\n",
    "    to_append = {'date':date,'countries':[]}\n",
    "    tmp = []\n",
    "    for country in country_agg.keys():\n",
    "        tmp.append({'country': country, 'cases': country_agg[country][idx]})\n",
    "    to_append['countries'] = tmp\n",
    "    mongo_stuff.append(to_append)\n",
    "    \n",
    "\n",
    "\n",
    "coll.insert_many(mongo_stuff)\n",
    "\n",
    "conn.close()"
   ]
  },
  {
   "cell_type": "markdown",
   "metadata": {},
   "source": [
    "# **[5]**"
   ]
  },
  {
   "cell_type": "code",
   "execution_count": null,
   "metadata": {},
   "outputs": [],
   "source": [
    "import pymongo\n",
    "\n",
    "conn = pymongo.MongoClient('localhost', 27017)\n",
    "db = conn.get_database('covid')\n",
    "coll = db.get_collection('cases')\n",
    "\n",
    "print(list(coll.find({})))\n",
    "\n",
    "conn.close()"
   ]
  },
  {
   "cell_type": "code",
   "execution_count": null,
   "metadata": {},
   "outputs": [],
   "source": [
    "country_agg"
   ]
  },
  {
   "cell_type": "code",
   "execution_count": null,
   "metadata": {},
   "outputs": [],
   "source": [
    "# Task 1.5\n",
    "\n",
    "import pymongo\n",
    "\n",
    "conn = pymongo.MongoClient('localhost', 27017)\n",
    "db = conn.get_database('covid')\n",
    "coll = db.get_collection('cases')\n",
    "\n",
    "print(list(coll.find({'date': '1/28/20', 'countries.country':'Mainland China'}))[0])\n",
    "\n",
    "conn.close()"
   ]
  },
  {
   "cell_type": "markdown",
   "metadata": {},
   "source": [
    "# * \"countries\" is an array , not a scalar value\n",
    "# **[0]**\n",
    "# **Total :21/25**"
   ]
  },
  {
   "cell_type": "markdown",
   "metadata": {},
   "source": []
  }
 ],
 "metadata": {
  "interpreter": {
   "hash": "f7291e4b392a32fbfa525b87d1bbd0a3d888adf3d0deca0c205c61b9e7284b82"
  },
  "kernelspec": {
   "display_name": "Python 3 (ipykernel)",
   "language": "python",
   "name": "python3"
  },
  "language_info": {
   "codemirror_mode": {
    "name": "ipython",
    "version": 3
   },
   "file_extension": ".py",
   "mimetype": "text/x-python",
   "name": "python",
   "nbconvert_exporter": "python",
   "pygments_lexer": "ipython3",
   "version": "3.9.5"
  }
 },
 "nbformat": 4,
 "nbformat_minor": 2
}
