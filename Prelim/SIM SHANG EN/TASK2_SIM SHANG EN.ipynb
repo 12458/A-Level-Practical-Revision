{
 "cells": [
  {
   "cell_type": "code",
   "execution_count": null,
   "metadata": {},
   "outputs": [],
   "source": [
    "# TASK 2.1\n",
    "\n",
    "class Employee:\n",
    "    def __init__(self, name, NRIC, contact):\n",
    "        self.name = name\n",
    "        self._NRIC = NRIC\n",
    "        self.contact = contact\n",
    "        \n",
    "    def __repr__(self):\n",
    "        return f'{self._NRIC}:{self.name}'\n",
    "        \n",
    "    def compare_with(self, employee):\n",
    "        if self.name < employee.name:\n",
    "            return -1\n",
    "        elif self.name > employee.name:\n",
    "            return 1\n",
    "        else:\n",
    "            return 0"
   ]
  },
  {
   "cell_type": "markdown",
   "metadata": {},
   "source": [
    "# * getters/setters ?\n",
    "# **[3]**"
   ]
  },
  {
   "cell_type": "code",
   "execution_count": null,
   "metadata": {},
   "outputs": [],
   "source": [
    "# Task 2.2\n",
    "class PTEmployee(Employee):\n",
    "    def __init__(self, name, NRIC, contact, hr_rate, days_worked):\n",
    "        self.hr_rate = hr_rate\n",
    "        self.days_worked = days_worked\n",
    "        super().__init__(name, NRIC, contact)\n",
    "        \n",
    "    def __repr__(self):\n",
    "        return f'{self._NRIC}:{self.name}:{self.hr_rate}:{self.days_worked}'\n",
    "        \n",
    "    def calculate_pay(self):\n",
    "        return self.hr_rate * self.days_worked\n",
    "    \n",
    "    def compare_with(self, employee):\n",
    "        return 1 \n",
    "        if self.calculate_pay() > employee.calculate_pay():\n",
    "            return 1\n",
    "        elif self.calculate_pay() < employee.calculate_pay():\n",
    "            return -1\n",
    "        else:\n",
    "            super().compare_with(employee)\n",
    "        \n",
    "class FTEmployee(Employee):\n",
    "    def __init__(self, name, NRIC, contact, monthly_salary):\n",
    "        self.monthly_salary = monthly_salary\n",
    "        super().__init__(name, NRIC, contact)\n",
    "        \n",
    "    def calculate_pay(self):\n",
    "        return self.monthly_salary\n",
    "    \n",
    "    def __repr__(self):\n",
    "        return f'{self._NRIC}:{self.name}:{self.monthly_salary}'\n",
    "    \n",
    "    def compare_with(self, employee):\n",
    "        return 1 \n",
    "        if self.calculate_pay() > employee.calculate_pay():\n",
    "            return 1\n",
    "        elif self.calculate_pay() < employee.calculate_pay():\n",
    "            return -1\n",
    "        else:\n",
    "            super().compare_with(employee)"
   ]
  },
  {
   "cell_type": "markdown",
   "metadata": {},
   "source": [
    "\n",
    "# * line 15,35 ?? -1m \n",
    "# * You already have the correct logic in line 36-41, I guess you change it to solve 2.5\n",
    "# **[4]**"
   ]
  },
  {
   "cell_type": "code",
   "execution_count": null,
   "metadata": {},
   "outputs": [],
   "source": [
    "# Task 2.3\n",
    "'''\n",
    "type,nric,name,contact,rate,hours,salary\n",
    "PT,F2879124I,Harley,91738705,40,128,\n",
    "PT,G2162825P,Barris,90902910,40,134,\n",
    "PT,G7028612T,Andre,91586811,40,149,\n",
    "PT,G8804899R,Dev,88713923,60,56,\n",
    "FT,G5935054J,Florry,93722656,,,7642\n",
    "FT,F3295152O,Lauritz,94789932,,,5657\n",
    "'''\n",
    "\n",
    "paid_employees = []\n",
    "\n",
    "import csv\n",
    "with open('PAID_EMPLOYEES.CSV') as f:\n",
    "    c = csv.reader(f)\n",
    "    next(c)\n",
    "    employees = list(c)\n",
    "\n",
    "for employee in employees:\n",
    "    if employee[0] == 'PT':\n",
    "        # name, NRIC, contact, hr_rate, days_worked\n",
    "        paid_employees.append(PTEmployee(employee[2], employee[1], employee[3], int(employee[4]), int(employee[5])))\n",
    "    else:\n",
    "        paid_employees.append(FTEmployee(employee[2], employee[1], employee[3], int(employee[6])))"
   ]
  },
  {
   "cell_type": "code",
   "execution_count": null,
   "metadata": {},
   "outputs": [],
   "source": [
    "paid_employees"
   ]
  },
  {
   "cell_type": "markdown",
   "metadata": {},
   "source": [
    "# **[2]**"
   ]
  },
  {
   "cell_type": "code",
   "execution_count": null,
   "metadata": {},
   "outputs": [],
   "source": [
    "# TASK 2.4\n",
    "def insert_sort(A):\n",
    "    for i in range(1, len(A)):\n",
    "        key = A[i]\n",
    "        j = i - 1\n",
    "        while j >= 0 and A[j].compare_with(key):\n",
    "            A[j+1] = A[j]\n",
    "            j -= 1\n",
    "        A[j+1] = key\n",
    "    return A"
   ]
  },
  {
   "cell_type": "code",
   "execution_count": null,
   "metadata": {},
   "outputs": [],
   "source": [
    "insert_sort(paid_employees)"
   ]
  },
  {
   "cell_type": "markdown",
   "metadata": {},
   "source": [
    "# algorithm is correct but your compare_with is incorrect \n",
    "# -1m for non-functional code\n",
    "# **[3]**"
   ]
  },
  {
   "cell_type": "code",
   "execution_count": null,
   "metadata": {},
   "outputs": [],
   "source": [
    "# Task 2.5\n",
    "'''\n",
    "type,nric,name,contact,rate,hours,salary\n",
    "PT,F2879124I,Harley,91738705,40,128,\n",
    "PT,G2162825P,Barris,90902910,40,134,\n",
    "PT,G7028612T,Andre,91586811,40,149,\n",
    "PT,G8804899R,Dev,88713923,60,56,\n",
    "FT,G5935054J,Florry,93722656,,,7642\n",
    "EM,F8755343R,Neilla,80923613,,,\n",
    "EM,G6892596I,Earvin,95437876,,,\n",
    "'''\n",
    "import csv\n",
    "with open('ALL_EMPLOYEES.CSV') as f:\n",
    "    c = csv.reader(f)\n",
    "    next(c)\n",
    "    all_employees_raw = list(c)\n",
    "    \n",
    "all_employees = []\n",
    "\n",
    "for employee in all_employees_raw:\n",
    "    if employee[0] == 'PT':\n",
    "        # name, NRIC, contact, hr_rate, days_worked\n",
    "        all_employee.append(PTEmployee(employee[2], employee[1], employee[3], int(employee[4]), int(employee[5])))\n",
    "    elif employee[0] == 'FT':\n",
    "        all_employee.append(FTEmployee(employee[2], employee[1], employee[3], int(employee[6])))\n",
    "    else:\n",
    "        all_employee.append(Employee(employee[2], employee[1], employee[3]))"
   ]
  },
  {
   "cell_type": "code",
   "execution_count": null,
   "metadata": {},
   "outputs": [],
   "source": [
    "all_employee"
   ]
  },
  {
   "cell_type": "code",
   "execution_count": null,
   "metadata": {},
   "outputs": [],
   "source": [
    "insert_sort(all_employee)"
   ]
  },
  {
   "cell_type": "markdown",
   "metadata": {},
   "source": [
    "# **[1]**"
   ]
  },
  {
   "cell_type": "markdown",
   "metadata": {},
   "source": [
    "___\n",
    "# **Total: 13/21**"
   ]
  }
 ],
 "metadata": {
  "interpreter": {
   "hash": "f7291e4b392a32fbfa525b87d1bbd0a3d888adf3d0deca0c205c61b9e7284b82"
  },
  "kernelspec": {
   "display_name": "Python 3 (ipykernel)",
   "language": "python",
   "name": "python3"
  },
  "language_info": {
   "codemirror_mode": {
    "name": "ipython",
    "version": 3
   },
   "file_extension": ".py",
   "mimetype": "text/x-python",
   "name": "python",
   "nbconvert_exporter": "python",
   "pygments_lexer": "ipython3",
   "version": "3.9.5"
  }
 },
 "nbformat": 4,
 "nbformat_minor": 2
}
