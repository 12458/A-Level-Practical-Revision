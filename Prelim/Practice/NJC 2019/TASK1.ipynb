{
 "cells": [
  {
   "cell_type": "code",
   "execution_count": 5,
   "id": "b18d13a7-6a4f-4792-b477-5a6001c4f2c7",
   "metadata": {},
   "outputs": [],
   "source": [
    "# Task 1.1\n",
    "import csv\n",
    "with open('WEATHER-JUNE-2018.TXT') as f:\n",
    "    c = csv.reader(f, delimiter='\\t')\n",
    "    w2018 = list(c)\n",
    "\n",
    "with open('WEATHER-JUNE-2019.TXT') as f:\n",
    "    c = csv.reader(f, delimiter='\\t')\n",
    "    w2019 = list(c)"
   ]
  },
  {
   "cell_type": "code",
   "execution_count": 9,
   "id": "b4e7c9fe-bfd4-46a3-9055-22ec35eba65b",
   "metadata": {
    "tags": []
   },
   "outputs": [
    {
     "data": {
      "text/plain": [
       "[['1 Jun', '24.2', '7', '10.2', '16.2', '27.9', '30.9', '24.1', '4.3', '24.8'],\n",
       " ['2 Jun',\n",
       "  '46.8',\n",
       "  '28',\n",
       "  '37.8',\n",
       "  '42.8',\n",
       "  '27.2',\n",
       "  '31.2',\n",
       "  '22.9',\n",
       "  '4.7',\n",
       "  '43.2'],\n",
       " ['3 Jun', '0', '0', '0', '0', '29', '32.9', '26', '7.2', '25.6']]"
      ]
     },
     "execution_count": 9,
     "metadata": {},
     "output_type": "execute_result"
    }
   ],
   "source": [
    "w2018[:3]"
   ]
  },
  {
   "cell_type": "code",
   "execution_count": 10,
   "id": "39cf82dc-54b3-489a-a3fd-31eb0bc6fd39",
   "metadata": {},
   "outputs": [
    {
     "data": {
      "text/plain": [
       "[['1 Jun', '0', '0', '0', '0', '28.3', '32.3', '26.7', '6.8', '31.7'],\n",
       " ['2 Jun',\n",
       "  '13.6',\n",
       "  '10.4',\n",
       "  '12.2',\n",
       "  '13',\n",
       "  '28.6',\n",
       "  '32.8',\n",
       "  '25.8',\n",
       "  '6.5',\n",
       "  '26.3'],\n",
       " ['3 Jun',\n",
       "  '37.6',\n",
       "  '15.2',\n",
       "  '18.6',\n",
       "  '28.6',\n",
       "  '26.9',\n",
       "  '31.4',\n",
       "  '24.2',\n",
       "  '6.1',\n",
       "  '27.7']]"
      ]
     },
     "execution_count": 10,
     "metadata": {},
     "output_type": "execute_result"
    }
   ],
   "source": [
    "w2019[:3]"
   ]
  },
  {
   "cell_type": "code",
   "execution_count": 49,
   "id": "1ac4a0cf-fa2d-4145-aafd-dd45c8cee230",
   "metadata": {},
   "outputs": [],
   "source": [
    "# Task 1.2\n",
    "def bubble_sort(A):\n",
    "    for i in range(len(A) - 1):\n",
    "        swap = False\n",
    "        for j in range(len(A) - 1 - i):\n",
    "            if A[j][5] > A[j + 1][5]:\n",
    "                A[j], A[j + 1] = A[j + 1], A[j]\n",
    "                swap = True\n",
    "        if swap == False:\n",
    "            break\n",
    "    return A"
   ]
  },
  {
   "cell_type": "code",
   "execution_count": 52,
   "id": "608abdfc-9f6a-4dbd-9948-3b12afa4cd50",
   "metadata": {},
   "outputs": [
    {
     "data": {
      "text/plain": [
       "[['26',\n",
       "  ['27 Jun', '10.6', '4.8', '4.8', '5.4', '26', '27.7', '23.9', '5', '32']],\n",
       " ['26.3',\n",
       "  ['29 Jun', '6', '5.2', '5.2', '5.4', '26.3', '27.9', '23.8', '5.4', '29.2']],\n",
       " ['26.8',\n",
       "  ['25 Jun',\n",
       "   '15.2',\n",
       "   '7.2',\n",
       "   '12',\n",
       "   '13.2',\n",
       "   '26.8',\n",
       "   '29.4',\n",
       "   '23.2',\n",
       "   '5.8',\n",
       "   '29.2']],\n",
       " ['27', ['26 Jun', '31.4', '15', '28', '30.8', '27', '29', '23', '5', '34.6']],\n",
       " ['27.1',\n",
       "  ['15 Jun',\n",
       "   '6.8',\n",
       "   '6.2',\n",
       "   '6.2',\n",
       "   '6.4',\n",
       "   '27.1',\n",
       "   '29.5',\n",
       "   '23.6',\n",
       "   '5.4',\n",
       "   '33.8']],\n",
       " ['27.1',\n",
       "  ['20 Jun',\n",
       "   '21.2',\n",
       "   '18',\n",
       "   '20.2',\n",
       "   '20.2',\n",
       "   '27.1',\n",
       "   '30.1',\n",
       "   '23.6',\n",
       "   '6.5',\n",
       "   '34.6']],\n",
       " ['27.1',\n",
       "  ['24 Jun', '0', '0', '0', '0', '27.1', '30.3', '25.1', '7.9', '27.7']],\n",
       " ['27.2',\n",
       "  ['2 Jun',\n",
       "   '46.8',\n",
       "   '28',\n",
       "   '37.8',\n",
       "   '42.8',\n",
       "   '27.2',\n",
       "   '31.2',\n",
       "   '22.9',\n",
       "   '4.7',\n",
       "   '43.2']],\n",
       " ['27.4',\n",
       "  ['23 Jun', '0.6', '0.4', '0.4', '0.4', '27.4', '31', '25.5', '7.2', '37.4']],\n",
       " ['27.7',\n",
       "  ['21 Jun',\n",
       "   '0.6',\n",
       "   '0.4',\n",
       "   '0.6',\n",
       "   '0.6',\n",
       "   '27.7',\n",
       "   '32.2',\n",
       "   '25.7',\n",
       "   '6.8',\n",
       "   '31.3']],\n",
       " ['27.9',\n",
       "  ['1 Jun',\n",
       "   '24.2',\n",
       "   '7',\n",
       "   '10.2',\n",
       "   '16.2',\n",
       "   '27.9',\n",
       "   '30.9',\n",
       "   '24.1',\n",
       "   '4.3',\n",
       "   '24.8']],\n",
       " ['27.9',\n",
       "  ['19 Jun',\n",
       "   '0.6',\n",
       "   '0.4',\n",
       "   '0.6',\n",
       "   '0.6',\n",
       "   '27.9',\n",
       "   '30',\n",
       "   '24.1',\n",
       "   '11.5',\n",
       "   '43.2']],\n",
       " ['28.1',\n",
       "  ['28 Jun', '0', '0', '0', '0', '28.1', '31.5', '25.2', '6.8', '25.6']],\n",
       " ['28.1',\n",
       "  ['30 Jun', '0', '0', '0', '0', '28.1', '30.2', '26.2', '9.4', '26.3']],\n",
       " ['28.4',\n",
       "  ['18 Jun',\n",
       "   '9.4',\n",
       "   '9.4',\n",
       "   '9.4',\n",
       "   '9.4',\n",
       "   '28.4',\n",
       "   '31.3',\n",
       "   '23.9',\n",
       "   '8.3',\n",
       "   '47.2']],\n",
       " ['28.5',\n",
       "  ['13 Jun', '1.4', '1', '1', '1', '28.5', '32.2', '25.2', '8.3', '42.5']],\n",
       " ['28.6',\n",
       "  ['22 Jun', '0', '0', '0', '0', '28.6', '32.1', '25.5', '9.7', '33.8']],\n",
       " ['29', ['3 Jun', '0', '0', '0', '0', '29', '32.9', '26', '7.2', '25.6']],\n",
       " ['29.1',\n",
       "  ['14 Jun', '3.2', '3', '3', '3', '29.1', '32.1', '27.1', '6.5', '27.4']],\n",
       " ['29.2',\n",
       "  ['8 Jun',\n",
       "   '3.8',\n",
       "   '3.8',\n",
       "   '3.8',\n",
       "   '3.8',\n",
       "   '29.2',\n",
       "   '31.7',\n",
       "   '24.2',\n",
       "   '7.9',\n",
       "   '36.4']],\n",
       " ['29.3', ['9 Jun', '0', '0', '0', '0', '29.3', '32.3', '27', '5.8', '21.2']],\n",
       " ['29.3',\n",
       "  ['16 Jun', '0', '0', '0', '0', '29.3', '32.6', '26.1', '10.1', '31.3']],\n",
       " ['29.5', ['5 Jun', '0', '0', '0', '0', '29.5', '32.9', '27.3', '9', '29.5']],\n",
       " ['29.6',\n",
       "  ['17 Jun',\n",
       "   '0.4',\n",
       "   '0.4',\n",
       "   '0.4',\n",
       "   '0.4',\n",
       "   '29.6',\n",
       "   '32.7',\n",
       "   '27.7',\n",
       "   '11.9',\n",
       "   '34.6']],\n",
       " ['29.7',\n",
       "  ['4 Jun', '0.4', '0.4', '0.4', '0.4', '29.7', '32.5', '26.5', '7.9', '23']],\n",
       " ['29.9',\n",
       "  ['10 Jun', '0', '0', '0', '0', '29.9', '31.9', '28.1', '12.2', '36']],\n",
       " ['29.9',\n",
       "  ['12 Jun', '0', '0', '0', '0', '29.9', '32.5', '28.3', '9.4', '30.2']],\n",
       " ['30.2',\n",
       "  ['6 Jun', '0', '0', '0', '0', '30.2', '32.9', '28.2', '12.6', '31.7']],\n",
       " ['30.2',\n",
       "  ['11 Jun', '0', '0', '0', '0', '30.2', '33.1', '28.3', '13.7', '35.3']],\n",
       " ['30.3',\n",
       "  ['7 Jun', '0', '0', '0', '0', '30.3', '33.4', '28.3', '11.5', '28.1']]]"
      ]
     },
     "execution_count": 52,
     "metadata": {},
     "output_type": "execute_result"
    }
   ],
   "source": [
    "sorted2018"
   ]
  },
  {
   "cell_type": "code",
   "execution_count": 51,
   "id": "63b1474c-157e-4e1a-a3cf-65016270cded",
   "metadata": {
    "tags": []
   },
   "outputs": [
    {
     "name": "stdout",
     "output_type": "stream",
     "text": [
      "Difference in Median Temperatures (June 2019 – June 2018): 0.10000000000000142°C\n"
     ]
    }
   ],
   "source": [
    "sorted2018 = [[i[5], i] for i in bubble_sort(w2018)]\n",
    "sorted2019 = [[i[5], i] for i in bubble_sort(w2019)]\n",
    "\n",
    "median2018 = float(sorted2018[len(sorted2018)//2][0])\n",
    "median2019 = float(sorted2019[len(sorted2019)//2][0])\n",
    "\n",
    "print(f'Difference in Median Temperatures (June 2019 – June 2018): {median2019 - median2018}°C')"
   ]
  },
  {
   "cell_type": "code",
   "execution_count": 75,
   "id": "8728593f-5ad3-4128-986e-e5e6811e7d2e",
   "metadata": {},
   "outputs": [],
   "source": [
    "# Task 1.4\n",
    "def bs(l, target):\n",
    "    # ['1 Jun', '0', '0', '0', '0', '28.3', '32.3', '26.7', '6.8', '31.7']\n",
    "    '''\n",
    "    0. Date\n",
    "    1. Daily Rainfall Total (mm)\n",
    "    2. Highest 30-min Rainfall (mm)\n",
    "    3. Highest 60-min Rainfall (mm)\n",
    "    4. Highest 120-min Rainfall (mm)\n",
    "    5. Mean Temperature (°C)\n",
    "    6. Maximum Temperature (°C)\n",
    "    7. Minimum Temperature (°C)\n",
    "    8. Mean Wind Speed (km/h)\n",
    "    9. Max Wind Speed (km/h)\n",
    "    '''\n",
    "    target = min([[(float(x1[0]) - float(x2)) if (float(x1[0]) - float(x2)) >= 0 else 1e99, [x1]] for (x1, x2) in zip(l, [target for i in range(len(l))])], key=lambda x:x[0])[1][0]\n",
    "    ub = len(l) -1\n",
    "    lb = 0\n",
    "    while lb <= ub:\n",
    "        mid = (ub + lb) // 2\n",
    "        # print(mid, l[mid], target)\n",
    "        if float(l[mid][0]) == float(target[0]):\n",
    "            return mid\n",
    "        elif float(target[0]) < float(l[mid][0]):\n",
    "            ub = mid - 1\n",
    "        else:\n",
    "            lb = mid + 1\n",
    "    return -1"
   ]
  },
  {
   "cell_type": "code",
   "execution_count": 67,
   "id": "06c2ddff-e8ce-44ef-8547-8785c0ffc588",
   "metadata": {},
   "outputs": [
    {
     "data": {
      "text/plain": [
       "['1 Jun', '24.2', '7', '10.2', '16.2', '27.9', '30.9', '24.1', '4.3', '24.8']"
      ]
     },
     "execution_count": 67,
     "metadata": {},
     "output_type": "execute_result"
    }
   ],
   "source": [
    "l = sorted2018[:]\n",
    "target = 28\n",
    "#list(zip(l, [target for i in range(len(l))]))\n",
    "#[[float(x1[0]) - float(x2), [x1]] for (x1, x2) in zip(l, [target for i in range(len(l))])]\n",
    "min([[abs(float(x1[0]) - float(x2)), [x1]] for (x1, x2) in zip(l, [target for i in range(len(l))])], key=lambda x:x[0])[1][0]"
   ]
  },
  {
   "cell_type": "code",
   "execution_count": 76,
   "id": "c8255958-6712-4491-a1ff-26dcd8ecb070",
   "metadata": {},
   "outputs": [
    {
     "data": {
      "text/plain": [
       "12"
      ]
     },
     "execution_count": 76,
     "metadata": {},
     "output_type": "execute_result"
    }
   ],
   "source": [
    "bs(sorted2018[:], 28)"
   ]
  },
  {
   "cell_type": "code",
   "execution_count": 43,
   "id": "97a64c6f-183a-4394-9f5d-c1f09ec9553e",
   "metadata": {},
   "outputs": [
    {
     "name": "stdin",
     "output_type": "stream",
     "text": [
      "Please input a mean temperature threshold (°C): a\n"
     ]
    },
    {
     "name": "stdout",
     "output_type": "stream",
     "text": [
      "Enter a proper floating point number\n"
     ]
    },
    {
     "name": "stdin",
     "output_type": "stream",
     "text": [
      "Please input a mean temperature threshold (°C): a\n"
     ]
    },
    {
     "name": "stdout",
     "output_type": "stream",
     "text": [
      "Enter a proper floating point number\n"
     ]
    },
    {
     "name": "stdin",
     "output_type": "stream",
     "text": [
      "Please input a mean temperature threshold (°C): a\n"
     ]
    },
    {
     "name": "stdout",
     "output_type": "stream",
     "text": [
      "Enter a proper floating point number\n"
     ]
    },
    {
     "name": "stdin",
     "output_type": "stream",
     "text": [
      "Please input a mean temperature threshold (°C): 2\n"
     ]
    }
   ],
   "source": [
    "# Task 1.5\n",
    "\n",
    "def combiner(sorted2018,sorted2019):\n",
    "    return \n",
    "\n",
    "while True:\n",
    "    try:\n",
    "        temp = float(input('Please input a mean temperature threshold (°C):'))\n",
    "        break\n",
    "    except:\n",
    "        print('Enter a proper floating point number')\n",
    "\n",
    "\n",
    "print(f'{}{}{}{}{}')\n",
    "        "
   ]
  }
 ],
 "metadata": {
  "kernelspec": {
   "display_name": "Python 3 (ipykernel)",
   "language": "python",
   "name": "python3"
  },
  "language_info": {
   "codemirror_mode": {
    "name": "ipython",
    "version": 3
   },
   "file_extension": ".py",
   "mimetype": "text/x-python",
   "name": "python",
   "nbconvert_exporter": "python",
   "pygments_lexer": "ipython3",
   "version": "3.9.5"
  }
 },
 "nbformat": 4,
 "nbformat_minor": 5
}
