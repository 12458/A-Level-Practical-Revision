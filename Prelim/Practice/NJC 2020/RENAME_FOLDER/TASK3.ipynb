{
 "cells": [
  {
   "cell_type": "code",
   "execution_count": null,
   "id": "a9b20919-148b-45bd-bcf1-e45676225050",
   "metadata": {},
   "outputs": [],
   "source": [
    "class Vistor:\n",
    "    def __init_(self):\n",
    "        self._buffer = []\n",
    "        self._sorted_buf = [] \n",
    "    \n",
    "    def enqueue(self, vistor):\n",
    "        if self._buffer == []:\n",
    "            self._max_tmp_idx = 0\n",
    "            self._buffer.append(vistor)\n",
    "            return\n",
    "        self._buffer.append(vistor)\n",
    "        self._sorted_buf.append(vistor)\n",
    "        self._sorted_buf.sort(key=lambda x: x.getTemperature())\n",
    "        \n",
    "    def dequeue(self):\n",
    "        self._buffer.pop(0, None)\n",
    "    \n",
    "    def peekMaxTemp(self):\n",
    "        return self._sorted_buf[-1] if len(self._sorted_buf) > 0 else None\n",
    "    \n",
    "class Queue:\n",
    "    pass\n",
    "\n",
    "class Bed:\n",
    "    pass\n",
    "\n",
    "class Patient:\n",
    "    pass"
   ]
  }
 ],
 "metadata": {
  "kernelspec": {
   "display_name": "Python 3 (ipykernel)",
   "language": "python",
   "name": "python3"
  },
  "language_info": {
   "codemirror_mode": {
    "name": "ipython",
    "version": 3
   },
   "file_extension": ".py",
   "mimetype": "text/x-python",
   "name": "python",
   "nbconvert_exporter": "python",
   "pygments_lexer": "ipython3",
   "version": "3.9.5"
  }
 },
 "nbformat": 4,
 "nbformat_minor": 5
}
