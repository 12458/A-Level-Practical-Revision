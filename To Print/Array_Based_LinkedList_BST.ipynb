{
  "nbformat": 4,
  "nbformat_minor": 2,
  "metadata": {
    "colab": {
      "name": "Array_Based_LinkedList_BST.ipynb",
      "provenance": [],
      "collapsed_sections": []
    },
    "kernelspec": {
      "name": "python3",
      "display_name": "Python 3"
    },
    "language_info": {
      "name": "python"
    }
  },
  "cells": [
    {
      "cell_type": "markdown",
      "source": [
        "# Array-based Linked-List\r\n",
        "\r\n",
        "* fixed size array for storing Nodes\r\n",
        "* Node pointer is an index in the array\r\n",
        "* 2 logical Linked List\r\n",
        "\r\n",
        "> * Free Nodes List\r\n",
        "> * Linked List with Data\r\n",
        "\r\n",
        "Implement the following LinkedList operations:\r\n",
        "\r\n",
        "1. `insert_front()`\r\n",
        "2. `insert_back()`\r\n",
        "3. `display()`, prints the linked list\r\n",
        "4. `insert_pos(n)`, insert at position n in the LinkedList, where n can be 1 to last element in LL\r\n",
        "5. `delete_pos(n)`, delete at position n in the LinkedList\r\n"
      ],
      "metadata": {
        "id": "0DqUblZxFolS"
      }
    },
    {
      "cell_type": "code",
      "execution_count": null,
      "source": [
        "import pymongo"
      ],
      "outputs": [],
      "metadata": {
        "id": "xvDPlpiY5pbE"
      }
    },
    {
      "cell_type": "code",
      "execution_count": null,
      "source": [
        "class Node:\r\n",
        "    def __init__(self, data):\r\n",
        "        self.data = data\r\n",
        "        self.next = -1\r\n",
        "\r\n",
        "    def __str__(self):\r\n",
        "        return f\"{self.data}:{self.next}\"\r\n",
        "\r\n",
        "\r\n",
        "class LinkedListA:\r\n",
        "    def __init__(self, size):\r\n",
        "        self.size = size\r\n",
        "        self.count = 0\r\n",
        "        self.array = [Node(None) for _ in range(size)]\r\n",
        "        for i in range(self.size-1):\r\n",
        "            self.array[i].next = i+1\r\n",
        "        self.head = -1  # logical data linked list\r\n",
        "        self.free = 0  # free node linked list\r\n",
        "        pass\r\n",
        "\r\n",
        "    def __str__(self):\r\n",
        "        ret = f\"{self.head},{self.free}\\t\"\r\n",
        "        for i in range(self.size):\r\n",
        "            ret += f\"{self.array[i]},\"\r\n",
        "        return ret[:-1]\r\n",
        "\r\n",
        "    def insert_front(self, data):\r\n",
        "        # check if there is a free node\r\n",
        "        if self.free == -1:\r\n",
        "            return False\r\n",
        "        # get the next free slot from the free list\r\n",
        "        free_node_index = self.free\r\n",
        "        # update the free list\r\n",
        "        self.free = self.array[self.free].next\r\n",
        "\r\n",
        "        # insert data into the free node\r\n",
        "        self.array[free_node_index].data = data\r\n",
        "        # update pointers\r\n",
        "        self.array[free_node_index].next = self.head\r\n",
        "        self.head = free_node_index\r\n",
        "        self.count += 1\r\n",
        "        return True\r\n",
        "\r\n",
        "    def insert_back(self, data):\r\n",
        "        # check if there is a free node\r\n",
        "        if self.free == -1:\r\n",
        "            return False\r\n",
        "        # get the next free slot from the free list\r\n",
        "        free_node_index = self.free\r\n",
        "        # update the free list\r\n",
        "        self.free = self.array[self.free].next\r\n",
        "        # insert data into the free node\r\n",
        "        self.array[free_node_index].data = data\r\n",
        "        # update pointers\r\n",
        "        self.array[free_node_index].next = -1\r\n",
        "        # navigate to the last node\r\n",
        "        i = self.head\r\n",
        "        prev_i = -1\r\n",
        "        while i != -1:\r\n",
        "            prev_i = i\r\n",
        "            i = self.array[i].next\r\n",
        "        if prev_i == -1:  # empty data list\r\n",
        "            self.head = free_node_index\r\n",
        "        else:\r\n",
        "            self.array[prev_i].next = free_node_index\r\n",
        "        self.count += 1\r\n",
        "        return True\r\n",
        "\r\n",
        "    def insert_pos(self, data, pos):\r\n",
        "        # check if there is a free node\r\n",
        "        if self.free == -1:\r\n",
        "            return False\r\n",
        "        # get the next free slot from the free list\r\n",
        "        free_node_index = self.free\r\n",
        "        # update the free list\r\n",
        "        self.free = self.array[self.free].next\r\n",
        "        self.array[free_node_index].data = data\r\n",
        "        # update pointers\r\n",
        "        # X --> Y --> Z\r\n",
        "        # X -x-> Y --> Z\r\n",
        "        # X --> A --> Y --> Z\r\n",
        "        if pos == 1:\r\n",
        "            self.insert_front(data)\r\n",
        "            return True\r\n",
        "        i = self.head\r\n",
        "        prev_i = -1\r\n",
        "        while i != -1 and pos > 1:\r\n",
        "            prev_i = i\r\n",
        "            i = self.array[i].next\r\n",
        "            pos -= 1\r\n",
        "        self.array[prev_i].next = free_node_index\r\n",
        "        self.array[free_node_index].next = i\r\n",
        "\r\n",
        "        self.count += 1\r\n",
        "        return True\r\n",
        "\r\n",
        "    def display(self):\r\n",
        "        # display the logical data linked list\r\n",
        "        ret = \"\"\r\n",
        "        i = self.head\r\n",
        "        while i != -1:\r\n",
        "            ret += f\"{self.array[i].data},\"\r\n",
        "            i = self.array[i].next\r\n",
        "        return ret[:-1]\r\n",
        "\r\n",
        "    def delete_pos(self, pos):\r\n",
        "        if self.head == -1 or self.count < pos:\r\n",
        "            return False\r\n",
        "\r\n",
        "        # navigate to pos\r\n",
        "        i = self.head\r\n",
        "        prev = -1\r\n",
        "        for count in range(pos - 1):\r\n",
        "            prev = i\r\n",
        "            i = self.array[i].next\r\n",
        "\r\n",
        "        # update pointers\r\n",
        "        if prev == -1:  # delete at head\r\n",
        "            self.head = self.array[i].next\r\n",
        "        else:\r\n",
        "            self.array[prev].next = self.array[i].next\r\n",
        "\r\n",
        "        # return to free list\r\n",
        "        self.count -= 1\r\n",
        "        self.array[i].data = None\r\n",
        "        self.array[i].next = self.free\r\n",
        "        self.free = i\r\n",
        "        return True"
      ],
      "outputs": [],
      "metadata": {
        "id": "TSUxEwoGOU0I"
      }
    },
    {
      "cell_type": "code",
      "execution_count": null,
      "source": [
        "L=LinkedListA(5)\r\n",
        "L.insert_front(\"A\")\r\n",
        "L.insert_front(\"B\")\r\n",
        "print(L)\r\n",
        "L.display()"
      ],
      "outputs": [
        {
          "output_type": "stream",
          "name": "stdout",
          "text": [
            "1,2\tA:-1,B:0,None:3,None:4,None:-1\n"
          ]
        },
        {
          "output_type": "execute_result",
          "data": {
            "text/plain": [
              "'B,A'"
            ],
            "application/vnd.google.colaboratory.intrinsic+json": {
              "type": "string"
            }
          },
          "metadata": {
            "tags": []
          },
          "execution_count": 4
        }
      ],
      "metadata": {
        "id": "OulzxJ6z1xc0",
        "colab": {
          "base_uri": "https://localhost:8080/",
          "height": 72
        },
        "outputId": "e720c923-4f31-4a5c-ad18-6a8b2935816f"
      }
    },
    {
      "cell_type": "code",
      "execution_count": null,
      "source": [
        "L = LinkedListA(5)\r\n",
        "L.insert_front(\"A\")\r\n",
        "L.insert_front(\"B\")\r\n",
        "print(L.display())\r\n",
        "L.insert_pos(\"C\", 1)\r\n",
        "print(L.display())"
      ],
      "outputs": [
        {
          "output_type": "stream",
          "name": "stdout",
          "text": [
            "B,A\n",
            "C,B,A\n"
          ]
        }
      ],
      "metadata": {
        "colab": {
          "base_uri": "https://localhost:8080/"
        },
        "id": "7FrmL9II2LD5",
        "outputId": "86f1cb57-32ea-4687-baa7-1db040bf3f5c"
      }
    },
    {
      "cell_type": "code",
      "execution_count": null,
      "source": [
        "L.delete_pos(2)\r\n",
        "print(L.display())"
      ],
      "outputs": [
        {
          "output_type": "stream",
          "name": "stdout",
          "text": [
            "C,A\n"
          ]
        }
      ],
      "metadata": {
        "colab": {
          "base_uri": "https://localhost:8080/"
        },
        "id": "7hQg07K4Bijw",
        "outputId": "b1e82433-9144-49f0-d00f-038112b2a378"
      }
    },
    {
      "cell_type": "markdown",
      "source": [
        "# Array-based BST\r\n",
        "\r\n",
        "* fixed size array for storing Nodes\r\n",
        "* Node pointers is an index in the array\r\n",
        "* 2 logical Data Structure\r\n",
        "\r\n",
        "> * Free Nodes LinkedList\r\n",
        "> * BST\r\n",
        "\r\n",
        "Implement the BST operations:\r\n",
        "\r\n",
        "1. `insert()`\r\n",
        "2. `in_order()`\r\n"
      ],
      "metadata": {
        "id": "jrVMtIFDCujR"
      }
    },
    {
      "cell_type": "code",
      "execution_count": null,
      "source": [
        "class Node:\r\n",
        "    def __init__(self, data):\r\n",
        "        self.data = data\r\n",
        "        self.left = -1\r\n",
        "        self.right = -1\r\n",
        "\r\n",
        "    def __str__(self):\r\n",
        "        return f\"{self.data}:{self.left}:{self.right}\"\r\n",
        "\r\n",
        "\r\n",
        "class BST:\r\n",
        "    def __init__(self, size):\r\n",
        "        self.size = size\r\n",
        "        self.count = 0\r\n",
        "        self.array = [Node(None) for _ in range(size)]\r\n",
        "        for i in range(self.size-1):\r\n",
        "            self.array[i].left = i+1\r\n",
        "        self.root = -1  # root of BST\r\n",
        "        self.free = 0  # free node linked list\r\n",
        "\r\n",
        "    def __str__(self):\r\n",
        "        ret = f\"{self.root},{self.free}\\t\"\r\n",
        "        for i in range(self.size):\r\n",
        "            ret += f\"{self.array[i]},\"\r\n",
        "        return ret[:-1]\r\n",
        "\r\n",
        "    def insert(self, data):\r\n",
        "        # check if array is full\r\n",
        "        if self.free == -1:\r\n",
        "            return False\r\n",
        "        # get the free node\r\n",
        "        free_node_i = self.free\r\n",
        "        # update the free node list\r\n",
        "        self.free = self.array[self.free].left\r\n",
        "\r\n",
        "        # update the free node: transition from a linked list node to a BST node\r\n",
        "        self.array[free_node_i].data = data\r\n",
        "        self.array[free_node_i].left = -1\r\n",
        "\r\n",
        "        # empty BST\r\n",
        "        if self.root == -1:\r\n",
        "            self.root = free_node_i\r\n",
        "            return True\r\n",
        "\r\n",
        "        cur_i = self.root\r\n",
        "        while True:\r\n",
        "            if data < self.array[cur_i].data:\r\n",
        "                if self.array[cur_i].left == -1:\r\n",
        "                    self.array[cur_i].left = free_node_i\r\n",
        "                    return True\r\n",
        "                else:\r\n",
        "                    cur_i = self.array[cur_i].left\r\n",
        "            else:\r\n",
        "                if self.array[cur_i].right == -1:\r\n",
        "                    self.array[cur_i].right = free_node_i\r\n",
        "                    return True\r\n",
        "                else:\r\n",
        "                    cur_i = self.array[cur_i].right\r\n",
        "\r\n",
        "    def in_order(self):\r\n",
        "        def _recur(node_i):\r\n",
        "            if node_i == -1:\r\n",
        "                return\r\n",
        "            ## L, N, R\r\n",
        "            _recur(self.array[node_i].left)\r\n",
        "            print(self.array[node_i].data)\r\n",
        "            _recur(self.array[node_i].right)\r\n",
        "        _recur(self.root)"
      ],
      "outputs": [],
      "metadata": {
        "id": "FXyZ5tlmCtrN"
      }
    },
    {
      "cell_type": "code",
      "execution_count": null,
      "source": [
        "tree = BST(10)\r\n",
        "print(tree)"
      ],
      "outputs": [
        {
          "output_type": "stream",
          "name": "stdout",
          "text": [
            "-1,0\tNone:1:-1,None:2:-1,None:3:-1,None:4:-1,None:5:-1,None:6:-1,None:7:-1,None:8:-1,None:9:-1,None:-1:-1\n"
          ]
        }
      ],
      "metadata": {
        "colab": {
          "base_uri": "https://localhost:8080/"
        },
        "id": "k7nGql01bTbE",
        "outputId": "e14f83c0-4ffd-421e-a1da-bfdd50283cfc"
      }
    }
  ]
}